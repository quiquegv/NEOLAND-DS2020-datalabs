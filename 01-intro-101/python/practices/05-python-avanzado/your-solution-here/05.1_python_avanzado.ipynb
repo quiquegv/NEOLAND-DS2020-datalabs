{
 "cells": [
  {
   "cell_type": "markdown",
   "metadata": {},
   "source": [
    "Programación para *Data Science*\n",
    "============================\n",
    "\n",
    "Intro101 - 05.1: Conceptos avanzados de Python\n",
    "--------------------------------------\n",
    "\n",
    "En este Notebook encontraréis dos conjuntos de ejercicios: un primer conjunto de ejercicios para practicar y que no puntuan, pero que recomendamos intentar resolver y un segundo conjunto que evaluaremos como actividad."
   ]
  },
  {
   "cell_type": "markdown",
   "metadata": {},
   "source": [
    "## Ejercicios para practicar\n",
    "\n",
    "**Los siguientes 3 ejercicios no puntuan**, pero os recomendamos que los intentéis resolver antes de pasar a los ejercicios propios. También podéis encontrar las soluciones a estos ejercicios al final del Notebook. "
   ]
  },
  {
   "cell_type": "markdown",
   "metadata": {},
   "source": [
    "### Ejercicio 1\n",
    "\n",
    "El siguiente ejercicio consiste en pasar un número en base 16 (hexadecimal, 0-9/A-F) a base 10 (decimal). Para hacerlo, debéis crear una **función** que dado un _string_ que representa un número en hexadecimal, por ejemplo, `AE3F`, devuelva el número \n",
    "natural correspondiente. En este caso, el resultado sería `44607`."
   ]
  },
  {
   "cell_type": "code",
   "execution_count": 31,
   "metadata": {},
   "outputs": [
    {
     "output_type": "execute_result",
     "data": {
      "text/plain": "44607"
     },
     "metadata": {},
     "execution_count": 31
    }
   ],
   "source": [
    "# Respuesta\n",
    "hexa = [0,1,2,3,4,5,6,7,8,9,\"A\",\"B\",\"C\",\"D\",\"E\",\"F\"]\n",
    "dec = [0,1,2,3,4,5,6,7,8,9,10,11,12,13,14,15]\n",
    "\n",
    "def conversorHexDec(x): #Defino la función\n",
    "    y = x[::-1] #Le digo que lo que yo introduzca le de la vuelta\n",
    "    y = list(y) # y genere una lista\n",
    "    valor = 0 #creo un valor que será el resultado\n",
    "    for i in y: # Hago que siga la lista y que he creado\n",
    "        try: # como la lista hexa tiene int y str, genero un try-except para que compruebe si estoy metiendo un tipo u otro de variable y ejecute en consecuencia codigos distintos. \n",
    "            if type(int(i)) is int: \n",
    "                valor =+ valor + dec[hexa.index(int(i))]*(16**y.index(i)) # Para hace rla equivalencia le digo que me devuelva de DEC posición que i tiene en HEXA y lo multiplique por 16 elevado a la posición que tiene i en y ( la lista invertida que he creado). Esto se lo suma al valor. \n",
    "        except:\n",
    "            valor =+ valor + dec[hexa.index(i)]*(16**y.index(i)) # Si no es int, hará lo mismo pero i en hexa no lo busca como un int sino como un str. \n",
    "    return valor\n",
    "conversorHexDec('AE3F')\n",
    "        \n"
   ]
  },
  {
   "cell_type": "markdown",
   "metadata": {},
   "source": [
    "### Ejercicio 2\n",
    "\n",
    "Las excepciones son errores detectados en tiempo de ejecución. Pueden y deben ser manejadas por el programador para minimizar el riesgo de que un determinado programa falle de forma no controlada. Escribid, en lenguaje Python, cómo generar y capturar la siguiente excepción: **ZeroDivisionError**."
   ]
  },
  {
   "cell_type": "code",
   "execution_count": 1,
   "metadata": {
    "tags": []
   },
   "outputs": [
    {
     "output_type": "stream",
     "name": "stdout",
     "text": "El valor de b no es correcto, tiene que ser distinto de 0\n"
    },
    {
     "output_type": "error",
     "ename": "UnboundLocalError",
     "evalue": "local variable 'c' referenced before assignment",
     "traceback": [
      "\u001b[0;31m---------------------------------------------------------------------------\u001b[0m",
      "\u001b[0;31mUnboundLocalError\u001b[0m                         Traceback (most recent call last)",
      "\u001b[0;32m<ipython-input-1-b65895e4de6d>\u001b[0m in \u001b[0;36m<module>\u001b[0;34m\u001b[0m\n\u001b[1;32m      8\u001b[0m     \u001b[0;32mreturn\u001b[0m \u001b[0mc\u001b[0m\u001b[0;34m\u001b[0m\u001b[0;34m\u001b[0m\u001b[0m\n\u001b[1;32m      9\u001b[0m \u001b[0;34m\u001b[0m\u001b[0m\n\u001b[0;32m---> 10\u001b[0;31m \u001b[0mdivision\u001b[0m\u001b[0;34m(\u001b[0m\u001b[0;36m10\u001b[0m\u001b[0;34m,\u001b[0m\u001b[0;36m0\u001b[0m\u001b[0;34m)\u001b[0m\u001b[0;34m\u001b[0m\u001b[0;34m\u001b[0m\u001b[0m\n\u001b[0m\u001b[1;32m     11\u001b[0m \u001b[0;34m\u001b[0m\u001b[0m\n\u001b[1;32m     12\u001b[0m \u001b[0;31m# Tengo dudas de que sea lo que se pide. Pero así hago que si aparce ese error a la hora de generar una divion me devuelva otra cosa y me avise que algo no está bien.\u001b[0m\u001b[0;34m\u001b[0m\u001b[0;34m\u001b[0m\u001b[0;34m\u001b[0m\u001b[0m\n",
      "\u001b[0;32m<ipython-input-1-b65895e4de6d>\u001b[0m in \u001b[0;36mdivision\u001b[0;34m(a, b)\u001b[0m\n\u001b[1;32m      6\u001b[0m     \u001b[0;32mexcept\u001b[0m \u001b[0mZeroDivisionError\u001b[0m\u001b[0;34m:\u001b[0m\u001b[0;34m\u001b[0m\u001b[0;34m\u001b[0m\u001b[0m\n\u001b[1;32m      7\u001b[0m         \u001b[0mprint\u001b[0m\u001b[0;34m(\u001b[0m\u001b[0;34m\"El valor de b no es correcto, tiene que ser distinto de 0\"\u001b[0m\u001b[0;34m)\u001b[0m\u001b[0;34m\u001b[0m\u001b[0;34m\u001b[0m\u001b[0m\n\u001b[0;32m----> 8\u001b[0;31m     \u001b[0;32mreturn\u001b[0m \u001b[0mc\u001b[0m\u001b[0;34m\u001b[0m\u001b[0;34m\u001b[0m\u001b[0m\n\u001b[0m\u001b[1;32m      9\u001b[0m \u001b[0;34m\u001b[0m\u001b[0m\n\u001b[1;32m     10\u001b[0m \u001b[0mdivision\u001b[0m\u001b[0;34m(\u001b[0m\u001b[0;36m10\u001b[0m\u001b[0;34m,\u001b[0m\u001b[0;36m0\u001b[0m\u001b[0;34m)\u001b[0m\u001b[0;34m\u001b[0m\u001b[0;34m\u001b[0m\u001b[0m\n",
      "\u001b[0;31mUnboundLocalError\u001b[0m: local variable 'c' referenced before assignment"
     ]
    }
   ],
   "source": [
    "# Respuesta\n",
    "\n",
    "def division(a,b):\n",
    "    try:\n",
    "       c = a/b\n",
    "    except ZeroDivisionError:\n",
    "        print(\"El valor de b no es correcto, tiene que ser distinto de 0\")\n",
    "    return c\n",
    "\n",
    "division(10,0)  \n",
    "\n",
    "# Tengo dudas de que sea lo que se pide. Pero así hago que si aparce ese error a la hora de generar una divion me devuelva otra cosa y me avise que algo no está bien. "
   ]
  },
  {
   "cell_type": "markdown",
   "metadata": {},
   "source": [
    "### Ejercicio 3\n",
    "\n",
    "Completad el código necesario para calcular el número de vocales y de consonantes respectivamente de un texto."
   ]
  },
  {
   "cell_type": "code",
   "execution_count": 1,
   "metadata": {},
   "outputs": [
    {
     "name": "stdout",
     "output_type": "stream",
     "text": [
      "Hola a todos!\n"
     ]
    }
   ],
   "source": [
    "texto = \"Hola a todos!\"\n",
    "print(texto)"
   ]
  },
  {
   "cell_type": "code",
   "execution_count": 2,
   "metadata": {},
   "outputs": [
    {
     "name": "stdout",
     "output_type": "stream",
     "text": [
      "Bienvenidos!\n"
     ]
    }
   ],
   "source": [
    "texto_2 = \"Bienvenidos!\"\n",
    "print(texto_2)"
   ]
  },
  {
   "cell_type": "code",
   "execution_count": 6,
   "metadata": {},
   "outputs": [],
   "source": [
    "def imprime(argumento):\n",
    "    nuevo = argumento + texto_2\n",
    "    print(nuevo)"
   ]
  },
  {
   "cell_type": "code",
   "execution_count": 7,
   "metadata": {},
   "outputs": [
    {
     "name": "stdout",
     "output_type": "stream",
     "text": [
      "Hola a todos!Bienvenidos!\n"
     ]
    }
   ],
   "source": [
    "imprime(texto)"
   ]
  },
  {
   "cell_type": "code",
   "execution_count": null,
   "metadata": {},
   "outputs": [],
   "source": []
  },
  {
   "cell_type": "code",
   "execution_count": 5,
   "metadata": {},
   "outputs": [
    {
     "name": "stdout",
     "output_type": "stream",
     "text": [
      "Hola a todos!\n"
     ]
    }
   ],
   "source": [
    "imprime(texto)"
   ]
  },
  {
   "cell_type": "code",
   "execution_count": null,
   "metadata": {},
   "outputs": [],
   "source": []
  },
  {
   "cell_type": "markdown",
   "metadata": {},
   "source": [
    "Pseudocódigo\n",
    "\n",
    "Dado un texto con n palabras\n",
    "la operación tiene que contar vocales y consonantes\n",
    "\n",
    "SI en el texto existe una vocal\n",
    "    IF:\n",
    "        num_vocales +1\n",
    "    ELSE desde (A AND la Z) OR (ç AND ñ):\n",
    "        num_consonantes +1"
   ]
  },
  {
   "cell_type": "code",
   "execution_count": 43,
   "metadata": {
    "attributes": {
     "classes": [
      "sourceCode"
     ],
     "id": ""
    },
    "tags": []
   },
   "outputs": [
    {
     "output_type": "stream",
     "name": "stdout",
     "text": "El número de vocales es 44.\nEl número de consonantes es 62.\n"
    }
   ],
   "source": [
    "def contar_vocales_y_consonantes(texto):\n",
    "    # Cuenta las vocales contenidas en el string texto y también las consonantes.\n",
    "    num_vocales = 0\n",
    "    num_consonantes = 0\n",
    "\n",
    "    # Código que hay que completar.\n",
    "    #texto = texto.decode('utf-8')\n",
    "    \n",
    "    # Definimos una lista con las vocales en unicode\n",
    "    vocales = [u'a', u'e', u'i', u'o', u'u', u'à', u'á', u'ä', u'ï', u'è', u'é', u'í', u'ï', u'ò', u'ó', u'ú', u'ü']\n",
    "    \n",
    "    for t in texto.lower():\n",
    "        if t in vocales:\n",
    "            num_vocales += 1\n",
    "        elif t > 'a' and t <= 'z' or t == u'ç' or t == u'ñ':\n",
    "            num_consonantes += 1\n",
    "            \n",
    "    return num_vocales, num_consonantes\n",
    "\n",
    "texto = \"Orbiting Earth in the spaceship, I saw how beautiful our planet is. \\\n",
    "            People, let us preserve and increase this beauty, not destroy it!\"\n",
    "\n",
    "num_vocales, num_consonantes = contar_vocales_y_consonantes(texto)\n",
    "print (\"El número de vocales es %d.\" % num_vocales)\n",
    "print (\"El número de consonantes es %d.\" % num_consonantes)"
   ]
  },
  {
   "cell_type": "code",
   "execution_count": 75,
   "metadata": {
    "tags": []
   },
   "outputs": [
    {
     "output_type": "stream",
     "name": "stdout",
     "text": "El número de vocales es 44.\nEl número de consonantes es 62.\n"
    }
   ],
   "source": [
    "import codecs\n",
    "\n",
    "def contar_vocales_y_consonantes(texto):\n",
    "    # Cuenta las vocales contenidas en el string texto y también las consonantes.\n",
    "    num_vocales = 0\n",
    "    num_consonantes = 0\n",
    "\n",
    "    # Código que hay que completar.\n",
    "    texto = texto.decode('utf-8','stricit')\n",
    "    \n",
    "    # Definimos una lista con las vocales en unicode\n",
    "    vocales = [u'a', u'e', u'i', u'o', u'u', u'à', u'á', u'ä', u'ï', u'è', u'é', u'í', u'ï', u'ò', u'ó', u'ú', u'ü']\n",
    "    \n",
    "    for t in texto.lower():\n",
    "        if t in vocales:\n",
    "            num_vocales += 1\n",
    "        elif t > 'a' and t <= 'z' or t == u'ç' or t == u'ñ':\n",
    "                 num_consonantes += 1\n",
    "            \n",
    "    return num_vocales, num_consonantes\n",
    "\n",
    "texto = \"Orbiting Earth in the spaceship, I saw how beautiful our planet is. \\\n",
    "            People, let us preserve and increase this beauty, not destroy it!\"\n",
    "texto = texto.encode('utf-8')\n",
    "\n",
    "num_vocales, num_consonantes = contar_vocales_y_consonantes(texto)\n",
    "print (\"El número de vocales es %d.\" % num_vocales)\n",
    "print (\"El número de consonantes es %d.\" % num_consonantes)\n",
    " #No tengo claro que sea esto lo que había que hacer. He codificado el texto para ejecutar una función que cuente las vocales y consonantes con de un texto codificado un utf-8\n"
   ]
  },
  {
   "cell_type": "markdown",
   "metadata": {},
   "source": [
    "---\n",
    "\n",
    "## Ejercicios y preguntas teóricas\n",
    "\n",
    "A continuación encontraréis los **ejercicios y preguntas teóricas que debéis completar en este módulo intro-101** y que forman parte de la evaluación de esta unidad."
   ]
  },
  {
   "cell_type": "markdown",
   "metadata": {},
   "source": [
    "### Pregunta 1\n",
    "\n",
    "Las funciones _range_ y _xrange_ pueden utilizarse con la misma finalidad, pero su funcionamiento es diferente. Poned un ejemplo donde sería recomendable intercambiar la función _range_ por la función _xrange_.\n",
    "\n",
    "**Respuesta:**"
   ]
  },
  {
   "cell_type": "markdown",
   "metadata": {},
   "source": [
    "La función xrange y la función range generan listas de un rango determinado y funcionan de la misma manera. La unica diferencia reside en que la función xrange ocupa una cantidad de memoria menor. Para rangos amplios, es recompendable usar xrange ya que ocupará menos memoria RAM. Esto es debido a que range genera una lista con todos los valores del rango y xrange genera el valor del rango cuando se le solicita. "
   ]
  },
  {
   "cell_type": "markdown",
   "metadata": {},
   "source": [
    "### Pregunta 2\n",
    "\n",
    "a) Explicad brevemente cada línea de código del siguiente bloque (añadid comentarios en el mismo bloque de código):"
   ]
  },
  {
   "cell_type": "code",
   "execution_count": 167,
   "metadata": {
    "tags": []
   },
   "outputs": [
    {
     "output_type": "stream",
     "name": "stdout",
     "text": "Primera iteración: número generado = 0\nPrimera iteración: número generado = 1\nPrimera iteración: número generado = 2\nPrimera iteración: número generado = 3\nPrimera iteración: número generado = 4\nPrimera iteración: número generado = 5\nPrimera iteración: número generado = 6\nPrimera iteración: número generado = 7\nPrimera iteración: número generado = 8\nPrimera iteración: número generado = 9\n"
    }
   ],
   "source": [
    "# Añadid vuestros comentarios de código en este mismo bloque\n",
    "\n",
    "def create_generator(): #Esta función devuelve valores de i hasta 10 pero usando yield, lo cual significa que no generará todos a la vez sino de uno en uno creando un objeto que contendrá las los resultados, un generador\n",
    "    for i in range(10):\n",
    "        yield i\n",
    "        \n",
    "num_generator = create_generator() #Se crea una función que recogerá el valor generado por la función anterior. \n",
    "for i in num_generator: # iteramos num_generator que es como si iteraramos la función.\n",
    "    print(\"Primera iteración: número generado =\", i)\n",
    "    \n",
    "for j in num_generator:\n",
    "    print(\"Segunda iteración: número generado =\", j) # Como el for anterior ya ha recorrido la variable num_generador y ya se han generado todos los valores del rango no nos aparece nada en la segunda iteración. "
   ]
  },
  {
   "cell_type": "code",
   "execution_count": null,
   "metadata": {},
   "outputs": [],
   "source": [
    "b) Explicad brevemente la salida por pantalla que observamos al ejecutar el código anterior.\n",
    "\n",
    "\n",
    "**Respuesta**"
   ]
  },
  {
   "cell_type": "markdown",
   "metadata": {},
   "source": [
    "Nos devuelve los valores del rango generado por la función según se especifica en el primer print. No aparece nada del segundo for porque ya se ha recorrido entero en el primer for y la iteración se ha completado. "
   ]
  },
  {
   "cell_type": "markdown",
   "metadata": {},
   "source": [
    "### Ejercicio 1\n",
    "\n",
    "Escribid una función que dada una lista de planetas del sistema solar, pregunte al usuario que introduzca una posición y muestre el plante correspondiente a dicha posición. Por ejemplo, si tenemos la siguiente lista: `['Mercurio', 'Venus', 'Tierra', 'Marte']` y el usuario nos ha introducido la posición `3`, hemos de mostrar como resultado por pantalla: `Tierra`.\n",
    "\n",
    "Consideraciones:\n",
    "\n",
    "- La posición que introduzca el usuario tiene que ser un número entero estrictamente positivo.\n",
    "- La función debe controlar el acceso a una posición fuera de la lista mediante una **excepción**. Por ejemplo, en el caso anterior debemos mostrar una mensaje de error si el usuario pide acceder a la posición 10.\n"
   ]
  },
  {
   "cell_type": "code",
   "execution_count": 13,
   "metadata": {},
   "outputs": [
    {
     "data": {
      "text/plain": [
       "['Mercurio', 'Venus', 'Tierra', 'Marte']"
      ]
     },
     "execution_count": 13,
     "metadata": {},
     "output_type": "execute_result"
    }
   ],
   "source": [
    "# Respuesta\n",
    "planetas = ['Mercurio', 'Venus', 'Tierra', 'Marte']\n",
    "planetas"
   ]
  },
  {
   "cell_type": "code",
   "execution_count": 14,
   "metadata": {},
   "outputs": [
    {
     "data": {
      "text/plain": [
       "list"
      ]
     },
     "execution_count": 14,
     "metadata": {},
     "output_type": "execute_result"
    }
   ],
   "source": [
    "type(planetas)"
   ]
  },
  {
   "cell_type": "code",
   "execution_count": 15,
   "metadata": {},
   "outputs": [
    {
     "data": {
      "text/plain": [
       "4"
      ]
     },
     "execution_count": 15,
     "metadata": {},
     "output_type": "execute_result"
    }
   ],
   "source": [
    "len(planetas)"
   ]
  },
  {
   "cell_type": "code",
   "execution_count": 16,
   "metadata": {},
   "outputs": [
    {
     "data": {
      "text/plain": [
       "'Mercurio'"
      ]
     },
     "execution_count": 16,
     "metadata": {},
     "output_type": "execute_result"
    }
   ],
   "source": [
    "planetas[0]"
   ]
  },
  {
   "cell_type": "code",
   "execution_count": 17,
   "metadata": {},
   "outputs": [
    {
     "data": {
      "text/plain": [
       "'Venus'"
      ]
     },
     "execution_count": 17,
     "metadata": {},
     "output_type": "execute_result"
    }
   ],
   "source": [
    "planetas[1]"
   ]
  },
  {
   "cell_type": "code",
   "execution_count": 18,
   "metadata": {},
   "outputs": [
    {
     "name": "stdout",
     "output_type": "stream",
     "text": [
      "Mercurio\n",
      "Venus\n",
      "Tierra\n",
      "Marte\n"
     ]
    }
   ],
   "source": [
    "for planeta in planetas:\n",
    "    print(planeta)"
   ]
  },
  {
   "cell_type": "code",
   "execution_count": 20,
   "metadata": {},
   "outputs": [
    {
     "name": "stdout",
     "output_type": "stream",
     "text": [
      "0 Mercurio\n",
      "1 Venus\n",
      "2 Tierra\n",
      "3 Marte\n"
     ]
    }
   ],
   "source": [
    "for i, planeta in enumerate(planetas):\n",
    "    print(i, planeta)"
   ]
  },
  {
   "cell_type": "code",
   "execution_count": 17,
   "metadata": {
    "tags": []
   },
   "outputs": [
    {
     "output_type": "stream",
     "name": "stdout",
     "text": "Tierra\n"
    }
   ],
   "source": [
    "\n",
    "def posicion_planetas(): #Voy a hacer una función que pida el planeta que quiero así que no le añado ninguna variable. \n",
    "    planetas = ['Mercurio', 'Venus', 'Tierra', 'Marte']  #Meto dentro de la función la lista de planetas NOTA corrección: listas y parametros, ponerlos fuera de las funciones. \n",
    "    x = input(\"¿Qué posición tiene el planeta que quieres?\") # genero un valor que será el la posición del planeta que quiero que me devuelva\n",
    "    try: # hago un try-except para comprobar si es un número entero\n",
    "        if type(int(x)) is int: # si esto se cumple:\n",
    "            x = int(x) # primero convierto a int el valor introducido. \n",
    "            if x > 0 and x <= len(planetas): #despues le digo que tiene que estar entre 1 y 4, que son el número de planetas\n",
    "                print(planetas[x-1]) # si se cumple me devuelve el planeta que he elegido restandole 1 a la posición en la lista. Por ejemplo si eligo el 4 me devuelve 4-1 = 3 que es marte. \n",
    "            else:\n",
    "                print(\"Por favor introduce un numero entre 1 y \" + str(len(planetas))) \n",
    "    except:\n",
    "        print(\"Por favor, introduce una cifra correcta entre 1 y \" + str(len(planetas))) # En el caso que no sea un número o que no esté dentro de los parámetros puestos, me devolverá los siguientes textos. \n",
    "\n",
    "posicion_planetas()\n",
    "\n",
    "\n"
   ]
  },
  {
   "cell_type": "code",
   "execution_count": 14,
   "metadata": {
    "tags": []
   },
   "outputs": [
    {
     "output_type": "stream",
     "name": "stdout",
     "text": "Has introducido una posición no valida\n"
    }
   ],
   "source": [
    "# Solución alternativa hecha por Marco en clase\n",
    "planetas = ['Mercurio', 'Venus', 'Tierra', 'Marte']\n",
    "def comprueba_posicion(posicion): # dos funciones, una comprueba la posición y otra el planeta\n",
    "    # Se da una variable booleana\n",
    "    es_valida = False\n",
    "    try:\n",
    "        posicion_int = int(posicion)\n",
    "        es_valida = posicion_int>0\n",
    "    except ValueError:\n",
    "        es_valida = False\n",
    "    return es_valida\n",
    "\n",
    "def escoge_planeta(planetas):\n",
    "    posicion = input(\"Introduce la posición deseada por favor: \")\n",
    "    if (comprueba_posicion(posicion)):\n",
    "        try:\n",
    "            print(planetas[int(posicion) - 1])\n",
    "        except IndexError:\n",
    "            print(\"Has introducido una posición no valida\")\n",
    "    else:\n",
    "            print(\"La posicion no cumple el formato establecido\")\n",
    "\n",
    "escoge_planeta(planetas)"
   ]
  },
  {
   "cell_type": "markdown",
   "metadata": {},
   "source": [
    "### Ejercicio 2\n",
    "\n",
    "Dada una lista de planetas del sistema solar, determinad cuales de estos planetas tienen una masa superior a la de la Tierra. Por ejemplo, si la lista inicial es `['Venus', 'Marte', 'Saturno']`, el resultado que mostraríamos por pantalla sería `['Saturno']` ya que el planeta Saturno tiene una masa `95.2` veces superior a la Tierra.\n",
    "\n",
    "Consideraciones:\n",
    "\n",
    "- Debéis tener en cuenta que el nombre de los planetas que nos pasan por parámetro puede estar en minúsculas, mayúsculas o una combinación de ambas.\n",
    "- Podéis asumir que no habrá acentos en el nombre de los planetas.\n",
    "- Debéis determinar aquellos planetas que tiene una massa estrictamente superior a la de la Tierra.\n",
    "- No habrá planetas repetidos en la lista que nos pasan por parámetro.\n"
   ]
  },
  {
   "cell_type": "code",
   "execution_count": 2,
   "metadata": {},
   "outputs": [],
   "source": [
    "masas = {'Mercurio': 0.06, 'Venus': 0.82, 'Tierra': 1, 'Marte': 0.11, 'Jupiter': 317.8, \n",
    "          'Saturno': 95.2, 'Urano': 14.6, 'Neptuno': 17.2, 'Pluto': 0.0022}"
   ]
  },
  {
   "cell_type": "code",
   "execution_count": 22,
   "metadata": {},
   "outputs": [
    {
     "data": {
      "text/plain": [
       "dict"
      ]
     },
     "execution_count": 22,
     "metadata": {},
     "output_type": "execute_result"
    }
   ],
   "source": [
    "type(masas)"
   ]
  },
  {
   "cell_type": "code",
   "execution_count": 11,
   "metadata": {},
   "outputs": [
    {
     "output_type": "execute_result",
     "data": {
      "text/plain": "9"
     },
     "metadata": {},
     "execution_count": 11
    }
   ],
   "source": [
    "len(masas)"
   ]
  },
  {
   "cell_type": "code",
   "execution_count": 17,
   "metadata": {},
   "outputs": [
    {
     "output_type": "error",
     "ename": "TypeError",
     "evalue": "'dict' object is not callable",
     "traceback": [
      "\u001b[0;31m---------------------------------------------------------------------------\u001b[0m",
      "\u001b[0;31mTypeError\u001b[0m                                 Traceback (most recent call last)",
      "\u001b[0;32m<ipython-input-17-c60846490ecd>\u001b[0m in \u001b[0;36m<module>\u001b[0;34m\u001b[0m\n\u001b[1;32m      1\u001b[0m \u001b[0;31m# Llamar el primer elemento del diccionario\u001b[0m\u001b[0;34m\u001b[0m\u001b[0;34m\u001b[0m\u001b[0;34m\u001b[0m\u001b[0m\n\u001b[0;32m----> 2\u001b[0;31m \u001b[0mmasas\u001b[0m\u001b[0;34m(\u001b[0m\u001b[0;36m0\u001b[0m\u001b[0;34m)\u001b[0m\u001b[0;34m\u001b[0m\u001b[0;34m\u001b[0m\u001b[0m\n\u001b[0m",
      "\u001b[0;31mTypeError\u001b[0m: 'dict' object is not callable"
     ]
    }
   ],
   "source": [
    "# Llamar el primer elemento del diccionario\n",
    "masas[0]"
   ]
  },
  {
   "cell_type": "code",
   "execution_count": 25,
   "metadata": {},
   "outputs": [
    {
     "data": {
      "text/plain": [
       "dict_keys(['Mercurio', 'Venus', 'Tierra', 'Marte', 'Jupiter', 'Saturno', 'Urano', 'Neptuno', 'Pluto'])"
      ]
     },
     "execution_count": 25,
     "metadata": {},
     "output_type": "execute_result"
    }
   ],
   "source": [
    "masas.keys()"
   ]
  },
  {
   "cell_type": "code",
   "execution_count": 26,
   "metadata": {},
   "outputs": [
    {
     "data": {
      "text/plain": [
       "dict_values([0.06, 0.82, 1, 0.11, 317.8, 95.2, 14.6, 17.2, 0.0022])"
      ]
     },
     "execution_count": 26,
     "metadata": {},
     "output_type": "execute_result"
    }
   ],
   "source": [
    "masas.values()"
   ]
  },
  {
   "cell_type": "code",
   "execution_count": 18,
   "metadata": {},
   "outputs": [
    {
     "output_type": "execute_result",
     "data": {
      "text/plain": "17.2"
     },
     "metadata": {},
     "execution_count": 18
    }
   ],
   "source": [
    "masas['Neptuno']"
   ]
  },
  {
   "cell_type": "code",
   "execution_count": null,
   "metadata": {},
   "outputs": [],
   "source": []
  },
  {
   "cell_type": "code",
   "execution_count": 29,
   "metadata": {
    "attributes": {
     "classes": [
      "sourceCode"
     ],
     "id": ""
    },
    "tags": []
   },
   "outputs": [
    {
     "output_type": "stream",
     "name": "stdout",
     "text": "[]\n['Jupiter', 'Saturno']\n['Urano', 'Neptuno']\n['Saturno']\n"
    }
   ],
   "source": [
    "# Masas medidas con respecto a la Tierra\n",
    "# Es decir, un valor de 14.6 representaria una masa 14.6 veces superior a la de la Tierra\n",
    "masas = {'Mercurio': 0.06, 'Venus': 0.82, 'Tierra': 1, 'Marte': 0.11, 'Jupiter': 317.8, \n",
    "          'Saturno': 95.2, 'Urano': 14.6, 'Neptuno': 17.2, 'Pluto': 0.0022}\n",
    "\n",
    "def planetas_mas_grandes_que_Tierra(planetas):\n",
    "    \"\"\"\n",
    "    Planetas con una masa superior a la de la Tierra\n",
    "    \"\"\"\n",
    "    planetas_masa_superior = []\n",
    "\n",
    "    # Código a completar\n",
    "    for planeta in planetas: # CReo un for que me recorra los parámetros introducidos en la función\n",
    "        planeta = planeta.lower() # convierto el parametro en minusculas\n",
    "        planeta = planeta.capitalize() # le digo que ponga en mayusculas la primera letra. #NOTA corrección, Capitalize ya pone en minuscula la palabra y la primera en mayucula. Sobraría el .lower\n",
    "        if masas[planeta] > 1: # creo una condicion que me diga si la masa del planeta es mayor que 1 (masa de la tierra) y de ser así que la añada a la lista creada antes para tal fin. \n",
    "            planetas_masa_superior.append(planeta)\n",
    "\n",
    "    return planetas_masa_superior\n",
    "\n",
    "# Ejemplos de uso de la función anterior\n",
    "print(planetas_mas_grandes_que_Tierra(['Venus', 'Mercurio', 'Marte']))\n",
    "print(planetas_mas_grandes_que_Tierra(['Jupiter', 'Saturno', 'Pluto']))\n",
    "print(planetas_mas_grandes_que_Tierra(['urano', 'tierra', 'neptuno', 'marte', 'Venus']))\n",
    "print(planetas_mas_grandes_que_Tierra(['Tierra', 'MeRcUrIo', 'PLUTO', 'SATURNO']))\n",
    "\n",
    "# Podéis añadir más ejemplos si lo consideráis oportuno"
   ]
  },
  {
   "cell_type": "markdown",
   "metadata": {},
   "source": [
    "### Ejercicio 3\n",
    "\n",
    "Completad las siguientes funciones y documentad el código si lo consideráis oportuno. Finalmente, escribid al menos un ejemplo de uso para cada función.\n"
   ]
  },
  {
   "cell_type": "markdown",
   "metadata": {},
   "source": [
    "### Ejercicio 4\n",
    "\n",
    "Escribid una función que dado un número entero positivo, `N`, genere un fichero con el nombre `output.txt` que contendrá `N` líneas, donde cada línea deberá mostrar una número consecutivo de letras `A`.\n",
    "\n",
    "Por ejemplo, si `N = 4`, el fichero generado deberá contener el siguiente contenido:\n",
    "\n",
    "```\n",
    "A\n",
    "AA\n",
    "AAA\n",
    "AAAA\n",
    "```\n"
   ]
  },
  {
   "cell_type": "code",
   "execution_count": 18,
   "metadata": {
    "attributes": {
     "classes": [
      "sourceCode"
     ],
     "id": ""
    }
   },
   "outputs": [],
   "source": [
    "# Respuesta\n",
    "\n",
    "import os\n",
    "\n",
    "def generadortexto(x): #defino la función con el parametro X. Será el numero de líneas que queremos. \n",
    "    out = open('output.txt','w') # defino el archivo que voy a crear.\n",
    "    for i in range(x): # genero un bucle que siga vaya desde 0 hasta x, es decir que recorra el rango de orden x\n",
    "        texto = 'A'*(i+1) # creo la variable texto que es la letra A repetida i veces + 1, ya que el rango empieza por 0. \n",
    "        out.write(texto + \"\\n\") # finalmente tiene que escribir texto cada vez añadiendo un salto de línea para que escriba cada vez que ejecuta el bucle en la siguiente linea. \n",
    "    out.close()\n",
    "\n",
    "generadortexto(100)\n",
    "\n"
   ]
  },
  {
   "cell_type": "code",
   "execution_count": null,
   "metadata": {},
   "outputs": [],
   "source": [
    "# Soluición alternativa de Marco\n",
    "\n",
    "def generadortexto(x): #defino la función con el parametro X. Será el numero de líneas que queremos. \n",
    "    with open('output.txt','w') as fd:# defino el archivo que voy a crear.\n",
    "    for i in range(x): # genero un bucle que siga vaya desde 0 hasta x, es decir que recorra el rango de orden x\n",
    "        texto = 'A'*(i+1) # creo la variable texto que es la letra A repetida i veces + 1, ya que el rango empieza por 0. \n",
    "        fd.write(texto + \"\\n\" )  # finalmente tiene que escribir texto cada vez añadiendo un salto de línea para que escriba cada vez que ejecuta el bucle en la siguiente linea. \n",
    "\n",
    "generadortexto(100)"
   ]
  },
  {
   "cell_type": "markdown",
   "metadata": {},
   "source": [
    "### Ejercicio 5 \n",
    "\n",
    "Dada una cadena de caracteres, `s`, de longitud `n` y un número entero positivo `k`, siendo `k` un divisor de `n`, podemos dividir la cadena `s` en `n / k` sub-cadenas de la misma longitud.\n",
    "\n",
    "Escribid una función que, dada una cadena `s` y un número entero `k`, devuelva las `n/k` sub-cadenas teniendo en cuenta las siguientes consideraciones:\n",
    "\n",
    "- El orden de los caracteres en las sub-cadenas debe ser el mismo que en la cadena original.\n",
    "- Todos los caracteres de las sub-cadenas deben aparecer una única vez. Es decir, si un caracter se repite dentro de una sub-cadena, sólo hemos de mostrar la primera ocurrencia.\n",
    "\n",
    "Por ejemplo, si tenemmos\n",
    "<code>\n",
    "s = AABCCAADA\n",
    "k = 3\n",
    "</code>\n",
    "\n",
    "el resultado a mostrar por pantalla sería:\n",
    "<code>\n",
    "AB\n",
    "CA\n",
    "AD\n",
    "</code>\n",
    "\n",
    "Tenemos que la longitud de la cadena es 9 y por lo tanto, podemos formar 3 sub-cadenas:\n",
    "\n",
    "`AAB -> AB` (el caracter A se repite dos veces)\n",
    "\n",
    "`CCA -> CA` (el caracter C se repite dos veces)\n",
    "\n",
    "`ADA -> AD` (el caracter A se repite dos veces)\n"
   ]
  },
  {
   "cell_type": "code",
   "execution_count": 27,
   "metadata": {
    "tags": []
   },
   "outputs": [
    {
     "output_type": "stream",
     "name": "stdout",
     "text": "AB CA AD      \n"
    }
   ],
   "source": [
    "# Respuesta\n",
    "def subcadenas(s,k):\n",
    "    num_subcadenas = len(s)/k # defino el numero de subcadenas que tienen que aparecer\n",
    "    posinit_subcadena = 0 # la posición inicial por la que tenemos que sacar la subcadena\n",
    "    posfin_subcadena = k # la posición final  de por la que tenemos que sacar la subcadena\n",
    "    subcad = [] # lista con las subcadenas\n",
    "    for subcadena in s: # recorro la cadena 's' para obtener las subcadenas\n",
    "            s1 = s[posinit_subcadena:posfin_subcadena] # genero la subcadena que sera la fracción de s que establezca en cada momento los parametros  posinit_subcadena y posfin_subcadena\n",
    "            posinit_subcadena = posinit_subcadena + k # aumento la posición inicial por la que se tiene que buscar la subcadena en k posiciones\n",
    "            posfin_subcadena = posfin_subcadena + k # aumento la posición final por la que se tiene que buscar la subcadena en k posiciones\n",
    "            s1 = ''.join(sorted(set(s1),key=s1.index)) # aquí lo que hago es eliminar los duplicados. De la subcadena s1 le digo que me extraiga lo valores únicos con set, me los ordene según han salido, y me los una como cadena de texto. \n",
    "            subcad.append(s1) # genero una lista con las nuevas subcadenas. \n",
    "\n",
    "    print(' '.join(subcad)) # aquí le digo que me imprima la lista subcad pero uniendolo como str separado por un espacio\n",
    "   \n",
    "subcadenas('AABCCAADA',3)      "
   ]
  },
  {
   "cell_type": "markdown",
   "metadata": {},
   "source": [
    "### Ejercicio 6 (Opcional)\n",
    "\n",
    "Al final de la Edad Media, en Francia, el diplomático francés Blaise de Vigenère desarrollo un algoritmo para cifrar mensajes que nadie fue capaz de romper durante aproximadamente 250 años. El algoritmo se conoce con el nombre de [cifrado de Vigenère](https://es.wikipedia.org/wiki/Cifrado_de_Vigen%C3%A8re).\n",
    "\n",
    "El cifrado de Vigenère consiste en añadir a cada una de las letras de un texto un desplazamiento a partir de una clave secreta para conseguir una nueva letra diferente de la original. Veamos un ejemplo:\n",
    "\n",
    "Si asignamos el número 1 a la primera letra del abecedario, A, 2 a la siguiente, B, etc., imaginad que tenemos el siguiente mensaje:\n",
    "<code>\n",
    "ABC\n",
    "123\n",
    "</code>\n",
    "\n",
    "y la siguiente clave secreta:\n",
    "<code>\n",
    "DEF\n",
    "456\n",
    "</code>\n",
    "\n",
    "A cada letra del mensaje original aplicamos un desplazamiento en función de la misma posición dentro de la clave secreta. Por lo tanto, el mensaje cifrado quedaría de la siguiente forma:\n",
    "<code>\n",
    "   E       G       I\n",
    "(1 + 4) (2 + 5) (3 + 6)\n",
    "</code>\n",
    "\n",
    "Escribid una función que, dado un mensaje y una clave secreta, calcule y devuelva el mensaje cifrado.\n",
    "\n",
    "*Consideraciones.*\n",
    "\n",
    "- Utilizad como alfabeto de entrada **el alfabeto inglés en mayúsculas**.\n",
    "- El valor por defecto de la clave secreta será **DATASCI**."
   ]
  },
  {
   "cell_type": "code",
   "execution_count": 63,
   "metadata": {
    "attributes": {
     "classes": [
      "sourceCode"
     ],
     "id": ""
    },
    "tags": []
   },
   "outputs": [
    {
     "output_type": "error",
     "ename": "IndexError",
     "evalue": "list index out of range",
     "traceback": [
      "\u001b[0;31m---------------------------------------------------------------------------\u001b[0m",
      "\u001b[0;31mIndexError\u001b[0m                                Traceback (most recent call last)",
      "\u001b[0;32m<ipython-input-63-b53f34eef38f>\u001b[0m in \u001b[0;36m<module>\u001b[0;34m\u001b[0m\n\u001b[1;32m     16\u001b[0m \u001b[0;34m\u001b[0m\u001b[0m\n\u001b[1;32m     17\u001b[0m \u001b[0;31m# Aquí podéis añadir más ejemplos:\u001b[0m\u001b[0;34m\u001b[0m\u001b[0;34m\u001b[0m\u001b[0;34m\u001b[0m\u001b[0m\n\u001b[0;32m---> 18\u001b[0;31m \u001b[0mprint\u001b[0m\u001b[0;34m(\u001b[0m\u001b[0mcifrado_vigenere\u001b[0m\u001b[0;34m(\u001b[0m\u001b[0;34m\"ATACAREMOS AL AMANECER\"\u001b[0m\u001b[0;34m)\u001b[0m\u001b[0;34m)\u001b[0m\u001b[0;34m\u001b[0m\u001b[0;34m\u001b[0m\u001b[0m\n\u001b[0m",
      "\u001b[0;32m<ipython-input-63-b53f34eef38f>\u001b[0m in \u001b[0;36mcifrado_vigenere\u001b[0;34m(mensaje, clave)\u001b[0m\n\u001b[1;32m     11\u001b[0m             \u001b[0mmensaje_cifrado\u001b[0m \u001b[0;34m=\u001b[0m \u001b[0mmensaje_cifrado\u001b[0m \u001b[0;34m+\u001b[0m \u001b[0mletra\u001b[0m\u001b[0;34m\u001b[0m\u001b[0;34m\u001b[0m\u001b[0m\n\u001b[1;32m     12\u001b[0m         \u001b[0;32melse\u001b[0m\u001b[0;34m:\u001b[0m\u001b[0;34m\u001b[0m\u001b[0;34m\u001b[0m\u001b[0m\n\u001b[0;32m---> 13\u001b[0;31m             \u001b[0mletra\u001b[0m \u001b[0;34m=\u001b[0m \u001b[0malfabeto\u001b[0m\u001b[0;34m[\u001b[0m\u001b[0malfabeto\u001b[0m\u001b[0;34m.\u001b[0m\u001b[0mindex\u001b[0m\u001b[0;34m(\u001b[0m\u001b[0mx\u001b[0m\u001b[0;34m)\u001b[0m \u001b[0;34m+\u001b[0m \u001b[0malfabeto\u001b[0m\u001b[0;34m.\u001b[0m\u001b[0mindex\u001b[0m\u001b[0;34m(\u001b[0m\u001b[0my\u001b[0m\u001b[0;34m)\u001b[0m\u001b[0;34m]\u001b[0m\u001b[0;34m\u001b[0m\u001b[0;34m\u001b[0m\u001b[0m\n\u001b[0m\u001b[1;32m     14\u001b[0m             \u001b[0mmensaje_cifrado\u001b[0m \u001b[0;34m=\u001b[0m \u001b[0mmensaje_cifrado\u001b[0m \u001b[0;34m+\u001b[0m \u001b[0mletra\u001b[0m\u001b[0;34m\u001b[0m\u001b[0;34m\u001b[0m\u001b[0m\n\u001b[1;32m     15\u001b[0m     \u001b[0;32mreturn\u001b[0m \u001b[0mmensaje_cifrado\u001b[0m\u001b[0;34m\u001b[0m\u001b[0;34m\u001b[0m\u001b[0m\n",
      "\u001b[0;31mIndexError\u001b[0m: list index out of range"
     ]
    }
   ],
   "source": [
    "def cifrado_vigenere(mensaje, clave=\"DATASCI\"):\n",
    "    \"\"\"\n",
    "    Cifra el mensaje utilizando el cifrado de Vigenère\n",
    "    \"\"\"\n",
    "    alfabeto= ['A','B','C','D','E','F','G','H','I','J','K','L','M','N','O','P','Q','R','S','T','U','V','W','X','Y','Z']\n",
    "    mensaje_cifrado = \"\"\n",
    "    mensajeMAYUS = mensaje.upper()\n",
    "    for x in mensajeMAYUS:\n",
    "        count\n",
    "        if (alfabeto.index(x) + alfabeto.index(y)) > len(alfabeto):\n",
    "            letra = alfabeto[alfabeto.index(x) + alfabeto.index(y) - len(alfabeto)]\n",
    "            mensaje_cifrado = mensaje_cifrado + letra\n",
    "        else:\n",
    "            letra = alfabeto[alfabeto.index(x) + alfabeto.index(y)]\n",
    "            mensaje_cifrado = mensaje_cifrado + letra\n",
    "    return mensaje_cifrado\n",
    "\n",
    "# Aquí podéis añadir más ejemplos:\n",
    "print(cifrado_vigenere(\"ATACAREMOS AL AMANECER\"))"
   ]
  },
  {
   "cell_type": "code",
   "execution_count": 38,
   "metadata": {},
   "outputs": [
    {
     "output_type": "error",
     "ename": "ValueError",
     "evalue": "too many values to unpack (expected 2)",
     "traceback": [
      "\u001b[0;31m---------------------------------------------------------------------------\u001b[0m",
      "\u001b[0;31mValueError\u001b[0m                                Traceback (most recent call last)",
      "\u001b[0;32m<ipython-input-38-b3b3ea6d9daa>\u001b[0m in \u001b[0;36m<module>\u001b[0;34m\u001b[0m\n\u001b[1;32m     17\u001b[0m \u001b[0;34m\u001b[0m\u001b[0m\n\u001b[1;32m     18\u001b[0m \u001b[0;31m# Aquí podéis añadir más ejemplos:\u001b[0m\u001b[0;34m\u001b[0m\u001b[0;34m\u001b[0m\u001b[0;34m\u001b[0m\u001b[0m\n\u001b[0;32m---> 19\u001b[0;31m \u001b[0mprint\u001b[0m\u001b[0;34m(\u001b[0m\u001b[0mcifrado_vigenere\u001b[0m\u001b[0;34m(\u001b[0m\u001b[0;34m\"ATACAREMOS AL AMANECER\"\u001b[0m\u001b[0;34m)\u001b[0m\u001b[0;34m)\u001b[0m\u001b[0;34m\u001b[0m\u001b[0;34m\u001b[0m\u001b[0m\n\u001b[0m",
      "\u001b[0;32m<ipython-input-38-b3b3ea6d9daa>\u001b[0m in \u001b[0;36mcifrado_vigenere\u001b[0;34m(mensaje, clave)\u001b[0m\n\u001b[1;32m      7\u001b[0m     \u001b[0mmensajeMAYUS\u001b[0m \u001b[0;34m=\u001b[0m \u001b[0mmensaje\u001b[0m\u001b[0;34m.\u001b[0m\u001b[0mupper\u001b[0m\u001b[0;34m(\u001b[0m\u001b[0;34m)\u001b[0m\u001b[0;34m\u001b[0m\u001b[0;34m\u001b[0m\u001b[0m\n\u001b[1;32m      8\u001b[0m     \u001b[0mclave_lista\u001b[0m \u001b[0;34m=\u001b[0m \u001b[0mlist\u001b[0m\u001b[0;34m(\u001b[0m\u001b[0mclave\u001b[0m\u001b[0;34m)\u001b[0m\u001b[0;34m\u001b[0m\u001b[0;34m\u001b[0m\u001b[0m\n\u001b[0;32m----> 9\u001b[0;31m     \u001b[0;32mfor\u001b[0m \u001b[0mx\u001b[0m\u001b[0;34m,\u001b[0m\u001b[0my\u001b[0m \u001b[0;32min\u001b[0m \u001b[0;34m(\u001b[0m\u001b[0mmensajeMAYUS\u001b[0m\u001b[0;34m,\u001b[0m \u001b[0mclave_lista\u001b[0m\u001b[0;34m)\u001b[0m\u001b[0;34m:\u001b[0m\u001b[0;34m\u001b[0m\u001b[0;34m\u001b[0m\u001b[0m\n\u001b[0m\u001b[1;32m     10\u001b[0m         \u001b[0;32mif\u001b[0m \u001b[0;34m(\u001b[0m\u001b[0malfabeto\u001b[0m\u001b[0;34m.\u001b[0m\u001b[0mindex\u001b[0m\u001b[0;34m(\u001b[0m\u001b[0mx\u001b[0m\u001b[0;34m)\u001b[0m \u001b[0;34m+\u001b[0m \u001b[0malfabeto\u001b[0m\u001b[0;34m.\u001b[0m\u001b[0mindex\u001b[0m\u001b[0;34m(\u001b[0m\u001b[0my\u001b[0m\u001b[0;34m)\u001b[0m\u001b[0;34m)\u001b[0m \u001b[0;34m>\u001b[0m \u001b[0mlen\u001b[0m\u001b[0;34m(\u001b[0m\u001b[0malfabeto\u001b[0m\u001b[0;34m)\u001b[0m\u001b[0;34m:\u001b[0m\u001b[0;34m\u001b[0m\u001b[0;34m\u001b[0m\u001b[0m\n\u001b[1;32m     11\u001b[0m             \u001b[0mletra\u001b[0m \u001b[0;34m=\u001b[0m \u001b[0malfabeto\u001b[0m\u001b[0;34m[\u001b[0m\u001b[0malfabeto\u001b[0m\u001b[0;34m.\u001b[0m\u001b[0mindex\u001b[0m\u001b[0;34m(\u001b[0m\u001b[0mx\u001b[0m\u001b[0;34m)\u001b[0m \u001b[0;34m+\u001b[0m \u001b[0malfabeto\u001b[0m\u001b[0;34m.\u001b[0m\u001b[0mindex\u001b[0m\u001b[0;34m(\u001b[0m\u001b[0my\u001b[0m\u001b[0;34m)\u001b[0m \u001b[0;34m-\u001b[0m \u001b[0mlen\u001b[0m\u001b[0;34m(\u001b[0m\u001b[0malfabeto\u001b[0m\u001b[0;34m)\u001b[0m\u001b[0;34m]\u001b[0m\u001b[0;34m\u001b[0m\u001b[0;34m\u001b[0m\u001b[0m\n",
      "\u001b[0;31mValueError\u001b[0m: too many values to unpack (expected 2)"
     ]
    }
   ],
   "source": [
    "def cifrado_vigenere(mensaje, clave=\"DATASCI\"):\n",
    "    \"\"\"\n",
    "    Cifra el mensaje utilizando el cifrado de Vigenère\n",
    "    \"\"\"\n",
    "    alfabeto= ['A','B','C','D','E','F','G','H','I','J','K','L','M','N','O','P','Q','R','S','T','U','V','W','X','Y','Z']\n",
    "    mensaje_cifrado = \"\"\n",
    "    mensajeMAYUS = mensaje.upper()\n",
    "    clave_lista = list(clave)\n",
    "    for x,y in (mensajeMAYUS, clave_lista):\n",
    "        if (alfabeto.index(x) + alfabeto.index(y)) > len(alfabeto):\n",
    "            letra = alfabeto[alfabeto.index(x) + alfabeto.index(y) - len(alfabeto)]\n",
    "            mensaje_cifrado = mensaje_cifrado + letra\n",
    "        else:\n",
    "            letra = albabeto[alfabeto.index(x) + alfabeto.index(y)]\n",
    "            mensaje_cifrado = mensaje_cifrado + letra\n",
    "    return mensaje_cifrado\n",
    "\n",
    "# Aquí podéis añadir más ejemplos:\n",
    "print(cifrado_vigenere(\"ATACAREMOS AL AMANECER\"))"
   ]
  },
  {
   "cell_type": "markdown",
   "metadata": {},
   "source": [
    "---\n",
    "\n",
    "## Soluciones ejercicios para practicar"
   ]
  },
  {
   "cell_type": "markdown",
   "metadata": {},
   "source": [
    "### Ejercicio 1\n",
    "\n",
    "El siguiente ejercicio consiste en pasar un número en base 16 (hexadecimal, 0-9/A-F) a base 10 (decimal). Para hacerlo, debéis crear una **función** que dado un _string_ que representa un número en hexadecimal, por ejemplo, `AE3F`, devuelva el número \n",
    "natural correspondiente. En este caso, el resultado sería `44607`.\n",
    "\n",
    "**Respuesta**"
   ]
  },
  {
   "cell_type": "markdown",
   "metadata": {},
   "source": [
    "En Python disponemos de una función muy útil que nos permite pasar a un número decimal des de cualquier base (```int(x, base=y)```). Dado que el objetivo es jugar un poco con el lenguaje Python, vamos a usar dicha función sólo de forma parcial para calcular el número decimal correspondiente a cada carácter hexadecimal individualmente.\n",
    "\n",
    "La fórmula para convertir un número hexadecimal a un número decimal, tomando como ejemplo el número AE3F, es:\n",
    "\n",
    "```A * 16**3 + E * 16**2 + 3 * 16**1 + F * 16**0 = 10 * 16**3 + 14 * 16**2 + 3 * 16**1 + 15 * 16**0```"
   ]
  },
  {
   "cell_type": "code",
   "execution_count": 4,
   "metadata": {},
   "outputs": [
    {
     "name": "stdout",
     "output_type": "stream",
     "text": [
      "44607\n",
      "4095\n",
      "291\n"
     ]
    }
   ],
   "source": [
    "# Importamos el string '0123456789abcdefABCDEF' que nos puede ser muy útil para comprobar el formato \n",
    "from string import hexdigits\n",
    "\n",
    "def hex_to_dec(numero_hexadecimal):\n",
    "    # Primero, comprobamos que el número que se pasa por parámetro es hexadecimal\n",
    "    if all(c in hexdigits for c in numero_hexadecimal):\n",
    "        # Definimos la base para realizar las operaciones\n",
    "        base = 16\n",
    "        numero_decimal = 0\n",
    "        \n",
    "        # Invertimos el número hexadecimal para que nos sea más fácil trabajar con los índices\n",
    "        numero_hexadecimal = numero_hexadecimal[::-1]\n",
    "        \n",
    "        for i in range(len(numero_hexadecimal)):\n",
    "            # Para cada carácter hexadecimal aplicamos la formula c * base ** i,\n",
    "            # donde c es la representación decimal del carácter y \n",
    "            # sumamos el resultado al resultado obtenido en la iteración anterior\n",
    "            numero_decimal += int(numero_hexadecimal[i], 16) * base**i\n",
    "            \n",
    "        return numero_decimal\n",
    "    else:\n",
    "        print('El número introducido no es hexadecimal')\n",
    "\n",
    "print(hex_to_dec('AE3F'))\n",
    "print(hex_to_dec('FFF'))\n",
    "print(hex_to_dec('123'))"
   ]
  },
  {
   "cell_type": "markdown",
   "metadata": {},
   "source": [
    "### Ejercicio 2\n",
    "\n",
    "Las excepciones son errores detectados en tiempo de ejecución. Pueden y deben ser manejadas por el programador para minimizar el riesgo de que un determinado programa falle de forma no controlada. Escribid, en lenguaje Python, cómo generar y capturar la siguiente excepción: **ZeroDivisionError**.\n",
    "\n",
    "**Respuesta**"
   ]
  },
  {
   "cell_type": "markdown",
   "metadata": {},
   "source": [
    "En Pyhon podemos utilizar el bloque try ... except para capturar excepciones. Primero se intentará ejecutar el código dentro del bloque try y si hay una excepción se buscará una instrucción except que capture dicha excepción. En caso de encontrarla se ejecutará el código dentro del bloque except."
   ]
  },
  {
   "cell_type": "code",
   "execution_count": 5,
   "metadata": {},
   "outputs": [
    {
     "name": "stdout",
     "output_type": "stream",
     "text": [
      "¡Cuidado! División por cero.\n"
     ]
    }
   ],
   "source": [
    "try:\n",
    "    print( 5/0) # División por cero - genera ZeroDivisionError\n",
    "except ZeroDivisionError:\n",
    "    print(\"¡Cuidado! División por cero.\")"
   ]
  },
  {
   "cell_type": "markdown",
   "metadata": {},
   "source": [
    "### Ejercicio 3\n",
    "\n",
    "Completad el código necesario para calcular el número de vocales y de consonantes respectivamente de un texto.\n",
    "\n",
    "**Respuesta**"
   ]
  },
  {
   "cell_type": "code",
   "execution_count": 6,
   "metadata": {},
   "outputs": [
    {
     "name": "stdout",
     "output_type": "stream",
     "text": [
      "El número de vocales es de 44\n",
      "El número de consonantes es de 62\n"
     ]
    }
   ],
   "source": [
    "def contar_vocales_y_consonantes(texto):\n",
    "    # Cuenta las vocales contenidas en el string texto y también las consonantes.\n",
    "    num_vocales = 0\n",
    "    num_consonantes = 0\n",
    "    \n",
    "    # Definimos una lista con las vocales\n",
    "    vocales = ['a', 'e', 'i', 'o', 'u']\n",
    "    \n",
    "    for c in texto.lower(): # Podemos convertir el texto a minúsculas para simplificar los cálculos\n",
    "        if c in vocales:\n",
    "            num_vocales += 1\n",
    "        elif c > 'a' and c <= 'z':\n",
    "            num_consonantes += 1\n",
    "    \n",
    "    return num_vocales, num_consonantes\n",
    "\n",
    "texto = \"Orbiting Earth in the spaceship, I saw how beautiful our planet is. \\\n",
    "            People, let us preserve and increase this beauty, not destroy it!\"\n",
    "\n",
    "num_vocales, num_consonantes = contar_vocales_y_consonantes(texto)\n",
    "print (\"El número de vocales es de %d\" % num_vocales)\n",
    "print (\"El número de consonantes es de %d\" % num_consonantes)"
   ]
  },
  {
   "cell_type": "markdown",
   "metadata": {},
   "source": [
    "Si queremos considerar también las vocales acentuadas o caracteres especiales, podemos modificar el código anterior para tenerlo en cuenta:"
   ]
  },
  {
   "cell_type": "code",
   "execution_count": 7,
   "metadata": {},
   "outputs": [
    {
     "name": "stdout",
     "output_type": "stream",
     "text": [
      "El número de vocales es de 44\n",
      "El número de consonantes es de 62\n",
      "El número de vocales es de 5\n",
      "El número de consonantes es de 1\n"
     ]
    }
   ],
   "source": [
    "def contar_vocales_y_consonantes(texto):\n",
    "    # Cuenta las vocales contenidas en el string texto y también las consonantes.\n",
    "    num_vocales = 0\n",
    "    num_consonantes = 0\n",
    "    \n",
    "    # Convertimos el texto a Unicode\n",
    "    # En este caso sabemos seguro que la codificación de caracteres es UTF-8,  \n",
    "    # pero si nuestro código se puediera ejecutar fuera del Notebook podríamos \n",
    "    # incluir la codificación como otro parámetro de la función\n",
    "    texto = texto.decode('utf-8')\n",
    "    \n",
    "    # Definimos una lista con las vocales en unicode\n",
    "    vocales = [u'a', u'e', u'i', u'o', u'u', u'à', u'á', u'è', u'é', u'í', u'ï', u'ò', u'ó', u'ú', u'ü']\n",
    "    \n",
    "    for c in texto.lower(): # Podemos convertir el texto a minúsculas para simplificar los cálculos\n",
    "        if c in vocales:\n",
    "            num_vocales += 1\n",
    "        elif c > 'a' and c <= 'z' or c == u'ç' or c == u'ñ':\n",
    "            num_consonantes += 1\n",
    "    \n",
    "    return num_vocales, num_consonantes\n",
    "\n",
    "texto = \"Orbiting Earth in the spaceship, I saw how beautiful our planet is. \\\n",
    "            People, let us preserve and increase this beauty, not destroy it!\"\n",
    "\n",
    "num_vocales, num_consonantes = contar_vocales_y_consonantes(texto)\n",
    "print (\"El número de vocales es de %d\" % num_vocales)\n",
    "print (\"El número de consonantes es de %d\" % num_consonantes)\n",
    "\n",
    "texto = \"áéióúY\"\n",
    "num_vocales, num_consonantes = contar_vocales_y_consonantes(texto)\n",
    "print( \"El número de vocales es de %d\" % num_vocales)\n",
    "print (\"El número de consonantes es de %d\" % num_consonantes)"
   ]
  }
 ],
 "metadata": {
  "kernelspec": {
   "display_name": "Python 3",
   "language": "python",
   "name": "python3"
  },
  "language_info": {
   "codemirror_mode": {
    "name": "ipython",
    "version": 3
   },
   "file_extension": ".py",
   "mimetype": "text/x-python",
   "name": "python",
   "nbconvert_exporter": "python",
   "pygments_lexer": "ipython3",
   "version": "3.8.3-final"
  }
 },
 "nbformat": 4,
 "nbformat_minor": 4
}