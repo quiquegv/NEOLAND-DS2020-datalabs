{
 "cells": [
  {
   "cell_type": "markdown",
   "metadata": {},
   "source": [
    "Programación para *Data Science*\n",
    "============================\n",
    "\n",
    "Intro101 - 05.1: Conceptos avanzados de Python\n",
    "--------------------------------------\n",
    "\n",
    "En este Notebook encontraréis dos conjuntos de ejercicios: un primer conjunto de ejercicios para practicar y que no puntuan, pero que recomendamos intentar resolver y un segundo conjunto que evaluaremos como actividad.\n",
    "\n",
    "\n",
    "Además, veréis que todas las actividades tienen una etiqueta que indica los recursos necesarios para llevarla a cabo. Hay tres posibles etiquetas:\n",
    "\n",
    "* <span style=\"font-family: Courier New; background-color: #82b74b; color: #000000; padding: 3px; \">NM</span> **Sólo materiales**: las herramientas necesarias para realizar la actividad se pueden encontrar en los materiales de la asignatura. \n",
    "\n",
    "* <span style=\"font-family: Courier New; background-color: #ffcc5c; color: #000000; padding: 3px; \">EG</span> **Consulta externa guiada**: la actividad puede requerir hacer uso de herramientas que no se encuentran en los materiales de la asignatura, pero el enunciado contiene indicaciones de dónde o cómo encontrar la información adicional necesaria para resolver la actividad.\n",
    "\n",
    "* <span style=\"font-family: Courier New; background-color: #f2ae72; color: #000000; padding: 3px; \">EI</span> **Consulta externa independente**: la actividad puede requerir hacer uso de herramientas que no se encuentran en los materiales de la asignatura, y el enunciado puede no incluir la descripción de dónde o cómo encontrar esta información adicional. Será necesario que el estudiante busque esta información utilizando los recursos que se han explicado en la asignatura.\n",
    "\n",
    "Es importante notar que estas etiquetas no indican el nivel de dificultad del ejercicio, sino únicamente la necesidad de consulta de documentación externa para su resolución. Además, recordad que las **etiquetas son informativas**, pero podréis consultar referencias externas en cualquier momento (aunque no se indique explícitamente) o puede ser que podáis hacer una actividad sin consultar ningún tipo de documentación. Por ejemplo, para resolver una actividad que sólo requiera los materiales de la asignatura, puedéis consultar referencias externas si queréis, ya sea tanto para ayudaros en la resolución como para ampliar el conocimiento!\n"
   ]
  },
  {
   "cell_type": "markdown",
   "metadata": {},
   "source": [
    "---\n",
    "\n",
    "## Ejercicios y preguntas teóricas para la actividad\n",
    "\n",
    "A continuación, encontraréis los **ejercicios y preguntas teóricas que debéis completar en esta actividad** y que forman parte de la evaluación de esta unidad."
   ]
  },
  {
   "cell_type": "markdown",
   "metadata": {},
   "source": [
    "### Ejercicio 1\n",
    "\n",
    "Un número primo es aquél que solo es divisible por él mismo y por 1.\n",
    "\n",
    "a) Escribe un código que compruebe si un número `x = 15` es solo divisible por 1 o por el mismo.  Escribe este código usando un iterador (un `for` o un `while`) que barra todos los valores desde `2` a `x-1`. Crea una variable `divisible`  que tenga por defecto valor `False` y asigne el valor `True` si a lo largo de la iteración encuentra un número natural divisible. Puedes usar el operador modulo `a % b` para saber si un numero `b` es divisible por `a`.\n",
    "\n",
    "<span style=\"font-family: Courier New; background-color: #82b74b; color: #000000; padding: 2px; \">NM</span>"
   ]
  },
  {
   "cell_type": "code",
   "execution_count": 24,
   "metadata": {
    "tags": []
   },
   "outputs": [
    {
     "output_type": "stream",
     "name": "stdout",
     "text": "False\nTrue\nFalse\nTrue\nFalse\nFalse\nFalse\nFalse\nFalse\nFalse\nFalse\nFalse\n"
    }
   ],
   "source": [
    "# Respuesta\n",
    "\n",
    "def numero_primo(x):\n",
    "    for numero in range(2,x-1):\n",
    "        divisible = False\n",
    "        if x%numero == 0:\n",
    "            divisible = True\n",
    "            print(divisible)\n",
    "        else:\n",
    "            print(divisible)\n",
    "\n",
    "numero_primo(15)\n",
    "\n"
   ]
  },
  {
   "cell_type": "markdown",
   "metadata": {},
   "source": [
    "\n",
    "b) Convierte tu código anterior en una función que compruebe si el número del argumento es primo o no, devolviendo True is es primo y False si no es primo. Comprueba tu función con los valores 492366587, 492366585, 48947 y 2,\n",
    "\n",
    "<span style=\"font-family: Courier New; background-color: #82b74b; color: #000000; padding: 2px; \">NM</span>"
   ]
  },
  {
   "cell_type": "code",
   "execution_count": 25,
   "metadata": {
    "tags": []
   },
   "outputs": [
    {
     "output_type": "stream",
     "name": "stdout",
     "text": "True\nFalse\nTrue\nTrue\n"
    }
   ],
   "source": [
    "# Respuesta\n",
    "def numero_primo2(x):\n",
    "    divisible = True\n",
    "    for numero in range(2,x-1):\n",
    "        if x%numero == 0:\n",
    "            divisible = False\n",
    "            break\n",
    "    return divisible\n",
    "\n",
    "print(numero_primo2(492366587))\n",
    "print(numero_primo2(492366585))\n",
    "print(numero_primo2(48947))\n",
    "print(numero_primo2(2))\n",
    "\n"
   ]
  },
  {
   "cell_type": "markdown",
   "metadata": {},
   "source": [
    "\n",
    "c) En el cálculo de la función anterior, una vez se ha encontrado un número que es divisible dentro del rango ya no tiene sentido comprobar el resto de números del rango. Por ejemplo si 10 ya es divisble entre 2, ya no hace falta probar de 3 en adelante pues ya sabemos que el número no es primo. \n",
    "\n",
    "Modifica la función anterior de la siguiente forma: \n",
    "- Una vez se encuentra el divisor, la iteración se interrumpe para no probar el resto de enteros. \n",
    "- La función devuelve\n",
    "    - **Si es primo**: True\n",
    "    - **Si no es primo**, el primer divisor mayor que 1.\n",
    "    \n",
    "Puedes hacer uso del comando *break* dentro de un bucle para interrumpir este, puedes consultar más información sobre break en la documentación de python [aquí](https://docs.python.org/2/tutorial/controlflow.html).\n",
    "\n",
    "Comprueba tu función con los valores 492366585, 492366587, 48947 y 2,\n",
    "\n",
    "<span style=\"font-family: Courier New; background-color: #82b74b; color: #000000; padding: 2px; \">NM</span>"
   ]
  },
  {
   "cell_type": "code",
   "execution_count": 46,
   "metadata": {
    "tags": []
   },
   "outputs": [
    {
     "output_type": "stream",
     "name": "stdout",
     "text": "True\n3\nTrue\nTrue\n"
    }
   ],
   "source": [
    "# Respuesta\n",
    "def numero_primo3(x):\n",
    "    divisible = True\n",
    "    for numero in range(2,x-1):\n",
    "        if x%numero == 0:\n",
    "            divisible = False\n",
    "            return numero\n",
    "            break\n",
    "    return divisible\n",
    "\n",
    "print(numero_primo3(492366587))\n",
    "print(numero_primo3(492366585))\n",
    "print(numero_primo3(48947))\n",
    "print(numero_primo3(2))\n"
   ]
  },
  {
   "cell_type": "markdown",
   "metadata": {},
   "source": [
    "### Ejercicio 2\n",
    "\n",
    "La Covid-19 es una enfermedad producida por la infección del virus SARS-CoV-2. La infección es transmisible de persona a persona y su contagiosidad depende de la cantidad del virus en las vías respiratorias. Si cada persona contagiada transmite la enfermedad a $\\beta$ contactos en promedio por periodo de tiempo $t$, es posible estimar la evolución del contagio con un modelo matemático sencillo.\n",
    "\n",
    "Para $t=1$día, las transmisiones en España se han estimado a partir de su histórico de las semanas de Febrero y Marzo del 2020 una $\\beta = 0.35$ transmissiones por día por infectado.\n",
    "\n",
    "Durante un periodo de tiempo (por ejempo un día $d$) la tasa de nuevos contagios se puede estimar como  una proporción al número de contagiados del periodo anterior $N$: \n",
    "\n",
    "$$ \\Delta N = N_{1} - N = \\beta \\cdot N$$ (1)\n",
    "\n",
    "Por tanto, podemos proyectar el número futuro de afectados como \n",
    "\n",
    "$$ N_{1} = N + \\beta \\cdot N = (1+\\beta) \\cdot N$$ (2) \n",
    "\n",
    "En dos días:\n",
    "\n",
    "$$ N_{2} = (1+\\beta) \\cdot N_{1} = (1+\\beta)^2 \\cdot N$$  (3)\n",
    "\n",
    "Y en general en D días tendremos \n",
    "\n",
    "$$N_{D} = (1+\\beta)^D \\cdot N$$  (4)\n",
    " \n",
    "Asumiendo este sencillo modelo: \n",
    "\n",
    "a) Implementa una función de dos parámetros (N: población infectada inicial, D: número de días), que devuelva el cálculo de afectados para D días siguiendo la ecuación (4). Suponiendo una población afectada de 4250 (población afectada en españa a día 13 de Marzo de 2020), usa la función para calcular la población estimada en 1, 2, 7 y 30 días. \n",
    "\n",
    "<span style=\"font-family: Courier New; background-color: #82b74b; color: #000000; padding: 2px; \">NM</span>"
   ]
  },
  {
   "cell_type": "code",
   "execution_count": 51,
   "metadata": {
    "tags": []
   },
   "outputs": [
    {
     "output_type": "stream",
     "name": "stdout",
     "text": "5738\n7746\n34732\n34546335\n"
    }
   ],
   "source": [
    "# Respuesta\n",
    "def covid(N,D):\n",
    "    Ninfectada = ((1 + 0.35)**D)*N\n",
    "    return round(Ninfectada)\n",
    "\n",
    "print(covid(4250,1))\n",
    "print(covid(4250,2))\n",
    "print(covid(4250,7))\n",
    "print(covid(4250,30))\n",
    "\n"
   ]
  },
  {
   "cell_type": "markdown",
   "metadata": {},
   "source": [
    "\n",
    "b) Sabiendo que los Servicios de Medicina Intensiva (SMI) disponen de 3363 camas para enfermos graves, y suponiendo que un 10% de los afectados por el covid-19 requerirán de SMI y una supervivencia del 2,5% (Exitus), escribe un código que calcule:\n",
    "- El día en curso (Día)\n",
    "- El total de afectados por el virus para cada día d (Afectados)\n",
    "- El total de ingresados en SMI por el virus para cada día d (Críticos)\n",
    "- El total de Exitus por el virus para cada día d (Exitus)\n",
    "- Si los servicios de SMI no pueden aceptar los ingresados para cada día $d$ (Estado: indicando Saturación/No Saturación)\n",
    "\n",
    "Imprime en pantalla la información de cada día durante una simulación de tres semanas, suponiendo que no hay recuperaciones, con una población afectada inicial 4250 y una $\\beta = 0.35$ constante. \n",
    "\n",
    "\n",
    "<span style=\"font-family: Courier New; background-color: #82b74b; color: #000000; padding: 2px; \">NM</span>"
   ]
  },
  {
   "cell_type": "code",
   "execution_count": 68,
   "metadata": {
    "tags": []
   },
   "outputs": [
    {
     "output_type": "stream",
     "name": "stdout",
     "text": "Día 1| Afectados-> 4250| Ingresados-> 425| Muertos-> 106| El estado del SMI-> No Saturación\nDía 2| Afectados-> 5738| Ingresados-> 574| Muertos-> 143| El estado del SMI-> No Saturación\nDía 3| Afectados-> 7746| Ingresados-> 775| Muertos-> 194| El estado del SMI-> No Saturación\nDía 4| Afectados-> 10457| Ingresados-> 1046| Muertos-> 261| El estado del SMI-> No Saturación\nDía 5| Afectados-> 14116| Ingresados-> 1412| Muertos-> 353| El estado del SMI-> No Saturación\nDía 6| Afectados-> 19057| Ingresados-> 1906| Muertos-> 476| El estado del SMI-> No Saturación\nDía 7| Afectados-> 25727| Ingresados-> 2573| Muertos-> 643| El estado del SMI-> No Saturación\nDía 8| Afectados-> 34732| Ingresados-> 3473| Muertos-> 868| El estado del SMI-> Saturación\nDía 9| Afectados-> 46888| Ingresados-> 4689| Muertos-> 1172| El estado del SMI-> Saturación\nDía 10| Afectados-> 63298| Ingresados-> 6330| Muertos-> 1582| El estado del SMI-> Saturación\nDía 11| Afectados-> 85453| Ingresados-> 8545| Muertos-> 2136| El estado del SMI-> Saturación\nDía 12| Afectados-> 115361| Ingresados-> 11536| Muertos-> 2884| El estado del SMI-> Saturación\nDía 13| Afectados-> 155738| Ingresados-> 15574| Muertos-> 3893| El estado del SMI-> Saturación\nDía 14| Afectados-> 210246| Ingresados-> 21025| Muertos-> 5256| El estado del SMI-> Saturación\nDía 15| Afectados-> 283832| Ingresados-> 28383| Muertos-> 7096| El estado del SMI-> Saturación\nDía 16| Afectados-> 383173| Ingresados-> 38317| Muertos-> 9579| El estado del SMI-> Saturación\nDía 17| Afectados-> 517284| Ingresados-> 51728| Muertos-> 12932| El estado del SMI-> Saturación\nDía 18| Afectados-> 698334| Ingresados-> 69833| Muertos-> 17458| El estado del SMI-> Saturación\nDía 19| Afectados-> 942750| Ingresados-> 94275| Muertos-> 23569| El estado del SMI-> Saturación\nDía 20| Afectados-> 1272713| Ingresados-> 127271| Muertos-> 31818| El estado del SMI-> Saturación\nDía 21| Afectados-> 1718163| Ingresados-> 171816| Muertos-> 42954| El estado del SMI-> Saturación\n"
    }
   ],
   "source": [
    "# Respuesta\n",
    "\n",
    "def situacionCovid(N,D): # N es el valor inicial de contagios y D los días que nos tiene que mostrar\n",
    "    for i in range(D): #hago un rango de tamaño D\n",
    "        dia_curso = i + 1 # le digo que sea el día i + 1 para que no muestre el día 0, sino que empiece por 1\n",
    "        infectados_dia = covid(N,i) # los infectados son los que muestre según la función covid definida anteriormente.\n",
    "        ingresados = infectados_dia * 0.1 # los ingresados son el 10% de los afectados\n",
    "        exitus = infectados_dia * 0.025 # los muertos son el 2.5% de los afectados\n",
    "        estado = \"No Saturación\" # el estado es por defecto no Saturación pero hago un condicional para que me lo cambia cuando los ingresados son más de 3363. \n",
    "        if ingresados > 3363:\n",
    "            estado = \"Saturación\"\n",
    "        print(\"Día \" + str(round(dia_curso)) +\"| Afectados-> \" + str(round(infectados_dia)) + \"| Ingresados-> \" + str(round(ingresados)) + \"| Muertos-> \" + str(round(exitus)) + \"| El estado del SMI-> \"+ estado)\n",
    "\n",
    "situacionCovid(4250,21)\n",
    "\n",
    "\n",
    "\n",
    "\n",
    "\n"
   ]
  },
  {
   "cell_type": "markdown",
   "metadata": {},
   "source": [
    "\n",
    "c) Convierte el código anterior en una función que genere un archivo de texto con nombre `output.txt`, siguiendo este formato: \n",
    "```\n",
    "Dia, Afectados, Críticos, Exitus, Estado\n",
    "0, 4250, 425,  106, No Saturación\n",
    "1, 5737, 573,  143, No Saturación\n",
    "2, 7745, 774,  193, No Saturación\n",
    "...\n",
    "```\n",
    "Con los parámetros de entrada $N$, $D$, $\\beta$, camas SMI.\n",
    "\n",
    "<span style=\"font-family: Courier New; background-color: #82b74b; color: #000000; padding: 2px; \">NM</span>"
   ]
  },
  {
   "cell_type": "code",
   "execution_count": 70,
   "metadata": {},
   "outputs": [],
   "source": [
    "# Respuesta\n",
    "\n",
    "def textoCovid(N,D): # N es el valor inicial de contagios y D los días que nos tiene que mostrar\n",
    "    out = open('output2.txt','w') # Lo llamo output dos para que no chafe el documento output.txt de la otra práctica 5. \n",
    "    out.write(\"Dia, Afectados, Cŕiticos, Exitus, Estado\" + \"\\n\") # añado los nombres de los valores antes del bucle para que lo meta solo una vez. \n",
    "    for i in range(D): # copio y pego la misma función de antes y modifico la salida de datos para que la introduza en el nuevo texto con la función out.write\n",
    "        dia_curso = i + 1 \n",
    "        infectados_dia = covid(N,i)\n",
    "        ingresados = infectados_dia * 0.1\n",
    "        exitus = infectados_dia * 0.025\n",
    "        estado = \"No Saturación\"\n",
    "        if ingresados > 3363:\n",
    "            estado = \"Saturación\"\n",
    "        out.write(str(round(dia_curso)) +\", \"+ str(round(infectados_dia)) + \", \" + str(round(ingresados)) + \", \" + str(round(exitus)) + \", \"+ estado + \"\\n\")\n",
    "\n",
    "textoCovid(4250,21)"
   ]
  },
  {
   "cell_type": "markdown",
   "metadata": {},
   "source": [
    "### Ejercicio 3\n",
    "\n",
    "Dado el siguiente diccionario:"
   ]
  },
  {
   "cell_type": "code",
   "execution_count": null,
   "metadata": {},
   "outputs": [],
   "source": [
    "d = {\"Alex\":344334443, \"Eva\":5533443, \"Cristina\":443355, \"Jonas\":33223324}"
   ]
  },
  {
   "cell_type": "markdown",
   "metadata": {},
   "source": [
    "Escribid una función que pregunte al usuario que introduzca el nombre de una persona y muestre por pantalla el nombre de la persona y su teléfono. \n",
    "\n",
    "Tened en cuenta que:\n",
    "\n",
    "- La función debe controlar que el valor introducido por el usuario es un nombre que existe en el diccionario. En caso contrario, mostrará un mensaje de error (\"El nombre introducido no corresponde a ninguna persona\") y devolverá el valor False.\n",
    "- Debéis tener en cuenta que el nombre de las personas que nos pasan por parámetro puede ser en minúsculas, mayúsculas o una combinación de ambas, y que debemos encontrar el número de teléfono aunque la capitalización de la cadena entrada por el usuario no sea exactamente la misma que hemos almacenado en el diccionario.\n",
    "- Suponed que  no hay acentos en los nombres.\n",
    "\n",
    "Nota 1: Para realizar la actividad, tendréis que capturar un texto que entrará el usuario. Consultad la [documentación oficial de la función input](https://docs.python.org/3/library/functions.html#input) para ver cómo hacerlo.\n",
    "\n",
    "Nota 2: También tendréis que pensar cómo tratar el hecho de que el usuario pueda utilizar mayúsculas y minúsculas en la escritura del nombre en el diccionario. ¡Os animamos a usar un buscador para intentar encontrar alguna alternativa para resolver este subproblema! ¡Recordad citar las referencias que hayáis usado para resolverlo!\n",
    "\n",
    "<span style=\"font-family: Courier New; background-color: #ffcc5c; color: #000000; padding: 3px; \">EG</span>"
   ]
  },
  {
   "cell_type": "code",
   "execution_count": 77,
   "metadata": {
    "tags": []
   },
   "outputs": [
    {
     "output_type": "stream",
     "name": "stdout",
     "text": "Cristina 443355\n"
    }
   ],
   "source": [
    "d = {\"Alex\":344334443, \"Eva\":5533443, \"Cristina\":443355, \"Jonas\":33223324}\n",
    "\n",
    "# Respuesta\n",
    "def telefonos():\n",
    "    x = input(\"¿De quién quieres el número de teléfono?\")\n",
    "    x = x.lower() # convierto el parametro en minusculas. No pongo la referncia porque no recuerdo donde lo busque. \n",
    "    x = x.capitalize() # le digo que ponga en mayusculas la primera letra. No pongo la referncia porque no recuerdo donde lo busqué.\n",
    "    if x in d.keys():\n",
    "        print(x, d[x])\n",
    "    else:\n",
    "        print(\"El nombre introducido no corresponde a ninguna persona\")\n",
    "\n",
    "telefonos()\n"
   ]
  },
  {
   "cell_type": "markdown",
   "metadata": {},
   "source": [
    "Referencias consultadas:\n",
    "\n",
    "*Incluir aquí las referencias*"
   ]
  },
  {
   "cell_type": "markdown",
   "metadata": {},
   "source": [
    "###  Ejercicio 4\n",
    "\n",
    "Python dispone de un **idiom** muy útil conocido como `list comprehension`. Utilizando este **idiom**, proporcionad una expresión que devuelva las listas siguientes.\n",
    "\n",
    "Nota: Para realizar esta actividad necesitaréis investigar qué son las `list comprehension` y qué sintaxis utilizan. Para ello, se recomienda en primer lugar que utilicéis un buscador para encontrar información genérica sobre esta construcción. Después, os recomendamos que consultéis stackoverflow para ver algunos ejemplos de problemas que se pueden resolver con esta construcción.\n",
    "\n",
    "\n",
    "[stackoverflow](https://stackoverflow.com/) es un sitio de preguntas-y-respuestas muy popular entre programadores. Veréis que para la gran mayoría de las dudas que tengáis, habrá alguien que ya les habrá tenido (y consultado) anteriormente! Así pues, más allá de preguntar vosotros mismos las dudas allí (nosotros ya tenemos el foro del aula para ello!), consultar esta web os permitirá ver qué soluciones proponen otros programadores a estas dudas. A menudo habrá más de una solución a un mismo problema, y podréis valorar cuál es la más adecuada para vuestro problema.\n",
    "\n",
    "Para ver ejemplos de problemas que son adecuados para resolver con **list comprehensions**, os recomendamos leer las siguientes páginas:\n",
    "* https://stackoverflow.com/questions/12555443/squaring-all-elements-in-a-list\n",
    "* https://stackoverflow.com/questions/18551458/how-to-frame-two-for-loops-in-list-comprehension-python\n",
    "* https://stackoverflow.com/questions/24442091/list-comprehension-with-condition\n",
    "* https://stackoverflow.com/questions/41676212/i-want-to-return-only-the-odd-numbers-in-a-list\n",
    "* https://stackoverflow.com/questions/4260280/if-else-in-a-list-comprehension\n",
    "\n",
    "<span style=\"font-family: Courier New; background-color: #ffcc5c; color: #000000; padding: 3px; \">EG</span>\n"
   ]
  },
  {
   "cell_type": "markdown",
   "metadata": {},
   "source": [
    "a) Una lista con los valores $4 x^2$ donde $x$ es cada uno de los números de la lista `list_1`:"
   ]
  },
  {
   "cell_type": "code",
   "execution_count": 80,
   "metadata": {},
   "outputs": [
    {
     "output_type": "execute_result",
     "data": {
      "text/plain": "[4, 16, 36, 64, 100, 144, 196, 256, 324]"
     },
     "metadata": {},
     "execution_count": 80
    }
   ],
   "source": [
    "list_1 = [1, 2, 3, 4, 5, 6, 7, 8, 9]\n",
    "\n",
    "# Respuesta\n",
    "def transformacion1(list):\n",
    "    return [4*i**2 for i in list]\n",
    "\n",
    "transformacion1(list_1)\n",
    "\n"
   ]
  },
  {
   "cell_type": "markdown",
   "metadata": {},
   "source": [
    "b) Una lista con los valores $x/(x+1)$ donde $x$ es cada uno de los números de la lista `list_1`:"
   ]
  },
  {
   "cell_type": "code",
   "execution_count": 81,
   "metadata": {},
   "outputs": [
    {
     "output_type": "execute_result",
     "data": {
      "text/plain": "[0.5,\n 0.6666666666666666,\n 0.75,\n 0.8,\n 0.8333333333333334,\n 0.8571428571428571,\n 0.875,\n 0.8888888888888888,\n 0.9]"
     },
     "metadata": {},
     "execution_count": 81
    }
   ],
   "source": [
    "list_1 = [1, 2, 3, 4, 5, 6, 7, 8, 9]\n",
    "\n",
    "# Respuesta\n",
    "\n",
    "def transformacion2(list):\n",
    "    return [i/(i+1) for i in list]\n",
    "\n",
    "transformacion2(list_1)\n"
   ]
  },
  {
   "cell_type": "markdown",
   "metadata": {},
   "source": [
    "c) Una lista con los valores $4x^2/(4x^2-1)$ donde $x$ es cada uno de los números de la lista `list_1`:"
   ]
  },
  {
   "cell_type": "code",
   "execution_count": 86,
   "metadata": {},
   "outputs": [
    {
     "output_type": "execute_result",
     "data": {
      "text/plain": "[1.3333333333333333,\n 1.0666666666666667,\n 1.0285714285714285,\n 1.0158730158730158,\n 1.0101010101010102,\n 1.006993006993007,\n 1.005128205128205,\n 1.003921568627451,\n 1.0030959752321982]"
     },
     "metadata": {},
     "execution_count": 86
    }
   ],
   "source": [
    "list_1 = [1, 2, 3, 4, 5, 6, 7, 8, 9]\n",
    "\n",
    "# Respuesta\n",
    "def transformacion3(list):\n",
    "    return [(4*i**2)/(4*i**2 - 1) for i in list]\n",
    "\n",
    "transformacion3(list_1)"
   ]
  },
  {
   "cell_type": "markdown",
   "metadata": {},
   "source": [
    "### Ejercicio 5\n",
    "\n",
    "Las funciones `lambda` son formas de expresar y definir funciones pequeñas sin necesidad de usar el constructor `def funcion():`.\n",
    "\n",
    "Lee sobre las funciones lambda, por ejemplo [aquí](https://www.w3schools.com/python/python_lambda.asp) o [aquí](https://realpython.com/python-lambda/)\n",
    "\n",
    "Escribe una función $f$ con argumento $n$, $f(n)$, que **devuelva una función** lambda, que esta a su vez devuelva $n$ copias de una cadena de caracteres en su argumento: \n",
    "\n",
    "<span style=\"font-family: Courier New; background-color: #f2ae72; color: #000000; padding: 3px; \">EI</span>"
   ]
  },
  {
   "cell_type": "code",
   "execution_count": 16,
   "metadata": {},
   "outputs": [
    {
     "output_type": "execute_result",
     "data": {
      "text/plain": "'holaholaholaholahola'"
     },
     "metadata": {},
     "execution_count": 16
    }
   ],
   "source": [
    "# Respuesta\n",
    "# Versión 1 de la resupuesta\n",
    "def f(n): \n",
    "    # Definir de la función usando una método lambda\n",
    "    return lambda a : a * n # así es la forma más simple que he visto, pero el resultado no es muy bonito. \n",
    "r = f(5)\n",
    "r(\"hola\")  # Donde deberíamos ver 5 copias del literal \"Hola \""
   ]
  },
  {
   "cell_type": "code",
   "execution_count": 15,
   "metadata": {},
   "outputs": [
    {
     "output_type": "execute_result",
     "data": {
      "text/plain": "['hola', 'hola', 'hola', 'hola', 'hola']"
     },
     "metadata": {},
     "execution_count": 15
    }
   ],
   "source": [
    "# Versión 2 de la resupuesta\n",
    "def f(n): \n",
    "    # Definir de la función usando una método lambda\n",
    "    return lambda a : [a for i in range(n)] # he metido un for para que me lo saque de una forma más limpia\n",
    "r = f(5)\n",
    "r(\"hola\")  # Donde deberíamos ver 5 copias del literal \"Hola \""
   ]
  },
  {
   "cell_type": "markdown",
   "metadata": {},
   "source": [
    "### Ejercicio Opcional\n",
    "\n",
    "Existe una expresión atribuida a John Wallis (1616) para la estimación del valor de $\\pi$, consistente en: \n",
    "\n",
    "$$\n",
    "\\frac{\\pi}{2} = \\prod_{n=1}^{N} (\\frac{4n^2}{4n^2 - 1})\n",
    "$$\n",
    "si $N$ es suficientemente grande  $N \\to \\infty$. \n",
    "\n",
    "Escribe una función que, dado una aproximación N, calcule una estimación de $\\pi$ siguiendo la fórmula de Wallis. \n",
    "\n",
    "\n",
    "\n",
    "**Consideraciones:**\n",
    "\n",
    "- Investigad las funciones map, reduce\n",
    "- También podéis usar una list comprehension\n",
    "- Las funciones lambda os pueden ser útiles\n",
    "\n",
    "<span style=\"font-family: Courier New; background-color: #f2ae72; color: #000000; padding: 3px; \">EI</span>"
   ]
  },
  {
   "cell_type": "code",
   "execution_count": 3,
   "metadata": {
    "attributes": {
     "classes": [
      "sourceCode"
     ],
     "id": ""
    }
   },
   "outputs": [],
   "source": [
    "# Respuesta"
   ]
  }
 ],
 "metadata": {
  "kernelspec": {
   "display_name": "Python 3",
   "language": "python",
   "name": "python3"
  },
  "language_info": {
   "codemirror_mode": {
    "name": "ipython",
    "version": 3
   },
   "file_extension": ".py",
   "mimetype": "text/x-python",
   "name": "python",
   "nbconvert_exporter": "python",
   "pygments_lexer": "ipython3",
   "version": "3.8.3-final"
  }
 },
 "nbformat": 4,
 "nbformat_minor": 4
}