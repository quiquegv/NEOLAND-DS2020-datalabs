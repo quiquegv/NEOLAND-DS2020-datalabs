{
 "cells": [
  {
   "cell_type": "markdown",
   "metadata": {},
   "source": [
    "# Temperatura del procesador\n",
    "\n",
    "Tenemos un sensor de temperatura en el procesador el servidor de nuestra empresa. Queremos analizar los datos proporcionados para analizar si debemos cambiar de sistema de refrigeración por uno mejor. Es caro y como analista de datos no podemos tomar decisiones sin base. \n",
    "\n",
    "Proporcionamos las temperaturas medidas a lo largo de las 24 horas de un día en una estructura de datos tipo lista compuesta de 24 números enteros: \n",
    "```\n",
    "temperaturas_C = [33,66,65,0,59,60,62,64,70,76,80,69,80,83,68,79,61,53,50,49,53,48,45,39]\n",
    "```"
   ]
  },
  {
   "cell_type": "markdown",
   "metadata": {},
   "source": [
    "## Gráfica de temperaturas\n",
    "Para facilitar el entendimiento se te muestra a continuación la gráfica de temperatura. No tienes que hacer nada en este apartado. La prueba empieza en **Problema**. "
   ]
  },
  {
   "cell_type": "code",
   "execution_count": null,
   "metadata": {},
   "outputs": [],
   "source": [
    "# imports\n",
    "import matplotlib.pyplot as plt\n",
    "%matplotlib inline\n",
    "\n",
    "# eje x, eje y\n",
    "y = [33,66,65,0,59,60,62,64,70,76,80,69,80,83,68,79,61,53,50,49,53,48,45,39]\n",
    "x = list(range(len(y)))\n",
    "\n",
    "# imprimir figura\n",
    "plt.plot(x, y)\n",
    "plt.axhline(y=70, linewidth=1, color='r')\n",
    "plt.xlabel('horas')\n",
    "plt.ylabel('Temperatura ºC')\n",
    "plt.title('Temperaturas de nuestro servidor a lo largo del día')"
   ]
  },
  {
   "cell_type": "markdown",
   "metadata": {},
   "source": [
    "## Problema\n",
    "\n",
    "Si el sensor detecta más de 4 horas con temperaturas mayores o igual que 70ºC o alguna temperatura superior a 80ºC o la media fuera superior a 65ºC a lo largo de todo el día, deberemos dar la orden de cambiar el sistema de refrigeración para evitar dañar el procesador. \n",
    "\n",
    "Te vamos a guiar paso a paso para que puedas tomar la decisión calculando algunos pasos intermedios: \n",
    "\n",
    "1. Temperatura mínima\n",
    "2. Temperatura máxima\n",
    "3. Temperaturas igual o superior a 70ºC\n",
    "4. Media de temperaturas a lo largo del día. \n",
    "5. Si hubiera un fallo en el sensor a las 03:00 y no capturáramos el dato, ¿Cómo estímarias el valor que nos falta? Corrige ese valor en la lista de temperaturas. \n",
    "6. Bonus: Nuestro personal de mantenimiento es de Estados Unidos y no entiende el sistema métrico internacional. Pása las temperaturas a Grados Fahrenheit.\n",
    "\n",
    "Fórmula: F = 1.8 * C + 32\n",
    "\n",
    "web: https://es.wikipedia.org/wiki/Grado_Fahrenheit"
   ]
  },
  {
   "cell_type": "code",
   "execution_count": 1,
   "metadata": {
    "tags": []
   },
   "outputs": [
    {
     "output_type": "stream",
     "name": "stdout",
     "text": "0\n90\n[76, 80, 81, 80, 83, 90, 79]\n60.25\n[33, 66, 65, 60.25, 59, 60, 62, 64, 70, 76, 80, 81, 80, 83, 90, 79, 61, 53, 50, 49, 53, 48, 45, 39]\n32.0\n[91.4, 150.8, 149.0, 140.45, 138.2, 140.0, 143.6, 147.2, 158.0, 168.8, 176.0, 177.8, 176.0, 181.4, 194.0, 174.2, 141.8, 127.4, 122.0, 120.2, 127.4, 118.4, 113.0, 102.2]\n"
    }
   ],
   "source": [
    "# asigna a una variable la lista de temperaturas\n",
    "temperaturas_C = [33,66,65,0,59,60,62,64,70,76,80,81,80,83,90,79,61,53,50,49,53,48,45,39]\n",
    "\n",
    "# 1. Calcula el minimo de la lista e imprime el valor con print()\n",
    "print(min(temperaturas_C))\n",
    "\n",
    "\n",
    "# 2. Calcula el máximo de la lista e imprime el valor con print()\n",
    "print(max(temperaturas_C))\n",
    "\n",
    "# 3. Elementos de la lista que son mayores que 70ºC e imprime el resultado\n",
    "temperaturas_70 = []\n",
    "\n",
    "for i in temperaturas_C:\n",
    "    if i > 70:\n",
    "        temperaturas_70.append(i)\n",
    "\n",
    "print(temperaturas_70)\n",
    "# 4. cálculo de la media de temperaturas a lo largo del día e imprime resultado\n",
    "import statistics as stats\n",
    "print(stats.mean(temperaturas_C))\n",
    "\n",
    "# 5.1 Soluciona el fallo en el sensor estimando un valor\n",
    "\n",
    "def reemplazo(lista):\n",
    "    for i in range(len(lista)):\n",
    "        if lista[i] == 0:\n",
    "            lista[i] = stats.mean(lista)\n",
    "\n",
    "# 5.2 Actualización del valor estimado a las 03:00 en la lista\n",
    "\n",
    "reemplazo(temperaturas_C)\n",
    "print(temperaturas_C)\n",
    "\n",
    "# Bonus: pasar la lista de ºC a grados Farenheit\n",
    "\n",
    "def convertidorF(a):\n",
    "    b = 1.8 * a + 32\n",
    "    return round(b,2)\n",
    "\n",
    "print(convertidorF(0))\n",
    "tempraturas_F = []\n",
    "for i in temperaturas_C:\n",
    "    i = convertidorF(i)\n",
    "    tempraturas_F.append(i)\n",
    "print(tempraturas_F)\n",
    "\n"
   ]
  },
  {
   "cell_type": "markdown",
   "metadata": {},
   "source": [
    "## Toma la decisión\n",
    "Recuerda que si el sensor detecta más de 4 horas con temperaturas mayores o igual que 70ºC o alguna temperatura superior a 80ºC o la media fuera superior a 65ºC a lo largo de todo el día, deberemos dar la orden de cambiar el sistema de refrigeración para evitar el peligro de dañar el equipamiento: \n",
    "* más de 4 horas con temperaturas mayores o igual que 70ºC\n",
    "* alguna temperatura superior a 80ºC\n",
    "* media fuera superior a 65ºC a lo largo de todo el día\n",
    "Si se cumple alguna de estas tres habrá que cambiar el sistema de refrigeración. "
   ]
  },
  {
   "cell_type": "code",
   "execution_count": 2,
   "metadata": {
    "tags": []
   },
   "outputs": [
    {
     "output_type": "stream",
     "name": "stdout",
     "text": "True\n"
    }
   ],
   "source": [
    "# Imprime True o False en función de si cambiarías el sistema de refrigeración o no\n",
    "\n",
    "def temp80(lista,a):\n",
    "    try:\n",
    "        if lista.index(a) >= 0:\n",
    "            print(True)\n",
    "    except:\n",
    "        print(False)\n",
    "\n",
    "\n",
    "def cambiosistema(lista,a,b,c):\n",
    "    if len(temperaturas_70) > a:\n",
    "        print(True)\n",
    "    elif stats.mean(lista) > b:\n",
    "        print(True)\n",
    "    elif temp80(lista,c):\n",
    "        print(True)\n",
    "    else: \n",
    "        print(False)\n",
    "cambiosistema(temperaturas_C,4,65,80)\n"
   ]
  },
  {
   "cell_type": "markdown",
   "metadata": {},
   "source": [
    "## Objetivos\n",
    "\n",
    "1. Tratamiento de listas\n",
    "2. Uso de bucle o list comprenhention\n",
    "3. Cálculo de la media, minimo y máximo. \n",
    "4. Filtrado de listas. \n",
    "5. Interpolar un valor atípico. \n",
    "6. Operadores lógicos. \n",
    "7. Imprimir por consola"
   ]
  },
  {
   "cell_type": "code",
   "execution_count": null,
   "metadata": {},
   "outputs": [],
   "source": []
  },
  {
   "cell_type": "code",
   "execution_count": null,
   "metadata": {},
   "outputs": [],
   "source": [
    "\n",
    "\n",
    "\n",
    "temperaturas_C = [33,66,65,0,59,60,62,64,70,76,80,81,80,83,90,79,61,53,50,49,53,48,45,39]\n",
    "\n",
    "def temp70(lista):\n",
    "    for i in lista:\n",
    "        if i > 70:\n",
    "            lista.append(i)\n",
    "        return lista.append(i)\n",
    "lista1 = [1,71,3]\n",
    "print(temp70(lista1))\n",
    "\n",
    "\n"
   ]
  }
 ],
 "metadata": {
  "kernelspec": {
   "display_name": "Python 3",
   "language": "python",
   "name": "python3"
  },
  "language_info": {
   "codemirror_mode": {
    "name": "ipython",
    "version": 3
   },
   "file_extension": ".py",
   "mimetype": "text/x-python",
   "name": "python",
   "nbconvert_exporter": "python",
   "pygments_lexer": "ipython3",
   "version": "3.8.3-final"
  }
 },
 "nbformat": 4,
 "nbformat_minor": 2
}