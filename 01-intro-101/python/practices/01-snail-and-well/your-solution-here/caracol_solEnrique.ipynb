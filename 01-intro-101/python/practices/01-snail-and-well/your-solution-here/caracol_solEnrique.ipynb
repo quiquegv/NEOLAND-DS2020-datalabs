{
 "cells": [
  {
   "cell_type": "markdown",
   "metadata": {},
   "source": [
    "# 01 - Caracol y el pozo\n",
    "\n",
    "Un caracol cae en el fondo de un pozo de 125 cm. Cada día el caracol sube 30 cm. pero por la noche, mientras duerme, resbala 20 cm debido a que las paredes son húmedas. ¿Cuantos días tarda en escapar del pozo?\n",
    "\n",
    "TIP: https://www.vix.com/es/btg/curiosidades/59215/acertijos-matematicos-el-caracol-en-el-pozo-facil\n",
    "\n",
    "TIP: http://puzzles.nigelcoldwell.co.uk/sixtytwo.htm"
   ]
  },
  {
   "cell_type": "markdown",
   "metadata": {},
   "source": [
    "## Solución"
   ]
  },
  {
   "cell_type": "code",
   "execution_count": 1,
   "metadata": {},
   "outputs": [],
   "source": [
    "# Asigna los datos del problema a variables con nombres representativos\n",
    "# altura del pozo, avance diario, retroceso nocturno, distancia acumulada\n",
    "\n",
    "\n",
    "# Asigna 0 a la variable que representa la solución\n",
    "\n",
    "\n",
    "# Escribe el código que soluciona el problema\n",
    "\n",
    "\n",
    "# Imprime el resultado con print('Dias =', dias)\n",
    "\n"
   ]
  },
  {
   "cell_type": "markdown",
   "metadata": {},
   "source": [
    "## Objetivos\n",
    "\n",
    "1. Tratamiento de variables\n",
    "2. Uso de bucle **while**\n",
    "3. Uso de condicionales **if-else**\n",
    "4. Imprimir por consola"
   ]
  },
  {
   "cell_type": "code",
   "execution_count": 6,
   "metadata": {
    "tags": []
   },
   "outputs": [
    {
     "output_type": "stream",
     "name": "stdout",
     "text": "Dias = 11\n"
    }
   ],
   "source": [
    "# Definición de variables\n",
    "\n",
    "pozo = 125\n",
    "mov_dia = 30\n",
    "mov_noche = -20\n",
    "dias = 0\n",
    "distac = 0 \n",
    "\n",
    "\n",
    "# quiero qué si distancia acumulada es menor que la distancia del pozo sume mov_dia, compruebe si sigue siendo menor que la distancia del pozo sume entonces la distancia de noche y así entre en bucle hasta\n",
    "\n",
    "while distac <= pozo:\n",
    "    dias += 1\n",
    "    if distac + mov_dia < pozo:\n",
    "        distac = distac + mov_dia\n",
    "        if distac + mov_noche < pozo:\n",
    "            distac = distac + mov_noche\n",
    "        else:\n",
    "             print('Dias =', dias)\n",
    "             break\n",
    "    else:\n",
    "        print('Dias =', dias)\n",
    "        break\n",
    "\n"
   ]
  },
  {
   "cell_type": "markdown",
   "metadata": {},
   "source": [
    "## Bonus\n",
    "La distancia recorrida por el caracol viene ahora definida por una lista. \n",
    "```\n",
    "avance_cm = [30, 21, 33, 77, 44, 45, 23, 45, 12, 34, 55]\n",
    "```\n",
    "¿Cuánto tarda en subir el pozo?\n",
    "¿Cuál es su máximo de desplazamiento en un día? ¿Y su mínimo?\n",
    "¿Cuál es su media de velocidad durante el día?\n",
    "¿Cuál es la desviación típica de su desplazamiento durante el día?"
   ]
  },
  {
   "cell_type": "code",
   "execution_count": 19,
   "metadata": {},
   "outputs": [],
   "source": [
    "# Asigna los datos del problema a variables con nombres representativos\n",
    "# altura del pozo, avance diario, retroceso nocturno, distancia acumulada\n",
    "\n",
    "\n",
    "# Asigna 0 a la variable que representa la solución\n",
    "\n",
    "\n",
    "# Escribe el código que soluciona el problema\n",
    "\n",
    "\n",
    "# Imprime el resultado con print('Dias =', dias)\n",
    "\n",
    "\n",
    "# ¿Cuál es su máximo de desplazamiento en un día? ¿Y su mínimo?\n",
    "\n",
    "\n",
    "# ¿Cuál es su media de avance?\n",
    "\n",
    "\n",
    "# ¿Cuál es la desviación típica de su desplazamiento durante el día?\n",
    "\n"
   ]
  },
  {
   "cell_type": "code",
   "execution_count": 3,
   "metadata": {
    "tags": []
   },
   "outputs": [
    {
     "output_type": "stream",
     "name": "stdout",
     "text": "Dias = 5\n"
    }
   ],
   "source": [
    "# Definición de variables\n",
    "\n",
    "avance_cm = [30, 21, 33, 77, 44, 45, 23, 45, 12, 34, 55]\n",
    "pozo = 125\n",
    "mov_noche = -20 # asumo que por la noche sigue cayendo 20 cm y la lista son solo los desplazamientos de día\n",
    "dias = 0\n",
    "distac = 0 \n",
    "\n",
    "# En este caso \n",
    "\n",
    "while distac <= pozo:\n",
    "    dias += 1\n",
    "    if distac + avance_cm[dias - 1] < pozo:\n",
    "        distac = distac + avance_cm[dias - 1]\n",
    "        if distac + mov_noche < pozo:\n",
    "            distac = distac + mov_noche\n",
    "        else:\n",
    "             print('Dias =', dias)\n",
    "             break\n",
    "    else:\n",
    "        print('Dias =', dias)\n",
    "        break\n",
    "\n",
    "\n",
    "\n",
    "\n",
    "\n",
    "\n"
   ]
  },
  {
   "cell_type": "code",
   "execution_count": 5,
   "metadata": {
    "tags": []
   },
   "outputs": [
    {
     "output_type": "stream",
     "name": "stdout",
     "text": "77\n21\n8.2\n19.44222209522358\n"
    }
   ],
   "source": [
    "import numpy as np\n",
    "\n",
    "# ¿Cuál es su máximo de desplazamiento en un día? ¿Y su mínimo?\n",
    "\n",
    "print(max(avance_cm[0:dias]))\n",
    "print(min(avance_cm[0:dias]))\n",
    "\n",
    "# ¿Cuál es su media de avance?\n",
    "\n",
    "print(np.mean(avance_cm[0:dias])/len(avance_cm[0:dias]))\n",
    "\n",
    "# ¿Cuál es la desviación típica de su desplazamiento durante el día?\n",
    " \n",
    "print(np.std(avance_cm[0:dias]))\n",
    "\n"
   ]
  }
 ],
 "metadata": {
  "kernelspec": {
   "display_name": "Python 3",
   "language": "python",
   "name": "python3"
  },
  "language_info": {
   "codemirror_mode": {
    "name": "ipython",
    "version": 3
   },
   "file_extension": ".py",
   "mimetype": "text/x-python",
   "name": "python",
   "nbconvert_exporter": "python",
   "pygments_lexer": "ipython3",
   "version": "3.8.3-final"
  }
 },
 "nbformat": 4,
 "nbformat_minor": 2
}