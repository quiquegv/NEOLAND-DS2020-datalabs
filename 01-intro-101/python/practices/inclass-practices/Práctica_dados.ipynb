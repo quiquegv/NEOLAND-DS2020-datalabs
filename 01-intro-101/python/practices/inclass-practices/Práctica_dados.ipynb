{
 "cells": [
  {
   "cell_type": "markdown",
   "metadata": {},
   "source": [
    "## MEJORA DEL JUEGO ANTERIOR\n",
    "\n",
    "Recompile el juego de adivinación de números, pero esta vez:\n",
    "\n",
    "- Muestre el número del intento actual.\n",
    "- Si el número propuesto es demasiado bajo, indíquele al usuario \"El número es demasiado bajo, vuelva a intentarlo\".\n",
    "- Si el número propuesto es demasiado alto, indíquele al usuario \"El número es demasiado alto, vuelva a intentarlo\".\n",
    "- Si el usuario escribe un valor no numérico, indíquele al usuario \"Introduzca solo números\".\n",
    "\n",
    "Además, tome nota de la salida. Las solicitudes y los mensajes han cambiado en comparación con el desafío original.\n",
    "\n",
    "Independientemente de cómo lo haga, el código debería producir una salida similar a la siguiente (debido a la respuesta y a las suposiciones generadas aleatoriamente):\n",
    "\n",
    "\n",
    "```output\n",
    "Guess a number between 1 and 10\n",
    "Enter guess #1: 5\n",
    "Your guess is too low, try again!\n",
    "Enter guess #2: 8\n",
    "Your guess is too high, try again!\n",
    "Enter guess #3: 7\n",
    "Your guess is too high, try again!\n",
    "Enter guess #4: 6\n",
    "You guessed it in 4 tries!\n",
    "```\n",
    "\n",
    "Si el usuario escribe un valor que no es numérico, muestre un mensaje de error. En la siguiente salida de ejemplo, el usuario escribe algunas cadenas y se le recuerda que solo debe introducir números.\n",
    "\n",
    "\n",
    "```output\n",
    "Guess a number between 1 and 10\n",
    "Enter guess #1: Bob\n",
    "Numbers only, please!\n",
    "Enter guess #2: Beth\n",
    "Numbers only, please!\n",
    "Enter guess #3: 5\n",
    "You guessed it in 3 tries!\n",
    "```"
   ]
  },
  {
   "cell_type": "code",
   "execution_count": 1,
   "metadata": {},
   "outputs": [
    {
     "name": "stdout",
     "output_type": "stream",
     "text": [
      "Este es tu intento número 1, adivina un numero entre 1 y 10: 2\n",
      "Este número es muy bajo, intentalo de nuevo!\n",
      "Este es tu intento número 2, adivina un numero entre 1 y 10: 7\n",
      "Este número es muy alto, intentalo de nuevo!\n",
      "Este es tu intento número 3, adivina un numero entre 1 y 10: 4\n",
      "Este número es muy bajo, intentalo de nuevo!\n",
      "Este es tu intento número 4, adivina un numero entre 1 y 10: 5\n",
      "Este número es muy bajo, intentalo de nuevo!\n",
      "Este es tu intento número 5, adivina un numero entre 1 y 10: 6\n",
      "Has adivinado en 5 ocasiones!\n"
     ]
    }
   ],
   "source": [
    "##### Importamos las librerias\n",
    "import random\n",
    "\n",
    "# Declaración de variables\n",
    "value = random.randint(1,10)\n",
    "intentos = 0\n",
    "guess = 0\n",
    "\n",
    "# Creamos el iterador\n",
    "\n",
    "while guess != value:\n",
    "    intentos += 1 # incremento\n",
    "    guess = input(\"Este es tu intento número {}, adivina un numero entre 1 y 10: \".format(intentos))\n",
    "    if guess.isdigit():\n",
    "        guess = int(guess)\n",
    "        if guess > value:\n",
    "            print(\"Este número es muy alto, intentalo de nuevo!\")\n",
    "        elif guess < value:\n",
    "            print(\"Este número es muy bajo, intentalo de nuevo!\")\n",
    "    else:\n",
    "        print(\"This is not a number\")\n",
    "else: \n",
    "    print(\"Has adivinado en {} ocasiones!\".format(intentos))"
   ]
  }
 ],
 "metadata": {
  "kernelspec": {
   "display_name": "Python 3",
   "language": "python",
   "name": "python3"
  },
  "language_info": {
   "codemirror_mode": {
    "name": "ipython",
    "version": 3
   },
   "file_extension": ".py",
   "mimetype": "text/x-python",
   "name": "python",
   "nbconvert_exporter": "python",
   "pygments_lexer": "ipython3",
   "version": "3.8.3"
  }
 },
 "nbformat": 4,
 "nbformat_minor": 4
}
