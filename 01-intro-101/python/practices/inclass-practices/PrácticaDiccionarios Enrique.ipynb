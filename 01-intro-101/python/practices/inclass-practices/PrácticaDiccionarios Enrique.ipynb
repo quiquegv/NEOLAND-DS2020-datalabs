{
 "cells": [
  {
   "cell_type": "markdown",
   "metadata": {},
   "source": [
    "# Práctica diccionarios"
   ]
  },
  {
   "cell_type": "code",
   "execution_count": null,
   "metadata": {},
   "outputs": [],
   "source": [
    "# Partimos del listado de molécula: Queremos crear un diccionario a partir de esto. "
   ]
  },
  {
   "cell_type": "code",
   "execution_count": 5,
   "metadata": {},
   "outputs": [],
   "source": [
    "molecula = \"\"\"\n",
    "ATOM    232  N   CYS A  28       3.977   8.402   0.487  1.00 10.53           N\n",
    "ATOM    233  CA  CYS A  28       3.295   9.146   1.517  1.00 10.04           C\n",
    "ATOM    234  C   CYS A  28       4.174  10.264   2.053  1.00 10.31           C\n",
    "ATOM    235  O   CYS A  28       5.378  10.108   2.202  1.00 12.91           O\n",
    "ATOM    236  CB  CYS A  28       2.912   8.210   2.680  1.00  9.81           C\n",
    "ATOM    237  SG  CYS A  28       1.804   6.853   2.197  1.00  9.93           S\n",
    "ATOM    238  N   GLY A  29       3.546  11.391   2.430  1.00 10.76           N\n",
    "ATOM    239  CA  GLY A  29       4.295  12.472   3.049  1.00 11.93           C\n",
    "ATOM    240  C   GLY A  29       3.416  13.524   3.596  1.00 12.60           C\n",
    "ATOM    241  O   GLY A  29       3.985  14.574   4.052  1.00 15.82           O\n",
    "ATOM    242  OXT GLY A  29       2.168  13.386   3.672  1.00 11.37           O\n",
    "\"\"\""
   ]
  },
  {
   "cell_type": "code",
   "execution_count": 7,
   "metadata": {},
   "outputs": [],
   "source": [
    "import os\n",
    "lines = molecula.splitlines()"
   ]
  },
  {
   "cell_type": "code",
   "execution_count": 9,
   "metadata": {
    "scrolled": true
   },
   "outputs": [
    {
     "name": "stdout",
     "output_type": "stream",
     "text": [
      "['ATOM    232  N   CYS A  28       3.977   8.402   0.487  1.00 10.53           N', 'ATOM    233  CA  CYS A  28       3.295   9.146   1.517  1.00 10.04           C', 'ATOM    234  C   CYS A  28       4.174  10.264   2.053  1.00 10.31           C', 'ATOM    235  O   CYS A  28       5.378  10.108   2.202  1.00 12.91           O', 'ATOM    236  CB  CYS A  28       2.912   8.210   2.680  1.00  9.81           C', 'ATOM    237  SG  CYS A  28       1.804   6.853   2.197  1.00  9.93           S', 'ATOM    238  N   GLY A  29       3.546  11.391   2.430  1.00 10.76           N', 'ATOM    239  CA  GLY A  29       4.295  12.472   3.049  1.00 11.93           C', 'ATOM    240  C   GLY A  29       3.416  13.524   3.596  1.00 12.60           C', 'ATOM    241  O   GLY A  29       3.985  14.574   4.052  1.00 15.82           O', 'ATOM    242  OXT GLY A  29       2.168  13.386   3.672  1.00 11.37           O']\n"
     ]
    }
   ],
   "source": [
    "lines_atom = [] \n",
    "for line in lines:\n",
    "    if line.startswith('ATOM'): \n",
    "        lines_atom.append(line) \n",
    "print(lines_atom)"
   ]
  },
  {
   "cell_type": "code",
   "execution_count": 10,
   "metadata": {},
   "outputs": [
    {
     "data": {
      "text/plain": [
       "['ATOM    232  N   CYS A  28       3.977   8.402   0.487  1.00 10.53           N',\n",
       " 'ATOM    233  CA  CYS A  28       3.295   9.146   1.517  1.00 10.04           C',\n",
       " 'ATOM    234  C   CYS A  28       4.174  10.264   2.053  1.00 10.31           C',\n",
       " 'ATOM    235  O   CYS A  28       5.378  10.108   2.202  1.00 12.91           O',\n",
       " 'ATOM    236  CB  CYS A  28       2.912   8.210   2.680  1.00  9.81           C',\n",
       " 'ATOM    237  SG  CYS A  28       1.804   6.853   2.197  1.00  9.93           S',\n",
       " 'ATOM    238  N   GLY A  29       3.546  11.391   2.430  1.00 10.76           N',\n",
       " 'ATOM    239  CA  GLY A  29       4.295  12.472   3.049  1.00 11.93           C',\n",
       " 'ATOM    240  C   GLY A  29       3.416  13.524   3.596  1.00 12.60           C',\n",
       " 'ATOM    241  O   GLY A  29       3.985  14.574   4.052  1.00 15.82           O',\n",
       " 'ATOM    242  OXT GLY A  29       2.168  13.386   3.672  1.00 11.37           O']"
      ]
     },
     "execution_count": 10,
     "metadata": {},
     "output_type": "execute_result"
    }
   ],
   "source": [
    "lines_atom"
   ]
  },
  {
   "cell_type": "code",
   "execution_count": 20,
   "metadata": {},
   "outputs": [],
   "source": [
    "# Creamos un dict vacio\n",
    "\n",
    "dic_tipo = {}\n",
    "for line in lines_atom:\n",
    "    tipo = line[-1]\n",
    "    # Una vez tenemos el tipo guardado, queremos ver si existe ya en el diccionario\n",
    "    # Si no existe, crearemos la clave que contendrá una lista en la que añadiremos\n",
    "    if not dic_tipo.get(tipo):\n",
    "        dic_tipo[tipo] = [line]\n",
    "    else:\n",
    "        # si ya existe añadimos a la lista una frase:\n",
    "        dic_tipo[tipo].append(line)"
   ]
  },
  {
   "cell_type": "code",
   "execution_count": 21,
   "metadata": {
    "scrolled": true
   },
   "outputs": [
    {
     "data": {
      "text/plain": [
       "{'N': ['ATOM    232  N   CYS A  28       3.977   8.402   0.487  1.00 10.53           N',\n",
       "  'ATOM    238  N   GLY A  29       3.546  11.391   2.430  1.00 10.76           N'],\n",
       " 'C': ['ATOM    233  CA  CYS A  28       3.295   9.146   1.517  1.00 10.04           C',\n",
       "  'ATOM    234  C   CYS A  28       4.174  10.264   2.053  1.00 10.31           C',\n",
       "  'ATOM    236  CB  CYS A  28       2.912   8.210   2.680  1.00  9.81           C',\n",
       "  'ATOM    239  CA  GLY A  29       4.295  12.472   3.049  1.00 11.93           C',\n",
       "  'ATOM    240  C   GLY A  29       3.416  13.524   3.596  1.00 12.60           C'],\n",
       " 'O': ['ATOM    235  O   CYS A  28       5.378  10.108   2.202  1.00 12.91           O',\n",
       "  'ATOM    241  O   GLY A  29       3.985  14.574   4.052  1.00 15.82           O',\n",
       "  'ATOM    242  OXT GLY A  29       2.168  13.386   3.672  1.00 11.37           O'],\n",
       " 'S': ['ATOM    237  SG  CYS A  28       1.804   6.853   2.197  1.00  9.93           S']}"
      ]
     },
     "execution_count": 21,
     "metadata": {},
     "output_type": "execute_result"
    }
   ],
   "source": [
    "dic_tipo"
   ]
  }
 ],
 "metadata": {
  "kernelspec": {
   "display_name": "Python 3",
   "language": "python",
   "name": "python3"
  },
  "language_info": {
   "codemirror_mode": {
    "name": "ipython",
    "version": 3
   },
   "file_extension": ".py",
   "mimetype": "text/x-python",
   "name": "python",
   "nbconvert_exporter": "python",
   "pygments_lexer": "ipython3",
   "version": "3.8.3"
  }
 },
 "nbformat": 4,
 "nbformat_minor": 4
}
