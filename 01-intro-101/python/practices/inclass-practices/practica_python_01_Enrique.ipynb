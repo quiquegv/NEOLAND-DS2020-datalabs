{
 "cells": [
  {
   "cell_type": "markdown",
   "metadata": {},
   "source": [
    "## Desafío 1\n",
    "Hacer un programa que nos pida los siguiente: \n",
    "\n",
    "- La fecha actual en cualquier formato\n",
    "- Calorías ingeridas en el desayuno\n",
    "- Calorías ingeridas en la comida\n",
    "- Calorías ingeridas en la cena\n",
    "- Calorías ingeridas en tentempiés\n",
    "\n",
    "Después, el programa sumará todas las calorías y les dará formato de mensaje. "
   ]
  },
  {
   "cell_type": "code",
   "execution_count": null,
   "metadata": {},
   "outputs": [],
   "source": [
    "# El objetivo es generar las variables y almacenarlas para que posteriormente las sume. \n",
    "# Primero hay que sacar la fecha\n",
    "# fecha = input(\"Hola...,introduces la fecha de hoy \")"
   ]
  },
  {
   "cell_type": "code",
   "execution_count": null,
   "metadata": {},
   "outputs": [],
   "source": [
    "# type(fecha)"
   ]
  },
  {
   "cell_type": "markdown",
   "metadata": {},
   "source": [
    "Creamos las variables del contador\n",
    "\n",
    "date = input()\n",
    "\n",
    "breakfast = input()\n",
    "\n",
    "lunch = input()\n",
    "\n",
    "dinner = input ()\n",
    "\n",
    "snack = input ()\n",
    "\n",
    "Si lo hacemos así, nos pedirá las variables pero no almacenará los valores. Es importante\n",
    "añadir delante int para que haba una variable. "
   ]
  },
  {
   "cell_type": "code",
   "execution_count": null,
   "metadata": {
    "tags": []
   },
   "outputs": [],
   "source": [
    "\n",
    "\n",
    "print(\"¿qué dia es hoy?\")\n",
    "date = input()\n",
    "print(\"Calorias desayuno\")\n",
    "breakfast = int(input())\n",
    "print(\"Calorias comida\")\n",
    "lunch = int(input())\n",
    "print(\"Caloria cena\")\n",
    "dinner = int(input())\n",
    "print(\"caloria snack\")\n",
    "snack = int(input())"
   ]
  },
  {
   "cell_type": "code",
   "execution_count": null,
   "metadata": {},
   "outputs": [],
   "source": [
    "totalCal = breakfast + lunch + dinner + snack"
   ]
  },
  {
   "cell_type": "code",
   "execution_count": null,
   "metadata": {
    "tags": []
   },
   "outputs": [],
   "source": [
    "print(\"Calorias Totales del día: \" + date + \" son: \" + str(totalCal))"
   ]
  },
  {
   "cell_type": "markdown",
   "metadata": {},
   "source": [
    "*** "
   ]
  },
  {
   "cell_type": "markdown",
   "metadata": {},
   "source": [
    "## Paso 2: Escribir código en el archivo nuevo para resolver el desafío\n",
    "\n",
    "Escriba un programa corto que imprima un mensaje entre varios usuarios en función de su entrada. \n",
    "\n",
    "En primer lugar, pregunte al usuario si quiere continuar o no. \n",
    "\n",
    "Si el usuario responde `no` o `n`, imprima la frase `Existing`.\n",
    "\n",
    "Obtenga la salida siguiente en este escenario de `no`. El usuario ha especificado `no` cuando se le solicitó.\n",
    "\n",
    "```\n",
    "output\n",
    "Would you like to continue? no\n",
    "Exiting\n",
    "```\n",
    "\n",
    "Si el usuario responde con `yes` `y`, imprima la frase `Continuing...` y `Complete!`. \n",
    "\n",
    "Obtenga la salida siguiente en este escenario de `yes`. El usuario ha especificado `yes`cuando se le solicitó-\n",
    "\n",
    "Resultados Copiar\n",
    "\n",
    "```\n",
    "output\n",
    "Would you like to continue? yes\n",
    "Continuing...\n",
    "Complete!\n",
    "```"
   ]
  },
  {
   "cell_type": "code",
   "execution_count": null,
   "metadata": {},
   "outputs": [],
   "source": [
    "respuesta = input(\"Would you like to continue? \")"
   ]
  },
  {
   "cell_type": "code",
   "execution_count": null,
   "metadata": {},
   "outputs": [],
   "source": [
    "if respuesta == 'yes' or respuesta == 'y':\n",
    "    print(\"Continuing...\")\n",
    "    print(\"Complete!\")\n",
    "elif respuesta == 'not' or respuesta == 'n':\n",
    "    print(\"Exiting\")\n",
    "else:\n",
    "    print(\"Intenta contestar nuevamente yes or not\")"
   ]
  },
  {
   "cell_type": "markdown",
   "metadata": {},
   "source": [
    "Ideas para mejorar el código: \n",
    "\n",
    "- Reducir el número de líneas. \n",
    "- Añadir forma de que le de igual que se introduzcan los datos en mayúsculas o minúsculas. \n"
   ]
  },
  {
   "cell_type": "markdown",
   "metadata": {},
   "source": [
    "\n",
    "***\n"
   ]
  },
  {
   "cell_type": "markdown",
   "metadata": {},
   "source": [
    "Escribir un pro que convierta la temperatura de Fahrenheit a Celsius\n",
    "\n",
    "En este código se muestra la fórmula matetmática para convertir una temperatura medida en grados Fahrenheit a una temperatura medida en grados celsius: \n",
    "\n",
    "# Completar el resto de texto: Marcus lo ha guardado en el respositorio 01-intro/python/labs"
   ]
  },
  {
   "cell_type": "code",
   "execution_count": null,
   "metadata": {},
   "outputs": [],
   "source": [
    "respuesta = input(\"What is the temperature in fahrenheit? \")"
   ]
  },
  {
   "cell_type": "code",
   "execution_count": null,
   "metadata": {},
   "outputs": [],
   "source": [
    "respuesta = input(\"What is the temperature in fahrenheit? \")\n",
    "try:\n",
    "    entero = int(respuesta)\n",
    "    celsius = (int(respuesta) - 32)*5/9\n",
    "    print(\"Temperatura in celsius is \" + str(celsius))\n",
    "except ValueError:                              \n",
    "    print(\"No es un formato correcto\")\n"
   ]
  },
  {
   "cell_type": "markdown",
   "metadata": {},
   "source": [
    "Pasos 1: pedir temperatura fahrenheit\n",
    "\n",
    "2: comprobar si es número. Si no lo es, que lo muestre. \n",
    "\n",
    "3: si es número que devuelva la temperatura en Celsius. "
   ]
  },
  {
   "cell_type": "code",
   "execution_count": null,
   "metadata": {},
   "outputs": [],
   "source": [
    "def conversor_celsius():\n",
    "    respuesta = input(\"What is the temperature in fahrenheit? \")\n",
    "    if type(respuesta) is str:\n",
    "        respuesta = (int(respuesta) - 32)*5/9\n",
    "        print(\"Temperatura in celsius is \" + str(respuesta))\n",
    "    else:\n",
    "        print(\"No es un formato correcto\")"
   ]
  },
  {
   "cell_type": "code",
   "execution_count": null,
   "metadata": {},
   "outputs": [],
   "source": [
    "conversor_celsius()"
   ]
  },
  {
   "cell_type": "code",
   "execution_count": null,
   "metadata": {},
   "outputs": [],
   "source": [
    "# Respuesta Marco\n",
    "fahrenheit = input(\"Cual es la temperatura FAH de: \")\n",
    "\n",
    "if fahrenheit.isnumeric() == False:\n",
    "    print(\"Input is nor a numeric\")\n",
    "    exit()\n",
    "\n",
    "fahrenheit = int(fahrenheit)\n",
    "\n",
    "celsius = int(fahrenheit -32)*5/9\n",
    "print(\"La temperatura en celsius es: \" + str(celsius))"
   ]
  },
  {
   "cell_type": "markdown",
   "metadata": {},
   "source": [
    "\n",
    "***\n"
   ]
  },
  {
   "cell_type": "markdown",
   "metadata": {},
   "source": [
    "## Practica: Generar una Calculadora - Sin funciones\n",
    "\n",
    "Operaciones matemáticas permitidas: \n",
    "- Suma\n",
    "- Resta\n",
    "- Multiplicación\n",
    "- Cociente\n",
    "- Exponente\n",
    "- Módulo"
   ]
  },
  {
   "cell_type": "code",
   "execution_count": null,
   "metadata": {},
   "outputs": [],
   "source": [
    "a = input(\"Introduce un número \")\n",
    "if a.isdigit() == True:\n",
    "    a=int(a)\n",
    "else:\n",
    "    print(\"Introduzca un número\")\n",
    "\n",
    "b = input(\"Introduzca una operación \")\n",
    "c = input(\"Introduce un número \")\n",
    "\n",
    "if c.isdigit() == True:\n",
    "    c=int(c)\n",
    "else:\n",
    "    print(\"Introduzca un número\")\n",
    "\n",
    "if b == '+':\n",
    "    suma = a + c\n",
    "    print(\"el resultado de \" + str(a) +\" \"+ str(b) +\" \" + str(c) + \" es igual a \" + str(suma))\n",
    "elif b == '-':\n",
    "    resta = a - c\n",
    "    print(\"el resultado de \" + str(a) +\" \"+ str(b) +\" \" + str(c) + \" es igual a \" + str(resta))\n",
    "elif b == '/':\n",
    "    if c != 0:\n",
    "        division = a / c\n",
    "        print(\"el resultado de \" + str(a) +\" \"+ str(b) +\" \" + str(c) + \" es igual a \" + str(division))\n",
    "    else:\n",
    "        print(\"Error, no se puede dividir por \" + str(c))\n",
    "elif b == '*':\n",
    "    multiplicacion = a * c\n",
    "    print(\"el resultado de \" + str(a) +\" \"+ str(b) +\" \" + str(c) + \" es igual a \" + str(multiplicacion))\n",
    "elif b == '^':\n",
    "    exponente = a ^ c\n",
    "    print(\"el resultado de \" + str(a) +\" \"+ str(b) +\" \" + str(c) + \" es igual a \" + str(exponente))\n",
    "elif b == '%':\n",
    "    modulo = a % c\n",
    "    print(\"el resultado de \" + str(a) +\" \"+ str(b) +\" \" + str(c) + \" es igual a \" + str(modulo))\n",
    "\n",
    "\n",
    "    "
   ]
  },
  {
   "cell_type": "code",
   "execution_count": null,
   "metadata": {},
   "outputs": [],
   "source": [
    "a = input(\"Introduce un número \")\n",
    "b = input(\"Introduce otro número \")\n",
    "if a.isnumeric == False or b.isnumeric == False:\n",
    "    print(\"Los datos introducidos no son correctos\")\n",
    "    exit()\n",
    "\n"
   ]
  },
  {
   "cell_type": "markdown",
   "metadata": {},
   "source": [
    "\n",
    "***\n"
   ]
  },
  {
   "cell_type": "markdown",
   "metadata": {},
   "source": [
    "## Iterators"
   ]
  },
  {
   "cell_type": "code",
   "execution_count": null,
   "metadata": {},
   "outputs": [],
   "source": [
    "# While... - break, continue, else (While va seguido normalmente \n",
    "# de alguna de estas palabras, para salir del bucle, seguir o añadir otra ruta)\n",
    "\n",
    "# For..."
   ]
  },
  {
   "cell_type": "code",
   "execution_count": 2,
   "metadata": {},
   "outputs": [
    {
     "name": "stdout",
     "output_type": "stream",
     "text": [
      "[5, 10, 15, 20, 25, 30, 35, 40, 45, 50, 55, 60, 65, 70, 75, 80, 85, 90, 95, 100, 105, 110, 115, 120, 125, 130, 135, 140, 145, 150, 155, 160, 165, 170, 175, 180, 185, 190, 195, 200, 205, 210, 215, 220, 225, 230, 235, 240, 245, 250, 255, 260, 265, 270, 275, 280, 285, 290, 295, 300, 305, 310, 315, 320, 325, 330, 335, 340, 345, 350, 355, 360, 365, 370, 375, 380, 385, 390, 395, 400, 405, 410, 415, 420, 425, 430, 435, 440, 445, 450, 455, 460, 465, 470, 475, 480, 485, 490, 495, 500, 505, 510, 515, 520, 525, 530, 535, 540, 545, 550, 555, 560, 565, 570, 575, 580, 585, 590, 595, 600, 605, 610, 615, 620, 625, 630, 635, 640, 645, 650, 655, 660, 665, 670, 675, 680, 685, 690, 695, 700, 705, 710, 715, 720, 725, 730, 735, 740, 745, 750, 755, 760, 765, 770, 775, 780, 785, 790, 795, 800, 805, 810, 815, 820, 825, 830, 835, 840, 845, 850, 855, 860, 865, 870, 875, 880, 885, 890, 895, 900, 905, 910, 915, 920, 925, 930, 935, 940, 945, 950, 955, 960, 965, 970, 975, 980, 985, 990, 995]\n"
     ]
    }
   ],
   "source": [
    "# ejemplo datos...\n",
    "\n",
    "import random\n",
    "\n",
    "# random.seed() -- la extension seed nos deja generar una lista arelatoria de datos\n",
    "# si es entre parentesis es una tupla, lista inmutable. Si es con [] es una list anormal. \n",
    "\n",
    "# range es una funcion que genera una lista, le podemos decir desde donde empieza (star), donde acaba (stop)\n",
    "# y los pasos hasta llegar (step)\n",
    "\n",
    "names = [] #es la variable global porque se encuentra fuera de la función, bucle o del iterator. \n",
    "for name in range(5,1000,5):\n",
    "    names.append(name)\n",
    "print(names)\n",
    "\n"
   ]
  },
  {
   "cell_type": "code",
   "execution_count": 3,
   "metadata": {},
   "outputs": [
    {
     "name": "stdout",
     "output_type": "stream",
     "text": [
      "[80, 855, 980, 220, 685]\n"
     ]
    }
   ],
   "source": [
    "names = [] #es la variable global porque se encuentra fuera de la función, bucle o del iterator. \n",
    "for name in range(5,1000,5):\n",
    "    names.append(name)\n",
    "print(random.choices(names,k=5)) # Con choices podemos elegir de una lista los numeros que queramos de forma aleatoria. \n",
    "\n",
    " \n"
   ]
  },
  {
   "cell_type": "code",
   "execution_count": 11,
   "metadata": {},
   "outputs": [
    {
     "name": "stdout",
     "output_type": "stream",
     "text": [
      "[56, 3, 34, 1, 11]\n"
     ]
    }
   ],
   "source": [
    "random.seed(666) # Con seed lo que va a hacer que salgan siempre los mismo números, los numeros en parentesis determinan\n",
    "# los numeros que nos mostrará. Son las denominadas semillas. \n",
    "name = []\n",
    "for name in range(100):\n",
    "    names.append(name)\n",
    "print(random.choices(names,k=5))\n",
    "\n"
   ]
  },
  {
   "cell_type": "markdown",
   "metadata": {},
   "source": [
    "\n",
    "***\n"
   ]
  },
  {
   "cell_type": "markdown",
   "metadata": {},
   "source": [
    "### Jugamos a los dados\n",
    "\n",
    "````\n",
    "Guess a number between 1 and 5: 4\n",
    "Guess a number between 1 and 5: 4\n",
    "````\n",
    "\n",
    "El objetivo es acertar un número tirando unos dados. "
   ]
  },
  {
   "cell_type": "code",
   "execution_count": null,
   "metadata": {},
   "outputs": [],
   "source": []
  },
  {
   "cell_type": "code",
   "execution_count": null,
   "metadata": {},
   "outputs": [],
   "source": [
    "##### Importamos las librerias\n",
    "import random\n",
    "\n",
    "# Declaración de variables\n",
    "value = random.randint(1,6)\n",
    "count = 0\n",
    "guess = 0\n",
    "\n",
    "# Creamos el iterador\n",
    "\n",
    "while guess != value:\n",
    "    count += 1 # incremento\n",
    "    guess = input(\"Adivina un numero entre 1 y 6: \")\n",
    "    if guess.isnumeric():\n",
    "        guess = int()\n",
    "else: \n",
    "    print(\"Has adivinado en {count} ocasiones!\".format(count)) #.format hace que introduzcamos dentro de un str el valor\n",
    "    # imporante, dentro del str tiene que estar en corchetes {}\n",
    "\n"
   ]
  },
  {
   "cell_type": "markdown",
   "metadata": {},
   "source": [
    "### Mejora del juego del dado: "
   ]
  },
  {
   "cell_type": "markdown",
   "metadata": {},
   "source": [
    "## MEJORA DEL JUEGO ANTERIOR\n",
    "\n",
    "Recompile el juego de adivinación de números, pero esta vez:\n",
    "\n",
    "- Muestre el número del intento actual.\n",
    "- Si el número propuesto es demasiado bajo, indíquele al usuario \"El número es demasiado bajo, vuelva a intentarlo\".\n",
    "- Si el número propuesto es demasiado alto, indíquele al usuario \"El número es demasiado alto, vuelva a intentarlo\".\n",
    "- Si el usuario escribe un valor no numérico, indíquele al usuario \"Introduzca solo números\".\n",
    "\n",
    "Además, tome nota de la salida. Las solicitudes y los mensajes han cambiado en comparación con el desafío original.\n",
    "\n",
    "Independientemente de cómo lo haga, el código debería producir una salida similar a la siguiente (debido a la respuesta y a las suposiciones generadas aleatoriamente):\n",
    "\n",
    "\n",
    "```output\n",
    "Guess a number between 1 and 10\n",
    "Enter guess #1: 5\n",
    "Your guess is too low, try again!\n",
    "Enter guess #2: 8\n",
    "Your guess is too high, try again!\n",
    "Enter guess #3: 7\n",
    "Your guess is too high, try again!\n",
    "Enter guess #4: 6\n",
    "You guessed it in 4 tries!\n",
    "```\n",
    "\n",
    "Si el usuario escribe un valor que no es numérico, muestre un mensaje de error. En la siguiente salida de ejemplo, el usuario escribe algunas cadenas y se le recuerda que solo debe introducir números.\n",
    "\n",
    "\n",
    "```output\n",
    "Guess a number between 1 and 10\n",
    "Enter guess #1: Bob\n",
    "Numbers only, please!\n",
    "Enter guess #2: Beth\n",
    "Numbers only, please!\n",
    "Enter guess #3: 5\n",
    "You guessed it in 3 tries!\n",
    "```"
   ]
  },
  {
   "cell_type": "code",
   "execution_count": 3,
   "metadata": {},
   "outputs": [
    {
     "name": "stdout",
     "output_type": "stream",
     "text": [
      "Adivina un numero entre 1 y 10: 5\n",
      "Your guess is too high, try again!\n",
      "Adivina un numero entre 1 y 10: 3\n",
      "Your guess is too low, try again!\n",
      "Adivina un numero entre 1 y 10: 4\n",
      "Has adivinado en 3 ocasiones!\n"
     ]
    }
   ],
   "source": [
    "##### Importamos las librerias\n",
    "import random\n",
    "\n",
    "# Declaración de variables\n",
    "value = random.randint(1,10)\n",
    "intentos = 0\n",
    "guess = 0\n",
    "\n",
    "# Creamos el iterador\n",
    "\n",
    "while guess != value:\n",
    "    intentos += 1 # incremento\n",
    "    guess = input(\"Adivina un numero entre 1 y 10: \")\n",
    "    if guess.isdigit():\n",
    "        guess = int(guess)\n",
    "        if guess > value:\n",
    "            print(\"Your guess is too high, try again!\")\n",
    "        elif guess < value:\n",
    "            print(\"Your guess is too low, try again!\")\n",
    "    else:\n",
    "        print(\"This is not a number\")\n",
    "else: \n",
    "    print(\"Has adivinado en {} ocasiones!\".format(intentos))\n"
   ]
  },
  {
   "cell_type": "markdown",
   "metadata": {},
   "source": [
    "\n",
    "****\n"
   ]
  },
  {
   "cell_type": "markdown",
   "metadata": {},
   "source": [
    "### Interactuar con bucles"
   ]
  },
  {
   "cell_type": "code",
   "execution_count": 43,
   "metadata": {},
   "outputs": [],
   "source": [
    "molecula = \"\"\"\n",
    "ATOM    232  N   CYS A  28       3.977   8.402   0.487  1.00 10.53           N\n",
    "ATOM    233  CA  CYS A  28       3.295   9.146   1.517  1.00 10.04           C\n",
    "ATOM    234  C   CYS A  28       4.174  10.264   2.053  1.00 10.31           C\n",
    "ATOM    235  O   CYS A  28       5.378  10.108   2.202  1.00 12.91           O\n",
    "ATOM    236  CB  CYS A  28       2.912   8.210   2.680  1.00  9.81           C\n",
    "ATOM    237  SG  CYS A  28       1.804   6.853   2.197  1.00  9.93           S\n",
    "ATOM    238  N   GLY A  29       3.546  11.391   2.430  1.00 10.76           N\n",
    "ATOM    239  CA  GLY A  29       4.295  12.472   3.049  1.00 11.93           C\n",
    "ATOM    240  C   GLY A  29       3.416  13.524   3.596  1.00 12.60           C\n",
    "ATOM    241  O   GLY A  29       3.985  14.574   4.052  1.00 15.82           O\n",
    "ATOM    242  OXT GLY A  29       2.168  13.386   3.672  1.00 11.37           O\n",
    "\"\"\""
   ]
  },
  {
   "cell_type": "code",
   "execution_count": 44,
   "metadata": {},
   "outputs": [
    {
     "data": {
      "text/plain": [
       "str"
      ]
     },
     "execution_count": 44,
     "metadata": {},
     "output_type": "execute_result"
    }
   ],
   "source": [
    "type(molecula)"
   ]
  },
  {
   "cell_type": "code",
   "execution_count": 45,
   "metadata": {},
   "outputs": [],
   "source": [
    "# Podemos importar funciones o programas que nos permiten trabajar con str muy grandes y poder leerlos. \n",
    "import os\n",
    "lines = molecula.splitlines()\n",
    "# Alternativa: lines = molecula.split(os.linesep) "
   ]
  },
  {
   "cell_type": "code",
   "execution_count": 46,
   "metadata": {
    "scrolled": true
   },
   "outputs": [
    {
     "data": {
      "text/plain": [
       "['',\n",
       " 'ATOM    232  N   CYS A  28       3.977   8.402   0.487  1.00 10.53           N',\n",
       " 'ATOM    233  CA  CYS A  28       3.295   9.146   1.517  1.00 10.04           C',\n",
       " 'ATOM    234  C   CYS A  28       4.174  10.264   2.053  1.00 10.31           C',\n",
       " 'ATOM    235  O   CYS A  28       5.378  10.108   2.202  1.00 12.91           O',\n",
       " 'ATOM    236  CB  CYS A  28       2.912   8.210   2.680  1.00  9.81           C',\n",
       " 'ATOM    237  SG  CYS A  28       1.804   6.853   2.197  1.00  9.93           S',\n",
       " 'ATOM    238  N   GLY A  29       3.546  11.391   2.430  1.00 10.76           N',\n",
       " 'ATOM    239  CA  GLY A  29       4.295  12.472   3.049  1.00 11.93           C',\n",
       " 'ATOM    240  C   GLY A  29       3.416  13.524   3.596  1.00 12.60           C',\n",
       " 'ATOM    241  O   GLY A  29       3.985  14.574   4.052  1.00 15.82           O',\n",
       " 'ATOM    242  OXT GLY A  29       2.168  13.386   3.672  1.00 11.37           O']"
      ]
     },
     "execution_count": 46,
     "metadata": {},
     "output_type": "execute_result"
    }
   ],
   "source": [
    "lines"
   ]
  },
  {
   "cell_type": "code",
   "execution_count": 47,
   "metadata": {},
   "outputs": [
    {
     "data": {
      "text/plain": [
       "list"
      ]
     },
     "execution_count": 47,
     "metadata": {},
     "output_type": "execute_result"
    }
   ],
   "source": [
    "type(lines)"
   ]
  },
  {
   "cell_type": "code",
   "execution_count": 48,
   "metadata": {},
   "outputs": [
    {
     "data": {
      "text/plain": [
       "12"
      ]
     },
     "execution_count": 48,
     "metadata": {},
     "output_type": "execute_result"
    }
   ],
   "source": [
    "len(lines)"
   ]
  },
  {
   "cell_type": "code",
   "execution_count": 49,
   "metadata": {},
   "outputs": [],
   "source": [
    "# Vamos a entender el funcionamiento de SPLIT\n",
    "frase1 = \"Frase1. La segunda frase. Tercera frase.\"\n",
    "frase2 = \"Una frase. Dos frases. Tercera frase mas larga. Cuarta frase.\""
   ]
  },
  {
   "cell_type": "code",
   "execution_count": 50,
   "metadata": {},
   "outputs": [
    {
     "data": {
      "text/plain": [
       "['Una frase', ' Dos frases', ' Tercera frase mas larga', ' Cuarta frase', '']"
      ]
     },
     "execution_count": 50,
     "metadata": {},
     "output_type": "execute_result"
    }
   ],
   "source": [
    "frase1.split(\".\")\n",
    "frase2.split(\".\")"
   ]
  },
  {
   "cell_type": "code",
   "execution_count": 51,
   "metadata": {},
   "outputs": [
    {
     "name": "stdout",
     "output_type": "stream",
     "text": [
      "['ATOM    232  N   CYS A  28       3.977   8.402   0.487  1.00 10.53           N', 'ATOM    233  CA  CYS A  28       3.295   9.146   1.517  1.00 10.04           C', 'ATOM    234  C   CYS A  28       4.174  10.264   2.053  1.00 10.31           C', 'ATOM    235  O   CYS A  28       5.378  10.108   2.202  1.00 12.91           O', 'ATOM    236  CB  CYS A  28       2.912   8.210   2.680  1.00  9.81           C', 'ATOM    237  SG  CYS A  28       1.804   6.853   2.197  1.00  9.93           S', 'ATOM    238  N   GLY A  29       3.546  11.391   2.430  1.00 10.76           N', 'ATOM    239  CA  GLY A  29       4.295  12.472   3.049  1.00 11.93           C', 'ATOM    240  C   GLY A  29       3.416  13.524   3.596  1.00 12.60           C', 'ATOM    241  O   GLY A  29       3.985  14.574   4.052  1.00 15.82           O', 'ATOM    242  OXT GLY A  29       2.168  13.386   3.672  1.00 11.37           O']\n"
     ]
    }
   ],
   "source": [
    "# Usando for, podemos acceder a la lista y que nos muestre las condiciones que queramos.\n",
    "lines_atom = [] # creamos una lista vacia para que cree una lista nueva con esas condiciones\n",
    "for line in lines:\n",
    "    if line.startswith('ATOM'): # queremos que selecciones las lines que empiezan con ATOM\n",
    "        lines_atom.append(line) #así añadimos a la nueva lista. \n",
    "print(lines_atom)\n"
   ]
  },
  {
   "cell_type": "code",
   "execution_count": 52,
   "metadata": {},
   "outputs": [
    {
     "data": {
      "text/plain": [
       "['ATOM    232  N   CYS A  28       3.977   8.402   0.487  1.00 10.53           N',\n",
       " 'ATOM    233  CA  CYS A  28       3.295   9.146   1.517  1.00 10.04           C',\n",
       " 'ATOM    234  C   CYS A  28       4.174  10.264   2.053  1.00 10.31           C',\n",
       " 'ATOM    235  O   CYS A  28       5.378  10.108   2.202  1.00 12.91           O',\n",
       " 'ATOM    236  CB  CYS A  28       2.912   8.210   2.680  1.00  9.81           C',\n",
       " 'ATOM    237  SG  CYS A  28       1.804   6.853   2.197  1.00  9.93           S',\n",
       " 'ATOM    238  N   GLY A  29       3.546  11.391   2.430  1.00 10.76           N',\n",
       " 'ATOM    239  CA  GLY A  29       4.295  12.472   3.049  1.00 11.93           C',\n",
       " 'ATOM    240  C   GLY A  29       3.416  13.524   3.596  1.00 12.60           C',\n",
       " 'ATOM    241  O   GLY A  29       3.985  14.574   4.052  1.00 15.82           O',\n",
       " 'ATOM    242  OXT GLY A  29       2.168  13.386   3.672  1.00 11.37           O']"
      ]
     },
     "execution_count": 52,
     "metadata": {},
     "output_type": "execute_result"
    }
   ],
   "source": [
    "lines_atom"
   ]
  },
  {
   "cell_type": "code",
   "execution_count": 48,
   "metadata": {},
   "outputs": [
    {
     "name": "stdout",
     "output_type": "stream",
     "text": [
      "['ATOM    235  O   CYS A  28       5.378  10.108   2.202  1.00 12.91           O', 'ATOM    241  O   GLY A  29       3.985  14.574   4.052  1.00 15.82           O', 'ATOM    242  OXT GLY A  29       2.168  13.386   3.672  1.00 11.37           O']\n"
     ]
    }
   ],
   "source": [
    "# Usando for, podemos acceder a la lista y que nos muestre las condiciones que queramos.\n",
    "lines_atom = [] # creamos una lista vacia para que cree una lista nueva con esas condiciones\n",
    "for line in lines:\n",
    "    if line.endswith('O'): # queremos que selecciones las lines que empiezan con ATOM\n",
    "        lines_atom.append(line) #así añadimos a la nueva lista. \n",
    "print(lines_atom)"
   ]
  },
  {
   "cell_type": "code",
   "execution_count": 50,
   "metadata": {},
   "outputs": [
    {
     "data": {
      "text/plain": [
       "['ATOM    235  O   CYS A  28       5.378  10.108   2.202  1.00 12.91           O',\n",
       " 'ATOM    241  O   GLY A  29       3.985  14.574   4.052  1.00 15.82           O',\n",
       " 'ATOM    242  OXT GLY A  29       2.168  13.386   3.672  1.00 11.37           O']"
      ]
     },
     "execution_count": 50,
     "metadata": {},
     "output_type": "execute_result"
    }
   ],
   "source": [
    "lines_atom"
   ]
  },
  {
   "cell_type": "code",
   "execution_count": 59,
   "metadata": {},
   "outputs": [],
   "source": [
    "# podemos definir funciones para que ejecuten diferentes operaciones. \n",
    "# En este caso para que nos de la cantidad de saltos de línea, que se representa con \\n\n",
    "\n",
    "def cuenta_frase(string):\n",
    "    num_frases = string.count(\"\\n\")\n",
    "    return num_frases"
   ]
  },
  {
   "cell_type": "code",
   "execution_count": 7,
   "metadata": {},
   "outputs": [
    {
     "ename": "NameError",
     "evalue": "name 'cuenta_frase' is not defined",
     "output_type": "error",
     "traceback": [
      "\u001b[1;31m---------------------------------------------------------------------------\u001b[0m",
      "\u001b[1;31mNameError\u001b[0m                                 Traceback (most recent call last)",
      "\u001b[1;32m<ipython-input-7-2632d4941ec6>\u001b[0m in \u001b[0;36m<module>\u001b[1;34m\u001b[0m\n\u001b[0;32m      1\u001b[0m \u001b[1;31m# Ejecutamos la función.\u001b[0m\u001b[1;33m\u001b[0m\u001b[1;33m\u001b[0m\u001b[1;33m\u001b[0m\u001b[0m\n\u001b[1;32m----> 2\u001b[1;33m \u001b[0mcuenta_frase\u001b[0m\u001b[1;33m(\u001b[0m\u001b[0mmolecula\u001b[0m\u001b[1;33m)\u001b[0m\u001b[1;33m\u001b[0m\u001b[1;33m\u001b[0m\u001b[0m\n\u001b[0m",
      "\u001b[1;31mNameError\u001b[0m: name 'cuenta_frase' is not defined"
     ]
    }
   ],
   "source": [
    "# Ejecutamos la función. \n",
    "cuenta_frase(molecula)"
   ]
  },
  {
   "cell_type": "markdown",
   "metadata": {},
   "source": [
    "\n",
    "****\n",
    "\n",
    "### Listas"
   ]
  },
  {
   "cell_type": "code",
   "execution_count": 2,
   "metadata": {},
   "outputs": [
    {
     "name": "stdout",
     "output_type": "stream",
     "text": [
      "['Pepe', 'Lucia', 'Ricarco', 'Paco']\n"
     ]
    }
   ],
   "source": [
    "# Listas\n",
    "\n",
    "names = [\"Pepe\", \"Lucia\", \"Ricarco\", \"Paco\"]\n",
    "print(names)"
   ]
  },
  {
   "cell_type": "code",
   "execution_count": 3,
   "metadata": {},
   "outputs": [],
   "source": [
    "len(names) # Cuenta los elementos de la lista\n",
    "names.sort() # Ordena de A - Z"
   ]
  },
  {
   "cell_type": "code",
   "execution_count": 5,
   "metadata": {},
   "outputs": [
    {
     "data": {
      "text/plain": [
       "['Lucia', 'Paco', 'Pepe', 'Ricarco']"
      ]
     },
     "execution_count": 5,
     "metadata": {},
     "output_type": "execute_result"
    }
   ],
   "source": [
    "names"
   ]
  },
  {
   "cell_type": "code",
   "execution_count": 8,
   "metadata": {},
   "outputs": [
    {
     "data": {
      "text/plain": [
       "'Lucia'"
      ]
     },
     "execution_count": 8,
     "metadata": {},
     "output_type": "execute_result"
    }
   ],
   "source": [
    "names[0] # Las listas empiezan por el 0, por tanto si queremos el último en este caso sería el 3. "
   ]
  },
  {
   "cell_type": "code",
   "execution_count": 10,
   "metadata": {},
   "outputs": [
    {
     "data": {
      "text/plain": [
       "'Pepe'"
      ]
     },
     "execution_count": 10,
     "metadata": {},
     "output_type": "execute_result"
    }
   ],
   "source": [
    "names[-2] # si lo hacemos negativo, empezamos por detras. "
   ]
  },
  {
   "cell_type": "code",
   "execution_count": 13,
   "metadata": {},
   "outputs": [
    {
     "data": {
      "text/plain": [
       "['Paco']"
      ]
     },
     "execution_count": 13,
     "metadata": {},
     "output_type": "execute_result"
    }
   ],
   "source": [
    "names[1:2] # Poniendo : lo que hacemos es buscar dentro de la lista. Busca hasta el -1 del segundo valor. En este caso\n",
    "# busca entre paco y pepe - 1, lo cual nos devuelve paco. Solo funciona con positivos. Si hacmeos names[-1:2] no va. "
   ]
  },
  {
   "cell_type": "code",
   "execution_count": 5,
   "metadata": {},
   "outputs": [],
   "source": [
    "# quiero añadir un nuevo miembro al equipo \n",
    "names.append(\"Barbara\")\n"
   ]
  },
  {
   "cell_type": "code",
   "execution_count": 8,
   "metadata": {},
   "outputs": [
    {
     "data": {
      "text/plain": [
       "['Pepe', 'Lucia', 'Ricarco', 'Paco', 'Barbara']"
      ]
     },
     "execution_count": 8,
     "metadata": {},
     "output_type": "execute_result"
    }
   ],
   "source": [
    "names"
   ]
  },
  {
   "cell_type": "markdown",
   "metadata": {},
   "source": [
    "\n",
    "***\n",
    "\n",
    "### Tuplas"
   ]
  },
  {
   "cell_type": "code",
   "execution_count": 24,
   "metadata": {},
   "outputs": [],
   "source": [
    "# Las tuplas se utilizan cuando necesitamos almacenar pocos valores. Son listas que no son mutables\n",
    "# ej, coordenadas\n",
    "tupla = (12.5, 60.5)\n"
   ]
  },
  {
   "cell_type": "code",
   "execution_count": 25,
   "metadata": {},
   "outputs": [
    {
     "ename": "AttributeError",
     "evalue": "'tuple' object has no attribute 'add'",
     "output_type": "error",
     "traceback": [
      "\u001b[1;31m---------------------------------------------------------------------------\u001b[0m",
      "\u001b[1;31mAttributeError\u001b[0m                            Traceback (most recent call last)",
      "\u001b[1;32m<ipython-input-25-a1f7ed851f57>\u001b[0m in \u001b[0;36m<module>\u001b[1;34m\u001b[0m\n\u001b[1;32m----> 1\u001b[1;33m \u001b[0mtupla\u001b[0m\u001b[1;33m.\u001b[0m\u001b[0madd\u001b[0m\u001b[1;33m(\u001b[0m\u001b[1;36m20\u001b[0m\u001b[1;33m)\u001b[0m\u001b[1;33m\u001b[0m\u001b[1;33m\u001b[0m\u001b[0m\n\u001b[0m",
      "\u001b[1;31mAttributeError\u001b[0m: 'tuple' object has no attribute 'add'"
     ]
    }
   ],
   "source": [
    "tupla.add(20) # al intentar añadir aldo a la tupla da error. "
   ]
  },
  {
   "cell_type": "markdown",
   "metadata": {},
   "source": [
    "### Set"
   ]
  },
  {
   "cell_type": "code",
   "execution_count": 15,
   "metadata": {},
   "outputs": [],
   "source": [
    "# El set es un listado de valores únicos\n",
    "\n",
    "s = set()"
   ]
  },
  {
   "cell_type": "code",
   "execution_count": 18,
   "metadata": {},
   "outputs": [],
   "source": [
    "# añadimos valores\n",
    "s.add(2)\n",
    "s.add(5)\n",
    "s.add(6)"
   ]
  },
  {
   "cell_type": "code",
   "execution_count": 20,
   "metadata": {},
   "outputs": [
    {
     "data": {
      "text/plain": [
       "{2, 5, 6}"
      ]
     },
     "execution_count": 20,
     "metadata": {},
     "output_type": "execute_result"
    }
   ],
   "source": [
    "s"
   ]
  },
  {
   "cell_type": "code",
   "execution_count": 22,
   "metadata": {},
   "outputs": [],
   "source": [
    "# Si quisieramos añadir 5, no lo cogeria. porque ya lo tiene. \n",
    "s.add(5)"
   ]
  },
  {
   "cell_type": "code",
   "execution_count": 26,
   "metadata": {},
   "outputs": [
    {
     "data": {
      "text/plain": [
       "{2, 5, 6}"
      ]
     },
     "execution_count": 26,
     "metadata": {},
     "output_type": "execute_result"
    }
   ],
   "source": [
    "s"
   ]
  },
  {
   "cell_type": "markdown",
   "metadata": {},
   "source": [
    "\n",
    "***\n",
    "\n",
    "## Diccionarios"
   ]
  },
  {
   "cell_type": "code",
   "execution_count": 28,
   "metadata": {},
   "outputs": [
    {
     "data": {
      "text/plain": [
       "dict"
      ]
     },
     "execution_count": 28,
     "metadata": {},
     "output_type": "execute_result"
    }
   ],
   "source": [
    "# los diccionarios son listados que tienen variables (key) y valores. \n",
    "# El diccionario se genera con {} y cada una de las variables se separa por : y cada uno de los parametros con , \n",
    "\n",
    "neoland = {\n",
    "    \"Enrique\" : \"Data Scientist\",\n",
    "    \"María\" : \"Data Arquitect\",\n",
    "    \"Juan\":\"Data Engineer\",\n",
    "    \"Jorge\":\"Data Analyst\",\n",
    "    \"Noelia\":\"Data y nada más\",\n",
    "    \"Raquel\":\"Data Specialist\",\n",
    "    \"Rodrigo\":\"Data y no sé\",\n",
    "    \"Eduardo\": \"Data\"\n",
    "}\n",
    "type(neoland)"
   ]
  },
  {
   "cell_type": "code",
   "execution_count": 31,
   "metadata": {},
   "outputs": [
    {
     "data": {
      "text/plain": [
       "8"
      ]
     },
     "execution_count": 31,
     "metadata": {},
     "output_type": "execute_result"
    }
   ],
   "source": [
    "len(neoland)"
   ]
  },
  {
   "cell_type": "code",
   "execution_count": 34,
   "metadata": {},
   "outputs": [
    {
     "data": {
      "text/plain": [
       "'Data Arquitect'"
      ]
     },
     "execution_count": 34,
     "metadata": {},
     "output_type": "execute_result"
    }
   ],
   "source": [
    "neoland[\"María\"] # buscar el elemento que su parámetro sea María"
   ]
  },
  {
   "cell_type": "code",
   "execution_count": 36,
   "metadata": {},
   "outputs": [
    {
     "data": {
      "text/plain": [
       "dict_keys(['Enrique', 'María', 'Juan', 'Jorge', 'Noelia', 'Raquel', 'Rodrigo', 'Eduardo'])"
      ]
     },
     "execution_count": 36,
     "metadata": {},
     "output_type": "execute_result"
    }
   ],
   "source": [
    "neoland.keys() # De esta forma podemos ver los parámetros "
   ]
  },
  {
   "cell_type": "code",
   "execution_count": 39,
   "metadata": {},
   "outputs": [
    {
     "data": {
      "text/plain": [
       "dict_items([('Enrique', 'Data Scientist'), ('María', 'Data Arquitect'), ('Juan', 'Data Engineer'), ('Jorge', 'Data Analyst'), ('Noelia', 'Data y nada más'), ('Raquel', 'Data Specialist'), ('Rodrigo', 'Data y no sé'), ('Eduardo', 'Data')])"
      ]
     },
     "execution_count": 39,
     "metadata": {},
     "output_type": "execute_result"
    }
   ],
   "source": [
    "neoland.items() # De esta forma devuelve los pares. "
   ]
  },
  {
   "cell_type": "code",
   "execution_count": 40,
   "metadata": {},
   "outputs": [
    {
     "data": {
      "text/plain": [
       "{'Enrique': 'Data Scientist',\n",
       " 'María': 'Data Arquitect',\n",
       " 'Juan': 'Data Engineer',\n",
       " 'Jorge': 'Data Analyst',\n",
       " 'Noelia': 'Data y nada más',\n",
       " 'Raquel': 'Data Specialist',\n",
       " 'Rodrigo': 'Data y no sé',\n",
       " 'Eduardo': 'Data',\n",
       " 'Marco': 'Profesor'}"
      ]
     },
     "execution_count": 40,
     "metadata": {},
     "output_type": "execute_result"
    }
   ],
   "source": [
    "# para añadir un nuevo elemento\n",
    "neoland[\"Marco\"]= \"Profesor\"\n",
    "neoland"
   ]
  }
 ],
 "metadata": {
  "kernelspec": {
   "display_name": "Python 3",
   "language": "python",
   "name": "python3"
  },
  "language_info": {
   "codemirror_mode": {
    "name": "ipython",
    "version": 3
   },
   "file_extension": ".py",
   "mimetype": "text/x-python",
   "name": "python",
   "nbconvert_exporter": "python",
   "pygments_lexer": "ipython3",
   "version": "3.8.3"
  }
 },
 "nbformat": 4,
 "nbformat_minor": 4
}
