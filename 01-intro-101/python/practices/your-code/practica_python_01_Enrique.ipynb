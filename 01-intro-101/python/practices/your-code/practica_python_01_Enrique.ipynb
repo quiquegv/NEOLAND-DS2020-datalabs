{
 "cells": [
  {
   "cell_type": "markdown",
   "metadata": {},
   "source": [
    "## Desafío 1\n",
    "Hacer un programa que nos pida los siguiente: \n",
    "\n",
    "- La fecha actual en cualquier formato\n",
    "- Calorías ingeridas en el desayuno\n",
    "- Calorías ingeridas en la comida\n",
    "- Calorías ingeridas en la cena\n",
    "- Calorías ingeridas en tentempiés\n",
    "\n",
    "Después, el programa sumará todas las calorías y les dará formato de mensaje. "
   ]
  },
  {
   "cell_type": "code",
   "execution_count": 3,
   "metadata": {},
   "outputs": [],
   "source": [
    "# El objetivo es generar las variables y almacenarlas para que posteriormente las sume. \n",
    "# Primero hay que sacar la fecha\n",
    "# fecha = input(\"Hola...,introduces la fecha de hoy \")"
   ]
  },
  {
   "cell_type": "code",
   "execution_count": 18,
   "metadata": {},
   "outputs": [],
   "source": [
    "# type(fecha)"
   ]
  },
  {
   "cell_type": "markdown",
   "metadata": {},
   "source": [
    "Creamos las variables del contador\n",
    "\n",
    "date = input()\n",
    "\n",
    "breakfast = input()\n",
    "\n",
    "lunch = input()\n",
    "\n",
    "dinner = input ()\n",
    "\n",
    "snack = input ()\n",
    "\n",
    "Si lo hacemos así, nos pedirá las variables pero no almacenará los valores. Es importante\n",
    "añadir delante int para que haba una variable. "
   ]
  },
  {
   "cell_type": "code",
   "execution_count": 1,
   "metadata": {
    "tags": []
   },
   "outputs": [
    {
     "name": "stdout",
     "output_type": "stream",
     "text": [
      "¿qué dia es hoy?\n",
      "25 sep 2020\n",
      "Calorias desayuno\n",
      "300\n",
      "Calorias comida\n",
      "200\n",
      "Caloria cena\n",
      "300\n",
      "caloria snack\n",
      "500\n"
     ]
    }
   ],
   "source": [
    "\n",
    "\n",
    "print(\"¿qué dia es hoy?\")\n",
    "date = input()\n",
    "print(\"Calorias desayuno\")\n",
    "breakfast = int(input())\n",
    "print(\"Calorias comida\")\n",
    "lunch = int(input())\n",
    "print(\"Caloria cena\")\n",
    "dinner = int(input())\n",
    "print(\"caloria snack\")\n",
    "snack = int(input())"
   ]
  },
  {
   "cell_type": "code",
   "execution_count": 3,
   "metadata": {},
   "outputs": [],
   "source": [
    "totalCal = breakfast + lunch + dinner + snack"
   ]
  },
  {
   "cell_type": "code",
   "execution_count": 4,
   "metadata": {
    "tags": []
   },
   "outputs": [
    {
     "name": "stdout",
     "output_type": "stream",
     "text": [
      "Calorias Totales del día: 25 sep 2020 son: 1300\n"
     ]
    }
   ],
   "source": [
    "print(\"Calorias Totales del día: \" + date + \" son: \" + str(totalCal))"
   ]
  },
  {
   "cell_type": "markdown",
   "metadata": {},
   "source": [
    "*** "
   ]
  },
  {
   "cell_type": "markdown",
   "metadata": {},
   "source": [
    "## Paso 2: Escribir código en el archivo nuevo para resolver el desafío\n",
    "\n",
    "Escriba un programa corto que imprima un mensaje entre varios usuarios en función de su entrada. \n",
    "\n",
    "En primer lugar, pregunte al usuario si quiere continuar o no. \n",
    "\n",
    "Si el usuario responde `no` o `n`, imprima la frase `Existing`.\n",
    "\n",
    "Obtenga la salida siguiente en este escenario de `no`. El usuario ha especificado `no` cuando se le solicitó.\n",
    "\n",
    "```\n",
    "output\n",
    "Would you like to continue? no\n",
    "Exiting\n",
    "```\n",
    "\n",
    "Si el usuario responde con `yes` `y`, imprima la frase `Continuing...` y `Complete!`. \n",
    "\n",
    "Obtenga la salida siguiente en este escenario de `yes`. El usuario ha especificado `yes`cuando se le solicitó-\n",
    "\n",
    "Resultados Copiar\n",
    "\n",
    "```\n",
    "output\n",
    "Would you like to continue? yes\n",
    "Continuing...\n",
    "Complete!\n",
    "```"
   ]
  },
  {
   "cell_type": "code",
   "execution_count": 23,
   "metadata": {},
   "outputs": [
    {
     "name": "stdout",
     "output_type": "stream",
     "text": [
      "Would you like to continue? NO\n"
     ]
    }
   ],
   "source": [
    "respuesta = input(\"Would you like to continue? \")"
   ]
  },
  {
   "cell_type": "code",
   "execution_count": 25,
   "metadata": {},
   "outputs": [
    {
     "name": "stdout",
     "output_type": "stream",
     "text": [
      "Intenta contestar nuevamente yes or not\n"
     ]
    }
   ],
   "source": [
    "if respuesta == 'yes' or respuesta == 'y':\n",
    "    print(\"Continuing...\")\n",
    "    print(\"Complete!\")\n",
    "elif respuesta == 'not' or respuesta == 'n':\n",
    "    print(\"Exiting\")\n",
    "else:\n",
    "    print(\"Intenta contestar nuevamente yes or not\")"
   ]
  },
  {
   "cell_type": "markdown",
   "metadata": {},
   "source": [
    "Ideas para mejorar el código: \n",
    "\n",
    "- Reducir el número de líneas. \n",
    "- Añadir forma de que le de igual que se introduzcan los datos en mayúsculas o minúsculas. \n"
   ]
  },
  {
   "cell_type": "markdown",
   "metadata": {},
   "source": [
    "\n",
    "***\n"
   ]
  },
  {
   "cell_type": "markdown",
   "metadata": {},
   "source": [
    "Escribir un pro que convierta la temperatura de Fahrenheit a Celsius\n",
    "\n",
    "En este código se muestra la fórmula matetmática para convertir una temperatura medida en grados Fahrenheit a una temperatura medida en grados celsius: \n",
    "\n",
    "# Completar el resto de texto: Marcus lo ha guardado en el respositorio 01-intro/python/labs"
   ]
  },
  {
   "cell_type": "code",
   "execution_count": 1,
   "metadata": {},
   "outputs": [
    {
     "name": "stdout",
     "output_type": "stream",
     "text": [
      "What is the temperature in fahrenheit? 4\n"
     ]
    }
   ],
   "source": [
    "respuesta = input(\"What is the temperature in fahrenheit? \")"
   ]
  },
  {
   "cell_type": "code",
   "execution_count": 2,
   "metadata": {},
   "outputs": [
    {
     "name": "stdout",
     "output_type": "stream",
     "text": [
      "What is the temperature in fahrenheit? 50\n",
      "Temperatura in celsius is 10.0\n"
     ]
    }
   ],
   "source": [
    "respuesta = input(\"What is the temperature in fahrenheit? \")\n",
    "try:\n",
    "    entero = int(respuesta)\n",
    "    celsius = (int(respuesta) - 32)*5/9\n",
    "    print(\"Temperatura in celsius is \" + str(celsius))\n",
    "except ValueError:                              \n",
    "    print(\"No es un formato correcto\")\n"
   ]
  },
  {
   "cell_type": "markdown",
   "metadata": {},
   "source": [
    "Pasos 1: pedir temperatura fahrenheit\n",
    "\n",
    "2: comprobar si es número. Si no lo es, que lo muestre. \n",
    "\n",
    "3: si es número que devuelva la temperatura en Celsius. "
   ]
  },
  {
   "cell_type": "code",
   "execution_count": 13,
   "metadata": {},
   "outputs": [
    {
     "name": "stdout",
     "output_type": "stream",
     "text": [
      "What is the temperature in fahrenheit? 40\n",
      "No es un formato correcto\n"
     ]
    }
   ],
   "source": [
    "respuesta = input(\"What is the temperature in fahrenheit? \")\n",
    "celsius = 0\n",
    "if type(respuesta) == str:\n",
    "    print(\"No es un formato correcto\")\n",
    "else:                             \n",
    "    celsius = (int(respuesta) - 32)*5/9\n",
    "    print(\"Temperatura in celsius is \" + str(celsius))\n"
   ]
  }
 ],
 "metadata": {
  "kernelspec": {
   "display_name": "Python 3",
   "language": "python",
   "name": "python3"
  },
  "language_info": {
   "codemirror_mode": {
    "name": "ipython",
    "version": 3
   },
   "file_extension": ".py",
   "mimetype": "text/x-python",
   "name": "python",
   "nbconvert_exporter": "python",
   "pygments_lexer": "ipython3",
   "version": "3.8.3"
  }
 },
 "nbformat": 4,
 "nbformat_minor": 4
}
