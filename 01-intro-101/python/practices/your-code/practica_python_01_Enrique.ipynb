{
 "cells": [
  {
   "cell_type": "markdown",
   "metadata": {},
   "source": [
    "## Desafío 1\n",
    "Hacer un programa que nos pida los siguiente: \n",
    "\n",
    "- La fecha actual en cualquier formato\n",
    "- Calorías ingeridas en el desayuno\n",
    "- Calorías ingeridas en la comida\n",
    "- Calorías ingeridas en la cena\n",
    "- Calorías ingeridas en tentempiés\n",
    "\n",
    "Después, el programa sumará todas las calorías y les dará formato de mensaje. "
   ]
  },
  {
   "cell_type": "code",
   "execution_count": 3,
   "metadata": {},
   "outputs": [],
   "source": [
    "# El objetivo es generar las variables y almacenarlas para que posteriormente las sume. \n",
    "# Primero hay que sacar la fecha\n",
    "# fecha = input(\"Hola...,introduces la fecha de hoy \")"
   ]
  },
  {
   "cell_type": "code",
   "execution_count": 18,
   "metadata": {},
   "outputs": [],
   "source": [
    "# type(fecha)"
   ]
  },
  {
   "cell_type": "markdown",
   "metadata": {},
   "source": [
    "Creamos las variables del contador\n",
    "\n",
    "date = input()\n",
    "\n",
    "breakfast = input()\n",
    "\n",
    "lunch = input()\n",
    "\n",
    "dinner = input ()\n",
    "\n",
    "snack = input ()\n",
    "\n",
    "Si lo hacemos así, nos pedirá las variables pero no almacenará los valores. Es importante\n",
    "añadir delante int para que haba una variable. "
   ]
  },
  {
   "cell_type": "code",
   "execution_count": 1,
   "metadata": {
    "tags": []
   },
   "outputs": [
    {
     "name": "stdout",
     "output_type": "stream",
     "text": [
      "¿qué dia es hoy?\n",
      "25 sep 2020\n",
      "Calorias desayuno\n",
      "300\n",
      "Calorias comida\n",
      "200\n",
      "Caloria cena\n",
      "300\n",
      "caloria snack\n",
      "500\n"
     ]
    }
   ],
   "source": [
    "\n",
    "\n",
    "print(\"¿qué dia es hoy?\")\n",
    "date = input()\n",
    "print(\"Calorias desayuno\")\n",
    "breakfast = int(input())\n",
    "print(\"Calorias comida\")\n",
    "lunch = int(input())\n",
    "print(\"Caloria cena\")\n",
    "dinner = int(input())\n",
    "print(\"caloria snack\")\n",
    "snack = int(input())"
   ]
  },
  {
   "cell_type": "code",
   "execution_count": 3,
   "metadata": {},
   "outputs": [],
   "source": [
    "totalCal = breakfast + lunch + dinner + snack"
   ]
  },
  {
   "cell_type": "code",
   "execution_count": 4,
   "metadata": {
    "tags": []
   },
   "outputs": [
    {
     "name": "stdout",
     "output_type": "stream",
     "text": [
      "Calorias Totales del día: 25 sep 2020 son: 1300\n"
     ]
    }
   ],
   "source": [
    "print(\"Calorias Totales del día: \" + date + \" son: \" + str(totalCal))"
   ]
  },
  {
   "cell_type": "markdown",
   "metadata": {},
   "source": [
    "*** "
   ]
  },
  {
   "cell_type": "markdown",
   "metadata": {},
   "source": [
    "## Paso 2: Escribir código en el archivo nuevo para resolver el desafío\n",
    "\n",
    "Escriba un programa corto que imprima un mensaje entre varios usuarios en función de su entrada. \n",
    "\n",
    "En primer lugar, pregunte al usuario si quiere continuar o no. \n",
    "\n",
    "Si el usuario responde `no` o `n`, imprima la frase `Existing`.\n",
    "\n",
    "Obtenga la salida siguiente en este escenario de `no`. El usuario ha especificado `no` cuando se le solicitó.\n",
    "\n",
    "```\n",
    "output\n",
    "Would you like to continue? no\n",
    "Exiting\n",
    "```\n",
    "\n",
    "Si el usuario responde con `yes` `y`, imprima la frase `Continuing...` y `Complete!`. \n",
    "\n",
    "Obtenga la salida siguiente en este escenario de `yes`. El usuario ha especificado `yes`cuando se le solicitó-\n",
    "\n",
    "Resultados Copiar\n",
    "\n",
    "```\n",
    "output\n",
    "Would you like to continue? yes\n",
    "Continuing...\n",
    "Complete!\n",
    "```"
   ]
  },
  {
   "cell_type": "code",
   "execution_count": 23,
   "metadata": {},
   "outputs": [
    {
     "name": "stdout",
     "output_type": "stream",
     "text": [
      "Would you like to continue? NO\n"
     ]
    }
   ],
   "source": [
    "respuesta = input(\"Would you like to continue? \")"
   ]
  },
  {
   "cell_type": "code",
   "execution_count": 25,
   "metadata": {},
   "outputs": [
    {
     "name": "stdout",
     "output_type": "stream",
     "text": [
      "Intenta contestar nuevamente yes or not\n"
     ]
    }
   ],
   "source": [
    "if respuesta == 'yes' or respuesta == 'y':\n",
    "    print(\"Continuing...\")\n",
    "    print(\"Complete!\")\n",
    "elif respuesta == 'not' or respuesta == 'n':\n",
    "    print(\"Exiting\")\n",
    "else:\n",
    "    print(\"Intenta contestar nuevamente yes or not\")"
   ]
  },
  {
   "cell_type": "markdown",
   "metadata": {},
   "source": [
    "Ideas para mejorar el código: \n",
    "\n",
    "- Reducir el número de líneas. \n",
    "- Añadir forma de que le de igual que se introduzcan los datos en mayúsculas o minúsculas. \n"
   ]
  },
  {
   "cell_type": "markdown",
   "metadata": {},
   "source": [
    "\n",
    "***\n"
   ]
  },
  {
   "cell_type": "markdown",
   "metadata": {},
   "source": [
    "Escribir un pro que convierta la temperatura de Fahrenheit a Celsius\n",
    "\n",
    "En este código se muestra la fórmula matetmática para convertir una temperatura medida en grados Fahrenheit a una temperatura medida en grados celsius: \n",
    "\n",
    "# Completar el resto de texto: Marcus lo ha guardado en el respositorio 01-intro/python/labs"
   ]
  },
  {
   "cell_type": "code",
   "execution_count": 1,
   "metadata": {},
   "outputs": [
    {
     "name": "stdout",
     "output_type": "stream",
     "text": [
      "What is the temperature in fahrenheit? 4\n"
     ]
    }
   ],
   "source": [
    "respuesta = input(\"What is the temperature in fahrenheit? \")"
   ]
  },
  {
   "cell_type": "code",
   "execution_count": 22,
   "metadata": {},
   "outputs": [
    {
     "name": "stdout",
     "output_type": "stream",
     "text": [
      "What is the temperature in fahrenheit? -20\n",
      "Temperatura in celsius is -28.88888888888889\n"
     ]
    }
   ],
   "source": [
    "respuesta = input(\"What is the temperature in fahrenheit? \")\n",
    "try:\n",
    "    entero = int(respuesta)\n",
    "    celsius = (int(respuesta) - 32)*5/9\n",
    "    print(\"Temperatura in celsius is \" + str(celsius))\n",
    "except ValueError:                              \n",
    "    print(\"No es un formato correcto\")\n"
   ]
  },
  {
   "cell_type": "markdown",
   "metadata": {},
   "source": [
    "Pasos 1: pedir temperatura fahrenheit\n",
    "\n",
    "2: comprobar si es número. Si no lo es, que lo muestre. \n",
    "\n",
    "3: si es número que devuelva la temperatura en Celsius. "
   ]
  },
  {
   "cell_type": "code",
   "execution_count": 4,
   "metadata": {},
   "outputs": [],
   "source": [
    "def conversor_celsius():\n",
    "    respuesta = input(\"What is the temperature in fahrenheit? \")\n",
    "    if type(respuesta) is str:\n",
    "        respuesta = (int(respuesta) - 32)*5/9\n",
    "        print(\"Temperatura in celsius is \" + str(respuesta))\n",
    "    else:\n",
    "        print(\"No es un formato correcto\")"
   ]
  },
  {
   "cell_type": "code",
   "execution_count": 6,
   "metadata": {},
   "outputs": [
    {
     "name": "stdout",
     "output_type": "stream",
     "text": [
      "What is the temperature in fahrenheit? doce\n"
     ]
    },
    {
     "ename": "ValueError",
     "evalue": "invalid literal for int() with base 10: 'doce'",
     "output_type": "error",
     "traceback": [
      "\u001b[1;31m---------------------------------------------------------------------------\u001b[0m",
      "\u001b[1;31mValueError\u001b[0m                                Traceback (most recent call last)",
      "\u001b[1;32m<ipython-input-6-037b615f1878>\u001b[0m in \u001b[0;36m<module>\u001b[1;34m\u001b[0m\n\u001b[1;32m----> 1\u001b[1;33m \u001b[0mconversor_celsius\u001b[0m\u001b[1;33m(\u001b[0m\u001b[1;33m)\u001b[0m\u001b[1;33m\u001b[0m\u001b[1;33m\u001b[0m\u001b[0m\n\u001b[0m",
      "\u001b[1;32m<ipython-input-4-0d4d595020e6>\u001b[0m in \u001b[0;36mconversor_celsius\u001b[1;34m()\u001b[0m\n\u001b[0;32m      2\u001b[0m     \u001b[0mrespuesta\u001b[0m \u001b[1;33m=\u001b[0m \u001b[0minput\u001b[0m\u001b[1;33m(\u001b[0m\u001b[1;34m\"What is the temperature in fahrenheit? \"\u001b[0m\u001b[1;33m)\u001b[0m\u001b[1;33m\u001b[0m\u001b[1;33m\u001b[0m\u001b[0m\n\u001b[0;32m      3\u001b[0m     \u001b[1;32mif\u001b[0m \u001b[0mtype\u001b[0m\u001b[1;33m(\u001b[0m\u001b[0mrespuesta\u001b[0m\u001b[1;33m)\u001b[0m \u001b[1;32mis\u001b[0m \u001b[0mstr\u001b[0m\u001b[1;33m:\u001b[0m\u001b[1;33m\u001b[0m\u001b[1;33m\u001b[0m\u001b[0m\n\u001b[1;32m----> 4\u001b[1;33m         \u001b[0mrespuesta\u001b[0m \u001b[1;33m=\u001b[0m \u001b[1;33m(\u001b[0m\u001b[0mint\u001b[0m\u001b[1;33m(\u001b[0m\u001b[0mrespuesta\u001b[0m\u001b[1;33m)\u001b[0m \u001b[1;33m-\u001b[0m \u001b[1;36m32\u001b[0m\u001b[1;33m)\u001b[0m\u001b[1;33m*\u001b[0m\u001b[1;36m5\u001b[0m\u001b[1;33m/\u001b[0m\u001b[1;36m9\u001b[0m\u001b[1;33m\u001b[0m\u001b[1;33m\u001b[0m\u001b[0m\n\u001b[0m\u001b[0;32m      5\u001b[0m         \u001b[0mprint\u001b[0m\u001b[1;33m(\u001b[0m\u001b[1;34m\"Temperatura in celsius is \"\u001b[0m \u001b[1;33m+\u001b[0m \u001b[0mstr\u001b[0m\u001b[1;33m(\u001b[0m\u001b[0mrespuesta\u001b[0m\u001b[1;33m)\u001b[0m\u001b[1;33m)\u001b[0m\u001b[1;33m\u001b[0m\u001b[1;33m\u001b[0m\u001b[0m\n\u001b[0;32m      6\u001b[0m     \u001b[1;32melse\u001b[0m\u001b[1;33m:\u001b[0m\u001b[1;33m\u001b[0m\u001b[1;33m\u001b[0m\u001b[0m\n",
      "\u001b[1;31mValueError\u001b[0m: invalid literal for int() with base 10: 'doce'"
     ]
    }
   ],
   "source": [
    "conversor_celsius()"
   ]
  },
  {
   "cell_type": "code",
   "execution_count": 7,
   "metadata": {},
   "outputs": [
    {
     "name": "stdout",
     "output_type": "stream",
     "text": [
      "Cual es la temperatura FAH de: 40\n",
      "La temperatura en celsius es: 4.444444444444445\n"
     ]
    }
   ],
   "source": [
    "# Respuesta Marco\n",
    "fahrenheit = input(\"Cual es la temperatura FAH de: \")\n",
    "\n",
    "if fahrenheit.isnumeric() == False:\n",
    "    print(\"Input is nor a numeric\")\n",
    "    exit()\n",
    "\n",
    "fahrenheit = int(fahrenheit)\n",
    "\n",
    "celsius = int(fahrenheit -32)*5/9\n",
    "print(\"La temperatura en celsius es: \" + str(celsius))"
   ]
  },
  {
   "cell_type": "markdown",
   "metadata": {},
   "source": [
    "\n",
    "***\n"
   ]
  },
  {
   "cell_type": "markdown",
   "metadata": {},
   "source": [
    "## Practica: Generar una Calculadora - Sin funciones\n",
    "\n",
    "Operaciones matemáticas permitidas: \n",
    "- Suma\n",
    "- Resta\n",
    "- Multiplicación\n",
    "- Cociente\n",
    "- Exponente\n",
    "- Módulo"
   ]
  },
  {
   "cell_type": "code",
   "execution_count": 7,
   "metadata": {},
   "outputs": [
    {
     "name": "stdout",
     "output_type": "stream",
     "text": [
      "Introduce un número 1\n",
      "Introduzca una operación +\n",
      "Introduce un número 0\n",
      "el resultado de 1 0 + es igual a 1\n"
     ]
    }
   ],
   "source": [
    "a = input(\"Introduce un número \")\n",
    "if a.isdigit() == True:\n",
    "    a=int(a)\n",
    "else:\n",
    "    print(\"Introduzca un número\")\n",
    "\n",
    "b = input(\"Introduzca una operación \")\n",
    "c = input(\"Introduce un número \")\n",
    "\n",
    "if c.isdigit() == True:\n",
    "    c=int(c)\n",
    "else:\n",
    "    print(\"Introduzca un número\")\n",
    "\n",
    "if b == '+':\n",
    "    suma = a + c\n",
    "    print(\"el resultado de \" + str(a) +\" \"+ str(b) +\" \" + str(c) + \" es igual a \" + str(suma))\n",
    "elif b == '-':\n",
    "    resta = a - c\n",
    "    print(\"el resultado de \" + str(a) +\" \"+ str(b) +\" \" + str(c) + \" es igual a \" + str(resta))\n",
    "elif b == '/':\n",
    "    if c != 0:\n",
    "        division = a / c\n",
    "        print(\"el resultado de \" + str(a) +\" \"+ str(b) +\" \" + str(c) + \" es igual a \" + str(division))\n",
    "    else:\n",
    "        print(\"Error, no se puede dividir por \" + str(c))\n",
    "elif b == '*':\n",
    "    multiplicacion = a * c\n",
    "    print(\"el resultado de \" + str(a) +\" \"+ str(b) +\" \" + str(c) + \" es igual a \" + str(multiplicacion))\n",
    "elif b == '^':\n",
    "    exponente = a ^ c\n",
    "    print(\"el resultado de \" + str(a) +\" \"+ str(b) +\" \" + str(c) + \" es igual a \" + str(exponente))\n",
    "elif b == '%':\n",
    "    modulo = a % c\n",
    "    print(\"el resultado de \" + str(a) +\" \"+ str(b) +\" \" + str(c) + \" es igual a \" + str(modulo))\n",
    "\n",
    "\n",
    "    "
   ]
  },
  {
   "cell_type": "code",
   "execution_count": 7,
   "metadata": {},
   "outputs": [
    {
     "name": "stdout",
     "output_type": "stream",
     "text": [
      "Introduce un número 5\n",
      "Introduce otro número 5\n"
     ]
    }
   ],
   "source": [
    "a = input(\"Introduce un número \")\n",
    "b = input(\"Introduce otro número \")\n",
    "if a.isnumeric == False or b.isnumeric == False:\n",
    "    print(\"Los datos introducidos no son correctos\")\n",
    "    exit()\n",
    "\n"
   ]
  }
 ],
 "metadata": {
  "kernelspec": {
   "display_name": "Python 3",
   "language": "python",
   "name": "python3"
  },
  "language_info": {
   "codemirror_mode": {
    "name": "ipython",
    "version": 3
   },
   "file_extension": ".py",
   "mimetype": "text/x-python",
   "name": "python",
   "nbconvert_exporter": "python",
   "pygments_lexer": "ipython3",
   "version": "3.8.3"
  }
 },
 "nbformat": 4,
 "nbformat_minor": 4
}
