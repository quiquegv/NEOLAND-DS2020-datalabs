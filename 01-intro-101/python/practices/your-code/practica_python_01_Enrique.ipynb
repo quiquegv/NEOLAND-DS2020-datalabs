{
 "cells": [
  {
   "cell_type": "markdown",
   "metadata": {},
   "source": [
    "## Desafío 1\n",
    "Hacer un programa que nos pida los siguiente: \n",
    "\n",
    "- La fecha actual en cualquier formato\n",
    "- Calorías ingeridas en el desayuno\n",
    "- Calorías ingeridas en la comida\n",
    "- Calorías ingeridas en la cena\n",
    "- Calorías ingeridas en tentempiés\n",
    "\n",
    "Después, el programa sumará todas las calorías y les dará formato de mensaje. "
   ]
  },
  {
   "cell_type": "code",
   "execution_count": null,
   "metadata": {},
   "outputs": [],
   "source": [
    "# El objetivo es generar las variables y almacenarlas para que posteriormente las sume. \n",
    "# Primero hay que sacar la fecha\n",
    "# fecha = input(\"Hola...,introduces la fecha de hoy \")"
   ]
  },
  {
   "cell_type": "code",
   "execution_count": null,
   "metadata": {},
   "outputs": [],
   "source": [
    "# type(fecha)"
   ]
  },
  {
   "cell_type": "markdown",
   "metadata": {},
   "source": [
    "Creamos las variables del contador\n",
    "\n",
    "date = input()\n",
    "\n",
    "breakfast = input()\n",
    "\n",
    "lunch = input()\n",
    "\n",
    "dinner = input ()\n",
    "\n",
    "snack = input ()\n",
    "\n",
    "Si lo hacemos así, nos pedirá las variables pero no almacenará los valores. Es importante\n",
    "añadir delante int para que haba una variable. "
   ]
  },
  {
   "cell_type": "code",
   "execution_count": null,
   "metadata": {
    "tags": []
   },
   "outputs": [],
   "source": [
    "\n",
    "\n",
    "print(\"¿qué dia es hoy?\")\n",
    "date = input()\n",
    "print(\"Calorias desayuno\")\n",
    "breakfast = int(input())\n",
    "print(\"Calorias comida\")\n",
    "lunch = int(input())\n",
    "print(\"Caloria cena\")\n",
    "dinner = int(input())\n",
    "print(\"caloria snack\")\n",
    "snack = int(input())"
   ]
  },
  {
   "cell_type": "code",
   "execution_count": null,
   "metadata": {},
   "outputs": [],
   "source": [
    "totalCal = breakfast + lunch + dinner + snack"
   ]
  },
  {
   "cell_type": "code",
   "execution_count": null,
   "metadata": {
    "tags": []
   },
   "outputs": [],
   "source": [
    "print(\"Calorias Totales del día: \" + date + \" son: \" + str(totalCal))"
   ]
  },
  {
   "cell_type": "markdown",
   "metadata": {},
   "source": [
    "*** "
   ]
  },
  {
   "cell_type": "markdown",
   "metadata": {},
   "source": [
    "## Paso 2: Escribir código en el archivo nuevo para resolver el desafío\n",
    "\n",
    "Escriba un programa corto que imprima un mensaje entre varios usuarios en función de su entrada. \n",
    "\n",
    "En primer lugar, pregunte al usuario si quiere continuar o no. \n",
    "\n",
    "Si el usuario responde `no` o `n`, imprima la frase `Existing`.\n",
    "\n",
    "Obtenga la salida siguiente en este escenario de `no`. El usuario ha especificado `no` cuando se le solicitó.\n",
    "\n",
    "```\n",
    "output\n",
    "Would you like to continue? no\n",
    "Exiting\n",
    "```\n",
    "\n",
    "Si el usuario responde con `yes` `y`, imprima la frase `Continuing...` y `Complete!`. \n",
    "\n",
    "Obtenga la salida siguiente en este escenario de `yes`. El usuario ha especificado `yes`cuando se le solicitó-\n",
    "\n",
    "Resultados Copiar\n",
    "\n",
    "```\n",
    "output\n",
    "Would you like to continue? yes\n",
    "Continuing...\n",
    "Complete!\n",
    "```"
   ]
  },
  {
   "cell_type": "code",
   "execution_count": null,
   "metadata": {},
   "outputs": [],
   "source": [
    "respuesta = input(\"Would you like to continue? \")"
   ]
  },
  {
   "cell_type": "code",
   "execution_count": null,
   "metadata": {},
   "outputs": [],
   "source": [
    "if respuesta == 'yes' or respuesta == 'y':\n",
    "    print(\"Continuing...\")\n",
    "    print(\"Complete!\")\n",
    "elif respuesta == 'not' or respuesta == 'n':\n",
    "    print(\"Exiting\")\n",
    "else:\n",
    "    print(\"Intenta contestar nuevamente yes or not\")"
   ]
  },
  {
   "cell_type": "markdown",
   "metadata": {},
   "source": [
    "Ideas para mejorar el código: \n",
    "\n",
    "- Reducir el número de líneas. \n",
    "- Añadir forma de que le de igual que se introduzcan los datos en mayúsculas o minúsculas. \n"
   ]
  },
  {
   "cell_type": "markdown",
   "metadata": {},
   "source": [
    "\n",
    "***\n"
   ]
  },
  {
   "cell_type": "markdown",
   "metadata": {},
   "source": [
    "Escribir un pro que convierta la temperatura de Fahrenheit a Celsius\n",
    "\n",
    "En este código se muestra la fórmula matetmática para convertir una temperatura medida en grados Fahrenheit a una temperatura medida en grados celsius: \n",
    "\n",
    "# Completar el resto de texto: Marcus lo ha guardado en el respositorio 01-intro/python/labs"
   ]
  },
  {
   "cell_type": "code",
   "execution_count": null,
   "metadata": {},
   "outputs": [],
   "source": [
    "respuesta = input(\"What is the temperature in fahrenheit? \")"
   ]
  },
  {
   "cell_type": "code",
   "execution_count": null,
   "metadata": {},
   "outputs": [],
   "source": [
    "respuesta = input(\"What is the temperature in fahrenheit? \")\n",
    "try:\n",
    "    entero = int(respuesta)\n",
    "    celsius = (int(respuesta) - 32)*5/9\n",
    "    print(\"Temperatura in celsius is \" + str(celsius))\n",
    "except ValueError:                              \n",
    "    print(\"No es un formato correcto\")\n"
   ]
  },
  {
   "cell_type": "markdown",
   "metadata": {},
   "source": [
    "Pasos 1: pedir temperatura fahrenheit\n",
    "\n",
    "2: comprobar si es número. Si no lo es, que lo muestre. \n",
    "\n",
    "3: si es número que devuelva la temperatura en Celsius. "
   ]
  },
  {
   "cell_type": "code",
   "execution_count": null,
   "metadata": {},
   "outputs": [],
   "source": [
    "def conversor_celsius():\n",
    "    respuesta = input(\"What is the temperature in fahrenheit? \")\n",
    "    if type(respuesta) is str:\n",
    "        respuesta = (int(respuesta) - 32)*5/9\n",
    "        print(\"Temperatura in celsius is \" + str(respuesta))\n",
    "    else:\n",
    "        print(\"No es un formato correcto\")"
   ]
  },
  {
   "cell_type": "code",
   "execution_count": null,
   "metadata": {},
   "outputs": [],
   "source": [
    "conversor_celsius()"
   ]
  },
  {
   "cell_type": "code",
   "execution_count": null,
   "metadata": {},
   "outputs": [],
   "source": [
    "# Respuesta Marco\n",
    "fahrenheit = input(\"Cual es la temperatura FAH de: \")\n",
    "\n",
    "if fahrenheit.isnumeric() == False:\n",
    "    print(\"Input is nor a numeric\")\n",
    "    exit()\n",
    "\n",
    "fahrenheit = int(fahrenheit)\n",
    "\n",
    "celsius = int(fahrenheit -32)*5/9\n",
    "print(\"La temperatura en celsius es: \" + str(celsius))"
   ]
  },
  {
   "cell_type": "markdown",
   "metadata": {},
   "source": [
    "\n",
    "***\n"
   ]
  },
  {
   "cell_type": "markdown",
   "metadata": {},
   "source": [
    "## Practica: Generar una Calculadora - Sin funciones\n",
    "\n",
    "Operaciones matemáticas permitidas: \n",
    "- Suma\n",
    "- Resta\n",
    "- Multiplicación\n",
    "- Cociente\n",
    "- Exponente\n",
    "- Módulo"
   ]
  },
  {
   "cell_type": "code",
   "execution_count": null,
   "metadata": {},
   "outputs": [],
   "source": [
    "a = input(\"Introduce un número \")\n",
    "if a.isdigit() == True:\n",
    "    a=int(a)\n",
    "else:\n",
    "    print(\"Introduzca un número\")\n",
    "\n",
    "b = input(\"Introduzca una operación \")\n",
    "c = input(\"Introduce un número \")\n",
    "\n",
    "if c.isdigit() == True:\n",
    "    c=int(c)\n",
    "else:\n",
    "    print(\"Introduzca un número\")\n",
    "\n",
    "if b == '+':\n",
    "    suma = a + c\n",
    "    print(\"el resultado de \" + str(a) +\" \"+ str(b) +\" \" + str(c) + \" es igual a \" + str(suma))\n",
    "elif b == '-':\n",
    "    resta = a - c\n",
    "    print(\"el resultado de \" + str(a) +\" \"+ str(b) +\" \" + str(c) + \" es igual a \" + str(resta))\n",
    "elif b == '/':\n",
    "    if c != 0:\n",
    "        division = a / c\n",
    "        print(\"el resultado de \" + str(a) +\" \"+ str(b) +\" \" + str(c) + \" es igual a \" + str(division))\n",
    "    else:\n",
    "        print(\"Error, no se puede dividir por \" + str(c))\n",
    "elif b == '*':\n",
    "    multiplicacion = a * c\n",
    "    print(\"el resultado de \" + str(a) +\" \"+ str(b) +\" \" + str(c) + \" es igual a \" + str(multiplicacion))\n",
    "elif b == '^':\n",
    "    exponente = a ^ c\n",
    "    print(\"el resultado de \" + str(a) +\" \"+ str(b) +\" \" + str(c) + \" es igual a \" + str(exponente))\n",
    "elif b == '%':\n",
    "    modulo = a % c\n",
    "    print(\"el resultado de \" + str(a) +\" \"+ str(b) +\" \" + str(c) + \" es igual a \" + str(modulo))\n",
    "\n",
    "\n",
    "    "
   ]
  },
  {
   "cell_type": "code",
   "execution_count": null,
   "metadata": {},
   "outputs": [],
   "source": [
    "a = input(\"Introduce un número \")\n",
    "b = input(\"Introduce otro número \")\n",
    "if a.isnumeric == False or b.isnumeric == False:\n",
    "    print(\"Los datos introducidos no son correctos\")\n",
    "    exit()\n",
    "\n"
   ]
  },
  {
   "cell_type": "markdown",
   "metadata": {},
   "source": [
    "\n",
    "***\n"
   ]
  },
  {
   "cell_type": "markdown",
   "metadata": {},
   "source": [
    "## Iterators"
   ]
  },
  {
   "cell_type": "code",
   "execution_count": null,
   "metadata": {},
   "outputs": [],
   "source": [
    "# While... - break, continue, else (While va seguido normalmente \n",
    "# de alguna de estas palabras, para salir del bucle, seguir o añadir otra ruta)\n",
    "\n",
    "# For..."
   ]
  },
  {
   "cell_type": "code",
   "execution_count": 2,
   "metadata": {},
   "outputs": [
    {
     "name": "stdout",
     "output_type": "stream",
     "text": [
      "[5, 10, 15, 20, 25, 30, 35, 40, 45, 50, 55, 60, 65, 70, 75, 80, 85, 90, 95, 100, 105, 110, 115, 120, 125, 130, 135, 140, 145, 150, 155, 160, 165, 170, 175, 180, 185, 190, 195, 200, 205, 210, 215, 220, 225, 230, 235, 240, 245, 250, 255, 260, 265, 270, 275, 280, 285, 290, 295, 300, 305, 310, 315, 320, 325, 330, 335, 340, 345, 350, 355, 360, 365, 370, 375, 380, 385, 390, 395, 400, 405, 410, 415, 420, 425, 430, 435, 440, 445, 450, 455, 460, 465, 470, 475, 480, 485, 490, 495, 500, 505, 510, 515, 520, 525, 530, 535, 540, 545, 550, 555, 560, 565, 570, 575, 580, 585, 590, 595, 600, 605, 610, 615, 620, 625, 630, 635, 640, 645, 650, 655, 660, 665, 670, 675, 680, 685, 690, 695, 700, 705, 710, 715, 720, 725, 730, 735, 740, 745, 750, 755, 760, 765, 770, 775, 780, 785, 790, 795, 800, 805, 810, 815, 820, 825, 830, 835, 840, 845, 850, 855, 860, 865, 870, 875, 880, 885, 890, 895, 900, 905, 910, 915, 920, 925, 930, 935, 940, 945, 950, 955, 960, 965, 970, 975, 980, 985, 990, 995]\n"
     ]
    }
   ],
   "source": [
    "# ejemplo datos...\n",
    "\n",
    "import random\n",
    "\n",
    "# random.seed() -- la extension seed nos deja generar una lista arelatoria de datos\n",
    "# si es entre parentesis es una tupla, lista inmutable. Si es con [] es una list anormal. \n",
    "\n",
    "# range es una funcion que genera una lista, le podemos decir desde donde empieza (star), donde acaba (stop)\n",
    "# y los pasos hasta llegar (step)\n",
    "\n",
    "names = [] #es la variable global porque se encuentra fuera de la función, bucle o del iterator. \n",
    "for name in range(5,1000,5):\n",
    "    names.append(name)\n",
    "print(names)\n",
    "\n"
   ]
  },
  {
   "cell_type": "code",
   "execution_count": 3,
   "metadata": {},
   "outputs": [
    {
     "name": "stdout",
     "output_type": "stream",
     "text": [
      "[80, 855, 980, 220, 685]\n"
     ]
    }
   ],
   "source": [
    "names = [] #es la variable global porque se encuentra fuera de la función, bucle o del iterator. \n",
    "for name in range(5,1000,5):\n",
    "    names.append(name)\n",
    "print(random.choices(names,k=5)) # Con choices podemos elegir de una lista los numeros que queramos de forma aleatoria. \n",
    "\n",
    " \n"
   ]
  },
  {
   "cell_type": "code",
   "execution_count": 11,
   "metadata": {},
   "outputs": [
    {
     "name": "stdout",
     "output_type": "stream",
     "text": [
      "[56, 3, 34, 1, 11]\n"
     ]
    }
   ],
   "source": [
    "random.seed(666) # Con seed lo que va a hacer que salgan siempre los mismo números, los numeros en parentesis determinan\n",
    "# los numeros que nos mostrará. Son las denominadas semillas. \n",
    "name = []\n",
    "for name in range(100):\n",
    "    names.append(name)\n",
    "print(random.choices(names,k=5))\n",
    "\n"
   ]
  },
  {
   "cell_type": "markdown",
   "metadata": {},
   "source": [
    "\n",
    "***\n"
   ]
  },
  {
   "cell_type": "markdown",
   "metadata": {},
   "source": [
    "### Jugamos a los dados\n",
    "\n",
    "````\n",
    "Guess a number between 1 and 5: 4\n",
    "Guess a number between 1 and 5: 4\n",
    "````\n",
    "\n",
    "El objetivo es acertar un número tirando unos dados. "
   ]
  },
  {
   "cell_type": "code",
   "execution_count": null,
   "metadata": {},
   "outputs": [],
   "source": []
  },
  {
   "cell_type": "code",
   "execution_count": null,
   "metadata": {},
   "outputs": [],
   "source": [
    "##### Importamos las librerias\n",
    "import random\n",
    "\n",
    "# Declaración de variables\n",
    "value = random.randint(1,6)\n",
    "count = 0\n",
    "guess = 0\n",
    "\n",
    "# Creamos el iterador\n",
    "\n",
    "while guess != value:\n",
    "    count += 1 # incremento\n",
    "    guess = input(\"Adivina un numero entre 1 y 6: \")\n",
    "    if guess.isnumeric():\n",
    "        guess = int()\n",
    "else: \n",
    "    print(\"Has adivinado en {count} ocasiones!\".format(count)) #.format hace que introduzcamos dentro de un str el valor\n",
    "    # imporante, dentro del str tiene que estar en corchetes {}\n",
    "\n"
   ]
  },
  {
   "cell_type": "markdown",
   "metadata": {},
   "source": [
    "### Mejora del juego del dado: "
   ]
  },
  {
   "cell_type": "code",
   "execution_count": null,
   "metadata": {},
   "outputs": [],
   "source": []
  }
 ],
 "metadata": {
  "kernelspec": {
   "display_name": "Python 3",
   "language": "python",
   "name": "python3"
  },
  "language_info": {
   "codemirror_mode": {
    "name": "ipython",
    "version": 3
   },
   "file_extension": ".py",
   "mimetype": "text/x-python",
   "name": "python",
   "nbconvert_exporter": "python",
   "pygments_lexer": "ipython3",
   "version": "3.8.3"
  }
 },
 "nbformat": 4,
 "nbformat_minor": 4
}
