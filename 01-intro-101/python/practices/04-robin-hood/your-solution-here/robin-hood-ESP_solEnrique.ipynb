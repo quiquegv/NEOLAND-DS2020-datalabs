{
 "cells": [
  {
   "cell_type": "markdown",
   "metadata": {},
   "source": [
    "# Robin Hood: \n",
    "Estamos en plena competición para ganar el concurso de tiro con arco en Sherwood. Con nuestro arco y flechas disparamos sobre una diana e intentamos acertar lo más cerca posible del centro. \n",
    "\n",
    "El centro de la diana viene representado por los valores (0, 0) en los ejes de coordenadas. \n",
    "\n",
    "## Objetivos: \n",
    "* estructuras de datos: listas, conjuntos, tuplas\n",
    "* operadores lógicos: if-elif-else\n",
    "* bucle: while/for\n",
    "* cálculo de mínimo (sorting opcional)\n",
    "\n",
    "## Descripción: \n",
    "En el espacio de 2 dimensiones un punto se puede definir por un par de valores que corresponden a la coordenada horizontal (x) y a la vertical (y). El espacio puede quedar dividido en 4 zonas (cuadrantes): Q1, Q2, Q3, Q4. Cuyo punto de unión único es el punto (0, 0). \n",
    "\n",
    "Si un punto se encuentra en Q1 tanto su coordenada x como la y son positivas. Te dejo un enlace a wikipedia para que te familiarices con estos cuadrantes. \n",
    "\n",
    "https://es.wikipedia.org/wiki/Coordenadas_cartesianas\n",
    "\n",
    "https://es.wikipedia.org/wiki/Distancia_euclidiana\n",
    "\n",
    "## Tareas\n",
    "1. Robin Hood es famoso por acertar a una flecha con otra flecha. ¿Lo ha conseguido? \n",
    "2. Calcula cuántos flechazos han caido en cada cuadrante. \n",
    "3. Halla el punto más cercano al centro. Calcula su distancia al centro\n",
    "4. Si la diana tiene un radio de 9, calcula el número de flechas que hay que recoger al bosque. "
   ]
  },
  {
   "cell_type": "code",
   "execution_count": 2,
   "metadata": {},
   "outputs": [],
   "source": [
    "puntos = [(4,5), (-0,2), (4,7), (1,-3), (3,-2), (4,5), \n",
    "          (3,2), (5,7), (-5,7), (2,2), (-4,5), (0,-2), \n",
    "          (-4,7), (-1,3), (-3,2), (-4,-5), (-3,2), \n",
    "          (5,7), (5,7), (2,2), (9, 9), (-8, -9)]\n",
    "\n",
    "# 1. Robin Hood es famoso por acertar a una flecha con otra flecha. ¿Lo ha conseguido? \n",
    "\n",
    "\n",
    "# 2. Calcula cuántos flechazos han caido en cada cuadrante. \n",
    "\n",
    "\n",
    "# 3. Halla el punto más cercano al centro. Calcula su distancia al centro\n",
    "# Definir una función que calcula la distancia al centro puede servir de ayuda. \n",
    "\n",
    "\n",
    "# 4. Si la diana tiene un radio de 9, calcula el número de flechas que hay que recoger al bosque. \n",
    "\n"
   ]
  },
  {
   "cell_type": "code",
   "execution_count": 9,
   "metadata": {
    "tags": []
   },
   "outputs": [
    {
     "output_type": "stream",
     "name": "stdout",
     "text": "Robin ha conseguido hacertar una flecha con otra o más flechas en: [(5, 7), (4, 5), (2, 2), (-3, 2)]\n"
    }
   ],
   "source": [
    "# 1. Robin Hood es famoso por acertar a una flecha con otra flecha. ¿Lo ha conseguido? \n",
    "\n",
    "# Ver si coinciden las coordenadas de dos o más lanzamientos\n",
    "puntos_coincidentes = []\n",
    "for i in set(puntos):\n",
    "    if puntos.count(i) >= 2:\n",
    "        puntos_coincidentes.append(i)\n",
    "print(\"Robin ha conseguido hacertar una flecha con otra o más flechas en: {}\".format(puntos_coincidentes))\n",
    "\n",
    "\n",
    "# Posible mejora, hacer los mismo pero indicando en que puntos lo ha conseguido. \n",
    "\n",
    "\n"
   ]
  },
  {
   "cell_type": "code",
   "execution_count": 30,
   "metadata": {
    "tags": []
   },
   "outputs": [
    {
     "output_type": "stream",
     "name": "stdout",
     "text": "En el Q1 hay 11 puntos, en el Q2 hay 6 puntos, en el Q3 hay 3 y en el Q4 hay 2\n"
    }
   ],
   "source": [
    "# 2. Calcula cuántos flechazos han caido en cada cuadrante. \n",
    "\n",
    "# A través de los positivos y negativos. \n",
    "# Hago que sean mayor e igual que cero para asignar los lanzamientos que han caido en alguna de las líneas de \n",
    "# abscisas u ordenadas, he seguido el siguiente criterio:\n",
    "\n",
    "# es Q1 si la abscisa es positiva o 0 y la ordenada es positiva.\n",
    "\n",
    "# es Q2 si la abscisa es negativa y la ordenada positiva o 0.\n",
    "\n",
    "# es Q3 si la abscisa es negativa o 0 y la ordenada negativa.\n",
    "\n",
    "# es Q4 sila abscisa es positiva y la ordenada negativa o 0.\n",
    "\n",
    "\n",
    "abscisa = 0\n",
    "ordenada = 0\n",
    "Q1 = 0\n",
    "Q2 = 0\n",
    "Q3 = 0\n",
    "Q4 = 0\n",
    "for abscisa,ordenada in puntos:\n",
    "    if abscisa >= 0 and ordenada > 0:\n",
    "        Q1 += 1\n",
    "    elif abscisa < 0 and ordenada >= 0:\n",
    "        Q2 += 1\n",
    "    elif abscisa <= 0 and ordenada < 0:\n",
    "        Q3 += 1\n",
    "    elif abscisa > 0 and ordenada <= 0:\n",
    "        Q4 += 1\n",
    "\n",
    "print(\"En el Q1 hay {} puntos, en el Q2 hay {} puntos, en el Q3 hay {} y en el Q4 hay {}\".format(Q1,Q2,Q3,Q4))\n",
    "\n",
    "\n"
   ]
  },
  {
   "cell_type": "code",
   "execution_count": 57,
   "metadata": {
    "tags": []
   },
   "outputs": [
    {
     "output_type": "stream",
     "name": "stdout",
     "text": "2.00\n[6.4031242374328485, 2.0, 8.06225774829855, 3.1622776601683795, 3.605551275463989, 6.4031242374328485, 3.605551275463989, 8.602325267042627, 8.602325267042627, 2.8284271247461903, 6.4031242374328485, 2.0, 8.06225774829855, 3.1622776601683795, 3.605551275463989, 6.4031242374328485, 3.605551275463989, 8.602325267042627, 8.602325267042627, 2.8284271247461903, 12.727922061357855, 12.041594578792296]\n"
    }
   ],
   "source": [
    "# 3. Halla el punto más cercano al centro. Calcula su distancia al centro\n",
    "# Definir una función que calcula la distancia al centro puede servir de ayuda. \n",
    "\n",
    "# hay que hacer la diferencia entre el centro y la flecha: \n",
    "# Lo hacemos creando una función que trate las coordenadas como lados de un triangulo rectángulo y nos calcule la hipotenusa. \n",
    "# Otra forma de hacerlo es a través de vectores pero en ese caso necesitamos la dirección. \n",
    "def hipotenusa(a,b):\n",
    "    return ((a**2)+(b**2))**(1/2)\n",
    "\n",
    "\n",
    "distancia = []\n",
    "for abscisa,ordenada in puntos:\n",
    "    d = hipotenusa(abscisa,ordenada)\n",
    "    distancia.append(d)\n",
    "print(\"{:.2f}\".format(min(distancia)))\n"
   ]
  },
  {
   "cell_type": "code",
   "execution_count": 48,
   "metadata": {
    "tags": []
   },
   "outputs": [
    {
     "output_type": "stream",
     "name": "stdout",
     "text": "2\n"
    }
   ],
   "source": [
    "# 4. Si la diana tiene un radio de 9, calcula el número de flechas que hay que recoger al bosque. \n",
    "\n",
    "# Como hemos calculado previamente la distancia de las flechas respecto al centro sabemos que todas aquellas \n",
    "# superiores a 9 no han ido a la diana. Habría que hacer un condicionante que mostrara todas aquellas respecto superiores a 9. \n",
    "bosque = []\n",
    "for i in distancia:\n",
    "    if i > 9:\n",
    "        bosque.append(i)\n",
    "print(len(bosque))\n",
    "\n"
   ]
  }
 ],
 "metadata": {
  "kernelspec": {
   "display_name": "Python 3",
   "language": "python",
   "name": "python3"
  },
  "language_info": {
   "codemirror_mode": {
    "name": "ipython",
    "version": 3
   },
   "file_extension": ".py",
   "mimetype": "text/x-python",
   "name": "python",
   "nbconvert_exporter": "python",
   "pygments_lexer": "ipython3",
   "version": "3.8.3-final"
  }
 },
 "nbformat": 4,
 "nbformat_minor": 2
}