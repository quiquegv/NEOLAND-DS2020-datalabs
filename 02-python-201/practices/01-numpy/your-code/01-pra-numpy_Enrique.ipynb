{
 "cells": [
  {
   "cell_type": "markdown",
   "metadata": {},
   "source": [
    "# Programación 201"
   ]
  },
  {
   "cell_type": "markdown",
   "metadata": {},
   "source": [
    "Librerías científicas en Python: `NumPy`\n",
    "------------------------------------------------------"
   ]
  },
  {
   "cell_type": "markdown",
   "metadata": {},
   "source": [
    "### Ejercicio 1\n",
    "Calculad la norma y el determinante de la siguiente matriz: ```[[1, 0], [2, -1]]```."
   ]
  },
  {
   "cell_type": "code",
   "execution_count": 2,
   "metadata": {},
   "outputs": [
    {
     "output_type": "execute_result",
     "data": {
      "text/plain": [
       "2.449489742783178"
      ]
     },
     "metadata": {},
     "execution_count": 2
    }
   ],
   "source": [
    "# Respuesta\n",
    "import numpy as np #importo la librería\n",
    "\n",
    "Matriz = [[1, 0], [2, -1]]\n",
    "\n",
    "np.linalg.det(Matriz)\n",
    "np.linalg.norm(Matriz)\n",
    "# Fuente: https://pybonacci.org/2012/06/07/algebra-lineal-en-python-con-numpy-i-operaciones-basicas/ "
   ]
  },
  {
   "cell_type": "markdown",
   "metadata": {},
   "source": [
    "### Ejercicio 2 \n",
    "Evaluad las funciones arcoseno y arcocoseno en el intervalo [0,1] y con paso (resolución) de 0.1 y guardadlas en dos _arrays_."
   ]
  },
  {
   "cell_type": "code",
   "execution_count": 5,
   "metadata": {},
   "outputs": [
    {
     "output_type": "execute_result",
     "data": {
      "text/plain": [
       "array([0.        , 0.10016742, 0.20135792, 0.30469265, 0.41151685,\n",
       "       0.52359878, 0.64350111, 0.7753975 , 0.92729522, 1.11976951])"
      ]
     },
     "metadata": {},
     "execution_count": 5
    }
   ],
   "source": [
    "# Respuesta\n",
    "\n",
    "arcocoseno = np.arccos(np.arange(0,1,0.1)) #la función del acocoseno es arccos\n",
    "arcocoseno\n",
    "arcoseno = np.arcsin(np.arange(0,1,0.1)) # la del acoseno es arcsin\n",
    "arcoseno"
   ]
  },
  {
   "cell_type": "markdown",
   "metadata": {},
   "source": [
    "### Ejercicio 3\n",
    "Generad una lista de 100 valores enteros aleatorios de 0-9. Realizad los siguientes cálculos utilizando métodos de _numpy_:\n",
    "- Media y desviación estándar de los valores de la lista\n",
    "- Valor máximo y mínimo\n",
    "- Sumad todos los valores de la lista\n",
    "- Conseguid una lista de valores únicos"
   ]
  },
  {
   "cell_type": "code",
   "execution_count": 6,
   "metadata": {
    "tags": []
   },
   "outputs": [
    {
     "output_type": "stream",
     "name": "stdout",
     "text": [
      "[3 8 6 2 4 9 5 4 3 1 6 0 7 4 9 5 9 9 6 5 8 3 7 5 0 7 8 3 3 2 4 0 1 5 8 0 2\n 8 6 2 1 5 1 9 0 1 3 2 6 9 2 6 9 1 5 2 8 2 2 0 2 2 7 4 5 5 7 5 0 0 0 4 4 1\n 5 3 5 7 2 9 6 0 0 6 3 9 1 4 0 9 6 3 9 1 9 3 5 5 0 8]\n4.25\n2.92702921065028\n9\n0\n425\n"
     ]
    },
    {
     "output_type": "execute_result",
     "data": {
      "text/plain": [
       "array([0, 1, 2, 3, 4, 5, 6, 7, 8, 9])"
      ]
     },
     "metadata": {},
     "execution_count": 6
    }
   ],
   "source": [
    "# Respuesta\n",
    "import random\n",
    "lista = [] # primera forma de hacerlo con un for\n",
    "for i in range(0,100): # le digo que recorra un rango de  0 a 100\n",
    "    numero = random.randint(0,9) # por cada posición en el rango, asigne un numero aleatorio, función ranfom.randit, entre el 0 y el 9\n",
    "    lista.append(numero) # cada valor asignado, me lo mete en una lista. \n",
    "len(lista)\n",
    "\n",
    "lista = [random.randint(0,9) for i in range(0,100)] # Segunda forma de hacerlo. Usando una list comprehension. Es igual que la anterior pero más simple. \n",
    "lista = np.array(lista)\n",
    "print(lista)\n",
    "\n",
    "Media = np.mean(lista)\n",
    "print(Media)\n",
    "Desviaciontip = np.std(lista)\n",
    "print(Desviaciontip)\n",
    "maximo = np.max(lista)\n",
    "print(maximo)\n",
    "minimo = np.min(lista)\n",
    "print(minimo)\n",
    "suma = np.sum(lista)\n",
    "print(suma)\n",
    "unicos = np.unique(lista)\n",
    "unicos"
   ]
  },
  {
   "cell_type": "markdown",
   "metadata": {},
   "source": [
    "### Ejercicio 4\n",
    "Ordenad la matriz bidimensional ```[[5,1,7], [0,7,4], [7,23,1]]``` por filas utilizando como algoritmo de ordenación el [Merge sort](https://en.wikipedia.org/wiki/Merge_sort).\n",
    "\n",
    "**Hint:** No es necesario que implementéis el algoritmo de ordenación a mano, NumPy contiene métodos para realizar diferentes tipos de ordenación sobre diferentes estructuras de datos."
   ]
  },
  {
   "cell_type": "code",
   "execution_count": 7,
   "metadata": {
    "tags": []
   },
   "outputs": [
    {
     "output_type": "stream",
     "name": "stdout",
     "text": [
      "[[ 1  5  7]\n [ 0  4  7]\n [ 1  7 23]]\n"
     ]
    }
   ],
   "source": [
    "# Respuesta\n",
    "\n",
    "matriz2 = np.array([[5,1,7], [0,7,4], [7,23,1]])\n",
    "matriz2\n",
    "print(np.sort(matriz2)) # la función sort ordena los valores de cada matriz. Pero estoy seguro que sea la forma correcta que se pide. "
   ]
  },
  {
   "cell_type": "code",
   "execution_count": 8,
   "metadata": {
    "tags": []
   },
   "outputs": [
    {
     "output_type": "stream",
     "name": "stdout",
     "text": [
      "[ 0  1  1  4  5  7  7  7 23]\n"
     ]
    }
   ],
   "source": [
    "print(np.sort(matriz2, None)) # Si introducimos el valro None, lo que hace es aplanar la matriz. "
   ]
  },
  {
   "cell_type": "markdown",
   "metadata": {},
   "source": [
    "### Ejercicio 5\n",
    "Definid una función que dadas dos matrices, devuelva el valor absoluto de la multiplicación de los determinantes ambas, es decir, dadas A y B, nuestra función devolverá `|det(A) * det(B)|`."
   ]
  },
  {
   "cell_type": "code",
   "execution_count": 8,
   "metadata": {},
   "outputs": [
    {
     "output_type": "execute_result",
     "data": {
      "text/plain": [
       "2.0"
      ]
     },
     "metadata": {},
     "execution_count": 8
    }
   ],
   "source": [
    "# Respuesta\n",
    "\n",
    "def producto_determinantes(A,B): # defino una función que multiplica los determinantes de dos matrices. \n",
    "    determinante_A = np.linalg.det(A) # la función linalg.det calcula el determinante de una matriz Fuente:https://stackoverrun.com/es/q/68017\n",
    "    determinante_B = np.linalg.det(B)\n",
    "    return abs(determinante_A * determinante_B) # con naumpy se puede usar también np.absolute() https://numpy.org/doc/stable/reference/generated/numpy.absolute.html\n",
    "\n",
    "matriz_a = np.array([[2,-3],[-4,5]]) # lo compruebo con dos matrices cualquiera. \n",
    "matriz_b = np.array([[1,0],[2,-1]])     \n",
    "producto_determinantes(matriz_a, matriz_b)\n"
   ]
  },
  {
   "cell_type": "markdown",
   "metadata": {},
   "source": [
    "### Ejercicio 6\n",
    "Cread una matriz 10x10 que corresponda con la [matriz identidad](https://es.wikipedia.org/wiki/Matriz_identidad) usando generadores básicos de arrays. Cread una matriz identidad 10x10 (esta vez usando generadores especificos de matrices identidad) y comprobad que ambas matrices son iguales\n",
    "\n",
    "**Consideraciones**:\n",
    "- La primera matriz debe crearse usando constructores básicos de arrays, como los presentados en los Notebooks de teoría.\n",
    "* La segunda matriz debe generarse utilizando el generador de matrices identidad de numpy.\n",
    "* La comparación debe devolver True si las matrices son iguales (un único True), False de no ser así."
   ]
  },
  {
   "cell_type": "code",
   "execution_count": 10,
   "metadata": {
    "tags": []
   },
   "outputs": [
    {
     "output_type": "execute_result",
     "data": {
      "text/plain": [
       "True"
      ]
     },
     "metadata": {},
     "execution_count": 10
    }
   ],
   "source": [
    "# Respuesta\n",
    "matriz_identidad = np.zeros(10*10).reshape(10,10) # así creo la matriz 10*10 con 0\n",
    "matriz_identidad\n",
    "for i in range(0,10):\n",
    "    matriz_identidad[i][i] = 1 # Genero un for que recorra la matriz en su diagonal y sustituya los valores 0 por 1\n",
    "matriz_identidad   \n",
    "\n",
    "identidad_numpy = np.identity(10) # con la función np.identity creo la matriz unidad 10*10 de numpy\n",
    "\n",
    "id(matriz_identidad)\n",
    "id(identidad_numpy)\n",
    "\n",
    "comprobacion = np.equal(matriz_identidad,identidad_numpy) # la comprobación de que sean iguales la hago en dos pasos. Primero creo una matriz que compara elemento por elemento si son iguales y devuelve true o false. Debería generar una matriz de Trues\n",
    "comprobacion.all() # despues con .all() compruebo que todos los elementos de la matriz sean iguales, Si son todos trues me devuelve true y demuestra que son iguales las matrices matriz_identidad y identidad_numpy"
   ]
  },
  {
   "cell_type": "markdown",
   "metadata": {},
   "source": [
    "### Ejercicio 7\n",
    "Cread una matriz de 2x6 donde los valores de cada posición `(i, j)` correspondan a `i^2+j` para todo `i` par, `i/j^2` para todo `i` impar."
   ]
  },
  {
   "cell_type": "code",
   "execution_count": 11,
   "metadata": {},
   "outputs": [
    {
     "output_type": "execute_result",
     "data": {
      "text/plain": [
       "array([[0, 1, 2, 3, 4, 5],\n",
       "       [0, 1, 0, 0, 0, 0]])"
      ]
     },
     "metadata": {},
     "execution_count": 11
    }
   ],
   "source": [
    "# Respuesta\n",
    "\n",
    "matriz2x6 = np.arange(2*6).reshape(2,6) # Genero la matriz de 2x6\n",
    "\n",
    "for i in range(matriz2x6.shape[0]): # ejecuto un for doble que recorra primero las filas i y despues de las columnas j\n",
    "    for j in range(matriz2x6.shape[1]):\n",
    "        if i%2 == 0: # Con un if evaluo si es par o impar. En este caso Cogerá como par solo la primera fila (valor 0) y ejecuja la siguiente operación i^2+j\n",
    "            matriz2x6[i][j] = i**2+j\n",
    "        else: # si no es par, ejecuta i/j**2. He añadido un try -except porque para el valor j = 0 da un error en la división, entonces en ese caso le digo que ponga el valor 0\n",
    "            try:\n",
    "                matriz2x6[i][j] = i/j**2\n",
    "            except:\n",
    "                matriz2x6[i][j] = 0\n",
    "\n",
    "matriz2x6\n",
    "\n"
   ]
  },
  {
   "cell_type": "markdown",
   "metadata": {},
   "source": [
    "### Ejercicio 8\n",
    "Cread dos matrices de tamaño 5x5 con números reales aleatorios. Obtened el resultado de multiplicar ambas matrices usando los dos métodos de multiplicación de matrices vistos en el Notebook de teoría. ¿Cuál es la diferencia entre ambos resultados? Cread ahora dos matrices de tamaño 4x5 y 5x5 respectivamente, repetid la operación. Describid cuál de los métodos de multiplicación podéis aplicar y porqué"
   ]
  },
  {
   "cell_type": "code",
   "execution_count": 64,
   "metadata": {},
   "outputs": [
    {
     "output_type": "stream",
     "name": "stdout",
     "text": [
      "[[3 7 8 9 8]\n [9 0 1 3 4]\n [8 1 6 4 4]\n [7 1 1 7 5]\n [3 2 2 0 7]]\n[[1 9 4 3 9]\n [6 2 1 4 1]\n [3 3 1 6 0]\n [5 0 0 0 7]\n [5 2 9 8 8]]\n"
     ]
    }
   ],
   "source": [
    "# Respuesta\n",
    "\n",
    "matriz_random1 = [random.randint(0,9) for i in range(0,25)] # Creo la matriz con numeros del 0 al 9  por simplificar. \n",
    "matriz_random1 = np.array(matriz_random1).reshape(5,5)\n",
    "print(matriz_random1)\n",
    "\n",
    "matriz_random2 = [random.randint(0,9) for i in range(0,25)] # Creo la matriz con numeros del 0 al 9  por simplificar. \n",
    "matriz_random2 = np.array(matriz_random2).reshape(5,5)\n",
    "print(matriz_random2)"
   ]
  },
  {
   "cell_type": "code",
   "execution_count": 66,
   "metadata": {},
   "outputs": [
    {
     "output_type": "stream",
     "name": "stdout",
     "text": [
      "[[ 3 63 32 27 72]\n [54  0  1 12  4]\n [24  3  6 24  0]\n [35  0  0  0 35]\n [15  4 18  0 56]]\n[[154  81  99 149 161]\n [ 47  92  73  65 134]\n [ 72 100  75  96 133]\n [ 76  78  75  71 153]\n [ 56  51  79  85  85]]\n"
     ]
    }
   ],
   "source": [
    "multiplicada1 = matriz_random1*matriz_random2 # Este metodo lo que hace es multiplicar cada posición de la primera matriz por la misma posición de la segunda matriz. \n",
    "print(multiplicada1)\n",
    "multiplicada2 = matriz_random1.dot(matriz_random2) # Este método hace la multiplicación matricial tradicional. El resultado de cada celda corresponde a la suma de la multiplicación de cada fila de la primera matriz por los valores de la columna de la segunda matriz. Por ejemplo, el valor 154 es resultado de sumar las multiplicaciones de los valores de la primera fila de la primera matriz por los valores de la primera columna de la segunda matriz, 154 =  3*1+7*6+8*3+9*5+8*5.\n",
    "print(multiplicada2)"
   ]
  },
  {
   "cell_type": "code",
   "execution_count": 74,
   "metadata": {},
   "outputs": [
    {
     "output_type": "stream",
     "name": "stdout",
     "text": [
      "[[0 4 9 7 4]\n [9 8 9 0 3]\n [0 7 0 8 2]\n [7 3 9 7 0]]\n[[0 4 5 3 7]\n [2 5 8 0 7]\n [3 0 3 5 3]\n [6 8 1 2 9]\n [8 0 8 8 1]]\n[[109  76  98  91 122]\n [ 67  76 160  96 149]\n [ 78  99  80  32 123]\n [ 75  99  93  80 160]]\n"
     ]
    }
   ],
   "source": [
    "\n",
    "matriz_random3 = [random.randint(0,9) for i in range(0,20)] # Creo la matriz con numeros del 0 al 9  por simplificar. \n",
    "matriz_random3 = np.array(matriz_random3).reshape(4,5)\n",
    "print(matriz_random3)\n",
    "\n",
    "matriz_random4 = [random.randint(0,9) for i in range(0,25)] # Creo la matriz con numeros del 0 al 9  por simplificar. \n",
    "matriz_random4 = np.array(matriz_random4).reshape(5,5)\n",
    "print(matriz_random4)\n",
    "\n",
    "#multiplicada3 = matriz_random3*matriz_random4  # Este tipo da error porque las dimensiones de las matrices a multiplicar deben ser iguales. \n",
    "#print(multiplicada3)\n",
    "multiplicada4 = matriz_random3.dot(matriz_random4) # hay que aplicar este tipo de multiplicación. Para que no de error tampoco este tipo de multiplicación, el número de columnas de la primera matriz debe ser igual que el numero de filas de la seunda matriz. \n",
    "print(multiplicada4)"
   ]
  }
 ],
 "metadata": {
  "kernelspec": {
   "display_name": "Python 3",
   "language": "python",
   "name": "python3"
  },
  "language_info": {
   "codemirror_mode": {
    "name": "ipython",
    "version": 3
   },
   "file_extension": ".py",
   "mimetype": "text/x-python",
   "name": "python",
   "nbconvert_exporter": "python",
   "pygments_lexer": "ipython3",
   "version": "3.8.3-final"
  }
 },
 "nbformat": 4,
 "nbformat_minor": 4
}