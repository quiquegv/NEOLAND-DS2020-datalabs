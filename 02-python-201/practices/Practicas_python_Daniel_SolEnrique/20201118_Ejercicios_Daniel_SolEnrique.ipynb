{
 "cells": [
  {
   "cell_type": "markdown",
   "metadata": {},
   "source": [
    "# Ejercicios de Programación Resueltos"
   ]
  },
  {
   "cell_type": "markdown",
   "metadata": {},
   "source": [
    "## Ejercicio 1"
   ]
  },
  {
   "cell_type": "markdown",
   "metadata": {},
   "source": [
    "Calcule una función que determine si un año es bisiesto o no.\n",
    "Recuerde que un año es bisiesto si es multiplo de 4 o es multiplo de 400.\n",
    "Es decir, los años 1700, 1800 o 1900 son divisbles por 4 divisibles pero no divisbles por 400.\n",
    "En cambio, los años 1600 o 2000 son divisbles por 4 divisibles y divisbles por 400."
   ]
  },
  {
   "cell_type": "code",
   "execution_count": 10,
   "metadata": {},
   "outputs": [],
   "source": [
    "# Respuesta\n",
    "def añobisiesto(Anyo): # hago la función con condicionantes\n",
    "    if Anyo%100 ==0: # Lo divido en dos, por un lado los de inicio de siglo, 1000,1100,1200, etc. Si estos años son divisibles por 400, es bisiesto. \n",
    "        if Anyo%400 ==0:\n",
    "            print(\"{} es un año bisiesto\".format(Anyo))\n",
    "        else:\n",
    "            print(\"{} no un año bisiesto\".format(Anyo))\n",
    "    elif Anyo%4 == 0: # El otro grupo son los no divisibles por 100. En este grupo, están el resto de años, si es divisible por 4 entonces es bisiesto. \n",
    "        print(\"{} es un año bisiesto\".format(Anyo))\n",
    "    else:\n",
    "       print(\"{} no un año bisiesto\".format(Anyo))\n",
    "\n",
    "    \n",
    "\n"
   ]
  },
  {
   "cell_type": "code",
   "execution_count": 22,
   "metadata": {},
   "outputs": [
    {
     "output_type": "stream",
     "name": "stdout",
     "text": [
      "800 es un año bisiesto\n"
     ]
    }
   ],
   "source": [
    "añobisiesto(800)"
   ]
  },
  {
   "cell_type": "markdown",
   "metadata": {},
   "source": [
    "## Ejercicio 2"
   ]
  },
  {
   "cell_type": "markdown",
   "metadata": {},
   "source": [
    "Escriba la función que dada una cantidad de dinero calcule el desglose en billetes y monedas, empezando por el billete mayor al menor y contemabldo solo las monedas de 2€ y 1€. Por ejemplo, para la cantidad de dinero, 1378€\n",
    "* 2 billetes de 500€\n",
    "* 1 billete  de 200€\n",
    "* 1 billete  de 100€\n",
    "* 1 billete  de  50€\n",
    "* 1 billete  de  20€\n",
    "* 1 billete  de   5€\n",
    "* 1 moneda   de   2€\n",
    "* 1 moneda   de   1€"
   ]
  },
  {
   "cell_type": "code",
   "execution_count": 54,
   "metadata": {},
   "outputs": [],
   "source": [
    "# Respuesta\n",
    "import math # Cargo Math para usar el redondeo hacia abajo. \n",
    "monedas = [500,200,100,50,20,10,5,2,1] # listado con los tipos de monedas y billetes. \n",
    "def conteodinero(dinero): # Creo una función que cuente el dinero\n",
    "    dinero_restante = dinero # Le digo que el dinero es el dinero_restante, que será lo que quite en el for para ir asignando la cantidad de billetes. ejemplo, si son 1379, el for empezará por el billete de 500 y verá que puedo quitarle 2. Por tanto hare la operación dinero_restante = dinero_restante (1379) - 2 * 500. Y en la siguiente iteración quedarán 379 euro. \n",
    "    for i in monedas:\n",
    "        if dinero_restante >= i: # si en dinero que queda es mayor que la moneda que itera en ese momento lo ejecuta, sino salta a la siguiente. \n",
    "            cantidad_monedas = math.floor(dinero_restante/i) # Cojo el numero de billetes o monedas. \n",
    "            dinero_restante = dinero_restante - (cantidad_monedas*i) # Calculo el dinero restante como he dicho antes. \n",
    "            if cantidad_monedas == 1: # En el caso de que la cantidad de monedas sea 1 imprimira en singular. \n",
    "                if i>2: #  Si i es mayor que 2, imprimirá billete y si es menor moneda. ssssss\n",
    "                    print(\"{} billete de {}€\".format(cantidad_monedas,i))\n",
    "                else:\n",
    "                    print(\"{} moneda de {}€\".format(cantidad_monedas,i))\n",
    "            elif cantidad_monedas > 1: # En el caso de que la cantidad de monedas sea 2 o más imprimira en plural. \n",
    "                if i>2:\n",
    "                    print(\"{} billetes de {}€\".format(cantidad_monedas,i))\n",
    "                else:\n",
    "                    print(\"{} monedas de {}€\".format(cantidad_monedas,i))\n",
    "\n"
   ]
  },
  {
   "cell_type": "code",
   "execution_count": 56,
   "metadata": {},
   "outputs": [
    {
     "output_type": "stream",
     "name": "stdout",
     "text": [
      "2 billetes de 500€\n1 billete de 200€\n1 billete de 100€\n1 billete de 50€\n1 billete de 20€\n1 billete de 5€\n2 monedas de 2€\n"
     ]
    }
   ],
   "source": [
    "conteodinero(1379)"
   ]
  },
  {
   "cell_type": "markdown",
   "metadata": {},
   "source": [
    "## Ejercicio 3"
   ]
  },
  {
   "cell_type": "markdown",
   "metadata": {},
   "source": [
    "Un banco está intersado en lelvar el registro de clientes que solicitan una extracción de dinero de un cajero, para ello el cliente debe introducir la cantidad de dinero a extraer del cajero y éste le devolverá el desglose de dicha cantidad en billetede de 200 a 10 euros. \n",
    "\n",
    "Al finalizar la opreación, se debe quedar en un fichero de registro una traza de los billetes dispensado al cliente junto con su nombre, sus apellidos y la *hora local* en el que se realizó dicha operacion. Guarda el fichero en el formato que más comodo te resulte.\n",
    "\n",
    "Por ejemplo, para la cantidad de dinero, 370€\n",
    "* 1 billete  de 200€\n",
    "* 1 billete  de 100€\n",
    "* 1 billete  de  50€\n",
    "* 1 billete  de  20€\n"
   ]
  },
  {
   "cell_type": "code",
   "execution_count": 103,
   "metadata": {},
   "outputs": [],
   "source": [
    "# Genero un DF con las columnas que aparecen ahí, sin datos. Lo que voy a hacer es ejecutar una función que complete en formato csv un registro de las extracciones de cash con el número de billetes, la hora y el nombre del cliente.\n",
    "datos_bancarios = pd.DataFrame(columns=['Nombre_Cliente', \n",
    "                                        'Billetes_200€',\n",
    "                                        'Billetes_100€',\n",
    "                                        'Billetes_50€',\n",
    "                                        'Billetes_20€',\n",
    "                                        'Billetes_10€',\n",
    "                                        'Total_extraido',\n",
    "                                        'Fecha'])\n",
    "datos_bancarios.to_csv('datos_bancarios.csv', index=False) # Ese DF lo guardo en un CSV que será llamado por la función cada vez que se ejecute. "
   ]
  },
  {
   "cell_type": "code",
   "execution_count": 127,
   "metadata": {},
   "outputs": [],
   "source": [
    "import datetime\n",
    "import numpy as np\n",
    "import pandas as pd\n",
    "\n",
    "def importe(): # Esta función va a evaluar que el importe introducido por el cliente es multiplo de 10\n",
    "    cantidad = input(\"Por favor, indica la cantidad de dinero que quieras retirar\") # pido al cliente que me diga el importe que quiere sacar\n",
    "    if int(cantidad)%10 == 0:\n",
    "        return int(cantidad)\n",
    "    else:\n",
    "        print(\"La cantidad introducida no es correcta, asegurate de que es multiplo de 10\")\n",
    "        return importe()\n",
    "\n",
    "def registrobanco(): # para añadir datos al DF voy a generar una lista con los datos que necesito.\n",
    "    dato_bancario = [] # Genero la lista\n",
    "    nombre = input(\"Por favor, introduce tu nombre y apellidos\") # Pido al cliente que me indique su nombre\n",
    "    dato_bancario.append(nombre) # añado el nombre a la lista \n",
    "    cantidad_retirada = importe()\n",
    "    cantidad_restante = int(cantidad_retirada)\n",
    "    monedas = [200,100,50,20,10] # he creado una lista de los importes de las monedas\n",
    "    for i in monedas: # reciclo parte de la función del ejercicio anterior para este ejercicio, ejecuto un for dentro de monedas para saber cuantas de cada tengo qeu entregar al cliente. \n",
    "        if cantidad_restante >= i:\n",
    "            cantidad_monedas = math.floor(cantidad_restante/i)\n",
    "            cantidad_restante = cantidad_restante - (cantidad_monedas*i)\n",
    "            dato_bancario.append(cantidad_monedas)\n",
    "        else:\n",
    "            cantidad_monedas = 0\n",
    "            dato_bancario.append(cantidad_monedas)\n",
    "    dato_bancario.append(int(cantidad_retirada)) # Añado el importe total retirado\n",
    "    hora_local = datetime.datetime.now().strftime(\"%m/%d/%Y, %H:%M:%S\")\n",
    "    dato_bancario.append(hora_local)  # añado la fecha y hora del momento del registro\n",
    "    datos = pd.read_csv('datos_bancarios.csv') # leo el CSV que he creado previamente como un DF\n",
    "    datos.loc[len(datos)] = dato_bancario # añado al DF el importe creado previamente\n",
    "    datos.to_csv('datos_bancarios.csv', index = False) # finalmente guardo el DF como csv de nuevo. "
   ]
  },
  {
   "cell_type": "code",
   "execution_count": 129,
   "metadata": {},
   "outputs": [
    {
     "output_type": "stream",
     "name": "stdout",
     "text": [
      "La cantidad introducida no es correcta, asegurate de que es multiplo de 10\n"
     ]
    }
   ],
   "source": [
    "registrobanco()"
   ]
  }
 ],
 "metadata": {
  "kernelspec": {
   "display_name": "Python 3",
   "language": "python",
   "name": "python3"
  },
  "language_info": {
   "codemirror_mode": {
    "name": "ipython",
    "version": 3
   },
   "file_extension": ".py",
   "mimetype": "text/x-python",
   "name": "python",
   "nbconvert_exporter": "python",
   "pygments_lexer": "ipython3",
   "version": "3.8.3-final"
  }
 },
 "nbformat": 4,
 "nbformat_minor": 2
}