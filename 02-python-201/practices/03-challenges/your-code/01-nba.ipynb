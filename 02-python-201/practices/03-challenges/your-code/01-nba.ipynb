{
 "cells": [
  {
   "cell_type": "markdown",
   "metadata": {},
   "source": [
    "# Programación 201\n",
    "\n",
    "# NBA player of the week"
   ]
  },
  {
   "cell_type": "markdown",
   "metadata": {},
   "source": [
    "### Ejercicio 1\n",
    "\n",
    "# Descripción y enunciado\n",
    "El objetivo de esta actividad es la gestión y preparación de datos. La gestión de datos es una parte muy importante de cualquier proceso de minería de datos, ya que los datos se deben preparar y preprocesar antes de iniciar el proceso de extracción de conocimiento.\n",
    "Esta tarea ilustra algunos de los procedimientos básicos con los que nos podemos encontrar para preparar los datos: analizar los tipos de datos, tranformar valores, detectar e eliminar outliers, hacer un muestreo, etcétera.\n",
    "\n",
    "# Fichero de datos\n",
    "El conjunto de datos con el que trabajaremos en esta actividad surge de la bases de datos disponibles en Kaggle . En concreto, los datos corresponden a los jugadores nombrados jugadores de la semana desde la temporada 1984-1985 hasta la temporada 2017-2018. Estos datos nos ofrecen múltiples posibilidades para consolidar los conocimientos y competencias de manipulación de datos, preprocesado y análisis descriptivo. El fichero `NBA_player_of_the_week.csv` se encuentra adjunto.\n",
    "\n",
    "\n",
    "# Ingesta de datos\n",
    "Actualmente el fichero se encuentra en la misma carpeta de datos RMD, está en adjunto. Se enviará nueva práctica similar con los datos de ingesta a través de scraping / API / base de datos para R y Python.\n",
    "\n",
    "\n",
    "# Valoraciones\n",
    "- se valorarán los trabajos por los detalles, no vale con el solo enviar un trozo de código, sino la explicación es fundamental\n",
    "- explicar además los resumen de cada sección (carga, preparación, EDA, limpieza, nuevos atributos, discretización, split train-test)\n",
    "- conclusiones y comparativas son los más importantes para comenzar con Data Mining.\n",
    "\n",
    "**Diciembre 2020**\n",
    "- 1 Cargar un juego de datos\n",
    "- 1.1 Leer el fichero de datos “housePrices.txt”\n",
    "- 2 Consulta de los datos cargados\n",
    "- 2.1 Consulta de las etiquetas de los datos\n",
    "- 2.2 Consulta de datos\n",
    "- 3 Preparación de los datos\n",
    "- 3.1 Cambiamos los identificadores de filas y columnas\n",
    "- 3.2 Filtramos los datos\n",
    "- 3.3 Modificamos el contenido de los datos\n",
    "- 4 Split Train-Test\n",
    "- 4.1 Generamos dos conjuntos de datos train y test\n",
    "- 4.2 Guardamos los ficheros train y test en formato .csv\n"
   ]
  },
  {
   "source": [
    "## 1 Cargar un juego de datos\n",
    "*Leer el fichero de datos “NBA_player_of_the_week.csv” y guardar los datos en un objeto con identificador denominado nba.*"
   ],
   "cell_type": "markdown",
   "metadata": {}
  },
  {
   "cell_type": "code",
   "execution_count": 1,
   "metadata": {},
   "outputs": [],
   "source": [
    "# Lo primero cargo las librerias\n",
    "import numpy as np\n",
    "import pandas as pd"
   ]
  },
  {
   "cell_type": "code",
   "execution_count": 2,
   "metadata": {},
   "outputs": [
    {
     "output_type": "execute_result",
     "data": {
      "text/plain": [
       "      Age Conference          Date  Draft Year Height                  Player  \\\n",
       "0      29        NaN  Apr 14, 1985        1978    6-5  Micheal Ray Richardson   \n",
       "1      23        NaN   Apr 7, 1985        1982    6-6             Derek Smith   \n",
       "2      28        NaN   Apr 1, 1985        1979    6-6             Calvin Natt   \n",
       "3      37        NaN  Mar 24, 1985        1969    7-2     Kareem Abdul-Jabbar   \n",
       "4      28        NaN  Mar 17, 1985        1978    6-9              Larry Bird   \n",
       "...   ...        ...           ...         ...    ...                     ...   \n",
       "1140   28       West   Nov 6, 2017        2009  196cm            James Harden   \n",
       "1141   25       East  Oct 30, 2017        2013  193cm          Victor Oladipo   \n",
       "1142   27       West  Oct 30, 2017        2010  211cm        DeMarcus Cousins   \n",
       "1143   23       East  Oct 23, 2017        2013  211cm   Giannis Antetokounmpo   \n",
       "1144   28       West  Oct 23, 2017        2009  196cm            James Harden   \n",
       "\n",
       "     Position     Season  Season short  Seasons in league  \\\n",
       "0          PG  1984-1985          1985                  6   \n",
       "1          SG  1984-1985          1985                  2   \n",
       "2           F  1984-1985          1985                  5   \n",
       "3           C  1984-1985          1985                 15   \n",
       "4          SF  1984-1985          1985                  5   \n",
       "...       ...        ...           ...                ...   \n",
       "1140       SG  2017-2018          2018                  8   \n",
       "1141        G  2017-2018          2018                  4   \n",
       "1142        C  2017-2018          2018                  7   \n",
       "1143        F  2017-2018          2018                  4   \n",
       "1144       SG  2017-2018          2018                  8   \n",
       "\n",
       "                      Team Weight  Real_value  \n",
       "0          New Jersey Nets    189         1.0  \n",
       "1     Los Angeles Clippers    205         1.0  \n",
       "2           Denver Nuggets    220         1.0  \n",
       "3       Los Angeles Lakers    225         1.0  \n",
       "4           Boston Celtics    220         1.0  \n",
       "...                    ...    ...         ...  \n",
       "1140       Houston Rockets  100kg         0.5  \n",
       "1141        Indiana Pacers   95kg         0.5  \n",
       "1142  New Orleans Pelicans  122kg         0.5  \n",
       "1143       Milwaukee Bucks  101kg         0.5  \n",
       "1144       Houston Rockets  100kg         0.5  \n",
       "\n",
       "[1145 rows x 13 columns]"
      ],
      "text/html": "<div>\n<style scoped>\n    .dataframe tbody tr th:only-of-type {\n        vertical-align: middle;\n    }\n\n    .dataframe tbody tr th {\n        vertical-align: top;\n    }\n\n    .dataframe thead th {\n        text-align: right;\n    }\n</style>\n<table border=\"1\" class=\"dataframe\">\n  <thead>\n    <tr style=\"text-align: right;\">\n      <th></th>\n      <th>Age</th>\n      <th>Conference</th>\n      <th>Date</th>\n      <th>Draft Year</th>\n      <th>Height</th>\n      <th>Player</th>\n      <th>Position</th>\n      <th>Season</th>\n      <th>Season short</th>\n      <th>Seasons in league</th>\n      <th>Team</th>\n      <th>Weight</th>\n      <th>Real_value</th>\n    </tr>\n  </thead>\n  <tbody>\n    <tr>\n      <th>0</th>\n      <td>29</td>\n      <td>NaN</td>\n      <td>Apr 14, 1985</td>\n      <td>1978</td>\n      <td>6-5</td>\n      <td>Micheal Ray Richardson</td>\n      <td>PG</td>\n      <td>1984-1985</td>\n      <td>1985</td>\n      <td>6</td>\n      <td>New Jersey Nets</td>\n      <td>189</td>\n      <td>1.0</td>\n    </tr>\n    <tr>\n      <th>1</th>\n      <td>23</td>\n      <td>NaN</td>\n      <td>Apr 7, 1985</td>\n      <td>1982</td>\n      <td>6-6</td>\n      <td>Derek Smith</td>\n      <td>SG</td>\n      <td>1984-1985</td>\n      <td>1985</td>\n      <td>2</td>\n      <td>Los Angeles Clippers</td>\n      <td>205</td>\n      <td>1.0</td>\n    </tr>\n    <tr>\n      <th>2</th>\n      <td>28</td>\n      <td>NaN</td>\n      <td>Apr 1, 1985</td>\n      <td>1979</td>\n      <td>6-6</td>\n      <td>Calvin Natt</td>\n      <td>F</td>\n      <td>1984-1985</td>\n      <td>1985</td>\n      <td>5</td>\n      <td>Denver Nuggets</td>\n      <td>220</td>\n      <td>1.0</td>\n    </tr>\n    <tr>\n      <th>3</th>\n      <td>37</td>\n      <td>NaN</td>\n      <td>Mar 24, 1985</td>\n      <td>1969</td>\n      <td>7-2</td>\n      <td>Kareem Abdul-Jabbar</td>\n      <td>C</td>\n      <td>1984-1985</td>\n      <td>1985</td>\n      <td>15</td>\n      <td>Los Angeles Lakers</td>\n      <td>225</td>\n      <td>1.0</td>\n    </tr>\n    <tr>\n      <th>4</th>\n      <td>28</td>\n      <td>NaN</td>\n      <td>Mar 17, 1985</td>\n      <td>1978</td>\n      <td>6-9</td>\n      <td>Larry Bird</td>\n      <td>SF</td>\n      <td>1984-1985</td>\n      <td>1985</td>\n      <td>5</td>\n      <td>Boston Celtics</td>\n      <td>220</td>\n      <td>1.0</td>\n    </tr>\n    <tr>\n      <th>...</th>\n      <td>...</td>\n      <td>...</td>\n      <td>...</td>\n      <td>...</td>\n      <td>...</td>\n      <td>...</td>\n      <td>...</td>\n      <td>...</td>\n      <td>...</td>\n      <td>...</td>\n      <td>...</td>\n      <td>...</td>\n      <td>...</td>\n    </tr>\n    <tr>\n      <th>1140</th>\n      <td>28</td>\n      <td>West</td>\n      <td>Nov 6, 2017</td>\n      <td>2009</td>\n      <td>196cm</td>\n      <td>James Harden</td>\n      <td>SG</td>\n      <td>2017-2018</td>\n      <td>2018</td>\n      <td>8</td>\n      <td>Houston Rockets</td>\n      <td>100kg</td>\n      <td>0.5</td>\n    </tr>\n    <tr>\n      <th>1141</th>\n      <td>25</td>\n      <td>East</td>\n      <td>Oct 30, 2017</td>\n      <td>2013</td>\n      <td>193cm</td>\n      <td>Victor Oladipo</td>\n      <td>G</td>\n      <td>2017-2018</td>\n      <td>2018</td>\n      <td>4</td>\n      <td>Indiana Pacers</td>\n      <td>95kg</td>\n      <td>0.5</td>\n    </tr>\n    <tr>\n      <th>1142</th>\n      <td>27</td>\n      <td>West</td>\n      <td>Oct 30, 2017</td>\n      <td>2010</td>\n      <td>211cm</td>\n      <td>DeMarcus Cousins</td>\n      <td>C</td>\n      <td>2017-2018</td>\n      <td>2018</td>\n      <td>7</td>\n      <td>New Orleans Pelicans</td>\n      <td>122kg</td>\n      <td>0.5</td>\n    </tr>\n    <tr>\n      <th>1143</th>\n      <td>23</td>\n      <td>East</td>\n      <td>Oct 23, 2017</td>\n      <td>2013</td>\n      <td>211cm</td>\n      <td>Giannis Antetokounmpo</td>\n      <td>F</td>\n      <td>2017-2018</td>\n      <td>2018</td>\n      <td>4</td>\n      <td>Milwaukee Bucks</td>\n      <td>101kg</td>\n      <td>0.5</td>\n    </tr>\n    <tr>\n      <th>1144</th>\n      <td>28</td>\n      <td>West</td>\n      <td>Oct 23, 2017</td>\n      <td>2009</td>\n      <td>196cm</td>\n      <td>James Harden</td>\n      <td>SG</td>\n      <td>2017-2018</td>\n      <td>2018</td>\n      <td>8</td>\n      <td>Houston Rockets</td>\n      <td>100kg</td>\n      <td>0.5</td>\n    </tr>\n  </tbody>\n</table>\n<p>1145 rows × 13 columns</p>\n</div>"
     },
     "metadata": {},
     "execution_count": 2
    }
   ],
   "source": [
    "# Uso read csv para cargar el DF\n",
    "nba = pd.read_csv('/home/enrique/neoland/NEOLAND-DS2020-datalabs/01-intro-101/r-rstudio/practices/02-EDA-NBA/NBA_player_of_the_week.csv')\n",
    "nba"
   ]
  },
  {
   "source": [
    "## 2 Descripción de los datos\n",
    "*Describir brevemente la estructura de los datos: qué tipo de datos contiene, número de filas y columnas y nombre de las columnas. Realizar un resumen descriptivo de los datos.*\n"
   ],
   "cell_type": "markdown",
   "metadata": {}
  },
  {
   "source": [
    "Las filas son ls observaciones de cada jugador y se incluyen diferentes características, todas ellas cualitativas: fecha, temporada, año de elecicón en el draft, nombre, posición Etc. \n",
    "También hay columnas con datos vacios. \n"
   ],
   "cell_type": "markdown",
   "metadata": {}
  },
  {
   "cell_type": "code",
   "execution_count": 3,
   "metadata": {},
   "outputs": [
    {
     "output_type": "stream",
     "name": "stdout",
     "text": [
      "(1145, 13)\nAge                    int64\nConference            object\nDate                  object\nDraft Year             int64\nHeight                object\nPlayer                object\nPosition              object\nSeason                object\nSeason short           int64\nSeasons in league      int64\nTeam                  object\nWeight                object\nReal_value           float64\ndtype: object\n"
     ]
    }
   ],
   "source": [
    "# Para ver las estructura de datos podemos usar shape para ver las dimensiones y dtype para ver los tipos de datos que tenemos:\n",
    "print(nba.shape)\n",
    "print(nba.dtypes)"
   ]
  },
  {
   "source": [
    "Las variables numericas son:   \n",
    "* Age: Edad de los jugadores cuando consiguieron el galadon.\n",
    "* draft year: Año en el que fueron seleccionados en el draft.\n",
    "* Season short: Es el año en el que ganaron el galadron.\n",
    "* Season in league: Numero de años que el jugador ha estado en la liga.  \n",
    "\n",
    "El resto de variables son cualitativas e indican la altura, el peso, la temporada o el equipo y conferencia de procedencia deel jugador. "
   ],
   "cell_type": "markdown",
   "metadata": {}
  },
  {
   "cell_type": "code",
   "execution_count": 4,
   "metadata": {},
   "outputs": [
    {
     "output_type": "execute_result",
     "data": {
      "text/plain": [
       "   Age Conference          Date  Draft Year Height                  Player  \\\n",
       "0   29        NaN  Apr 14, 1985        1978    6-5  Micheal Ray Richardson   \n",
       "1   23        NaN   Apr 7, 1985        1982    6-6             Derek Smith   \n",
       "2   28        NaN   Apr 1, 1985        1979    6-6             Calvin Natt   \n",
       "3   37        NaN  Mar 24, 1985        1969    7-2     Kareem Abdul-Jabbar   \n",
       "4   28        NaN  Mar 17, 1985        1978    6-9              Larry Bird   \n",
       "\n",
       "  Position     Season  Season short  Seasons in league                  Team  \\\n",
       "0       PG  1984-1985          1985                  6       New Jersey Nets   \n",
       "1       SG  1984-1985          1985                  2  Los Angeles Clippers   \n",
       "2        F  1984-1985          1985                  5        Denver Nuggets   \n",
       "3        C  1984-1985          1985                 15    Los Angeles Lakers   \n",
       "4       SF  1984-1985          1985                  5        Boston Celtics   \n",
       "\n",
       "  Weight  Real_value  \n",
       "0    189         1.0  \n",
       "1    205         1.0  \n",
       "2    220         1.0  \n",
       "3    225         1.0  \n",
       "4    220         1.0  "
      ],
      "text/html": "<div>\n<style scoped>\n    .dataframe tbody tr th:only-of-type {\n        vertical-align: middle;\n    }\n\n    .dataframe tbody tr th {\n        vertical-align: top;\n    }\n\n    .dataframe thead th {\n        text-align: right;\n    }\n</style>\n<table border=\"1\" class=\"dataframe\">\n  <thead>\n    <tr style=\"text-align: right;\">\n      <th></th>\n      <th>Age</th>\n      <th>Conference</th>\n      <th>Date</th>\n      <th>Draft Year</th>\n      <th>Height</th>\n      <th>Player</th>\n      <th>Position</th>\n      <th>Season</th>\n      <th>Season short</th>\n      <th>Seasons in league</th>\n      <th>Team</th>\n      <th>Weight</th>\n      <th>Real_value</th>\n    </tr>\n  </thead>\n  <tbody>\n    <tr>\n      <th>0</th>\n      <td>29</td>\n      <td>NaN</td>\n      <td>Apr 14, 1985</td>\n      <td>1978</td>\n      <td>6-5</td>\n      <td>Micheal Ray Richardson</td>\n      <td>PG</td>\n      <td>1984-1985</td>\n      <td>1985</td>\n      <td>6</td>\n      <td>New Jersey Nets</td>\n      <td>189</td>\n      <td>1.0</td>\n    </tr>\n    <tr>\n      <th>1</th>\n      <td>23</td>\n      <td>NaN</td>\n      <td>Apr 7, 1985</td>\n      <td>1982</td>\n      <td>6-6</td>\n      <td>Derek Smith</td>\n      <td>SG</td>\n      <td>1984-1985</td>\n      <td>1985</td>\n      <td>2</td>\n      <td>Los Angeles Clippers</td>\n      <td>205</td>\n      <td>1.0</td>\n    </tr>\n    <tr>\n      <th>2</th>\n      <td>28</td>\n      <td>NaN</td>\n      <td>Apr 1, 1985</td>\n      <td>1979</td>\n      <td>6-6</td>\n      <td>Calvin Natt</td>\n      <td>F</td>\n      <td>1984-1985</td>\n      <td>1985</td>\n      <td>5</td>\n      <td>Denver Nuggets</td>\n      <td>220</td>\n      <td>1.0</td>\n    </tr>\n    <tr>\n      <th>3</th>\n      <td>37</td>\n      <td>NaN</td>\n      <td>Mar 24, 1985</td>\n      <td>1969</td>\n      <td>7-2</td>\n      <td>Kareem Abdul-Jabbar</td>\n      <td>C</td>\n      <td>1984-1985</td>\n      <td>1985</td>\n      <td>15</td>\n      <td>Los Angeles Lakers</td>\n      <td>225</td>\n      <td>1.0</td>\n    </tr>\n    <tr>\n      <th>4</th>\n      <td>28</td>\n      <td>NaN</td>\n      <td>Mar 17, 1985</td>\n      <td>1978</td>\n      <td>6-9</td>\n      <td>Larry Bird</td>\n      <td>SF</td>\n      <td>1984-1985</td>\n      <td>1985</td>\n      <td>5</td>\n      <td>Boston Celtics</td>\n      <td>220</td>\n      <td>1.0</td>\n    </tr>\n  </tbody>\n</table>\n</div>"
     },
     "metadata": {},
     "execution_count": 4
    }
   ],
   "source": [
    "nba.head()"
   ]
  },
  {
   "cell_type": "code",
   "execution_count": 5,
   "metadata": {},
   "outputs": [
    {
     "output_type": "execute_result",
     "data": {
      "text/plain": [
       "0.5    761\n",
       "1.0    384\n",
       "Name: Real_value, dtype: int64"
      ]
     },
     "metadata": {},
     "execution_count": 5
    }
   ],
   "source": [
    "nba.Real_value.value_counts() # Esta variable no tengo claro que significa. Quizá que el galardón ha sido compartido. "
   ]
  },
  {
   "cell_type": "code",
   "execution_count": 6,
   "metadata": {},
   "outputs": [
    {
     "output_type": "execute_result",
     "data": {
      "text/plain": [
       "Index(['Age', 'Conference', 'Date', 'Draft Year', 'Height', 'Player',\n",
       "       'Position', 'Season', 'Season short', 'Seasons in league', 'Team',\n",
       "       'Weight', 'Real_value'],\n",
       "      dtype='object')"
      ]
     },
     "metadata": {},
     "execution_count": 6
    }
   ],
   "source": [
    "# Para ver los nombres de las columnas usamos keys\n",
    "nba.keys()"
   ]
  },
  {
   "source": [
    "## 3.Preparación de la base de datos\n",
    "### 3.1 Asignar NA a los valores ausentes en los datos de Conference."
   ],
   "cell_type": "markdown",
   "metadata": {}
  },
  {
   "cell_type": "code",
   "execution_count": 7,
   "metadata": {},
   "outputs": [
    {
     "output_type": "execute_result",
     "data": {
      "text/plain": [
       "NaN     384\n",
       "East    381\n",
       "West    380\n",
       "Name: Conference, dtype: int64"
      ]
     },
     "metadata": {},
     "execution_count": 7
    }
   ],
   "source": [
    "nba.Conference.value_counts(dropna = False)\n",
    "# Vemos que Conference tiene 381 valores en East y 380 en West, vemos que hay 384 nulos. "
   ]
  },
  {
   "cell_type": "code",
   "execution_count": 8,
   "metadata": {},
   "outputs": [],
   "source": [
    "nba.Conference.fillna('NA', inplace=True) # Con Fillna lo que hacemos es asignar a los nulos el str NA. Read CSV por defecto ya ha cambiado los valores vacios por NaN, he aplicado esto para completar el ejercicio. En caso de haber vacios lo que tendría que haber hecho es lo siguiente:\n",
    "# nba['Conference'][nba['Conference'] == \"\" ]= NaN"
   ]
  },
  {
   "cell_type": "code",
   "execution_count": 9,
   "metadata": {},
   "outputs": [
    {
     "output_type": "execute_result",
     "data": {
      "text/plain": [
       "NA      384\n",
       "East    381\n",
       "West    380\n",
       "Name: Conference, dtype: int64"
      ]
     },
     "metadata": {},
     "execution_count": 9
    }
   ],
   "source": [
    "nba.Conference.value_counts(dropna = False)"
   ]
  },
  {
   "source": [
    "### 3.2 Transformar los datos de Conference en variable categórica y mostrar la tabla de frecuencia."
   ],
   "cell_type": "markdown",
   "metadata": {}
  },
  {
   "cell_type": "code",
   "execution_count": 10,
   "metadata": {},
   "outputs": [
    {
     "output_type": "execute_result",
     "data": {
      "text/plain": [
       "NA      0.335371\n",
       "East    0.332751\n",
       "West    0.331878\n",
       "Name: Conference, dtype: float64"
      ]
     },
     "metadata": {},
     "execution_count": 10
    }
   ],
   "source": [
    "nba['Conference'] = nba['Conference'].astype(\"category\")\n",
    "nba['Conference'].value_counts(normalize=True)\n"
   ]
  },
  {
   "source": [
    "### 3.3 Comprobar que la variable tiene xxx valores ausentes"
   ],
   "cell_type": "markdown",
   "metadata": {}
  },
  {
   "cell_type": "code",
   "execution_count": 11,
   "metadata": {},
   "outputs": [
    {
     "output_type": "execute_result",
     "data": {
      "text/plain": [
       "NA      384\n",
       "West      0\n",
       "East      0\n",
       "Name: Conference, dtype: int64"
      ]
     },
     "metadata": {},
     "execution_count": 11
    }
   ],
   "source": [
    "nba['Conference'][nba['Conference'] == 'NA'].value_counts()"
   ]
  },
  {
   "source": [
    "### 3.4 Transformar las variables Height, Player, Position, Season, Team y Weight en variables categóricas."
   ],
   "cell_type": "markdown",
   "metadata": {}
  },
  {
   "cell_type": "code",
   "execution_count": 12,
   "metadata": {},
   "outputs": [],
   "source": [
    "nba['Height'] = nba['Height'].astype(\"category\")\n",
    "nba['Player'] = nba['Player'].astype(\"category\")\n",
    "nba['Position'] = nba['Position'].astype(\"category\")\n",
    "nba['Season'] = nba['Season'].astype(\"category\")\n",
    "nba['Team'] = nba['Team'].astype(\"category\")\n",
    "nba['Weight'] = nba['Weight'].astype(\"category\")"
   ]
  },
  {
   "cell_type": "code",
   "execution_count": 13,
   "metadata": {},
   "outputs": [
    {
     "output_type": "execute_result",
     "data": {
      "text/plain": [
       "Age                     int64\n",
       "Conference           category\n",
       "Date                   object\n",
       "Draft Year              int64\n",
       "Height               category\n",
       "Player               category\n",
       "Position             category\n",
       "Season               category\n",
       "Season short            int64\n",
       "Seasons in league       int64\n",
       "Team                 category\n",
       "Weight               category\n",
       "Real_value            float64\n",
       "dtype: object"
      ]
     },
     "metadata": {},
     "execution_count": 13
    }
   ],
   "source": [
    "# comprobamos\n",
    "nba.dtypes\n"
   ]
  },
  {
   "source": [
    "### 3.5 Comprobar que estas variables no tienen valores perdidos.\n"
   ],
   "cell_type": "markdown",
   "metadata": {}
  },
  {
   "cell_type": "code",
   "execution_count": 14,
   "metadata": {},
   "outputs": [
    {
     "output_type": "execute_result",
     "data": {
      "text/plain": [
       "Age                  0\n",
       "Conference           0\n",
       "Date                 0\n",
       "Draft Year           0\n",
       "Height               0\n",
       "Player               0\n",
       "Position             0\n",
       "Season               0\n",
       "Season short         0\n",
       "Seasons in league    0\n",
       "Team                 0\n",
       "Weight               0\n",
       "Real_value           0\n",
       "dtype: int64"
      ]
     },
     "metadata": {},
     "execution_count": 14
    }
   ],
   "source": [
    "# Para eso usamos isna\n",
    "nba.isna().sum()"
   ]
  },
  {
   "source": [
    "### 3.6 Calcular el número de anyos que pasan entre que salio el jugador elegido en el draft y la temporada en la que fue jugador de la semana. Denomina la variable tiempo."
   ],
   "cell_type": "markdown",
   "metadata": {}
  },
  {
   "cell_type": "code",
   "execution_count": 15,
   "metadata": {},
   "outputs": [
    {
     "output_type": "execute_result",
     "data": {
      "text/plain": [
       "0        7\n",
       "1        3\n",
       "2        6\n",
       "3       16\n",
       "4        7\n",
       "        ..\n",
       "1140     9\n",
       "1141     5\n",
       "1142     8\n",
       "1143     5\n",
       "1144     9\n",
       "Name: tiempo, Length: 1145, dtype: int64"
      ]
     },
     "metadata": {},
     "execution_count": 15
    }
   ],
   "source": [
    "nba['tiempo'] = nba['Season short'] - nba['Draft Year'] # Simplemente resto las diferentes variables: Season short -  Draft Year\n",
    "nba['tiempo']"
   ]
  },
  {
   "source": [
    "### 3.7 ¿Cual es el número de años que más veces se repite entre que salen elegidos en el draft y se proclaman mejores jugadores? (moda de la variable tiempo)\n"
   ],
   "cell_type": "markdown",
   "metadata": {}
  },
  {
   "cell_type": "code",
   "execution_count": 16,
   "metadata": {},
   "outputs": [
    {
     "output_type": "execute_result",
     "data": {
      "text/plain": [
       "7     141\n",
       "6     140\n",
       "5     133\n",
       "4     118\n",
       "8     115\n",
       "9      96\n",
       "3      93\n",
       "10     79\n",
       "2      50\n",
       "11     47\n",
       "12     37\n",
       "13     32\n",
       "1      21\n",
       "14     17\n",
       "15      9\n",
       "17      7\n",
       "16      6\n",
       "18      2\n",
       "19      2\n",
       "Name: tiempo, dtype: int64"
      ]
     },
     "metadata": {},
     "execution_count": 16
    }
   ],
   "source": [
    "nba.tiempo.value_counts(sort= 'descending') # Saco un Value_count ordenado descendente, veo que el valor que más sale es 7. "
   ]
  },
  {
   "source": [
    "### 3.8 La altura de los jugadores está expresada en pies (aquellas con guión) y cm. Convertir la altura expresada en pies a centimetros [https://www.piesametros.info/](https://www.piesametros.info/). Posteriormente, eliminar el texto “cm” de los datos de tipo altura y convertir la variable en numérica. Calcular media, desviación típica y boxplot."
   ],
   "cell_type": "markdown",
   "metadata": {}
  },
  {
   "cell_type": "code",
   "execution_count": 17,
   "metadata": {},
   "outputs": [],
   "source": [
    "nba_bk = nba"
   ]
  },
  {
   "cell_type": "code",
   "execution_count": 18,
   "metadata": {},
   "outputs": [],
   "source": [
    "# Me creo una variable que me dice si height contiene quión o no. Los que no contienen guión contienen cm. \n",
    "nba['nocm'] = nba['Height'].str.contains('-')"
   ]
  },
  {
   "cell_type": "code",
   "execution_count": 19,
   "metadata": {},
   "outputs": [],
   "source": [
    "# Hago un for que va a recorrer height y nocm para ejecutar en el caso que sea cm, lo elimine, y en el caso que hay - los transforme a cm. \n",
    "nba['Height'] = nba['Height'].astype('object') # Lo vuelvo a convertir en Objeto\n",
    "for i in range(0,len(nba['Height'])): # Ejecuto el for en todo el DF\n",
    "    if nba['nocm'][i] == False: # Si el valor contiene CM ejecuto un replace para que lo quite\n",
    "        nba['Height'][i] = int(nba['Height'][i].replace('cm',''))\n",
    "    else: # Si tiene un guión, lo que hagao es un splt para separar las dos partes del valor y multiplicar para hacer la conversión. \n",
    "        nba['Height'][i] = int(nba['Height'][i].split(sep = '-')[0])*30.5 + int(nba['Height'][i].split(sep = '-')[1])*2.5"
   ]
  },
  {
   "cell_type": "code",
   "execution_count": 20,
   "metadata": {},
   "outputs": [
    {
     "output_type": "execute_result",
     "data": {
      "text/plain": [
       "0       195.5\n",
       "1       198.0\n",
       "2       198.0\n",
       "3       218.5\n",
       "4       205.5\n",
       "        ...  \n",
       "1140    196.0\n",
       "1141    193.0\n",
       "1142    211.0\n",
       "1143    211.0\n",
       "1144    196.0\n",
       "Name: Height, Length: 1145, dtype: float64"
      ]
     },
     "metadata": {},
     "execution_count": 20
    }
   ],
   "source": [
    "nba['Height'] = nba['Height'].astype('float') # Convierto la variable en float\n",
    "nba['Height']"
   ]
  },
  {
   "cell_type": "code",
   "execution_count": 21,
   "metadata": {},
   "outputs": [
    {
     "output_type": "execute_result",
     "data": {
      "text/plain": [
       "      Age Conference          Date  Draft Year  Height  \\\n",
       "0      29         NA  Apr 14, 1985        1978   195.5   \n",
       "1      23         NA   Apr 7, 1985        1982   198.0   \n",
       "2      28         NA   Apr 1, 1985        1979   198.0   \n",
       "3      37         NA  Mar 24, 1985        1969   218.5   \n",
       "4      28         NA  Mar 17, 1985        1978   205.5   \n",
       "...   ...        ...           ...         ...     ...   \n",
       "1140   28       West   Nov 6, 2017        2009   196.0   \n",
       "1141   25       East  Oct 30, 2017        2013   193.0   \n",
       "1142   27       West  Oct 30, 2017        2010   211.0   \n",
       "1143   23       East  Oct 23, 2017        2013   211.0   \n",
       "1144   28       West  Oct 23, 2017        2009   196.0   \n",
       "\n",
       "                      Player Position     Season  Season short  \\\n",
       "0     Micheal Ray Richardson       PG  1984-1985          1985   \n",
       "1                Derek Smith       SG  1984-1985          1985   \n",
       "2                Calvin Natt        F  1984-1985          1985   \n",
       "3        Kareem Abdul-Jabbar        C  1984-1985          1985   \n",
       "4                 Larry Bird       SF  1984-1985          1985   \n",
       "...                      ...      ...        ...           ...   \n",
       "1140            James Harden       SG  2017-2018          2018   \n",
       "1141          Victor Oladipo        G  2017-2018          2018   \n",
       "1142        DeMarcus Cousins        C  2017-2018          2018   \n",
       "1143   Giannis Antetokounmpo        F  2017-2018          2018   \n",
       "1144            James Harden       SG  2017-2018          2018   \n",
       "\n",
       "      Seasons in league                  Team Weight  Real_value  tiempo  \n",
       "0                     6       New Jersey Nets    189         1.0       7  \n",
       "1                     2  Los Angeles Clippers    205         1.0       3  \n",
       "2                     5        Denver Nuggets    220         1.0       6  \n",
       "3                    15    Los Angeles Lakers    225         1.0      16  \n",
       "4                     5        Boston Celtics    220         1.0       7  \n",
       "...                 ...                   ...    ...         ...     ...  \n",
       "1140                  8       Houston Rockets  100kg         0.5       9  \n",
       "1141                  4        Indiana Pacers   95kg         0.5       5  \n",
       "1142                  7  New Orleans Pelicans  122kg         0.5       8  \n",
       "1143                  4       Milwaukee Bucks  101kg         0.5       5  \n",
       "1144                  8       Houston Rockets  100kg         0.5       9  \n",
       "\n",
       "[1145 rows x 14 columns]"
      ],
      "text/html": "<div>\n<style scoped>\n    .dataframe tbody tr th:only-of-type {\n        vertical-align: middle;\n    }\n\n    .dataframe tbody tr th {\n        vertical-align: top;\n    }\n\n    .dataframe thead th {\n        text-align: right;\n    }\n</style>\n<table border=\"1\" class=\"dataframe\">\n  <thead>\n    <tr style=\"text-align: right;\">\n      <th></th>\n      <th>Age</th>\n      <th>Conference</th>\n      <th>Date</th>\n      <th>Draft Year</th>\n      <th>Height</th>\n      <th>Player</th>\n      <th>Position</th>\n      <th>Season</th>\n      <th>Season short</th>\n      <th>Seasons in league</th>\n      <th>Team</th>\n      <th>Weight</th>\n      <th>Real_value</th>\n      <th>tiempo</th>\n    </tr>\n  </thead>\n  <tbody>\n    <tr>\n      <th>0</th>\n      <td>29</td>\n      <td>NA</td>\n      <td>Apr 14, 1985</td>\n      <td>1978</td>\n      <td>195.5</td>\n      <td>Micheal Ray Richardson</td>\n      <td>PG</td>\n      <td>1984-1985</td>\n      <td>1985</td>\n      <td>6</td>\n      <td>New Jersey Nets</td>\n      <td>189</td>\n      <td>1.0</td>\n      <td>7</td>\n    </tr>\n    <tr>\n      <th>1</th>\n      <td>23</td>\n      <td>NA</td>\n      <td>Apr 7, 1985</td>\n      <td>1982</td>\n      <td>198.0</td>\n      <td>Derek Smith</td>\n      <td>SG</td>\n      <td>1984-1985</td>\n      <td>1985</td>\n      <td>2</td>\n      <td>Los Angeles Clippers</td>\n      <td>205</td>\n      <td>1.0</td>\n      <td>3</td>\n    </tr>\n    <tr>\n      <th>2</th>\n      <td>28</td>\n      <td>NA</td>\n      <td>Apr 1, 1985</td>\n      <td>1979</td>\n      <td>198.0</td>\n      <td>Calvin Natt</td>\n      <td>F</td>\n      <td>1984-1985</td>\n      <td>1985</td>\n      <td>5</td>\n      <td>Denver Nuggets</td>\n      <td>220</td>\n      <td>1.0</td>\n      <td>6</td>\n    </tr>\n    <tr>\n      <th>3</th>\n      <td>37</td>\n      <td>NA</td>\n      <td>Mar 24, 1985</td>\n      <td>1969</td>\n      <td>218.5</td>\n      <td>Kareem Abdul-Jabbar</td>\n      <td>C</td>\n      <td>1984-1985</td>\n      <td>1985</td>\n      <td>15</td>\n      <td>Los Angeles Lakers</td>\n      <td>225</td>\n      <td>1.0</td>\n      <td>16</td>\n    </tr>\n    <tr>\n      <th>4</th>\n      <td>28</td>\n      <td>NA</td>\n      <td>Mar 17, 1985</td>\n      <td>1978</td>\n      <td>205.5</td>\n      <td>Larry Bird</td>\n      <td>SF</td>\n      <td>1984-1985</td>\n      <td>1985</td>\n      <td>5</td>\n      <td>Boston Celtics</td>\n      <td>220</td>\n      <td>1.0</td>\n      <td>7</td>\n    </tr>\n    <tr>\n      <th>...</th>\n      <td>...</td>\n      <td>...</td>\n      <td>...</td>\n      <td>...</td>\n      <td>...</td>\n      <td>...</td>\n      <td>...</td>\n      <td>...</td>\n      <td>...</td>\n      <td>...</td>\n      <td>...</td>\n      <td>...</td>\n      <td>...</td>\n      <td>...</td>\n    </tr>\n    <tr>\n      <th>1140</th>\n      <td>28</td>\n      <td>West</td>\n      <td>Nov 6, 2017</td>\n      <td>2009</td>\n      <td>196.0</td>\n      <td>James Harden</td>\n      <td>SG</td>\n      <td>2017-2018</td>\n      <td>2018</td>\n      <td>8</td>\n      <td>Houston Rockets</td>\n      <td>100kg</td>\n      <td>0.5</td>\n      <td>9</td>\n    </tr>\n    <tr>\n      <th>1141</th>\n      <td>25</td>\n      <td>East</td>\n      <td>Oct 30, 2017</td>\n      <td>2013</td>\n      <td>193.0</td>\n      <td>Victor Oladipo</td>\n      <td>G</td>\n      <td>2017-2018</td>\n      <td>2018</td>\n      <td>4</td>\n      <td>Indiana Pacers</td>\n      <td>95kg</td>\n      <td>0.5</td>\n      <td>5</td>\n    </tr>\n    <tr>\n      <th>1142</th>\n      <td>27</td>\n      <td>West</td>\n      <td>Oct 30, 2017</td>\n      <td>2010</td>\n      <td>211.0</td>\n      <td>DeMarcus Cousins</td>\n      <td>C</td>\n      <td>2017-2018</td>\n      <td>2018</td>\n      <td>7</td>\n      <td>New Orleans Pelicans</td>\n      <td>122kg</td>\n      <td>0.5</td>\n      <td>8</td>\n    </tr>\n    <tr>\n      <th>1143</th>\n      <td>23</td>\n      <td>East</td>\n      <td>Oct 23, 2017</td>\n      <td>2013</td>\n      <td>211.0</td>\n      <td>Giannis Antetokounmpo</td>\n      <td>F</td>\n      <td>2017-2018</td>\n      <td>2018</td>\n      <td>4</td>\n      <td>Milwaukee Bucks</td>\n      <td>101kg</td>\n      <td>0.5</td>\n      <td>5</td>\n    </tr>\n    <tr>\n      <th>1144</th>\n      <td>28</td>\n      <td>West</td>\n      <td>Oct 23, 2017</td>\n      <td>2009</td>\n      <td>196.0</td>\n      <td>James Harden</td>\n      <td>SG</td>\n      <td>2017-2018</td>\n      <td>2018</td>\n      <td>8</td>\n      <td>Houston Rockets</td>\n      <td>100kg</td>\n      <td>0.5</td>\n      <td>9</td>\n    </tr>\n  </tbody>\n</table>\n<p>1145 rows × 14 columns</p>\n</div>"
     },
     "metadata": {},
     "execution_count": 21
    }
   ],
   "source": [
    "nba= nba.drop('nocm', axis=1) # Quito la variable nocm porque no la necesito\n",
    "nba"
   ]
  },
  {
   "cell_type": "code",
   "execution_count": 22,
   "metadata": {},
   "outputs": [
    {
     "output_type": "execute_result",
     "data": {
      "text/plain": [
       "200.9174672489083"
      ]
     },
     "metadata": {},
     "execution_count": 22
    }
   ],
   "source": [
    "# Media\n",
    "nba['Height'].mean()"
   ]
  },
  {
   "cell_type": "code",
   "execution_count": 23,
   "metadata": {},
   "outputs": [
    {
     "output_type": "execute_result",
     "data": {
      "text/plain": [
       "9.365908209381423"
      ]
     },
     "metadata": {},
     "execution_count": 23
    }
   ],
   "source": [
    "# Desviacion tipica\n",
    "nba['Height'].std()"
   ]
  },
  {
   "cell_type": "code",
   "execution_count": 24,
   "metadata": {},
   "outputs": [
    {
     "output_type": "execute_result",
     "data": {
      "text/plain": [
       "<matplotlib.axes._subplots.AxesSubplot at 0x7f4e61902d90>"
      ]
     },
     "metadata": {},
     "execution_count": 24
    },
    {
     "output_type": "display_data",
     "data": {
      "text/plain": "<Figure size 432x288 with 1 Axes>",
      "image/svg+xml": "<?xml version=\"1.0\" encoding=\"utf-8\" standalone=\"no\"?>\n<!DOCTYPE svg PUBLIC \"-//W3C//DTD SVG 1.1//EN\"\n  \"http://www.w3.org/Graphics/SVG/1.1/DTD/svg11.dtd\">\n<!-- Created with matplotlib (https://matplotlib.org/) -->\n<svg height=\"235.34pt\" version=\"1.1\" viewBox=\"0 0 388.965625 235.34\" width=\"388.965625pt\" xmlns=\"http://www.w3.org/2000/svg\" xmlns:xlink=\"http://www.w3.org/1999/xlink\">\n <defs>\n  <style type=\"text/css\">\n*{stroke-linecap:butt;stroke-linejoin:round;}\n  </style>\n </defs>\n <g id=\"figure_1\">\n  <g id=\"patch_1\">\n   <path d=\"M 0 235.34 \nL 388.965625 235.34 \nL 388.965625 0 \nL 0 0 \nz\n\" style=\"fill:none;\"/>\n  </g>\n  <g id=\"axes_1\">\n   <g id=\"patch_2\">\n    <path d=\"M 46.965625 224.64 \nL 381.765625 224.64 \nL 381.765625 7.2 \nL 46.965625 7.2 \nz\n\" style=\"fill:#ffffff;\"/>\n   </g>\n   <g id=\"patch_3\">\n    <path clip-path=\"url(#p8e5617ae74)\" d=\"M 80.445625 148.249652 \nL 348.285625 148.249652 \nL 348.285625 92.827392 \nL 80.445625 92.827392 \nL 80.445625 148.249652 \nz\n\" style=\"fill:#3274a1;stroke:#3f3f3f;stroke-linejoin:miter;stroke-width:1.5;\"/>\n   </g>\n   <g id=\"matplotlib.axis_1\">\n    <g id=\"xtick_1\">\n     <g id=\"line2d_1\">\n      <defs>\n       <path d=\"M 0 0 \nL 0 3.5 \n\" id=\"m7e175e3a3c\" style=\"stroke:#000000;stroke-width:0.8;\"/>\n      </defs>\n      <g>\n       <use style=\"stroke:#000000;stroke-width:0.8;\" x=\"214.365625\" xlink:href=\"#m7e175e3a3c\" y=\"224.64\"/>\n      </g>\n     </g>\n    </g>\n   </g>\n   <g id=\"matplotlib.axis_2\">\n    <g id=\"ytick_1\">\n     <g id=\"line2d_2\">\n      <defs>\n       <path d=\"M 0 0 \nL -3.5 0 \n\" id=\"m99dd2b76ab\" style=\"stroke:#000000;stroke-width:0.8;\"/>\n      </defs>\n      <g>\n       <use style=\"stroke:#000000;stroke-width:0.8;\" x=\"46.965625\" xlink:href=\"#m99dd2b76ab\" y=\"196.282277\"/>\n      </g>\n     </g>\n     <g id=\"text_1\">\n      <!-- 180 -->\n      <defs>\n       <path d=\"M 12.40625 8.296875 \nL 28.515625 8.296875 \nL 28.515625 63.921875 \nL 10.984375 60.40625 \nL 10.984375 69.390625 \nL 28.421875 72.90625 \nL 38.28125 72.90625 \nL 38.28125 8.296875 \nL 54.390625 8.296875 \nL 54.390625 0 \nL 12.40625 0 \nz\n\" id=\"DejaVuSans-49\"/>\n       <path d=\"M 31.78125 34.625 \nQ 24.75 34.625 20.71875 30.859375 \nQ 16.703125 27.09375 16.703125 20.515625 \nQ 16.703125 13.921875 20.71875 10.15625 \nQ 24.75 6.390625 31.78125 6.390625 \nQ 38.8125 6.390625 42.859375 10.171875 \nQ 46.921875 13.96875 46.921875 20.515625 \nQ 46.921875 27.09375 42.890625 30.859375 \nQ 38.875 34.625 31.78125 34.625 \nz\nM 21.921875 38.8125 \nQ 15.578125 40.375 12.03125 44.71875 \nQ 8.5 49.078125 8.5 55.328125 \nQ 8.5 64.0625 14.71875 69.140625 \nQ 20.953125 74.21875 31.78125 74.21875 \nQ 42.671875 74.21875 48.875 69.140625 \nQ 55.078125 64.0625 55.078125 55.328125 \nQ 55.078125 49.078125 51.53125 44.71875 \nQ 48 40.375 41.703125 38.8125 \nQ 48.828125 37.15625 52.796875 32.3125 \nQ 56.78125 27.484375 56.78125 20.515625 \nQ 56.78125 9.90625 50.3125 4.234375 \nQ 43.84375 -1.421875 31.78125 -1.421875 \nQ 19.734375 -1.421875 13.25 4.234375 \nQ 6.78125 9.90625 6.78125 20.515625 \nQ 6.78125 27.484375 10.78125 32.3125 \nQ 14.796875 37.15625 21.921875 38.8125 \nz\nM 18.3125 54.390625 \nQ 18.3125 48.734375 21.84375 45.5625 \nQ 25.390625 42.390625 31.78125 42.390625 \nQ 38.140625 42.390625 41.71875 45.5625 \nQ 45.3125 48.734375 45.3125 54.390625 \nQ 45.3125 60.0625 41.71875 63.234375 \nQ 38.140625 66.40625 31.78125 66.40625 \nQ 25.390625 66.40625 21.84375 63.234375 \nQ 18.3125 60.0625 18.3125 54.390625 \nz\n\" id=\"DejaVuSans-56\"/>\n       <path d=\"M 31.78125 66.40625 \nQ 24.171875 66.40625 20.328125 58.90625 \nQ 16.5 51.421875 16.5 36.375 \nQ 16.5 21.390625 20.328125 13.890625 \nQ 24.171875 6.390625 31.78125 6.390625 \nQ 39.453125 6.390625 43.28125 13.890625 \nQ 47.125 21.390625 47.125 36.375 \nQ 47.125 51.421875 43.28125 58.90625 \nQ 39.453125 66.40625 31.78125 66.40625 \nz\nM 31.78125 74.21875 \nQ 44.046875 74.21875 50.515625 64.515625 \nQ 56.984375 54.828125 56.984375 36.375 \nQ 56.984375 17.96875 50.515625 8.265625 \nQ 44.046875 -1.421875 31.78125 -1.421875 \nQ 19.53125 -1.421875 13.0625 8.265625 \nQ 6.59375 17.96875 6.59375 36.375 \nQ 6.59375 54.828125 13.0625 64.515625 \nQ 19.53125 74.21875 31.78125 74.21875 \nz\n\" id=\"DejaVuSans-48\"/>\n      </defs>\n      <g transform=\"translate(20.878125 200.081496)scale(0.1 -0.1)\">\n       <use xlink:href=\"#DejaVuSans-49\"/>\n       <use x=\"63.623047\" xlink:href=\"#DejaVuSans-56\"/>\n       <use x=\"127.246094\" xlink:href=\"#DejaVuSans-48\"/>\n      </g>\n     </g>\n    </g>\n    <g id=\"ytick_2\">\n     <g id=\"line2d_3\">\n      <g>\n       <use style=\"stroke:#000000;stroke-width:0.8;\" x=\"46.965625\" xlink:href=\"#m99dd2b76ab\" y=\"159.334104\"/>\n      </g>\n     </g>\n     <g id=\"text_2\">\n      <!-- 190 -->\n      <defs>\n       <path d=\"M 10.984375 1.515625 \nL 10.984375 10.5 \nQ 14.703125 8.734375 18.5 7.8125 \nQ 22.3125 6.890625 25.984375 6.890625 \nQ 35.75 6.890625 40.890625 13.453125 \nQ 46.046875 20.015625 46.78125 33.40625 \nQ 43.953125 29.203125 39.59375 26.953125 \nQ 35.25 24.703125 29.984375 24.703125 \nQ 19.046875 24.703125 12.671875 31.3125 \nQ 6.296875 37.9375 6.296875 49.421875 \nQ 6.296875 60.640625 12.9375 67.421875 \nQ 19.578125 74.21875 30.609375 74.21875 \nQ 43.265625 74.21875 49.921875 64.515625 \nQ 56.59375 54.828125 56.59375 36.375 \nQ 56.59375 19.140625 48.40625 8.859375 \nQ 40.234375 -1.421875 26.421875 -1.421875 \nQ 22.703125 -1.421875 18.890625 -0.6875 \nQ 15.09375 0.046875 10.984375 1.515625 \nz\nM 30.609375 32.421875 \nQ 37.25 32.421875 41.125 36.953125 \nQ 45.015625 41.5 45.015625 49.421875 \nQ 45.015625 57.28125 41.125 61.84375 \nQ 37.25 66.40625 30.609375 66.40625 \nQ 23.96875 66.40625 20.09375 61.84375 \nQ 16.21875 57.28125 16.21875 49.421875 \nQ 16.21875 41.5 20.09375 36.953125 \nQ 23.96875 32.421875 30.609375 32.421875 \nz\n\" id=\"DejaVuSans-57\"/>\n      </defs>\n      <g transform=\"translate(20.878125 163.133322)scale(0.1 -0.1)\">\n       <use xlink:href=\"#DejaVuSans-49\"/>\n       <use x=\"63.623047\" xlink:href=\"#DejaVuSans-57\"/>\n       <use x=\"127.246094\" xlink:href=\"#DejaVuSans-48\"/>\n      </g>\n     </g>\n    </g>\n    <g id=\"ytick_3\">\n     <g id=\"line2d_4\">\n      <g>\n       <use style=\"stroke:#000000;stroke-width:0.8;\" x=\"46.965625\" xlink:href=\"#m99dd2b76ab\" y=\"122.38593\"/>\n      </g>\n     </g>\n     <g id=\"text_3\">\n      <!-- 200 -->\n      <defs>\n       <path d=\"M 19.1875 8.296875 \nL 53.609375 8.296875 \nL 53.609375 0 \nL 7.328125 0 \nL 7.328125 8.296875 \nQ 12.9375 14.109375 22.625 23.890625 \nQ 32.328125 33.6875 34.8125 36.53125 \nQ 39.546875 41.84375 41.421875 45.53125 \nQ 43.3125 49.21875 43.3125 52.78125 \nQ 43.3125 58.59375 39.234375 62.25 \nQ 35.15625 65.921875 28.609375 65.921875 \nQ 23.96875 65.921875 18.8125 64.3125 \nQ 13.671875 62.703125 7.8125 59.421875 \nL 7.8125 69.390625 \nQ 13.765625 71.78125 18.9375 73 \nQ 24.125 74.21875 28.421875 74.21875 \nQ 39.75 74.21875 46.484375 68.546875 \nQ 53.21875 62.890625 53.21875 53.421875 \nQ 53.21875 48.921875 51.53125 44.890625 \nQ 49.859375 40.875 45.40625 35.40625 \nQ 44.1875 33.984375 37.640625 27.21875 \nQ 31.109375 20.453125 19.1875 8.296875 \nz\n\" id=\"DejaVuSans-50\"/>\n      </defs>\n      <g transform=\"translate(20.878125 126.185149)scale(0.1 -0.1)\">\n       <use xlink:href=\"#DejaVuSans-50\"/>\n       <use x=\"63.623047\" xlink:href=\"#DejaVuSans-48\"/>\n       <use x=\"127.246094\" xlink:href=\"#DejaVuSans-48\"/>\n      </g>\n     </g>\n    </g>\n    <g id=\"ytick_4\">\n     <g id=\"line2d_5\">\n      <g>\n       <use style=\"stroke:#000000;stroke-width:0.8;\" x=\"46.965625\" xlink:href=\"#m99dd2b76ab\" y=\"85.437757\"/>\n      </g>\n     </g>\n     <g id=\"text_4\">\n      <!-- 210 -->\n      <g transform=\"translate(20.878125 89.236976)scale(0.1 -0.1)\">\n       <use xlink:href=\"#DejaVuSans-50\"/>\n       <use x=\"63.623047\" xlink:href=\"#DejaVuSans-49\"/>\n       <use x=\"127.246094\" xlink:href=\"#DejaVuSans-48\"/>\n      </g>\n     </g>\n    </g>\n    <g id=\"ytick_5\">\n     <g id=\"line2d_6\">\n      <g>\n       <use style=\"stroke:#000000;stroke-width:0.8;\" x=\"46.965625\" xlink:href=\"#m99dd2b76ab\" y=\"48.489584\"/>\n      </g>\n     </g>\n     <g id=\"text_5\">\n      <!-- 220 -->\n      <g transform=\"translate(20.878125 52.288802)scale(0.1 -0.1)\">\n       <use xlink:href=\"#DejaVuSans-50\"/>\n       <use x=\"63.623047\" xlink:href=\"#DejaVuSans-50\"/>\n       <use x=\"127.246094\" xlink:href=\"#DejaVuSans-48\"/>\n      </g>\n     </g>\n    </g>\n    <g id=\"ytick_6\">\n     <g id=\"line2d_7\">\n      <g>\n       <use style=\"stroke:#000000;stroke-width:0.8;\" x=\"46.965625\" xlink:href=\"#m99dd2b76ab\" y=\"11.54141\"/>\n      </g>\n     </g>\n     <g id=\"text_6\">\n      <!-- 230 -->\n      <defs>\n       <path d=\"M 40.578125 39.3125 \nQ 47.65625 37.796875 51.625 33 \nQ 55.609375 28.21875 55.609375 21.1875 \nQ 55.609375 10.40625 48.1875 4.484375 \nQ 40.765625 -1.421875 27.09375 -1.421875 \nQ 22.515625 -1.421875 17.65625 -0.515625 \nQ 12.796875 0.390625 7.625 2.203125 \nL 7.625 11.71875 \nQ 11.71875 9.328125 16.59375 8.109375 \nQ 21.484375 6.890625 26.8125 6.890625 \nQ 36.078125 6.890625 40.9375 10.546875 \nQ 45.796875 14.203125 45.796875 21.1875 \nQ 45.796875 27.640625 41.28125 31.265625 \nQ 36.765625 34.90625 28.71875 34.90625 \nL 20.21875 34.90625 \nL 20.21875 43.015625 \nL 29.109375 43.015625 \nQ 36.375 43.015625 40.234375 45.921875 \nQ 44.09375 48.828125 44.09375 54.296875 \nQ 44.09375 59.90625 40.109375 62.90625 \nQ 36.140625 65.921875 28.71875 65.921875 \nQ 24.65625 65.921875 20.015625 65.03125 \nQ 15.375 64.15625 9.8125 62.3125 \nL 9.8125 71.09375 \nQ 15.4375 72.65625 20.34375 73.4375 \nQ 25.25 74.21875 29.59375 74.21875 \nQ 40.828125 74.21875 47.359375 69.109375 \nQ 53.90625 64.015625 53.90625 55.328125 \nQ 53.90625 49.265625 50.4375 45.09375 \nQ 46.96875 40.921875 40.578125 39.3125 \nz\n\" id=\"DejaVuSans-51\"/>\n      </defs>\n      <g transform=\"translate(20.878125 15.340629)scale(0.1 -0.1)\">\n       <use xlink:href=\"#DejaVuSans-50\"/>\n       <use x=\"63.623047\" xlink:href=\"#DejaVuSans-51\"/>\n       <use x=\"127.246094\" xlink:href=\"#DejaVuSans-48\"/>\n      </g>\n     </g>\n    </g>\n    <g id=\"text_7\">\n     <!-- Height -->\n     <defs>\n      <path d=\"M 9.8125 72.90625 \nL 19.671875 72.90625 \nL 19.671875 43.015625 \nL 55.515625 43.015625 \nL 55.515625 72.90625 \nL 65.375 72.90625 \nL 65.375 0 \nL 55.515625 0 \nL 55.515625 34.71875 \nL 19.671875 34.71875 \nL 19.671875 0 \nL 9.8125 0 \nz\n\" id=\"DejaVuSans-72\"/>\n      <path d=\"M 56.203125 29.59375 \nL 56.203125 25.203125 \nL 14.890625 25.203125 \nQ 15.484375 15.921875 20.484375 11.0625 \nQ 25.484375 6.203125 34.421875 6.203125 \nQ 39.59375 6.203125 44.453125 7.46875 \nQ 49.3125 8.734375 54.109375 11.28125 \nL 54.109375 2.78125 \nQ 49.265625 0.734375 44.1875 -0.34375 \nQ 39.109375 -1.421875 33.890625 -1.421875 \nQ 20.796875 -1.421875 13.15625 6.1875 \nQ 5.515625 13.8125 5.515625 26.8125 \nQ 5.515625 40.234375 12.765625 48.109375 \nQ 20.015625 56 32.328125 56 \nQ 43.359375 56 49.78125 48.890625 \nQ 56.203125 41.796875 56.203125 29.59375 \nz\nM 47.21875 32.234375 \nQ 47.125 39.59375 43.09375 43.984375 \nQ 39.0625 48.390625 32.421875 48.390625 \nQ 24.90625 48.390625 20.390625 44.140625 \nQ 15.875 39.890625 15.1875 32.171875 \nz\n\" id=\"DejaVuSans-101\"/>\n      <path d=\"M 9.421875 54.6875 \nL 18.40625 54.6875 \nL 18.40625 0 \nL 9.421875 0 \nz\nM 9.421875 75.984375 \nL 18.40625 75.984375 \nL 18.40625 64.59375 \nL 9.421875 64.59375 \nz\n\" id=\"DejaVuSans-105\"/>\n      <path d=\"M 45.40625 27.984375 \nQ 45.40625 37.75 41.375 43.109375 \nQ 37.359375 48.484375 30.078125 48.484375 \nQ 22.859375 48.484375 18.828125 43.109375 \nQ 14.796875 37.75 14.796875 27.984375 \nQ 14.796875 18.265625 18.828125 12.890625 \nQ 22.859375 7.515625 30.078125 7.515625 \nQ 37.359375 7.515625 41.375 12.890625 \nQ 45.40625 18.265625 45.40625 27.984375 \nz\nM 54.390625 6.78125 \nQ 54.390625 -7.171875 48.1875 -13.984375 \nQ 42 -20.796875 29.203125 -20.796875 \nQ 24.46875 -20.796875 20.265625 -20.09375 \nQ 16.0625 -19.390625 12.109375 -17.921875 \nL 12.109375 -9.1875 \nQ 16.0625 -11.328125 19.921875 -12.34375 \nQ 23.78125 -13.375 27.78125 -13.375 \nQ 36.625 -13.375 41.015625 -8.765625 \nQ 45.40625 -4.15625 45.40625 5.171875 \nL 45.40625 9.625 \nQ 42.625 4.78125 38.28125 2.390625 \nQ 33.9375 0 27.875 0 \nQ 17.828125 0 11.671875 7.65625 \nQ 5.515625 15.328125 5.515625 27.984375 \nQ 5.515625 40.671875 11.671875 48.328125 \nQ 17.828125 56 27.875 56 \nQ 33.9375 56 38.28125 53.609375 \nQ 42.625 51.21875 45.40625 46.390625 \nL 45.40625 54.6875 \nL 54.390625 54.6875 \nz\n\" id=\"DejaVuSans-103\"/>\n      <path d=\"M 54.890625 33.015625 \nL 54.890625 0 \nL 45.90625 0 \nL 45.90625 32.71875 \nQ 45.90625 40.484375 42.875 44.328125 \nQ 39.84375 48.1875 33.796875 48.1875 \nQ 26.515625 48.1875 22.3125 43.546875 \nQ 18.109375 38.921875 18.109375 30.90625 \nL 18.109375 0 \nL 9.078125 0 \nL 9.078125 75.984375 \nL 18.109375 75.984375 \nL 18.109375 46.1875 \nQ 21.34375 51.125 25.703125 53.5625 \nQ 30.078125 56 35.796875 56 \nQ 45.21875 56 50.046875 50.171875 \nQ 54.890625 44.34375 54.890625 33.015625 \nz\n\" id=\"DejaVuSans-104\"/>\n      <path d=\"M 18.3125 70.21875 \nL 18.3125 54.6875 \nL 36.8125 54.6875 \nL 36.8125 47.703125 \nL 18.3125 47.703125 \nL 18.3125 18.015625 \nQ 18.3125 11.328125 20.140625 9.421875 \nQ 21.96875 7.515625 27.59375 7.515625 \nL 36.8125 7.515625 \nL 36.8125 0 \nL 27.59375 0 \nQ 17.1875 0 13.234375 3.875 \nQ 9.28125 7.765625 9.28125 18.015625 \nL 9.28125 47.703125 \nL 2.6875 47.703125 \nL 2.6875 54.6875 \nL 9.28125 54.6875 \nL 9.28125 70.21875 \nz\n\" id=\"DejaVuSans-116\"/>\n     </defs>\n     <g transform=\"translate(14.798438 132.448906)rotate(-90)scale(0.1 -0.1)\">\n      <use xlink:href=\"#DejaVuSans-72\"/>\n      <use x=\"75.195312\" xlink:href=\"#DejaVuSans-101\"/>\n      <use x=\"136.71875\" xlink:href=\"#DejaVuSans-105\"/>\n      <use x=\"164.501953\" xlink:href=\"#DejaVuSans-103\"/>\n      <use x=\"227.978516\" xlink:href=\"#DejaVuSans-104\"/>\n      <use x=\"291.357422\" xlink:href=\"#DejaVuSans-116\"/>\n     </g>\n    </g>\n   </g>\n   <g id=\"line2d_8\">\n    <path clip-path=\"url(#p8e5617ae74)\" d=\"M 214.365625 148.249652 \nL 214.365625 214.756364 \n\" style=\"fill:none;stroke:#3f3f3f;stroke-linecap:square;stroke-width:1.5;\"/>\n   </g>\n   <g id=\"line2d_9\">\n    <path clip-path=\"url(#p8e5617ae74)\" d=\"M 214.365625 92.827392 \nL 214.365625 17.083636 \n\" style=\"fill:none;stroke:#3f3f3f;stroke-linecap:square;stroke-width:1.5;\"/>\n   </g>\n   <g id=\"line2d_10\">\n    <path clip-path=\"url(#p8e5617ae74)\" d=\"M 147.405625 214.756364 \nL 281.325625 214.756364 \n\" style=\"fill:none;stroke:#3f3f3f;stroke-linecap:square;stroke-width:1.5;\"/>\n   </g>\n   <g id=\"line2d_11\">\n    <path clip-path=\"url(#p8e5617ae74)\" d=\"M 147.405625 17.083636 \nL 281.325625 17.083636 \n\" style=\"fill:none;stroke:#3f3f3f;stroke-linecap:square;stroke-width:1.5;\"/>\n   </g>\n   <g id=\"line2d_12\"/>\n   <g id=\"line2d_13\">\n    <path clip-path=\"url(#p8e5617ae74)\" d=\"M 80.445625 118.691113 \nL 348.285625 118.691113 \n\" style=\"fill:none;stroke:#3f3f3f;stroke-linecap:square;stroke-width:1.5;\"/>\n   </g>\n   <g id=\"patch_4\">\n    <path d=\"M 46.965625 224.64 \nL 46.965625 7.2 \n\" style=\"fill:none;stroke:#000000;stroke-linecap:square;stroke-linejoin:miter;stroke-width:0.8;\"/>\n   </g>\n   <g id=\"patch_5\">\n    <path d=\"M 381.765625 224.64 \nL 381.765625 7.2 \n\" style=\"fill:none;stroke:#000000;stroke-linecap:square;stroke-linejoin:miter;stroke-width:0.8;\"/>\n   </g>\n   <g id=\"patch_6\">\n    <path d=\"M 46.965625 224.64 \nL 381.765625 224.64 \n\" style=\"fill:none;stroke:#000000;stroke-linecap:square;stroke-linejoin:miter;stroke-width:0.8;\"/>\n   </g>\n   <g id=\"patch_7\">\n    <path d=\"M 46.965625 7.2 \nL 381.765625 7.2 \n\" style=\"fill:none;stroke:#000000;stroke-linecap:square;stroke-linejoin:miter;stroke-width:0.8;\"/>\n   </g>\n  </g>\n </g>\n <defs>\n  <clipPath id=\"p8e5617ae74\">\n   <rect height=\"217.44\" width=\"334.8\" x=\"46.965625\" y=\"7.2\"/>\n  </clipPath>\n </defs>\n</svg>\n",
      "image/png": "[encoded data removed]"
     },
     "metadata": {
      "needs_background": "light"
     }
    }
   ],
   "source": [
    "# Box plot\n",
    "import seaborn as sns\n",
    "sns.boxplot(nba['Height'], orient= 'v')"
   ]
  },
  {
   "source": [
    "### 3.9 El peso de los jugadores está expresada en libras y kg. Convertir el peso expresado en kgs en libras [https://www.metric-conversions.org/es/peso/kilogramos-a-libras.htm](https://www.metric-conversions.org/es/peso/kilogramos-a-libras.htm). Convertir la variable en numérica.Calcular media, desviación típica y boxplot."
   ],
   "cell_type": "markdown",
   "metadata": {}
  },
  {
   "cell_type": "code",
   "execution_count": 25,
   "metadata": {},
   "outputs": [],
   "source": [
    "# Sigo el mismo procedimiento que con la altura. \n",
    "nba['kg'] = nba['Weight'].str.contains('kg')"
   ]
  },
  {
   "cell_type": "code",
   "execution_count": 26,
   "metadata": {},
   "outputs": [],
   "source": [
    "# Hago un for que va a recorrer weight y kg. Si kg es true entonces voy a eliminar kg y aplicaré la conversión a libras. \n",
    "nba['Weight'] = nba['Weight'].astype('object') # Lo vuelvo a convertir en Objeto\n",
    "for i in range(0,len(nba['Weight'])): # Ejecuto el for en todo el DF\n",
    "    if nba['kg'][i] == True: # Si el valor contiene CM ejecuto un replace para que lo quite\n",
    "        nba['Weight'][i] = int(nba['Weight'][i].replace('kg','')) * 2.2\n",
    "    else: # si no tiene Kg, siginifica que está expresado en libras\n",
    "        nba['Weight'][i] = int(nba['Weight'][i])"
   ]
  },
  {
   "cell_type": "code",
   "execution_count": 27,
   "metadata": {},
   "outputs": [],
   "source": [
    "nba = nba.drop('kg', axis=1)"
   ]
  },
  {
   "cell_type": "code",
   "execution_count": 28,
   "metadata": {},
   "outputs": [
    {
     "output_type": "execute_result",
     "data": {
      "text/plain": [
       "      Age Conference          Date  Draft Year  Height  \\\n",
       "0      29         NA  Apr 14, 1985        1978   195.5   \n",
       "1      23         NA   Apr 7, 1985        1982   198.0   \n",
       "2      28         NA   Apr 1, 1985        1979   198.0   \n",
       "3      37         NA  Mar 24, 1985        1969   218.5   \n",
       "4      28         NA  Mar 17, 1985        1978   205.5   \n",
       "...   ...        ...           ...         ...     ...   \n",
       "1140   28       West   Nov 6, 2017        2009   196.0   \n",
       "1141   25       East  Oct 30, 2017        2013   193.0   \n",
       "1142   27       West  Oct 30, 2017        2010   211.0   \n",
       "1143   23       East  Oct 23, 2017        2013   211.0   \n",
       "1144   28       West  Oct 23, 2017        2009   196.0   \n",
       "\n",
       "                      Player Position     Season  Season short  \\\n",
       "0     Micheal Ray Richardson       PG  1984-1985          1985   \n",
       "1                Derek Smith       SG  1984-1985          1985   \n",
       "2                Calvin Natt        F  1984-1985          1985   \n",
       "3        Kareem Abdul-Jabbar        C  1984-1985          1985   \n",
       "4                 Larry Bird       SF  1984-1985          1985   \n",
       "...                      ...      ...        ...           ...   \n",
       "1140            James Harden       SG  2017-2018          2018   \n",
       "1141          Victor Oladipo        G  2017-2018          2018   \n",
       "1142        DeMarcus Cousins        C  2017-2018          2018   \n",
       "1143   Giannis Antetokounmpo        F  2017-2018          2018   \n",
       "1144            James Harden       SG  2017-2018          2018   \n",
       "\n",
       "      Seasons in league                  Team Weight  Real_value  tiempo  \n",
       "0                     6       New Jersey Nets    189         1.0       7  \n",
       "1                     2  Los Angeles Clippers    205         1.0       3  \n",
       "2                     5        Denver Nuggets    220         1.0       6  \n",
       "3                    15    Los Angeles Lakers    225         1.0      16  \n",
       "4                     5        Boston Celtics    220         1.0       7  \n",
       "...                 ...                   ...    ...         ...     ...  \n",
       "1140                  8       Houston Rockets    220         0.5       9  \n",
       "1141                  4        Indiana Pacers    209         0.5       5  \n",
       "1142                  7  New Orleans Pelicans  268.4         0.5       8  \n",
       "1143                  4       Milwaukee Bucks  222.2         0.5       5  \n",
       "1144                  8       Houston Rockets    220         0.5       9  \n",
       "\n",
       "[1145 rows x 14 columns]"
      ],
      "text/html": "<div>\n<style scoped>\n    .dataframe tbody tr th:only-of-type {\n        vertical-align: middle;\n    }\n\n    .dataframe tbody tr th {\n        vertical-align: top;\n    }\n\n    .dataframe thead th {\n        text-align: right;\n    }\n</style>\n<table border=\"1\" class=\"dataframe\">\n  <thead>\n    <tr style=\"text-align: right;\">\n      <th></th>\n      <th>Age</th>\n      <th>Conference</th>\n      <th>Date</th>\n      <th>Draft Year</th>\n      <th>Height</th>\n      <th>Player</th>\n      <th>Position</th>\n      <th>Season</th>\n      <th>Season short</th>\n      <th>Seasons in league</th>\n      <th>Team</th>\n      <th>Weight</th>\n      <th>Real_value</th>\n      <th>tiempo</th>\n    </tr>\n  </thead>\n  <tbody>\n    <tr>\n      <th>0</th>\n      <td>29</td>\n      <td>NA</td>\n      <td>Apr 14, 1985</td>\n      <td>1978</td>\n      <td>195.5</td>\n      <td>Micheal Ray Richardson</td>\n      <td>PG</td>\n      <td>1984-1985</td>\n      <td>1985</td>\n      <td>6</td>\n      <td>New Jersey Nets</td>\n      <td>189</td>\n      <td>1.0</td>\n      <td>7</td>\n    </tr>\n    <tr>\n      <th>1</th>\n      <td>23</td>\n      <td>NA</td>\n      <td>Apr 7, 1985</td>\n      <td>1982</td>\n      <td>198.0</td>\n      <td>Derek Smith</td>\n      <td>SG</td>\n      <td>1984-1985</td>\n      <td>1985</td>\n      <td>2</td>\n      <td>Los Angeles Clippers</td>\n      <td>205</td>\n      <td>1.0</td>\n      <td>3</td>\n    </tr>\n    <tr>\n      <th>2</th>\n      <td>28</td>\n      <td>NA</td>\n      <td>Apr 1, 1985</td>\n      <td>1979</td>\n      <td>198.0</td>\n      <td>Calvin Natt</td>\n      <td>F</td>\n      <td>1984-1985</td>\n      <td>1985</td>\n      <td>5</td>\n      <td>Denver Nuggets</td>\n      <td>220</td>\n      <td>1.0</td>\n      <td>6</td>\n    </tr>\n    <tr>\n      <th>3</th>\n      <td>37</td>\n      <td>NA</td>\n      <td>Mar 24, 1985</td>\n      <td>1969</td>\n      <td>218.5</td>\n      <td>Kareem Abdul-Jabbar</td>\n      <td>C</td>\n      <td>1984-1985</td>\n      <td>1985</td>\n      <td>15</td>\n      <td>Los Angeles Lakers</td>\n      <td>225</td>\n      <td>1.0</td>\n      <td>16</td>\n    </tr>\n    <tr>\n      <th>4</th>\n      <td>28</td>\n      <td>NA</td>\n      <td>Mar 17, 1985</td>\n      <td>1978</td>\n      <td>205.5</td>\n      <td>Larry Bird</td>\n      <td>SF</td>\n      <td>1984-1985</td>\n      <td>1985</td>\n      <td>5</td>\n      <td>Boston Celtics</td>\n      <td>220</td>\n      <td>1.0</td>\n      <td>7</td>\n    </tr>\n    <tr>\n      <th>...</th>\n      <td>...</td>\n      <td>...</td>\n      <td>...</td>\n      <td>...</td>\n      <td>...</td>\n      <td>...</td>\n      <td>...</td>\n      <td>...</td>\n      <td>...</td>\n      <td>...</td>\n      <td>...</td>\n      <td>...</td>\n      <td>...</td>\n      <td>...</td>\n    </tr>\n    <tr>\n      <th>1140</th>\n      <td>28</td>\n      <td>West</td>\n      <td>Nov 6, 2017</td>\n      <td>2009</td>\n      <td>196.0</td>\n      <td>James Harden</td>\n      <td>SG</td>\n      <td>2017-2018</td>\n      <td>2018</td>\n      <td>8</td>\n      <td>Houston Rockets</td>\n      <td>220</td>\n      <td>0.5</td>\n      <td>9</td>\n    </tr>\n    <tr>\n      <th>1141</th>\n      <td>25</td>\n      <td>East</td>\n      <td>Oct 30, 2017</td>\n      <td>2013</td>\n      <td>193.0</td>\n      <td>Victor Oladipo</td>\n      <td>G</td>\n      <td>2017-2018</td>\n      <td>2018</td>\n      <td>4</td>\n      <td>Indiana Pacers</td>\n      <td>209</td>\n      <td>0.5</td>\n      <td>5</td>\n    </tr>\n    <tr>\n      <th>1142</th>\n      <td>27</td>\n      <td>West</td>\n      <td>Oct 30, 2017</td>\n      <td>2010</td>\n      <td>211.0</td>\n      <td>DeMarcus Cousins</td>\n      <td>C</td>\n      <td>2017-2018</td>\n      <td>2018</td>\n      <td>7</td>\n      <td>New Orleans Pelicans</td>\n      <td>268.4</td>\n      <td>0.5</td>\n      <td>8</td>\n    </tr>\n    <tr>\n      <th>1143</th>\n      <td>23</td>\n      <td>East</td>\n      <td>Oct 23, 2017</td>\n      <td>2013</td>\n      <td>211.0</td>\n      <td>Giannis Antetokounmpo</td>\n      <td>F</td>\n      <td>2017-2018</td>\n      <td>2018</td>\n      <td>4</td>\n      <td>Milwaukee Bucks</td>\n      <td>222.2</td>\n      <td>0.5</td>\n      <td>5</td>\n    </tr>\n    <tr>\n      <th>1144</th>\n      <td>28</td>\n      <td>West</td>\n      <td>Oct 23, 2017</td>\n      <td>2009</td>\n      <td>196.0</td>\n      <td>James Harden</td>\n      <td>SG</td>\n      <td>2017-2018</td>\n      <td>2018</td>\n      <td>8</td>\n      <td>Houston Rockets</td>\n      <td>220</td>\n      <td>0.5</td>\n      <td>9</td>\n    </tr>\n  </tbody>\n</table>\n<p>1145 rows × 14 columns</p>\n</div>"
     },
     "metadata": {},
     "execution_count": 28
    }
   ],
   "source": [
    "nba"
   ]
  },
  {
   "cell_type": "code",
   "execution_count": 29,
   "metadata": {},
   "outputs": [
    {
     "output_type": "execute_result",
     "data": {
      "text/plain": [
       "225.96716157205253"
      ]
     },
     "metadata": {},
     "execution_count": 29
    }
   ],
   "source": [
    "nba['Weight'].mean()"
   ]
  },
  {
   "cell_type": "code",
   "execution_count": 30,
   "metadata": {},
   "outputs": [
    {
     "output_type": "execute_result",
     "data": {
      "text/plain": [
       "31.5782484289721"
      ]
     },
     "metadata": {},
     "execution_count": 30
    }
   ],
   "source": [
    "nba['Weight'].std()"
   ]
  },
  {
   "cell_type": "code",
   "execution_count": 31,
   "metadata": {},
   "outputs": [
    {
     "output_type": "execute_result",
     "data": {
      "text/plain": [
       "<matplotlib.axes._subplots.AxesSubplot at 0x7f4e610f0370>"
      ]
     },
     "metadata": {},
     "execution_count": 31
    },
    {
     "output_type": "display_data",
     "data": {
      "text/plain": "<Figure size 432x288 with 1 Axes>",
      "image/svg+xml": "<?xml version=\"1.0\" encoding=\"utf-8\" standalone=\"no\"?>\n<!DOCTYPE svg PUBLIC \"-//W3C//DTD SVG 1.1//EN\"\n  \"http://www.w3.org/Graphics/SVG/1.1/DTD/svg11.dtd\">\n<!-- Created with matplotlib (https://matplotlib.org/) -->\n<svg height=\"235.34pt\" version=\"1.1\" viewBox=\"0 0 388.965625 235.34\" width=\"388.965625pt\" xmlns=\"http://www.w3.org/2000/svg\" xmlns:xlink=\"http://www.w3.org/1999/xlink\">\n <defs>\n  <style type=\"text/css\">\n*{stroke-linecap:butt;stroke-linejoin:round;}\n  </style>\n </defs>\n <g id=\"figure_1\">\n  <g id=\"patch_1\">\n   <path d=\"M 0 235.34 \nL 388.965625 235.34 \nL 388.965625 0 \nL 0 0 \nz\n\" style=\"fill:none;\"/>\n  </g>\n  <g id=\"axes_1\">\n   <g id=\"patch_2\">\n    <path d=\"M 46.965625 224.64 \nL 381.765625 224.64 \nL 381.765625 7.2 \nL 46.965625 7.2 \nz\n\" style=\"fill:#ffffff;\"/>\n   </g>\n   <g id=\"patch_3\">\n    <path clip-path=\"url(#p33d12ff7fb)\" d=\"M 80.445625 152.630649 \nL 348.285625 152.630649 \nL 348.285625 101.800519 \nL 80.445625 101.800519 \nL 80.445625 152.630649 \nz\n\" style=\"fill:#3274a1;stroke:#3f3f3f;stroke-linejoin:miter;stroke-width:1.5;\"/>\n   </g>\n   <g id=\"matplotlib.axis_1\">\n    <g id=\"xtick_1\">\n     <g id=\"line2d_1\">\n      <defs>\n       <path d=\"M 0 0 \nL 0 3.5 \n\" id=\"m4a46d83884\" style=\"stroke:#000000;stroke-width:0.8;\"/>\n      </defs>\n      <g>\n       <use style=\"stroke:#000000;stroke-width:0.8;\" x=\"214.365625\" xlink:href=\"#m4a46d83884\" y=\"224.64\"/>\n      </g>\n     </g>\n    </g>\n   </g>\n   <g id=\"matplotlib.axis_2\">\n    <g id=\"ytick_1\">\n     <g id=\"line2d_2\">\n      <defs>\n       <path d=\"M 0 0 \nL -3.5 0 \n\" id=\"m32646542a1\" style=\"stroke:#000000;stroke-width:0.8;\"/>\n      </defs>\n      <g>\n       <use style=\"stroke:#000000;stroke-width:0.8;\" x=\"46.965625\" xlink:href=\"#m32646542a1\" y=\"214.756364\"/>\n      </g>\n     </g>\n     <g id=\"text_1\">\n      <!-- 150 -->\n      <defs>\n       <path d=\"M 12.40625 8.296875 \nL 28.515625 8.296875 \nL 28.515625 63.921875 \nL 10.984375 60.40625 \nL 10.984375 69.390625 \nL 28.421875 72.90625 \nL 38.28125 72.90625 \nL 38.28125 8.296875 \nL 54.390625 8.296875 \nL 54.390625 0 \nL 12.40625 0 \nz\n\" id=\"DejaVuSans-49\"/>\n       <path d=\"M 10.796875 72.90625 \nL 49.515625 72.90625 \nL 49.515625 64.59375 \nL 19.828125 64.59375 \nL 19.828125 46.734375 \nQ 21.96875 47.46875 24.109375 47.828125 \nQ 26.265625 48.1875 28.421875 48.1875 \nQ 40.625 48.1875 47.75 41.5 \nQ 54.890625 34.8125 54.890625 23.390625 \nQ 54.890625 11.625 47.5625 5.09375 \nQ 40.234375 -1.421875 26.90625 -1.421875 \nQ 22.3125 -1.421875 17.546875 -0.640625 \nQ 12.796875 0.140625 7.71875 1.703125 \nL 7.71875 11.625 \nQ 12.109375 9.234375 16.796875 8.0625 \nQ 21.484375 6.890625 26.703125 6.890625 \nQ 35.15625 6.890625 40.078125 11.328125 \nQ 45.015625 15.765625 45.015625 23.390625 \nQ 45.015625 31 40.078125 35.4375 \nQ 35.15625 39.890625 26.703125 39.890625 \nQ 22.75 39.890625 18.8125 39.015625 \nQ 14.890625 38.140625 10.796875 36.28125 \nz\n\" id=\"DejaVuSans-53\"/>\n       <path d=\"M 31.78125 66.40625 \nQ 24.171875 66.40625 20.328125 58.90625 \nQ 16.5 51.421875 16.5 36.375 \nQ 16.5 21.390625 20.328125 13.890625 \nQ 24.171875 6.390625 31.78125 6.390625 \nQ 39.453125 6.390625 43.28125 13.890625 \nQ 47.125 21.390625 47.125 36.375 \nQ 47.125 51.421875 43.28125 58.90625 \nQ 39.453125 66.40625 31.78125 66.40625 \nz\nM 31.78125 74.21875 \nQ 44.046875 74.21875 50.515625 64.515625 \nQ 56.984375 54.828125 56.984375 36.375 \nQ 56.984375 17.96875 50.515625 8.265625 \nQ 44.046875 -1.421875 31.78125 -1.421875 \nQ 19.53125 -1.421875 13.0625 8.265625 \nQ 6.59375 17.96875 6.59375 36.375 \nQ 6.59375 54.828125 13.0625 64.515625 \nQ 19.53125 74.21875 31.78125 74.21875 \nz\n\" id=\"DejaVuSans-48\"/>\n      </defs>\n      <g transform=\"translate(20.878125 218.555582)scale(0.1 -0.1)\">\n       <use xlink:href=\"#DejaVuSans-49\"/>\n       <use x=\"63.623047\" xlink:href=\"#DejaVuSans-53\"/>\n       <use x=\"127.246094\" xlink:href=\"#DejaVuSans-48\"/>\n      </g>\n     </g>\n    </g>\n    <g id=\"ytick_2\">\n     <g id=\"line2d_3\">\n      <g>\n       <use style=\"stroke:#000000;stroke-width:0.8;\" x=\"46.965625\" xlink:href=\"#m32646542a1\" y=\"186.517403\"/>\n      </g>\n     </g>\n     <g id=\"text_2\">\n      <!-- 175 -->\n      <defs>\n       <path d=\"M 8.203125 72.90625 \nL 55.078125 72.90625 \nL 55.078125 68.703125 \nL 28.609375 0 \nL 18.3125 0 \nL 43.21875 64.59375 \nL 8.203125 64.59375 \nz\n\" id=\"DejaVuSans-55\"/>\n      </defs>\n      <g transform=\"translate(20.878125 190.316621)scale(0.1 -0.1)\">\n       <use xlink:href=\"#DejaVuSans-49\"/>\n       <use x=\"63.623047\" xlink:href=\"#DejaVuSans-55\"/>\n       <use x=\"127.246094\" xlink:href=\"#DejaVuSans-53\"/>\n      </g>\n     </g>\n    </g>\n    <g id=\"ytick_3\">\n     <g id=\"line2d_4\">\n      <g>\n       <use style=\"stroke:#000000;stroke-width:0.8;\" x=\"46.965625\" xlink:href=\"#m32646542a1\" y=\"158.278442\"/>\n      </g>\n     </g>\n     <g id=\"text_3\">\n      <!-- 200 -->\n      <defs>\n       <path d=\"M 19.1875 8.296875 \nL 53.609375 8.296875 \nL 53.609375 0 \nL 7.328125 0 \nL 7.328125 8.296875 \nQ 12.9375 14.109375 22.625 23.890625 \nQ 32.328125 33.6875 34.8125 36.53125 \nQ 39.546875 41.84375 41.421875 45.53125 \nQ 43.3125 49.21875 43.3125 52.78125 \nQ 43.3125 58.59375 39.234375 62.25 \nQ 35.15625 65.921875 28.609375 65.921875 \nQ 23.96875 65.921875 18.8125 64.3125 \nQ 13.671875 62.703125 7.8125 59.421875 \nL 7.8125 69.390625 \nQ 13.765625 71.78125 18.9375 73 \nQ 24.125 74.21875 28.421875 74.21875 \nQ 39.75 74.21875 46.484375 68.546875 \nQ 53.21875 62.890625 53.21875 53.421875 \nQ 53.21875 48.921875 51.53125 44.890625 \nQ 49.859375 40.875 45.40625 35.40625 \nQ 44.1875 33.984375 37.640625 27.21875 \nQ 31.109375 20.453125 19.1875 8.296875 \nz\n\" id=\"DejaVuSans-50\"/>\n      </defs>\n      <g transform=\"translate(20.878125 162.07766)scale(0.1 -0.1)\">\n       <use xlink:href=\"#DejaVuSans-50\"/>\n       <use x=\"63.623047\" xlink:href=\"#DejaVuSans-48\"/>\n       <use x=\"127.246094\" xlink:href=\"#DejaVuSans-48\"/>\n      </g>\n     </g>\n    </g>\n    <g id=\"ytick_4\">\n     <g id=\"line2d_5\">\n      <g>\n       <use style=\"stroke:#000000;stroke-width:0.8;\" x=\"46.965625\" xlink:href=\"#m32646542a1\" y=\"130.039481\"/>\n      </g>\n     </g>\n     <g id=\"text_4\">\n      <!-- 225 -->\n      <g transform=\"translate(20.878125 133.838699)scale(0.1 -0.1)\">\n       <use xlink:href=\"#DejaVuSans-50\"/>\n       <use x=\"63.623047\" xlink:href=\"#DejaVuSans-50\"/>\n       <use x=\"127.246094\" xlink:href=\"#DejaVuSans-53\"/>\n      </g>\n     </g>\n    </g>\n    <g id=\"ytick_5\">\n     <g id=\"line2d_6\">\n      <g>\n       <use style=\"stroke:#000000;stroke-width:0.8;\" x=\"46.965625\" xlink:href=\"#m32646542a1\" y=\"101.800519\"/>\n      </g>\n     </g>\n     <g id=\"text_5\">\n      <!-- 250 -->\n      <g transform=\"translate(20.878125 105.599738)scale(0.1 -0.1)\">\n       <use xlink:href=\"#DejaVuSans-50\"/>\n       <use x=\"63.623047\" xlink:href=\"#DejaVuSans-53\"/>\n       <use x=\"127.246094\" xlink:href=\"#DejaVuSans-48\"/>\n      </g>\n     </g>\n    </g>\n    <g id=\"ytick_6\">\n     <g id=\"line2d_7\">\n      <g>\n       <use style=\"stroke:#000000;stroke-width:0.8;\" x=\"46.965625\" xlink:href=\"#m32646542a1\" y=\"73.561558\"/>\n      </g>\n     </g>\n     <g id=\"text_6\">\n      <!-- 275 -->\n      <g transform=\"translate(20.878125 77.360777)scale(0.1 -0.1)\">\n       <use xlink:href=\"#DejaVuSans-50\"/>\n       <use x=\"63.623047\" xlink:href=\"#DejaVuSans-55\"/>\n       <use x=\"127.246094\" xlink:href=\"#DejaVuSans-53\"/>\n      </g>\n     </g>\n    </g>\n    <g id=\"ytick_7\">\n     <g id=\"line2d_8\">\n      <g>\n       <use style=\"stroke:#000000;stroke-width:0.8;\" x=\"46.965625\" xlink:href=\"#m32646542a1\" y=\"45.322597\"/>\n      </g>\n     </g>\n     <g id=\"text_7\">\n      <!-- 300 -->\n      <defs>\n       <path d=\"M 40.578125 39.3125 \nQ 47.65625 37.796875 51.625 33 \nQ 55.609375 28.21875 55.609375 21.1875 \nQ 55.609375 10.40625 48.1875 4.484375 \nQ 40.765625 -1.421875 27.09375 -1.421875 \nQ 22.515625 -1.421875 17.65625 -0.515625 \nQ 12.796875 0.390625 7.625 2.203125 \nL 7.625 11.71875 \nQ 11.71875 9.328125 16.59375 8.109375 \nQ 21.484375 6.890625 26.8125 6.890625 \nQ 36.078125 6.890625 40.9375 10.546875 \nQ 45.796875 14.203125 45.796875 21.1875 \nQ 45.796875 27.640625 41.28125 31.265625 \nQ 36.765625 34.90625 28.71875 34.90625 \nL 20.21875 34.90625 \nL 20.21875 43.015625 \nL 29.109375 43.015625 \nQ 36.375 43.015625 40.234375 45.921875 \nQ 44.09375 48.828125 44.09375 54.296875 \nQ 44.09375 59.90625 40.109375 62.90625 \nQ 36.140625 65.921875 28.71875 65.921875 \nQ 24.65625 65.921875 20.015625 65.03125 \nQ 15.375 64.15625 9.8125 62.3125 \nL 9.8125 71.09375 \nQ 15.4375 72.65625 20.34375 73.4375 \nQ 25.25 74.21875 29.59375 74.21875 \nQ 40.828125 74.21875 47.359375 69.109375 \nQ 53.90625 64.015625 53.90625 55.328125 \nQ 53.90625 49.265625 50.4375 45.09375 \nQ 46.96875 40.921875 40.578125 39.3125 \nz\n\" id=\"DejaVuSans-51\"/>\n      </defs>\n      <g transform=\"translate(20.878125 49.121816)scale(0.1 -0.1)\">\n       <use xlink:href=\"#DejaVuSans-51\"/>\n       <use x=\"63.623047\" xlink:href=\"#DejaVuSans-48\"/>\n       <use x=\"127.246094\" xlink:href=\"#DejaVuSans-48\"/>\n      </g>\n     </g>\n    </g>\n    <g id=\"ytick_8\">\n     <g id=\"line2d_9\">\n      <g>\n       <use style=\"stroke:#000000;stroke-width:0.8;\" x=\"46.965625\" xlink:href=\"#m32646542a1\" y=\"17.083636\"/>\n      </g>\n     </g>\n     <g id=\"text_8\">\n      <!-- 325 -->\n      <g transform=\"translate(20.878125 20.882855)scale(0.1 -0.1)\">\n       <use xlink:href=\"#DejaVuSans-51\"/>\n       <use x=\"63.623047\" xlink:href=\"#DejaVuSans-50\"/>\n       <use x=\"127.246094\" xlink:href=\"#DejaVuSans-53\"/>\n      </g>\n     </g>\n    </g>\n    <g id=\"text_9\">\n     <!-- Weight -->\n     <defs>\n      <path d=\"M 3.328125 72.90625 \nL 13.28125 72.90625 \nL 28.609375 11.28125 \nL 43.890625 72.90625 \nL 54.984375 72.90625 \nL 70.3125 11.28125 \nL 85.59375 72.90625 \nL 95.609375 72.90625 \nL 77.296875 0 \nL 64.890625 0 \nL 49.515625 63.28125 \nL 33.984375 0 \nL 21.578125 0 \nz\n\" id=\"DejaVuSans-87\"/>\n      <path d=\"M 56.203125 29.59375 \nL 56.203125 25.203125 \nL 14.890625 25.203125 \nQ 15.484375 15.921875 20.484375 11.0625 \nQ 25.484375 6.203125 34.421875 6.203125 \nQ 39.59375 6.203125 44.453125 7.46875 \nQ 49.3125 8.734375 54.109375 11.28125 \nL 54.109375 2.78125 \nQ 49.265625 0.734375 44.1875 -0.34375 \nQ 39.109375 -1.421875 33.890625 -1.421875 \nQ 20.796875 -1.421875 13.15625 6.1875 \nQ 5.515625 13.8125 5.515625 26.8125 \nQ 5.515625 40.234375 12.765625 48.109375 \nQ 20.015625 56 32.328125 56 \nQ 43.359375 56 49.78125 48.890625 \nQ 56.203125 41.796875 56.203125 29.59375 \nz\nM 47.21875 32.234375 \nQ 47.125 39.59375 43.09375 43.984375 \nQ 39.0625 48.390625 32.421875 48.390625 \nQ 24.90625 48.390625 20.390625 44.140625 \nQ 15.875 39.890625 15.1875 32.171875 \nz\n\" id=\"DejaVuSans-101\"/>\n      <path d=\"M 9.421875 54.6875 \nL 18.40625 54.6875 \nL 18.40625 0 \nL 9.421875 0 \nz\nM 9.421875 75.984375 \nL 18.40625 75.984375 \nL 18.40625 64.59375 \nL 9.421875 64.59375 \nz\n\" id=\"DejaVuSans-105\"/>\n      <path d=\"M 45.40625 27.984375 \nQ 45.40625 37.75 41.375 43.109375 \nQ 37.359375 48.484375 30.078125 48.484375 \nQ 22.859375 48.484375 18.828125 43.109375 \nQ 14.796875 37.75 14.796875 27.984375 \nQ 14.796875 18.265625 18.828125 12.890625 \nQ 22.859375 7.515625 30.078125 7.515625 \nQ 37.359375 7.515625 41.375 12.890625 \nQ 45.40625 18.265625 45.40625 27.984375 \nz\nM 54.390625 6.78125 \nQ 54.390625 -7.171875 48.1875 -13.984375 \nQ 42 -20.796875 29.203125 -20.796875 \nQ 24.46875 -20.796875 20.265625 -20.09375 \nQ 16.0625 -19.390625 12.109375 -17.921875 \nL 12.109375 -9.1875 \nQ 16.0625 -11.328125 19.921875 -12.34375 \nQ 23.78125 -13.375 27.78125 -13.375 \nQ 36.625 -13.375 41.015625 -8.765625 \nQ 45.40625 -4.15625 45.40625 5.171875 \nL 45.40625 9.625 \nQ 42.625 4.78125 38.28125 2.390625 \nQ 33.9375 0 27.875 0 \nQ 17.828125 0 11.671875 7.65625 \nQ 5.515625 15.328125 5.515625 27.984375 \nQ 5.515625 40.671875 11.671875 48.328125 \nQ 17.828125 56 27.875 56 \nQ 33.9375 56 38.28125 53.609375 \nQ 42.625 51.21875 45.40625 46.390625 \nL 45.40625 54.6875 \nL 54.390625 54.6875 \nz\n\" id=\"DejaVuSans-103\"/>\n      <path d=\"M 54.890625 33.015625 \nL 54.890625 0 \nL 45.90625 0 \nL 45.90625 32.71875 \nQ 45.90625 40.484375 42.875 44.328125 \nQ 39.84375 48.1875 33.796875 48.1875 \nQ 26.515625 48.1875 22.3125 43.546875 \nQ 18.109375 38.921875 18.109375 30.90625 \nL 18.109375 0 \nL 9.078125 0 \nL 9.078125 75.984375 \nL 18.109375 75.984375 \nL 18.109375 46.1875 \nQ 21.34375 51.125 25.703125 53.5625 \nQ 30.078125 56 35.796875 56 \nQ 45.21875 56 50.046875 50.171875 \nQ 54.890625 44.34375 54.890625 33.015625 \nz\n\" id=\"DejaVuSans-104\"/>\n      <path d=\"M 18.3125 70.21875 \nL 18.3125 54.6875 \nL 36.8125 54.6875 \nL 36.8125 47.703125 \nL 18.3125 47.703125 \nL 18.3125 18.015625 \nQ 18.3125 11.328125 20.140625 9.421875 \nQ 21.96875 7.515625 27.59375 7.515625 \nL 36.8125 7.515625 \nL 36.8125 0 \nL 27.59375 0 \nQ 17.1875 0 13.234375 3.875 \nQ 9.28125 7.765625 9.28125 18.015625 \nL 9.28125 47.703125 \nL 2.6875 47.703125 \nL 2.6875 54.6875 \nL 9.28125 54.6875 \nL 9.28125 70.21875 \nz\n\" id=\"DejaVuSans-116\"/>\n     </defs>\n     <g transform=\"translate(14.798438 133.33875)rotate(-90)scale(0.1 -0.1)\">\n      <use xlink:href=\"#DejaVuSans-87\"/>\n      <use x=\"93.001953\" xlink:href=\"#DejaVuSans-101\"/>\n      <use x=\"154.525391\" xlink:href=\"#DejaVuSans-105\"/>\n      <use x=\"182.308594\" xlink:href=\"#DejaVuSans-103\"/>\n      <use x=\"245.785156\" xlink:href=\"#DejaVuSans-104\"/>\n      <use x=\"309.164062\" xlink:href=\"#DejaVuSans-116\"/>\n     </g>\n    </g>\n   </g>\n   <g id=\"line2d_10\">\n    <path clip-path=\"url(#p33d12ff7fb)\" d=\"M 214.365625 152.630649 \nL 214.365625 214.756364 \n\" style=\"fill:none;stroke:#3f3f3f;stroke-linecap:square;stroke-width:1.5;\"/>\n   </g>\n   <g id=\"line2d_11\">\n    <path clip-path=\"url(#p33d12ff7fb)\" d=\"M 214.365625 101.800519 \nL 214.365625 34.027013 \n\" style=\"fill:none;stroke:#3f3f3f;stroke-linecap:square;stroke-width:1.5;\"/>\n   </g>\n   <g id=\"line2d_12\">\n    <path clip-path=\"url(#p33d12ff7fb)\" d=\"M 147.405625 214.756364 \nL 281.325625 214.756364 \n\" style=\"fill:none;stroke:#3f3f3f;stroke-linecap:square;stroke-width:1.5;\"/>\n   </g>\n   <g id=\"line2d_13\">\n    <path clip-path=\"url(#p33d12ff7fb)\" d=\"M 147.405625 34.027013 \nL 281.325625 34.027013 \n\" style=\"fill:none;stroke:#3f3f3f;stroke-linecap:square;stroke-width:1.5;\"/>\n   </g>\n   <g id=\"line2d_14\">\n    <defs>\n     <path d=\"M -0 3.535534 \nL 2.12132 0 \nL -0 -3.535534 \nL -2.12132 -0 \nz\n\" id=\"mc4d4ba3299\" style=\"stroke:#3f3f3f;stroke-linejoin:miter;\"/>\n    </defs>\n    <g clip-path=\"url(#p33d12ff7fb)\">\n     <use style=\"fill:#3f3f3f;stroke:#3f3f3f;stroke-linejoin:miter;\" x=\"214.365625\" xlink:href=\"#mc4d4ba3299\" y=\"17.083636\"/>\n     <use style=\"fill:#3f3f3f;stroke:#3f3f3f;stroke-linejoin:miter;\" x=\"214.365625\" xlink:href=\"#mc4d4ba3299\" y=\"17.083636\"/>\n     <use style=\"fill:#3f3f3f;stroke:#3f3f3f;stroke-linejoin:miter;\" x=\"214.365625\" xlink:href=\"#mc4d4ba3299\" y=\"17.083636\"/>\n     <use style=\"fill:#3f3f3f;stroke:#3f3f3f;stroke-linejoin:miter;\" x=\"214.365625\" xlink:href=\"#mc4d4ba3299\" y=\"17.083636\"/>\n     <use style=\"fill:#3f3f3f;stroke:#3f3f3f;stroke-linejoin:miter;\" x=\"214.365625\" xlink:href=\"#mc4d4ba3299\" y=\"17.083636\"/>\n     <use style=\"fill:#3f3f3f;stroke:#3f3f3f;stroke-linejoin:miter;\" x=\"214.365625\" xlink:href=\"#mc4d4ba3299\" y=\"17.083636\"/>\n     <use style=\"fill:#3f3f3f;stroke:#3f3f3f;stroke-linejoin:miter;\" x=\"214.365625\" xlink:href=\"#mc4d4ba3299\" y=\"17.083636\"/>\n     <use style=\"fill:#3f3f3f;stroke:#3f3f3f;stroke-linejoin:miter;\" x=\"214.365625\" xlink:href=\"#mc4d4ba3299\" y=\"17.083636\"/>\n     <use style=\"fill:#3f3f3f;stroke:#3f3f3f;stroke-linejoin:miter;\" x=\"214.365625\" xlink:href=\"#mc4d4ba3299\" y=\"17.083636\"/>\n     <use style=\"fill:#3f3f3f;stroke:#3f3f3f;stroke-linejoin:miter;\" x=\"214.365625\" xlink:href=\"#mc4d4ba3299\" y=\"17.083636\"/>\n     <use style=\"fill:#3f3f3f;stroke:#3f3f3f;stroke-linejoin:miter;\" x=\"214.365625\" xlink:href=\"#mc4d4ba3299\" y=\"17.083636\"/>\n     <use style=\"fill:#3f3f3f;stroke:#3f3f3f;stroke-linejoin:miter;\" x=\"214.365625\" xlink:href=\"#mc4d4ba3299\" y=\"17.083636\"/>\n     <use style=\"fill:#3f3f3f;stroke:#3f3f3f;stroke-linejoin:miter;\" x=\"214.365625\" xlink:href=\"#mc4d4ba3299\" y=\"17.083636\"/>\n     <use style=\"fill:#3f3f3f;stroke:#3f3f3f;stroke-linejoin:miter;\" x=\"214.365625\" xlink:href=\"#mc4d4ba3299\" y=\"17.083636\"/>\n     <use style=\"fill:#3f3f3f;stroke:#3f3f3f;stroke-linejoin:miter;\" x=\"214.365625\" xlink:href=\"#mc4d4ba3299\" y=\"17.083636\"/>\n     <use style=\"fill:#3f3f3f;stroke:#3f3f3f;stroke-linejoin:miter;\" x=\"214.365625\" xlink:href=\"#mc4d4ba3299\" y=\"17.083636\"/>\n     <use style=\"fill:#3f3f3f;stroke:#3f3f3f;stroke-linejoin:miter;\" x=\"214.365625\" xlink:href=\"#mc4d4ba3299\" y=\"17.083636\"/>\n     <use style=\"fill:#3f3f3f;stroke:#3f3f3f;stroke-linejoin:miter;\" x=\"214.365625\" xlink:href=\"#mc4d4ba3299\" y=\"17.083636\"/>\n     <use style=\"fill:#3f3f3f;stroke:#3f3f3f;stroke-linejoin:miter;\" x=\"214.365625\" xlink:href=\"#mc4d4ba3299\" y=\"17.083636\"/>\n     <use style=\"fill:#3f3f3f;stroke:#3f3f3f;stroke-linejoin:miter;\" x=\"214.365625\" xlink:href=\"#mc4d4ba3299\" y=\"17.083636\"/>\n    </g>\n   </g>\n   <g id=\"line2d_15\">\n    <path clip-path=\"url(#p33d12ff7fb)\" d=\"M 80.445625 130.039481 \nL 348.285625 130.039481 \n\" style=\"fill:none;stroke:#3f3f3f;stroke-linecap:square;stroke-width:1.5;\"/>\n   </g>\n   <g id=\"patch_4\">\n    <path d=\"M 46.965625 224.64 \nL 46.965625 7.2 \n\" style=\"fill:none;stroke:#000000;stroke-linecap:square;stroke-linejoin:miter;stroke-width:0.8;\"/>\n   </g>\n   <g id=\"patch_5\">\n    <path d=\"M 381.765625 224.64 \nL 381.765625 7.2 \n\" style=\"fill:none;stroke:#000000;stroke-linecap:square;stroke-linejoin:miter;stroke-width:0.8;\"/>\n   </g>\n   <g id=\"patch_6\">\n    <path d=\"M 46.965625 224.64 \nL 381.765625 224.64 \n\" style=\"fill:none;stroke:#000000;stroke-linecap:square;stroke-linejoin:miter;stroke-width:0.8;\"/>\n   </g>\n   <g id=\"patch_7\">\n    <path d=\"M 46.965625 7.2 \nL 381.765625 7.2 \n\" style=\"fill:none;stroke:#000000;stroke-linecap:square;stroke-linejoin:miter;stroke-width:0.8;\"/>\n   </g>\n  </g>\n </g>\n <defs>\n  <clipPath id=\"p33d12ff7fb\">\n   <rect height=\"217.44\" width=\"334.8\" x=\"46.965625\" y=\"7.2\"/>\n  </clipPath>\n </defs>\n</svg>\n",
      "image/png": "[encoded data removed]"
     },
     "metadata": {
      "needs_background": "light"
     }
    }
   ],
   "source": [
    "sns.boxplot(nba['Weight'], orient= 'v')"
   ]
  },
  {
   "source": [
    "### 4 Información sobre posiciones en el campo y equipos.\n",
    "#### 4.1 Fusionar las categorias de posición en el campo F,F-C y FC en la categoría genérica Forward. Fusionar las categorias G,G-F y GF en la categoria genérica Guard. Renombrar la categoría ‘PG’ como ‘Point Guard’, ‘SG’ como ‘Shooting Guard’, ‘SF’ como ‘Small Forward’, ‘PF’ como ‘Power Forward’ y ‘C’ como ‘Center’."
   ],
   "cell_type": "markdown",
   "metadata": {}
  },
  {
   "cell_type": "code",
   "execution_count": 32,
   "metadata": {},
   "outputs": [],
   "source": [
    "Forward = [\"F\",\"F-C\",\"FC\"] # Creo Forward y Guard\n",
    "Guard = [\"G\",\"G-F\", \"GF\"]\n",
    "nba['Position'] = nba['Position'].astype('object')"
   ]
  },
  {
   "cell_type": "code",
   "execution_count": 33,
   "metadata": {},
   "outputs": [],
   "source": [
    "# Puedo usar la función loc para localizar las posiciones y cambiarles el nombre\n",
    "nba.loc[nba['Position'].isin(Forward),'Position' ] = 'Forward'\n",
    "nba.loc[nba['Position'].isin(Guard),'Position' ] = 'Guard'\n",
    "nba.loc[nba['Position'] == 'PG','Position' ] = 'Point Guard'\n",
    "nba.loc[nba['Position'] == 'SG','Position' ] = 'Shooting Guard'\n",
    "nba.loc[nba['Position']== 'SF','Position' ] = 'Small Forward'\n",
    "nba.loc[nba['Position']== 'PF','Position' ] = 'Power Forward'\n",
    "nba.loc[nba['Position']== 'C','Position' ] = 'Center'"
   ]
  },
  {
   "cell_type": "code",
   "execution_count": 34,
   "metadata": {},
   "outputs": [
    {
     "output_type": "execute_result",
     "data": {
      "text/plain": [
       "Guard             228\n",
       "Forward           217\n",
       "Shooting Guard    164\n",
       "Center            158\n",
       "Power Forward     139\n",
       "Point Guard       120\n",
       "Small Forward     119\n",
       "Name: Position, dtype: int64"
      ]
     },
     "metadata": {},
     "execution_count": 34
    }
   ],
   "source": [
    "nba.Position.value_counts() # Compribación. "
   ]
  },
  {
   "source": [
    "#### 4.2 ¿En que posición ha sido más veces los jugadores de la semana nombrados?"
   ],
   "cell_type": "markdown",
   "metadata": {}
  },
  {
   "cell_type": "code",
   "execution_count": 36,
   "metadata": {},
   "outputs": [],
   "source": [
    "# en la de guard, en la comprobación se ve en el value Count"
   ]
  },
  {
   "source": [
    "#### 4.3 ¿Cuántos equipos distintos hay?"
   ],
   "cell_type": "markdown",
   "metadata": {}
  },
  {
   "cell_type": "code",
   "execution_count": 38,
   "metadata": {},
   "outputs": [
    {
     "output_type": "execute_result",
     "data": {
      "text/plain": [
       "35"
      ]
     },
     "metadata": {},
     "execution_count": 38
    }
   ],
   "source": [
    "len(nba['Team'].unique())"
   ]
  },
  {
   "source": [
    "#### 4.4 ¿Cuáles son los cinco equipos que más veces han sido nombrados sus jugadores como jugador de la semana?"
   ],
   "cell_type": "markdown",
   "metadata": {}
  },
  {
   "cell_type": "code",
   "execution_count": 44,
   "metadata": {},
   "outputs": [
    {
     "output_type": "execute_result",
     "data": {
      "text/plain": [
       "Los Angeles Lakers     71\n",
       "San Antonio Spurs      61\n",
       "Cleveland Cavaliers    59\n",
       "Miami Heat             57\n",
       "Houston Rockets        56\n",
       "Name: Team, dtype: int64"
      ]
     },
     "metadata": {},
     "execution_count": 44
    }
   ],
   "source": [
    "nba.Team.value_counts()[0:5] # son Lakers, Spurs, Cavaliers, Heat y Rockets. "
   ]
  },
  {
   "source": [
    "### 5 Información sobre jugadores. Estadísticos descriptivos.\n",
    "#### 5.1 Crear una base datos denominada nba.unique en la que no se repita el nombre de ningún jugador.Trabajar a partir de ahora con esta base de datos."
   ],
   "cell_type": "markdown",
   "metadata": {}
  },
  {
   "cell_type": "code",
   "execution_count": 46,
   "metadata": {},
   "outputs": [],
   "source": [
    "nba.unique = nba.drop_duplicates('Player')"
   ]
  },
  {
   "cell_type": "code",
   "execution_count": 47,
   "metadata": {},
   "outputs": [
    {
     "output_type": "execute_result",
     "data": {
      "text/plain": [
       "      Age Conference          Date  Draft Year  Height  \\\n",
       "0      29         NA  Apr 14, 1985        1978   195.5   \n",
       "1      23         NA   Apr 7, 1985        1982   198.0   \n",
       "2      28         NA   Apr 1, 1985        1979   198.0   \n",
       "3      37         NA  Mar 24, 1985        1969   218.5   \n",
       "4      28         NA  Mar 17, 1985        1978   205.5   \n",
       "...   ...        ...           ...         ...     ...   \n",
       "1101   25       East   Apr 2, 2018        2013   193.0   \n",
       "1115   26       East  Jan 29, 2018        2012   203.0   \n",
       "1123   24       East   Jan 2, 2018        2012   196.0   \n",
       "1137   25       East  Nov 13, 2017        2011   206.0   \n",
       "1139   22       East   Nov 6, 2017        2015   221.0   \n",
       "\n",
       "                      Player        Position     Season  Season short  \\\n",
       "0     Micheal Ray Richardson     Point Guard  1984-1985          1985   \n",
       "1                Derek Smith  Shooting Guard  1984-1985          1985   \n",
       "2                Calvin Natt         Forward  1984-1985          1985   \n",
       "3        Kareem Abdul-Jabbar          Center  1984-1985          1985   \n",
       "4                 Larry Bird   Small Forward  1984-1985          1985   \n",
       "...                      ...             ...        ...           ...   \n",
       "1101          Victor Oladipo           Guard  2017-2018          2018   \n",
       "1115         Khris Middleton   Small Forward  2017-2018          2018   \n",
       "1123            Bradley Beal  Shooting Guard  2017-2018          2018   \n",
       "1137           Tobias Harris         Forward  2017-2018          2018   \n",
       "1139      Kristaps Porzingis         Forward  2017-2018          2018   \n",
       "\n",
       "      Seasons in league                  Team Weight  Real_value  tiempo  \n",
       "0                     6       New Jersey Nets    189         1.0       7  \n",
       "1                     2  Los Angeles Clippers    205         1.0       3  \n",
       "2                     5        Denver Nuggets    220         1.0       6  \n",
       "3                    15    Los Angeles Lakers    225         1.0      16  \n",
       "4                     5        Boston Celtics    220         1.0       7  \n",
       "...                 ...                   ...    ...         ...     ...  \n",
       "1101                  4        Indiana Pacers    209         0.5       5  \n",
       "1115                  5       Milwaukee Bucks  233.2         0.5       6  \n",
       "1123                  5    Washington Wizards  206.8         0.5       6  \n",
       "1137                  6       Detroit Pistons  235.4         0.5       7  \n",
       "1139                  2       New York Knicks  239.8         0.5       3  \n",
       "\n",
       "[274 rows x 14 columns]"
      ],
      "text/html": "<div>\n<style scoped>\n    .dataframe tbody tr th:only-of-type {\n        vertical-align: middle;\n    }\n\n    .dataframe tbody tr th {\n        vertical-align: top;\n    }\n\n    .dataframe thead th {\n        text-align: right;\n    }\n</style>\n<table border=\"1\" class=\"dataframe\">\n  <thead>\n    <tr style=\"text-align: right;\">\n      <th></th>\n      <th>Age</th>\n      <th>Conference</th>\n      <th>Date</th>\n      <th>Draft Year</th>\n      <th>Height</th>\n      <th>Player</th>\n      <th>Position</th>\n      <th>Season</th>\n      <th>Season short</th>\n      <th>Seasons in league</th>\n      <th>Team</th>\n      <th>Weight</th>\n      <th>Real_value</th>\n      <th>tiempo</th>\n    </tr>\n  </thead>\n  <tbody>\n    <tr>\n      <th>0</th>\n      <td>29</td>\n      <td>NA</td>\n      <td>Apr 14, 1985</td>\n      <td>1978</td>\n      <td>195.5</td>\n      <td>Micheal Ray Richardson</td>\n      <td>Point Guard</td>\n      <td>1984-1985</td>\n      <td>1985</td>\n      <td>6</td>\n      <td>New Jersey Nets</td>\n      <td>189</td>\n      <td>1.0</td>\n      <td>7</td>\n    </tr>\n    <tr>\n      <th>1</th>\n      <td>23</td>\n      <td>NA</td>\n      <td>Apr 7, 1985</td>\n      <td>1982</td>\n      <td>198.0</td>\n      <td>Derek Smith</td>\n      <td>Shooting Guard</td>\n      <td>1984-1985</td>\n      <td>1985</td>\n      <td>2</td>\n      <td>Los Angeles Clippers</td>\n      <td>205</td>\n      <td>1.0</td>\n      <td>3</td>\n    </tr>\n    <tr>\n      <th>2</th>\n      <td>28</td>\n      <td>NA</td>\n      <td>Apr 1, 1985</td>\n      <td>1979</td>\n      <td>198.0</td>\n      <td>Calvin Natt</td>\n      <td>Forward</td>\n      <td>1984-1985</td>\n      <td>1985</td>\n      <td>5</td>\n      <td>Denver Nuggets</td>\n      <td>220</td>\n      <td>1.0</td>\n      <td>6</td>\n    </tr>\n    <tr>\n      <th>3</th>\n      <td>37</td>\n      <td>NA</td>\n      <td>Mar 24, 1985</td>\n      <td>1969</td>\n      <td>218.5</td>\n      <td>Kareem Abdul-Jabbar</td>\n      <td>Center</td>\n      <td>1984-1985</td>\n      <td>1985</td>\n      <td>15</td>\n      <td>Los Angeles Lakers</td>\n      <td>225</td>\n      <td>1.0</td>\n      <td>16</td>\n    </tr>\n    <tr>\n      <th>4</th>\n      <td>28</td>\n      <td>NA</td>\n      <td>Mar 17, 1985</td>\n      <td>1978</td>\n      <td>205.5</td>\n      <td>Larry Bird</td>\n      <td>Small Forward</td>\n      <td>1984-1985</td>\n      <td>1985</td>\n      <td>5</td>\n      <td>Boston Celtics</td>\n      <td>220</td>\n      <td>1.0</td>\n      <td>7</td>\n    </tr>\n    <tr>\n      <th>...</th>\n      <td>...</td>\n      <td>...</td>\n      <td>...</td>\n      <td>...</td>\n      <td>...</td>\n      <td>...</td>\n      <td>...</td>\n      <td>...</td>\n      <td>...</td>\n      <td>...</td>\n      <td>...</td>\n      <td>...</td>\n      <td>...</td>\n      <td>...</td>\n    </tr>\n    <tr>\n      <th>1101</th>\n      <td>25</td>\n      <td>East</td>\n      <td>Apr 2, 2018</td>\n      <td>2013</td>\n      <td>193.0</td>\n      <td>Victor Oladipo</td>\n      <td>Guard</td>\n      <td>2017-2018</td>\n      <td>2018</td>\n      <td>4</td>\n      <td>Indiana Pacers</td>\n      <td>209</td>\n      <td>0.5</td>\n      <td>5</td>\n    </tr>\n    <tr>\n      <th>1115</th>\n      <td>26</td>\n      <td>East</td>\n      <td>Jan 29, 2018</td>\n      <td>2012</td>\n      <td>203.0</td>\n      <td>Khris Middleton</td>\n      <td>Small Forward</td>\n      <td>2017-2018</td>\n      <td>2018</td>\n      <td>5</td>\n      <td>Milwaukee Bucks</td>\n      <td>233.2</td>\n      <td>0.5</td>\n      <td>6</td>\n    </tr>\n    <tr>\n      <th>1123</th>\n      <td>24</td>\n      <td>East</td>\n      <td>Jan 2, 2018</td>\n      <td>2012</td>\n      <td>196.0</td>\n      <td>Bradley Beal</td>\n      <td>Shooting Guard</td>\n      <td>2017-2018</td>\n      <td>2018</td>\n      <td>5</td>\n      <td>Washington Wizards</td>\n      <td>206.8</td>\n      <td>0.5</td>\n      <td>6</td>\n    </tr>\n    <tr>\n      <th>1137</th>\n      <td>25</td>\n      <td>East</td>\n      <td>Nov 13, 2017</td>\n      <td>2011</td>\n      <td>206.0</td>\n      <td>Tobias Harris</td>\n      <td>Forward</td>\n      <td>2017-2018</td>\n      <td>2018</td>\n      <td>6</td>\n      <td>Detroit Pistons</td>\n      <td>235.4</td>\n      <td>0.5</td>\n      <td>7</td>\n    </tr>\n    <tr>\n      <th>1139</th>\n      <td>22</td>\n      <td>East</td>\n      <td>Nov 6, 2017</td>\n      <td>2015</td>\n      <td>221.0</td>\n      <td>Kristaps Porzingis</td>\n      <td>Forward</td>\n      <td>2017-2018</td>\n      <td>2018</td>\n      <td>2</td>\n      <td>New York Knicks</td>\n      <td>239.8</td>\n      <td>0.5</td>\n      <td>3</td>\n    </tr>\n  </tbody>\n</table>\n<p>274 rows × 14 columns</p>\n</div>"
     },
     "metadata": {},
     "execution_count": 47
    }
   ],
   "source": [
    "nba.unique"
   ]
  },
  {
   "source": [
    "#### 5.2 Listar el nombre de los 10 jugadores más bajos que han sido nombrados alguna vez jugadores de la semana. No debe repetirse ningún nombre."
   ],
   "cell_type": "code",
   "metadata": {},
   "execution_count": null,
   "outputs": []
  },
  {
   "cell_type": "code",
   "execution_count": 54,
   "metadata": {},
   "outputs": [
    {
     "output_type": "execute_result",
     "data": {
      "text/plain": [
       "967         Isaiah Thomas\n",
       "893         Nate Robinson\n",
       "110         Michael Adams\n",
       "858             Ty Lawson\n",
       "273       Terrell Brandon\n",
       "727         Jameer Nelson\n",
       "329     Darrell Armstrong\n",
       "1014           J.J. Barea\n",
       "611             T.J. Ford\n",
       "586            Chris Paul\n",
       "Name: Player, dtype: category\n",
       "Categories (274, object): [Aaron McKie, Adrian Dantley, Al Harrington, Al Horford, ..., Xavier McDaniel, Yao Ming, Zach Randolph, Zydrunas Ilgauskas]"
      ]
     },
     "metadata": {},
     "execution_count": 54
    }
   ],
   "source": [
    "nba.unique = nba.unique.sort_values(['Height'], ascending=True) # Ordeno el DF por la altura de los jugadores\n",
    "jugadores_bajos = nba.unique['Player'][0:10] # selecciono los 10 primeros de la lista\n",
    "jugadores_bajos"
   ]
  },
  {
   "source": [
    "#### 5.3 Listar el nombre de los 10 jugadores más altos que han sido nombrados y mostrar su altura. No debe repetirse ningún nombre.\n"
   ],
   "cell_type": "markdown",
   "metadata": {}
  },
  {
   "cell_type": "code",
   "execution_count": null,
   "metadata": {},
   "outputs": [],
   "source": []
  },
  {
   "cell_type": "code",
   "execution_count": 56,
   "metadata": {},
   "outputs": [
    {
     "output_type": "execute_result",
     "data": {
      "text/plain": [
       "868              Marc Gasol\n",
       "206        Shaquille O'Neal\n",
       "234             Vlade Divac\n",
       "188         Dikembe Mutombo\n",
       "3       Kareem Abdul-Jabbar\n",
       "256         Arvydas Sabonis\n",
       "483      Zydrunas Ilgauskas\n",
       "1139     Kristaps Porzingis\n",
       "236               Rik Smits\n",
       "486                Yao Ming\n",
       "Name: Player, dtype: category\n",
       "Categories (274, object): [Aaron McKie, Adrian Dantley, Al Harrington, Al Horford, ..., Xavier McDaniel, Yao Ming, Zach Randolph, Zydrunas Ilgauskas]"
      ]
     },
     "metadata": {},
     "execution_count": 56
    }
   ],
   "source": [
    "jugadores_altos = nba.unique['Player'][264:274] # selecciono los 10 útimos de la lista\n",
    "jugadores_altos"
   ]
  },
  {
   "source": [
    "### 6 Eliminación de outliers.\n",
    "#### 6.1 Eliminar los outliers de la variable peso (Weight) y guardar en un data frame nba.avg"
   ],
   "cell_type": "markdown",
   "metadata": {}
  },
  {
   "cell_type": "code",
   "execution_count": 59,
   "metadata": {},
   "outputs": [
    {
     "output_type": "execute_result",
     "data": {
      "text/plain": [
       "<matplotlib.axes._subplots.AxesSubplot at 0x7f4e5dfa1490>"
      ]
     },
     "metadata": {},
     "execution_count": 59
    },
    {
     "output_type": "display_data",
     "data": {
      "text/plain": "<Figure size 432x288 with 1 Axes>",
      "image/svg+xml": "<?xml version=\"1.0\" encoding=\"utf-8\" standalone=\"no\"?>\n<!DOCTYPE svg PUBLIC \"-//W3C//DTD SVG 1.1//EN\"\n  \"http://www.w3.org/Graphics/SVG/1.1/DTD/svg11.dtd\">\n<!-- Created with matplotlib (https://matplotlib.org/) -->\n<svg height=\"235.34pt\" version=\"1.1\" viewBox=\"0 0 388.965625 235.34\" width=\"388.965625pt\" xmlns=\"http://www.w3.org/2000/svg\" xmlns:xlink=\"http://www.w3.org/1999/xlink\">\n <defs>\n  <style type=\"text/css\">\n*{stroke-linecap:butt;stroke-linejoin:round;}\n  </style>\n </defs>\n <g id=\"figure_1\">\n  <g id=\"patch_1\">\n   <path d=\"M 0 235.34 \nL 388.965625 235.34 \nL 388.965625 0 \nL 0 0 \nz\n\" style=\"fill:none;\"/>\n  </g>\n  <g id=\"axes_1\">\n   <g id=\"patch_2\">\n    <path d=\"M 46.965625 224.64 \nL 381.765625 224.64 \nL 381.765625 7.2 \nL 46.965625 7.2 \nz\n\" style=\"fill:#ffffff;\"/>\n   </g>\n   <g id=\"patch_3\">\n    <path clip-path=\"url(#pe6ea6dd3c3)\" d=\"M 80.445625 163.926234 \nL 348.285625 163.926234 \nL 348.285625 113.096104 \nL 80.445625 113.096104 \nL 80.445625 163.926234 \nz\n\" style=\"fill:#3274a1;stroke:#3f3f3f;stroke-linejoin:miter;stroke-width:1.5;\"/>\n   </g>\n   <g id=\"matplotlib.axis_1\">\n    <g id=\"xtick_1\">\n     <g id=\"line2d_1\">\n      <defs>\n       <path d=\"M 0 0 \nL 0 3.5 \n\" id=\"ma3bba2520e\" style=\"stroke:#000000;stroke-width:0.8;\"/>\n      </defs>\n      <g>\n       <use style=\"stroke:#000000;stroke-width:0.8;\" x=\"214.365625\" xlink:href=\"#ma3bba2520e\" y=\"224.64\"/>\n      </g>\n     </g>\n    </g>\n   </g>\n   <g id=\"matplotlib.axis_2\">\n    <g id=\"ytick_1\">\n     <g id=\"line2d_2\">\n      <defs>\n       <path d=\"M 0 0 \nL -3.5 0 \n\" id=\"m9fa07ded07\" style=\"stroke:#000000;stroke-width:0.8;\"/>\n      </defs>\n      <g>\n       <use style=\"stroke:#000000;stroke-width:0.8;\" x=\"46.965625\" xlink:href=\"#m9fa07ded07\" y=\"214.756364\"/>\n      </g>\n     </g>\n     <g id=\"text_1\">\n      <!-- 150 -->\n      <defs>\n       <path d=\"M 12.40625 8.296875 \nL 28.515625 8.296875 \nL 28.515625 63.921875 \nL 10.984375 60.40625 \nL 10.984375 69.390625 \nL 28.421875 72.90625 \nL 38.28125 72.90625 \nL 38.28125 8.296875 \nL 54.390625 8.296875 \nL 54.390625 0 \nL 12.40625 0 \nz\n\" id=\"DejaVuSans-49\"/>\n       <path d=\"M 10.796875 72.90625 \nL 49.515625 72.90625 \nL 49.515625 64.59375 \nL 19.828125 64.59375 \nL 19.828125 46.734375 \nQ 21.96875 47.46875 24.109375 47.828125 \nQ 26.265625 48.1875 28.421875 48.1875 \nQ 40.625 48.1875 47.75 41.5 \nQ 54.890625 34.8125 54.890625 23.390625 \nQ 54.890625 11.625 47.5625 5.09375 \nQ 40.234375 -1.421875 26.90625 -1.421875 \nQ 22.3125 -1.421875 17.546875 -0.640625 \nQ 12.796875 0.140625 7.71875 1.703125 \nL 7.71875 11.625 \nQ 12.109375 9.234375 16.796875 8.0625 \nQ 21.484375 6.890625 26.703125 6.890625 \nQ 35.15625 6.890625 40.078125 11.328125 \nQ 45.015625 15.765625 45.015625 23.390625 \nQ 45.015625 31 40.078125 35.4375 \nQ 35.15625 39.890625 26.703125 39.890625 \nQ 22.75 39.890625 18.8125 39.015625 \nQ 14.890625 38.140625 10.796875 36.28125 \nz\n\" id=\"DejaVuSans-53\"/>\n       <path d=\"M 31.78125 66.40625 \nQ 24.171875 66.40625 20.328125 58.90625 \nQ 16.5 51.421875 16.5 36.375 \nQ 16.5 21.390625 20.328125 13.890625 \nQ 24.171875 6.390625 31.78125 6.390625 \nQ 39.453125 6.390625 43.28125 13.890625 \nQ 47.125 21.390625 47.125 36.375 \nQ 47.125 51.421875 43.28125 58.90625 \nQ 39.453125 66.40625 31.78125 66.40625 \nz\nM 31.78125 74.21875 \nQ 44.046875 74.21875 50.515625 64.515625 \nQ 56.984375 54.828125 56.984375 36.375 \nQ 56.984375 17.96875 50.515625 8.265625 \nQ 44.046875 -1.421875 31.78125 -1.421875 \nQ 19.53125 -1.421875 13.0625 8.265625 \nQ 6.59375 17.96875 6.59375 36.375 \nQ 6.59375 54.828125 13.0625 64.515625 \nQ 19.53125 74.21875 31.78125 74.21875 \nz\n\" id=\"DejaVuSans-48\"/>\n      </defs>\n      <g transform=\"translate(20.878125 218.555582)scale(0.1 -0.1)\">\n       <use xlink:href=\"#DejaVuSans-49\"/>\n       <use x=\"63.623047\" xlink:href=\"#DejaVuSans-53\"/>\n       <use x=\"127.246094\" xlink:href=\"#DejaVuSans-48\"/>\n      </g>\n     </g>\n    </g>\n    <g id=\"ytick_2\">\n     <g id=\"line2d_3\">\n      <g>\n       <use style=\"stroke:#000000;stroke-width:0.8;\" x=\"46.965625\" xlink:href=\"#m9fa07ded07\" y=\"186.517403\"/>\n      </g>\n     </g>\n     <g id=\"text_2\">\n      <!-- 175 -->\n      <defs>\n       <path d=\"M 8.203125 72.90625 \nL 55.078125 72.90625 \nL 55.078125 68.703125 \nL 28.609375 0 \nL 18.3125 0 \nL 43.21875 64.59375 \nL 8.203125 64.59375 \nz\n\" id=\"DejaVuSans-55\"/>\n      </defs>\n      <g transform=\"translate(20.878125 190.316621)scale(0.1 -0.1)\">\n       <use xlink:href=\"#DejaVuSans-49\"/>\n       <use x=\"63.623047\" xlink:href=\"#DejaVuSans-55\"/>\n       <use x=\"127.246094\" xlink:href=\"#DejaVuSans-53\"/>\n      </g>\n     </g>\n    </g>\n    <g id=\"ytick_3\">\n     <g id=\"line2d_4\">\n      <g>\n       <use style=\"stroke:#000000;stroke-width:0.8;\" x=\"46.965625\" xlink:href=\"#m9fa07ded07\" y=\"158.278442\"/>\n      </g>\n     </g>\n     <g id=\"text_3\">\n      <!-- 200 -->\n      <defs>\n       <path d=\"M 19.1875 8.296875 \nL 53.609375 8.296875 \nL 53.609375 0 \nL 7.328125 0 \nL 7.328125 8.296875 \nQ 12.9375 14.109375 22.625 23.890625 \nQ 32.328125 33.6875 34.8125 36.53125 \nQ 39.546875 41.84375 41.421875 45.53125 \nQ 43.3125 49.21875 43.3125 52.78125 \nQ 43.3125 58.59375 39.234375 62.25 \nQ 35.15625 65.921875 28.609375 65.921875 \nQ 23.96875 65.921875 18.8125 64.3125 \nQ 13.671875 62.703125 7.8125 59.421875 \nL 7.8125 69.390625 \nQ 13.765625 71.78125 18.9375 73 \nQ 24.125 74.21875 28.421875 74.21875 \nQ 39.75 74.21875 46.484375 68.546875 \nQ 53.21875 62.890625 53.21875 53.421875 \nQ 53.21875 48.921875 51.53125 44.890625 \nQ 49.859375 40.875 45.40625 35.40625 \nQ 44.1875 33.984375 37.640625 27.21875 \nQ 31.109375 20.453125 19.1875 8.296875 \nz\n\" id=\"DejaVuSans-50\"/>\n      </defs>\n      <g transform=\"translate(20.878125 162.07766)scale(0.1 -0.1)\">\n       <use xlink:href=\"#DejaVuSans-50\"/>\n       <use x=\"63.623047\" xlink:href=\"#DejaVuSans-48\"/>\n       <use x=\"127.246094\" xlink:href=\"#DejaVuSans-48\"/>\n      </g>\n     </g>\n    </g>\n    <g id=\"ytick_4\">\n     <g id=\"line2d_5\">\n      <g>\n       <use style=\"stroke:#000000;stroke-width:0.8;\" x=\"46.965625\" xlink:href=\"#m9fa07ded07\" y=\"130.039481\"/>\n      </g>\n     </g>\n     <g id=\"text_4\">\n      <!-- 225 -->\n      <g transform=\"translate(20.878125 133.838699)scale(0.1 -0.1)\">\n       <use xlink:href=\"#DejaVuSans-50\"/>\n       <use x=\"63.623047\" xlink:href=\"#DejaVuSans-50\"/>\n       <use x=\"127.246094\" xlink:href=\"#DejaVuSans-53\"/>\n      </g>\n     </g>\n    </g>\n    <g id=\"ytick_5\">\n     <g id=\"line2d_6\">\n      <g>\n       <use style=\"stroke:#000000;stroke-width:0.8;\" x=\"46.965625\" xlink:href=\"#m9fa07ded07\" y=\"101.800519\"/>\n      </g>\n     </g>\n     <g id=\"text_5\">\n      <!-- 250 -->\n      <g transform=\"translate(20.878125 105.599738)scale(0.1 -0.1)\">\n       <use xlink:href=\"#DejaVuSans-50\"/>\n       <use x=\"63.623047\" xlink:href=\"#DejaVuSans-53\"/>\n       <use x=\"127.246094\" xlink:href=\"#DejaVuSans-48\"/>\n      </g>\n     </g>\n    </g>\n    <g id=\"ytick_6\">\n     <g id=\"line2d_7\">\n      <g>\n       <use style=\"stroke:#000000;stroke-width:0.8;\" x=\"46.965625\" xlink:href=\"#m9fa07ded07\" y=\"73.561558\"/>\n      </g>\n     </g>\n     <g id=\"text_6\">\n      <!-- 275 -->\n      <g transform=\"translate(20.878125 77.360777)scale(0.1 -0.1)\">\n       <use xlink:href=\"#DejaVuSans-50\"/>\n       <use x=\"63.623047\" xlink:href=\"#DejaVuSans-55\"/>\n       <use x=\"127.246094\" xlink:href=\"#DejaVuSans-53\"/>\n      </g>\n     </g>\n    </g>\n    <g id=\"ytick_7\">\n     <g id=\"line2d_8\">\n      <g>\n       <use style=\"stroke:#000000;stroke-width:0.8;\" x=\"46.965625\" xlink:href=\"#m9fa07ded07\" y=\"45.322597\"/>\n      </g>\n     </g>\n     <g id=\"text_7\">\n      <!-- 300 -->\n      <defs>\n       <path d=\"M 40.578125 39.3125 \nQ 47.65625 37.796875 51.625 33 \nQ 55.609375 28.21875 55.609375 21.1875 \nQ 55.609375 10.40625 48.1875 4.484375 \nQ 40.765625 -1.421875 27.09375 -1.421875 \nQ 22.515625 -1.421875 17.65625 -0.515625 \nQ 12.796875 0.390625 7.625 2.203125 \nL 7.625 11.71875 \nQ 11.71875 9.328125 16.59375 8.109375 \nQ 21.484375 6.890625 26.8125 6.890625 \nQ 36.078125 6.890625 40.9375 10.546875 \nQ 45.796875 14.203125 45.796875 21.1875 \nQ 45.796875 27.640625 41.28125 31.265625 \nQ 36.765625 34.90625 28.71875 34.90625 \nL 20.21875 34.90625 \nL 20.21875 43.015625 \nL 29.109375 43.015625 \nQ 36.375 43.015625 40.234375 45.921875 \nQ 44.09375 48.828125 44.09375 54.296875 \nQ 44.09375 59.90625 40.109375 62.90625 \nQ 36.140625 65.921875 28.71875 65.921875 \nQ 24.65625 65.921875 20.015625 65.03125 \nQ 15.375 64.15625 9.8125 62.3125 \nL 9.8125 71.09375 \nQ 15.4375 72.65625 20.34375 73.4375 \nQ 25.25 74.21875 29.59375 74.21875 \nQ 40.828125 74.21875 47.359375 69.109375 \nQ 53.90625 64.015625 53.90625 55.328125 \nQ 53.90625 49.265625 50.4375 45.09375 \nQ 46.96875 40.921875 40.578125 39.3125 \nz\n\" id=\"DejaVuSans-51\"/>\n      </defs>\n      <g transform=\"translate(20.878125 49.121816)scale(0.1 -0.1)\">\n       <use xlink:href=\"#DejaVuSans-51\"/>\n       <use x=\"63.623047\" xlink:href=\"#DejaVuSans-48\"/>\n       <use x=\"127.246094\" xlink:href=\"#DejaVuSans-48\"/>\n      </g>\n     </g>\n    </g>\n    <g id=\"ytick_8\">\n     <g id=\"line2d_9\">\n      <g>\n       <use style=\"stroke:#000000;stroke-width:0.8;\" x=\"46.965625\" xlink:href=\"#m9fa07ded07\" y=\"17.083636\"/>\n      </g>\n     </g>\n     <g id=\"text_8\">\n      <!-- 325 -->\n      <g transform=\"translate(20.878125 20.882855)scale(0.1 -0.1)\">\n       <use xlink:href=\"#DejaVuSans-51\"/>\n       <use x=\"63.623047\" xlink:href=\"#DejaVuSans-50\"/>\n       <use x=\"127.246094\" xlink:href=\"#DejaVuSans-53\"/>\n      </g>\n     </g>\n    </g>\n    <g id=\"text_9\">\n     <!-- Weight -->\n     <defs>\n      <path d=\"M 3.328125 72.90625 \nL 13.28125 72.90625 \nL 28.609375 11.28125 \nL 43.890625 72.90625 \nL 54.984375 72.90625 \nL 70.3125 11.28125 \nL 85.59375 72.90625 \nL 95.609375 72.90625 \nL 77.296875 0 \nL 64.890625 0 \nL 49.515625 63.28125 \nL 33.984375 0 \nL 21.578125 0 \nz\n\" id=\"DejaVuSans-87\"/>\n      <path d=\"M 56.203125 29.59375 \nL 56.203125 25.203125 \nL 14.890625 25.203125 \nQ 15.484375 15.921875 20.484375 11.0625 \nQ 25.484375 6.203125 34.421875 6.203125 \nQ 39.59375 6.203125 44.453125 7.46875 \nQ 49.3125 8.734375 54.109375 11.28125 \nL 54.109375 2.78125 \nQ 49.265625 0.734375 44.1875 -0.34375 \nQ 39.109375 -1.421875 33.890625 -1.421875 \nQ 20.796875 -1.421875 13.15625 6.1875 \nQ 5.515625 13.8125 5.515625 26.8125 \nQ 5.515625 40.234375 12.765625 48.109375 \nQ 20.015625 56 32.328125 56 \nQ 43.359375 56 49.78125 48.890625 \nQ 56.203125 41.796875 56.203125 29.59375 \nz\nM 47.21875 32.234375 \nQ 47.125 39.59375 43.09375 43.984375 \nQ 39.0625 48.390625 32.421875 48.390625 \nQ 24.90625 48.390625 20.390625 44.140625 \nQ 15.875 39.890625 15.1875 32.171875 \nz\n\" id=\"DejaVuSans-101\"/>\n      <path d=\"M 9.421875 54.6875 \nL 18.40625 54.6875 \nL 18.40625 0 \nL 9.421875 0 \nz\nM 9.421875 75.984375 \nL 18.40625 75.984375 \nL 18.40625 64.59375 \nL 9.421875 64.59375 \nz\n\" id=\"DejaVuSans-105\"/>\n      <path d=\"M 45.40625 27.984375 \nQ 45.40625 37.75 41.375 43.109375 \nQ 37.359375 48.484375 30.078125 48.484375 \nQ 22.859375 48.484375 18.828125 43.109375 \nQ 14.796875 37.75 14.796875 27.984375 \nQ 14.796875 18.265625 18.828125 12.890625 \nQ 22.859375 7.515625 30.078125 7.515625 \nQ 37.359375 7.515625 41.375 12.890625 \nQ 45.40625 18.265625 45.40625 27.984375 \nz\nM 54.390625 6.78125 \nQ 54.390625 -7.171875 48.1875 -13.984375 \nQ 42 -20.796875 29.203125 -20.796875 \nQ 24.46875 -20.796875 20.265625 -20.09375 \nQ 16.0625 -19.390625 12.109375 -17.921875 \nL 12.109375 -9.1875 \nQ 16.0625 -11.328125 19.921875 -12.34375 \nQ 23.78125 -13.375 27.78125 -13.375 \nQ 36.625 -13.375 41.015625 -8.765625 \nQ 45.40625 -4.15625 45.40625 5.171875 \nL 45.40625 9.625 \nQ 42.625 4.78125 38.28125 2.390625 \nQ 33.9375 0 27.875 0 \nQ 17.828125 0 11.671875 7.65625 \nQ 5.515625 15.328125 5.515625 27.984375 \nQ 5.515625 40.671875 11.671875 48.328125 \nQ 17.828125 56 27.875 56 \nQ 33.9375 56 38.28125 53.609375 \nQ 42.625 51.21875 45.40625 46.390625 \nL 45.40625 54.6875 \nL 54.390625 54.6875 \nz\n\" id=\"DejaVuSans-103\"/>\n      <path d=\"M 54.890625 33.015625 \nL 54.890625 0 \nL 45.90625 0 \nL 45.90625 32.71875 \nQ 45.90625 40.484375 42.875 44.328125 \nQ 39.84375 48.1875 33.796875 48.1875 \nQ 26.515625 48.1875 22.3125 43.546875 \nQ 18.109375 38.921875 18.109375 30.90625 \nL 18.109375 0 \nL 9.078125 0 \nL 9.078125 75.984375 \nL 18.109375 75.984375 \nL 18.109375 46.1875 \nQ 21.34375 51.125 25.703125 53.5625 \nQ 30.078125 56 35.796875 56 \nQ 45.21875 56 50.046875 50.171875 \nQ 54.890625 44.34375 54.890625 33.015625 \nz\n\" id=\"DejaVuSans-104\"/>\n      <path d=\"M 18.3125 70.21875 \nL 18.3125 54.6875 \nL 36.8125 54.6875 \nL 36.8125 47.703125 \nL 18.3125 47.703125 \nL 18.3125 18.015625 \nQ 18.3125 11.328125 20.140625 9.421875 \nQ 21.96875 7.515625 27.59375 7.515625 \nL 36.8125 7.515625 \nL 36.8125 0 \nL 27.59375 0 \nQ 17.1875 0 13.234375 3.875 \nQ 9.28125 7.765625 9.28125 18.015625 \nL 9.28125 47.703125 \nL 2.6875 47.703125 \nL 2.6875 54.6875 \nL 9.28125 54.6875 \nL 9.28125 70.21875 \nz\n\" id=\"DejaVuSans-116\"/>\n     </defs>\n     <g transform=\"translate(14.798438 133.33875)rotate(-90)scale(0.1 -0.1)\">\n      <use xlink:href=\"#DejaVuSans-87\"/>\n      <use x=\"93.001953\" xlink:href=\"#DejaVuSans-101\"/>\n      <use x=\"154.525391\" xlink:href=\"#DejaVuSans-105\"/>\n      <use x=\"182.308594\" xlink:href=\"#DejaVuSans-103\"/>\n      <use x=\"245.785156\" xlink:href=\"#DejaVuSans-104\"/>\n      <use x=\"309.164062\" xlink:href=\"#DejaVuSans-116\"/>\n     </g>\n    </g>\n   </g>\n   <g id=\"line2d_10\">\n    <path clip-path=\"url(#pe6ea6dd3c3)\" d=\"M 214.365625 163.926234 \nL 214.365625 214.756364 \n\" style=\"fill:none;stroke:#3f3f3f;stroke-linecap:square;stroke-width:1.5;\"/>\n   </g>\n   <g id=\"line2d_11\">\n    <path clip-path=\"url(#pe6ea6dd3c3)\" d=\"M 214.365625 113.096104 \nL 214.365625 37.415688 \n\" style=\"fill:none;stroke:#3f3f3f;stroke-linecap:square;stroke-width:1.5;\"/>\n   </g>\n   <g id=\"line2d_12\">\n    <path clip-path=\"url(#pe6ea6dd3c3)\" d=\"M 147.405625 214.756364 \nL 281.325625 214.756364 \n\" style=\"fill:none;stroke:#3f3f3f;stroke-linecap:square;stroke-width:1.5;\"/>\n   </g>\n   <g id=\"line2d_13\">\n    <path clip-path=\"url(#pe6ea6dd3c3)\" d=\"M 147.405625 37.415688 \nL 281.325625 37.415688 \n\" style=\"fill:none;stroke:#3f3f3f;stroke-linecap:square;stroke-width:1.5;\"/>\n   </g>\n   <g id=\"line2d_14\">\n    <defs>\n     <path d=\"M -0 3.535534 \nL 2.12132 0 \nL -0 -3.535534 \nL -2.12132 -0 \nz\n\" id=\"m7119bbb0f8\" style=\"stroke:#3f3f3f;stroke-linejoin:miter;\"/>\n    </defs>\n    <g clip-path=\"url(#pe6ea6dd3c3)\">\n     <use style=\"fill:#3f3f3f;stroke:#3f3f3f;stroke-linejoin:miter;\" x=\"214.365625\" xlink:href=\"#m7119bbb0f8\" y=\"17.083636\"/>\n     <use style=\"fill:#3f3f3f;stroke:#3f3f3f;stroke-linejoin:miter;\" x=\"214.365625\" xlink:href=\"#m7119bbb0f8\" y=\"34.027013\"/>\n    </g>\n   </g>\n   <g id=\"line2d_15\">\n    <path clip-path=\"url(#pe6ea6dd3c3)\" d=\"M 80.445625 135.687273 \nL 348.285625 135.687273 \n\" style=\"fill:none;stroke:#3f3f3f;stroke-linecap:square;stroke-width:1.5;\"/>\n   </g>\n   <g id=\"patch_4\">\n    <path d=\"M 46.965625 224.64 \nL 46.965625 7.2 \n\" style=\"fill:none;stroke:#000000;stroke-linecap:square;stroke-linejoin:miter;stroke-width:0.8;\"/>\n   </g>\n   <g id=\"patch_5\">\n    <path d=\"M 381.765625 224.64 \nL 381.765625 7.2 \n\" style=\"fill:none;stroke:#000000;stroke-linecap:square;stroke-linejoin:miter;stroke-width:0.8;\"/>\n   </g>\n   <g id=\"patch_6\">\n    <path d=\"M 46.965625 224.64 \nL 381.765625 224.64 \n\" style=\"fill:none;stroke:#000000;stroke-linecap:square;stroke-linejoin:miter;stroke-width:0.8;\"/>\n   </g>\n   <g id=\"patch_7\">\n    <path d=\"M 46.965625 7.2 \nL 381.765625 7.2 \n\" style=\"fill:none;stroke:#000000;stroke-linecap:square;stroke-linejoin:miter;stroke-width:0.8;\"/>\n   </g>\n  </g>\n </g>\n <defs>\n  <clipPath id=\"pe6ea6dd3c3\">\n   <rect height=\"217.44\" width=\"334.8\" x=\"46.965625\" y=\"7.2\"/>\n  </clipPath>\n </defs>\n</svg>\n",
      "image/png": "[encoded data removed]"
     },
     "metadata": {
      "needs_background": "light"
     }
    }
   ],
   "source": [
    "sns.boxplot(nba.unique['Weight'], orient= 'v') # veo que hay dos valores outliers"
   ]
  },
  {
   "cell_type": "code",
   "execution_count": 62,
   "metadata": {},
   "outputs": [
    {
     "output_type": "execute_result",
     "data": {
      "text/plain": [
       "     Age Conference          Date  Draft Year  Height            Player  \\\n",
       "206   20         NA  Nov 15, 1992        1992   216.0  Shaquille O'Neal   \n",
       "486   23       West   Mar 7, 2004        2002   228.5          Yao Ming   \n",
       "878   27       West   Apr 8, 2013        2008   210.5    Nikola Pekovic   \n",
       "625   22       East   Mar 4, 2007        2004   208.0      Al Jefferson   \n",
       "726   21       West  Jan 26, 2009        2005   213.5      Andrew Bynum   \n",
       "..   ...        ...           ...         ...     ...               ...   \n",
       "219   23         NA  Jan 23, 1994        1991   183.0    Kenny Anderson   \n",
       "611   22       East   Nov 7, 2005        2003   183.0         T.J. Ford   \n",
       "278   21         NA  Apr 13, 1997        1996   183.0     Allen Iverson   \n",
       "110   26         NA  Dec 11, 1988        1985   177.5     Michael Adams   \n",
       "251   25         NA  Nov 20, 1994        1991   183.0      Elliot Perry   \n",
       "\n",
       "          Position     Season  Season short  Seasons in league  \\\n",
       "206         Center  1992-1993          1993                  0   \n",
       "486         Center  2003-2004          2004                  1   \n",
       "878  Power Forward  2012-2013          2013                  2   \n",
       "625        Forward  2006-2007          2007                  2   \n",
       "726         Center  2008-2009          2009                  3   \n",
       "..             ...        ...           ...                ...   \n",
       "219    Point Guard  1993-1994          1994                  2   \n",
       "611    Point Guard  2005-2006          2006                  2   \n",
       "278          Guard  1996-1997          1997                  0   \n",
       "110    Point Guard  1988-1989          1989                  3   \n",
       "251    Point Guard  1994-1995          1995                  3   \n",
       "\n",
       "                       Team Weight  Real_value  tiempo  \n",
       "206           Orlando Magic    325         1.0       1  \n",
       "486         Houston Rockets    310         0.5       2  \n",
       "878  Minnesota Timberwolves    307         0.5       5  \n",
       "625          Boston Celtics    289         0.5       3  \n",
       "726      Los Angeles Lakers    285         0.5       4  \n",
       "..                      ...    ...         ...     ...  \n",
       "219         New Jersey Nets    168         1.0       3  \n",
       "611         Milwaukee Bucks    165         0.5       3  \n",
       "278     Philadelphia Sixers    165         1.0       1  \n",
       "110          Denver Nuggets    163         1.0       4  \n",
       "251            Phoenix Suns    150         1.0       4  \n",
       "\n",
       "[274 rows x 14 columns]"
      ],
      "text/html": "<div>\n<style scoped>\n    .dataframe tbody tr th:only-of-type {\n        vertical-align: middle;\n    }\n\n    .dataframe tbody tr th {\n        vertical-align: top;\n    }\n\n    .dataframe thead th {\n        text-align: right;\n    }\n</style>\n<table border=\"1\" class=\"dataframe\">\n  <thead>\n    <tr style=\"text-align: right;\">\n      <th></th>\n      <th>Age</th>\n      <th>Conference</th>\n      <th>Date</th>\n      <th>Draft Year</th>\n      <th>Height</th>\n      <th>Player</th>\n      <th>Position</th>\n      <th>Season</th>\n      <th>Season short</th>\n      <th>Seasons in league</th>\n      <th>Team</th>\n      <th>Weight</th>\n      <th>Real_value</th>\n      <th>tiempo</th>\n    </tr>\n  </thead>\n  <tbody>\n    <tr>\n      <th>206</th>\n      <td>20</td>\n      <td>NA</td>\n      <td>Nov 15, 1992</td>\n      <td>1992</td>\n      <td>216.0</td>\n      <td>Shaquille O'Neal</td>\n      <td>Center</td>\n      <td>1992-1993</td>\n      <td>1993</td>\n      <td>0</td>\n      <td>Orlando Magic</td>\n      <td>325</td>\n      <td>1.0</td>\n      <td>1</td>\n    </tr>\n    <tr>\n      <th>486</th>\n      <td>23</td>\n      <td>West</td>\n      <td>Mar 7, 2004</td>\n      <td>2002</td>\n      <td>228.5</td>\n      <td>Yao Ming</td>\n      <td>Center</td>\n      <td>2003-2004</td>\n      <td>2004</td>\n      <td>1</td>\n      <td>Houston Rockets</td>\n      <td>310</td>\n      <td>0.5</td>\n      <td>2</td>\n    </tr>\n    <tr>\n      <th>878</th>\n      <td>27</td>\n      <td>West</td>\n      <td>Apr 8, 2013</td>\n      <td>2008</td>\n      <td>210.5</td>\n      <td>Nikola Pekovic</td>\n      <td>Power Forward</td>\n      <td>2012-2013</td>\n      <td>2013</td>\n      <td>2</td>\n      <td>Minnesota Timberwolves</td>\n      <td>307</td>\n      <td>0.5</td>\n      <td>5</td>\n    </tr>\n    <tr>\n      <th>625</th>\n      <td>22</td>\n      <td>East</td>\n      <td>Mar 4, 2007</td>\n      <td>2004</td>\n      <td>208.0</td>\n      <td>Al Jefferson</td>\n      <td>Forward</td>\n      <td>2006-2007</td>\n      <td>2007</td>\n      <td>2</td>\n      <td>Boston Celtics</td>\n      <td>289</td>\n      <td>0.5</td>\n      <td>3</td>\n    </tr>\n    <tr>\n      <th>726</th>\n      <td>21</td>\n      <td>West</td>\n      <td>Jan 26, 2009</td>\n      <td>2005</td>\n      <td>213.5</td>\n      <td>Andrew Bynum</td>\n      <td>Center</td>\n      <td>2008-2009</td>\n      <td>2009</td>\n      <td>3</td>\n      <td>Los Angeles Lakers</td>\n      <td>285</td>\n      <td>0.5</td>\n      <td>4</td>\n    </tr>\n    <tr>\n      <th>...</th>\n      <td>...</td>\n      <td>...</td>\n      <td>...</td>\n      <td>...</td>\n      <td>...</td>\n      <td>...</td>\n      <td>...</td>\n      <td>...</td>\n      <td>...</td>\n      <td>...</td>\n      <td>...</td>\n      <td>...</td>\n      <td>...</td>\n      <td>...</td>\n    </tr>\n    <tr>\n      <th>219</th>\n      <td>23</td>\n      <td>NA</td>\n      <td>Jan 23, 1994</td>\n      <td>1991</td>\n      <td>183.0</td>\n      <td>Kenny Anderson</td>\n      <td>Point Guard</td>\n      <td>1993-1994</td>\n      <td>1994</td>\n      <td>2</td>\n      <td>New Jersey Nets</td>\n      <td>168</td>\n      <td>1.0</td>\n      <td>3</td>\n    </tr>\n    <tr>\n      <th>611</th>\n      <td>22</td>\n      <td>East</td>\n      <td>Nov 7, 2005</td>\n      <td>2003</td>\n      <td>183.0</td>\n      <td>T.J. Ford</td>\n      <td>Point Guard</td>\n      <td>2005-2006</td>\n      <td>2006</td>\n      <td>2</td>\n      <td>Milwaukee Bucks</td>\n      <td>165</td>\n      <td>0.5</td>\n      <td>3</td>\n    </tr>\n    <tr>\n      <th>278</th>\n      <td>21</td>\n      <td>NA</td>\n      <td>Apr 13, 1997</td>\n      <td>1996</td>\n      <td>183.0</td>\n      <td>Allen Iverson</td>\n      <td>Guard</td>\n      <td>1996-1997</td>\n      <td>1997</td>\n      <td>0</td>\n      <td>Philadelphia Sixers</td>\n      <td>165</td>\n      <td>1.0</td>\n      <td>1</td>\n    </tr>\n    <tr>\n      <th>110</th>\n      <td>26</td>\n      <td>NA</td>\n      <td>Dec 11, 1988</td>\n      <td>1985</td>\n      <td>177.5</td>\n      <td>Michael Adams</td>\n      <td>Point Guard</td>\n      <td>1988-1989</td>\n      <td>1989</td>\n      <td>3</td>\n      <td>Denver Nuggets</td>\n      <td>163</td>\n      <td>1.0</td>\n      <td>4</td>\n    </tr>\n    <tr>\n      <th>251</th>\n      <td>25</td>\n      <td>NA</td>\n      <td>Nov 20, 1994</td>\n      <td>1991</td>\n      <td>183.0</td>\n      <td>Elliot Perry</td>\n      <td>Point Guard</td>\n      <td>1994-1995</td>\n      <td>1995</td>\n      <td>3</td>\n      <td>Phoenix Suns</td>\n      <td>150</td>\n      <td>1.0</td>\n      <td>4</td>\n    </tr>\n  </tbody>\n</table>\n<p>274 rows × 14 columns</p>\n</div>"
     },
     "metadata": {},
     "execution_count": 62
    }
   ],
   "source": [
    "nba.unique.sort_values(['Weight'], ascending=False) # Ordeno el Df por peso y veo que los dos primeros valores que son los que habría que quitar son 325 y 310"
   ]
  },
  {
   "cell_type": "code",
   "execution_count": 63,
   "metadata": {},
   "outputs": [],
   "source": [
    "nba_avg = nba.unique[nba.unique['Weight'] < 310] # aplico un  filtro al Df y lo guardo en un nuevo Df llamado nba_avg como dice el enunciado. "
   ]
  },
  {
   "cell_type": "code",
   "execution_count": 65,
   "metadata": {},
   "outputs": [
    {
     "output_type": "execute_result",
     "data": {
      "text/plain": [
       "     Age Conference          Date  Draft Year  Height          Player  \\\n",
       "878   27       West   Apr 8, 2013        2008   210.5  Nikola Pekovic   \n",
       "625   22       East   Mar 4, 2007        2004   208.0    Al Jefferson   \n",
       "726   21       West  Jan 26, 2009        2005   213.5    Andrew Bynum   \n",
       "198   23         NA  Jan 10, 1993        1989   208.0      Shawn Kemp   \n",
       "222   23         NA   Jan 2, 1994        1992   205.5   Oliver Miller   \n",
       "..   ...        ...           ...         ...     ...             ...   \n",
       "219   23         NA  Jan 23, 1994        1991   183.0  Kenny Anderson   \n",
       "611   22       East   Nov 7, 2005        2003   183.0       T.J. Ford   \n",
       "278   21         NA  Apr 13, 1997        1996   183.0   Allen Iverson   \n",
       "110   26         NA  Dec 11, 1988        1985   177.5   Michael Adams   \n",
       "251   25         NA  Nov 20, 1994        1991   183.0    Elliot Perry   \n",
       "\n",
       "          Position     Season  Season short  Seasons in league  \\\n",
       "878  Power Forward  2012-2013          2013                  2   \n",
       "625        Forward  2006-2007          2007                  2   \n",
       "726         Center  2008-2009          2009                  3   \n",
       "198         Center  1992-1993          1993                  3   \n",
       "222         Center  1993-1994          1994                  1   \n",
       "..             ...        ...           ...                ...   \n",
       "219    Point Guard  1993-1994          1994                  2   \n",
       "611    Point Guard  2005-2006          2006                  2   \n",
       "278          Guard  1996-1997          1997                  0   \n",
       "110    Point Guard  1988-1989          1989                  3   \n",
       "251    Point Guard  1994-1995          1995                  3   \n",
       "\n",
       "                       Team Weight  Real_value  tiempo  \n",
       "878  Minnesota Timberwolves    307         0.5       5  \n",
       "625          Boston Celtics    289         0.5       3  \n",
       "726      Los Angeles Lakers    285         0.5       4  \n",
       "198     Seattle SuperSonics    280         1.0       4  \n",
       "222            Phoenix Suns    280         1.0       2  \n",
       "..                      ...    ...         ...     ...  \n",
       "219         New Jersey Nets    168         1.0       3  \n",
       "611         Milwaukee Bucks    165         0.5       3  \n",
       "278     Philadelphia Sixers    165         1.0       1  \n",
       "110          Denver Nuggets    163         1.0       4  \n",
       "251            Phoenix Suns    150         1.0       4  \n",
       "\n",
       "[272 rows x 14 columns]"
      ],
      "text/html": "<div>\n<style scoped>\n    .dataframe tbody tr th:only-of-type {\n        vertical-align: middle;\n    }\n\n    .dataframe tbody tr th {\n        vertical-align: top;\n    }\n\n    .dataframe thead th {\n        text-align: right;\n    }\n</style>\n<table border=\"1\" class=\"dataframe\">\n  <thead>\n    <tr style=\"text-align: right;\">\n      <th></th>\n      <th>Age</th>\n      <th>Conference</th>\n      <th>Date</th>\n      <th>Draft Year</th>\n      <th>Height</th>\n      <th>Player</th>\n      <th>Position</th>\n      <th>Season</th>\n      <th>Season short</th>\n      <th>Seasons in league</th>\n      <th>Team</th>\n      <th>Weight</th>\n      <th>Real_value</th>\n      <th>tiempo</th>\n    </tr>\n  </thead>\n  <tbody>\n    <tr>\n      <th>878</th>\n      <td>27</td>\n      <td>West</td>\n      <td>Apr 8, 2013</td>\n      <td>2008</td>\n      <td>210.5</td>\n      <td>Nikola Pekovic</td>\n      <td>Power Forward</td>\n      <td>2012-2013</td>\n      <td>2013</td>\n      <td>2</td>\n      <td>Minnesota Timberwolves</td>\n      <td>307</td>\n      <td>0.5</td>\n      <td>5</td>\n    </tr>\n    <tr>\n      <th>625</th>\n      <td>22</td>\n      <td>East</td>\n      <td>Mar 4, 2007</td>\n      <td>2004</td>\n      <td>208.0</td>\n      <td>Al Jefferson</td>\n      <td>Forward</td>\n      <td>2006-2007</td>\n      <td>2007</td>\n      <td>2</td>\n      <td>Boston Celtics</td>\n      <td>289</td>\n      <td>0.5</td>\n      <td>3</td>\n    </tr>\n    <tr>\n      <th>726</th>\n      <td>21</td>\n      <td>West</td>\n      <td>Jan 26, 2009</td>\n      <td>2005</td>\n      <td>213.5</td>\n      <td>Andrew Bynum</td>\n      <td>Center</td>\n      <td>2008-2009</td>\n      <td>2009</td>\n      <td>3</td>\n      <td>Los Angeles Lakers</td>\n      <td>285</td>\n      <td>0.5</td>\n      <td>4</td>\n    </tr>\n    <tr>\n      <th>198</th>\n      <td>23</td>\n      <td>NA</td>\n      <td>Jan 10, 1993</td>\n      <td>1989</td>\n      <td>208.0</td>\n      <td>Shawn Kemp</td>\n      <td>Center</td>\n      <td>1992-1993</td>\n      <td>1993</td>\n      <td>3</td>\n      <td>Seattle SuperSonics</td>\n      <td>280</td>\n      <td>1.0</td>\n      <td>4</td>\n    </tr>\n    <tr>\n      <th>222</th>\n      <td>23</td>\n      <td>NA</td>\n      <td>Jan 2, 1994</td>\n      <td>1992</td>\n      <td>205.5</td>\n      <td>Oliver Miller</td>\n      <td>Center</td>\n      <td>1993-1994</td>\n      <td>1994</td>\n      <td>1</td>\n      <td>Phoenix Suns</td>\n      <td>280</td>\n      <td>1.0</td>\n      <td>2</td>\n    </tr>\n    <tr>\n      <th>...</th>\n      <td>...</td>\n      <td>...</td>\n      <td>...</td>\n      <td>...</td>\n      <td>...</td>\n      <td>...</td>\n      <td>...</td>\n      <td>...</td>\n      <td>...</td>\n      <td>...</td>\n      <td>...</td>\n      <td>...</td>\n      <td>...</td>\n      <td>...</td>\n    </tr>\n    <tr>\n      <th>219</th>\n      <td>23</td>\n      <td>NA</td>\n      <td>Jan 23, 1994</td>\n      <td>1991</td>\n      <td>183.0</td>\n      <td>Kenny Anderson</td>\n      <td>Point Guard</td>\n      <td>1993-1994</td>\n      <td>1994</td>\n      <td>2</td>\n      <td>New Jersey Nets</td>\n      <td>168</td>\n      <td>1.0</td>\n      <td>3</td>\n    </tr>\n    <tr>\n      <th>611</th>\n      <td>22</td>\n      <td>East</td>\n      <td>Nov 7, 2005</td>\n      <td>2003</td>\n      <td>183.0</td>\n      <td>T.J. Ford</td>\n      <td>Point Guard</td>\n      <td>2005-2006</td>\n      <td>2006</td>\n      <td>2</td>\n      <td>Milwaukee Bucks</td>\n      <td>165</td>\n      <td>0.5</td>\n      <td>3</td>\n    </tr>\n    <tr>\n      <th>278</th>\n      <td>21</td>\n      <td>NA</td>\n      <td>Apr 13, 1997</td>\n      <td>1996</td>\n      <td>183.0</td>\n      <td>Allen Iverson</td>\n      <td>Guard</td>\n      <td>1996-1997</td>\n      <td>1997</td>\n      <td>0</td>\n      <td>Philadelphia Sixers</td>\n      <td>165</td>\n      <td>1.0</td>\n      <td>1</td>\n    </tr>\n    <tr>\n      <th>110</th>\n      <td>26</td>\n      <td>NA</td>\n      <td>Dec 11, 1988</td>\n      <td>1985</td>\n      <td>177.5</td>\n      <td>Michael Adams</td>\n      <td>Point Guard</td>\n      <td>1988-1989</td>\n      <td>1989</td>\n      <td>3</td>\n      <td>Denver Nuggets</td>\n      <td>163</td>\n      <td>1.0</td>\n      <td>4</td>\n    </tr>\n    <tr>\n      <th>251</th>\n      <td>25</td>\n      <td>NA</td>\n      <td>Nov 20, 1994</td>\n      <td>1991</td>\n      <td>183.0</td>\n      <td>Elliot Perry</td>\n      <td>Point Guard</td>\n      <td>1994-1995</td>\n      <td>1995</td>\n      <td>3</td>\n      <td>Phoenix Suns</td>\n      <td>150</td>\n      <td>1.0</td>\n      <td>4</td>\n    </tr>\n  </tbody>\n</table>\n<p>272 rows × 14 columns</p>\n</div>"
     },
     "metadata": {},
     "execution_count": 65
    }
   ],
   "source": [
    "nba_avg.sort_values(['Weight'], ascending=False) # ordeno ese DF por peso y veo que ya no aparecen los dos valores que había antes. "
   ]
  },
  {
   "source": [
    "#### 6.2 Comparar los boxplots de los datos originales en nba.unique y de los datos del peso de nba.avg"
   ],
   "cell_type": "markdown",
   "metadata": {}
  },
  {
   "cell_type": "code",
   "execution_count": 68,
   "metadata": {},
   "outputs": [
    {
     "output_type": "execute_result",
     "data": {
      "text/plain": [
       "<matplotlib.axes._subplots.AxesSubplot at 0x7f4e5e1cdfa0>"
      ]
     },
     "metadata": {},
     "execution_count": 68
    },
    {
     "output_type": "display_data",
     "data": {
      "text/plain": "<Figure size 432x288 with 1 Axes>",
      "image/svg+xml": "<?xml version=\"1.0\" encoding=\"utf-8\" standalone=\"no\"?>\n<!DOCTYPE svg PUBLIC \"-//W3C//DTD SVG 1.1//EN\"\n  \"http://www.w3.org/Graphics/SVG/1.1/DTD/svg11.dtd\">\n<!-- Created with matplotlib (https://matplotlib.org/) -->\n<svg height=\"235.34pt\" version=\"1.1\" viewBox=\"0 0 388.965625 235.34\" width=\"388.965625pt\" xmlns=\"http://www.w3.org/2000/svg\" xmlns:xlink=\"http://www.w3.org/1999/xlink\">\n <defs>\n  <style type=\"text/css\">\n*{stroke-linecap:butt;stroke-linejoin:round;}\n  </style>\n </defs>\n <g id=\"figure_1\">\n  <g id=\"patch_1\">\n   <path d=\"M 0 235.34 \nL 388.965625 235.34 \nL 388.965625 0 \nL 0 0 \nz\n\" style=\"fill:none;\"/>\n  </g>\n  <g id=\"axes_1\">\n   <g id=\"patch_2\">\n    <path d=\"M 46.965625 224.64 \nL 381.765625 224.64 \nL 381.765625 7.2 \nL 46.965625 7.2 \nz\n\" style=\"fill:#ffffff;\"/>\n   </g>\n   <g id=\"patch_3\">\n    <path clip-path=\"url(#pb2a07e1cab)\" d=\"M 80.445625 163.926234 \nL 348.285625 163.926234 \nL 348.285625 113.096104 \nL 80.445625 113.096104 \nL 80.445625 163.926234 \nz\n\" style=\"fill:#3274a1;stroke:#3f3f3f;stroke-linejoin:miter;stroke-width:1.5;\"/>\n   </g>\n   <g id=\"patch_4\">\n    <path clip-path=\"url(#pb2a07e1cab)\" d=\"M 80.445625 163.926234 \nL 348.285625 163.926234 \nL 348.285625 113.096104 \nL 80.445625 113.096104 \nL 80.445625 163.926234 \nz\n\" style=\"fill:#3274a1;stroke:#3f3f3f;stroke-linejoin:miter;stroke-width:1.5;\"/>\n   </g>\n   <g id=\"matplotlib.axis_1\">\n    <g id=\"xtick_1\">\n     <g id=\"line2d_1\">\n      <defs>\n       <path d=\"M 0 0 \nL 0 3.5 \n\" id=\"m8d2d6a5236\" style=\"stroke:#000000;stroke-width:0.8;\"/>\n      </defs>\n      <g>\n       <use style=\"stroke:#000000;stroke-width:0.8;\" x=\"214.365625\" xlink:href=\"#m8d2d6a5236\" y=\"224.64\"/>\n      </g>\n     </g>\n    </g>\n   </g>\n   <g id=\"matplotlib.axis_2\">\n    <g id=\"ytick_1\">\n     <g id=\"line2d_2\">\n      <defs>\n       <path d=\"M 0 0 \nL -3.5 0 \n\" id=\"m6de2bbde2c\" style=\"stroke:#000000;stroke-width:0.8;\"/>\n      </defs>\n      <g>\n       <use style=\"stroke:#000000;stroke-width:0.8;\" x=\"46.965625\" xlink:href=\"#m6de2bbde2c\" y=\"214.756364\"/>\n      </g>\n     </g>\n     <g id=\"text_1\">\n      <!-- 150 -->\n      <defs>\n       <path d=\"M 12.40625 8.296875 \nL 28.515625 8.296875 \nL 28.515625 63.921875 \nL 10.984375 60.40625 \nL 10.984375 69.390625 \nL 28.421875 72.90625 \nL 38.28125 72.90625 \nL 38.28125 8.296875 \nL 54.390625 8.296875 \nL 54.390625 0 \nL 12.40625 0 \nz\n\" id=\"DejaVuSans-49\"/>\n       <path d=\"M 10.796875 72.90625 \nL 49.515625 72.90625 \nL 49.515625 64.59375 \nL 19.828125 64.59375 \nL 19.828125 46.734375 \nQ 21.96875 47.46875 24.109375 47.828125 \nQ 26.265625 48.1875 28.421875 48.1875 \nQ 40.625 48.1875 47.75 41.5 \nQ 54.890625 34.8125 54.890625 23.390625 \nQ 54.890625 11.625 47.5625 5.09375 \nQ 40.234375 -1.421875 26.90625 -1.421875 \nQ 22.3125 -1.421875 17.546875 -0.640625 \nQ 12.796875 0.140625 7.71875 1.703125 \nL 7.71875 11.625 \nQ 12.109375 9.234375 16.796875 8.0625 \nQ 21.484375 6.890625 26.703125 6.890625 \nQ 35.15625 6.890625 40.078125 11.328125 \nQ 45.015625 15.765625 45.015625 23.390625 \nQ 45.015625 31 40.078125 35.4375 \nQ 35.15625 39.890625 26.703125 39.890625 \nQ 22.75 39.890625 18.8125 39.015625 \nQ 14.890625 38.140625 10.796875 36.28125 \nz\n\" id=\"DejaVuSans-53\"/>\n       <path d=\"M 31.78125 66.40625 \nQ 24.171875 66.40625 20.328125 58.90625 \nQ 16.5 51.421875 16.5 36.375 \nQ 16.5 21.390625 20.328125 13.890625 \nQ 24.171875 6.390625 31.78125 6.390625 \nQ 39.453125 6.390625 43.28125 13.890625 \nQ 47.125 21.390625 47.125 36.375 \nQ 47.125 51.421875 43.28125 58.90625 \nQ 39.453125 66.40625 31.78125 66.40625 \nz\nM 31.78125 74.21875 \nQ 44.046875 74.21875 50.515625 64.515625 \nQ 56.984375 54.828125 56.984375 36.375 \nQ 56.984375 17.96875 50.515625 8.265625 \nQ 44.046875 -1.421875 31.78125 -1.421875 \nQ 19.53125 -1.421875 13.0625 8.265625 \nQ 6.59375 17.96875 6.59375 36.375 \nQ 6.59375 54.828125 13.0625 64.515625 \nQ 19.53125 74.21875 31.78125 74.21875 \nz\n\" id=\"DejaVuSans-48\"/>\n      </defs>\n      <g transform=\"translate(20.878125 218.555582)scale(0.1 -0.1)\">\n       <use xlink:href=\"#DejaVuSans-49\"/>\n       <use x=\"63.623047\" xlink:href=\"#DejaVuSans-53\"/>\n       <use x=\"127.246094\" xlink:href=\"#DejaVuSans-48\"/>\n      </g>\n     </g>\n    </g>\n    <g id=\"ytick_2\">\n     <g id=\"line2d_3\">\n      <g>\n       <use style=\"stroke:#000000;stroke-width:0.8;\" x=\"46.965625\" xlink:href=\"#m6de2bbde2c\" y=\"186.517403\"/>\n      </g>\n     </g>\n     <g id=\"text_2\">\n      <!-- 175 -->\n      <defs>\n       <path d=\"M 8.203125 72.90625 \nL 55.078125 72.90625 \nL 55.078125 68.703125 \nL 28.609375 0 \nL 18.3125 0 \nL 43.21875 64.59375 \nL 8.203125 64.59375 \nz\n\" id=\"DejaVuSans-55\"/>\n      </defs>\n      <g transform=\"translate(20.878125 190.316621)scale(0.1 -0.1)\">\n       <use xlink:href=\"#DejaVuSans-49\"/>\n       <use x=\"63.623047\" xlink:href=\"#DejaVuSans-55\"/>\n       <use x=\"127.246094\" xlink:href=\"#DejaVuSans-53\"/>\n      </g>\n     </g>\n    </g>\n    <g id=\"ytick_3\">\n     <g id=\"line2d_4\">\n      <g>\n       <use style=\"stroke:#000000;stroke-width:0.8;\" x=\"46.965625\" xlink:href=\"#m6de2bbde2c\" y=\"158.278442\"/>\n      </g>\n     </g>\n     <g id=\"text_3\">\n      <!-- 200 -->\n      <defs>\n       <path d=\"M 19.1875 8.296875 \nL 53.609375 8.296875 \nL 53.609375 0 \nL 7.328125 0 \nL 7.328125 8.296875 \nQ 12.9375 14.109375 22.625 23.890625 \nQ 32.328125 33.6875 34.8125 36.53125 \nQ 39.546875 41.84375 41.421875 45.53125 \nQ 43.3125 49.21875 43.3125 52.78125 \nQ 43.3125 58.59375 39.234375 62.25 \nQ 35.15625 65.921875 28.609375 65.921875 \nQ 23.96875 65.921875 18.8125 64.3125 \nQ 13.671875 62.703125 7.8125 59.421875 \nL 7.8125 69.390625 \nQ 13.765625 71.78125 18.9375 73 \nQ 24.125 74.21875 28.421875 74.21875 \nQ 39.75 74.21875 46.484375 68.546875 \nQ 53.21875 62.890625 53.21875 53.421875 \nQ 53.21875 48.921875 51.53125 44.890625 \nQ 49.859375 40.875 45.40625 35.40625 \nQ 44.1875 33.984375 37.640625 27.21875 \nQ 31.109375 20.453125 19.1875 8.296875 \nz\n\" id=\"DejaVuSans-50\"/>\n      </defs>\n      <g transform=\"translate(20.878125 162.07766)scale(0.1 -0.1)\">\n       <use xlink:href=\"#DejaVuSans-50\"/>\n       <use x=\"63.623047\" xlink:href=\"#DejaVuSans-48\"/>\n       <use x=\"127.246094\" xlink:href=\"#DejaVuSans-48\"/>\n      </g>\n     </g>\n    </g>\n    <g id=\"ytick_4\">\n     <g id=\"line2d_5\">\n      <g>\n       <use style=\"stroke:#000000;stroke-width:0.8;\" x=\"46.965625\" xlink:href=\"#m6de2bbde2c\" y=\"130.039481\"/>\n      </g>\n     </g>\n     <g id=\"text_4\">\n      <!-- 225 -->\n      <g transform=\"translate(20.878125 133.838699)scale(0.1 -0.1)\">\n       <use xlink:href=\"#DejaVuSans-50\"/>\n       <use x=\"63.623047\" xlink:href=\"#DejaVuSans-50\"/>\n       <use x=\"127.246094\" xlink:href=\"#DejaVuSans-53\"/>\n      </g>\n     </g>\n    </g>\n    <g id=\"ytick_5\">\n     <g id=\"line2d_6\">\n      <g>\n       <use style=\"stroke:#000000;stroke-width:0.8;\" x=\"46.965625\" xlink:href=\"#m6de2bbde2c\" y=\"101.800519\"/>\n      </g>\n     </g>\n     <g id=\"text_5\">\n      <!-- 250 -->\n      <g transform=\"translate(20.878125 105.599738)scale(0.1 -0.1)\">\n       <use xlink:href=\"#DejaVuSans-50\"/>\n       <use x=\"63.623047\" xlink:href=\"#DejaVuSans-53\"/>\n       <use x=\"127.246094\" xlink:href=\"#DejaVuSans-48\"/>\n      </g>\n     </g>\n    </g>\n    <g id=\"ytick_6\">\n     <g id=\"line2d_7\">\n      <g>\n       <use style=\"stroke:#000000;stroke-width:0.8;\" x=\"46.965625\" xlink:href=\"#m6de2bbde2c\" y=\"73.561558\"/>\n      </g>\n     </g>\n     <g id=\"text_6\">\n      <!-- 275 -->\n      <g transform=\"translate(20.878125 77.360777)scale(0.1 -0.1)\">\n       <use xlink:href=\"#DejaVuSans-50\"/>\n       <use x=\"63.623047\" xlink:href=\"#DejaVuSans-55\"/>\n       <use x=\"127.246094\" xlink:href=\"#DejaVuSans-53\"/>\n      </g>\n     </g>\n    </g>\n    <g id=\"ytick_7\">\n     <g id=\"line2d_8\">\n      <g>\n       <use style=\"stroke:#000000;stroke-width:0.8;\" x=\"46.965625\" xlink:href=\"#m6de2bbde2c\" y=\"45.322597\"/>\n      </g>\n     </g>\n     <g id=\"text_7\">\n      <!-- 300 -->\n      <defs>\n       <path d=\"M 40.578125 39.3125 \nQ 47.65625 37.796875 51.625 33 \nQ 55.609375 28.21875 55.609375 21.1875 \nQ 55.609375 10.40625 48.1875 4.484375 \nQ 40.765625 -1.421875 27.09375 -1.421875 \nQ 22.515625 -1.421875 17.65625 -0.515625 \nQ 12.796875 0.390625 7.625 2.203125 \nL 7.625 11.71875 \nQ 11.71875 9.328125 16.59375 8.109375 \nQ 21.484375 6.890625 26.8125 6.890625 \nQ 36.078125 6.890625 40.9375 10.546875 \nQ 45.796875 14.203125 45.796875 21.1875 \nQ 45.796875 27.640625 41.28125 31.265625 \nQ 36.765625 34.90625 28.71875 34.90625 \nL 20.21875 34.90625 \nL 20.21875 43.015625 \nL 29.109375 43.015625 \nQ 36.375 43.015625 40.234375 45.921875 \nQ 44.09375 48.828125 44.09375 54.296875 \nQ 44.09375 59.90625 40.109375 62.90625 \nQ 36.140625 65.921875 28.71875 65.921875 \nQ 24.65625 65.921875 20.015625 65.03125 \nQ 15.375 64.15625 9.8125 62.3125 \nL 9.8125 71.09375 \nQ 15.4375 72.65625 20.34375 73.4375 \nQ 25.25 74.21875 29.59375 74.21875 \nQ 40.828125 74.21875 47.359375 69.109375 \nQ 53.90625 64.015625 53.90625 55.328125 \nQ 53.90625 49.265625 50.4375 45.09375 \nQ 46.96875 40.921875 40.578125 39.3125 \nz\n\" id=\"DejaVuSans-51\"/>\n      </defs>\n      <g transform=\"translate(20.878125 49.121816)scale(0.1 -0.1)\">\n       <use xlink:href=\"#DejaVuSans-51\"/>\n       <use x=\"63.623047\" xlink:href=\"#DejaVuSans-48\"/>\n       <use x=\"127.246094\" xlink:href=\"#DejaVuSans-48\"/>\n      </g>\n     </g>\n    </g>\n    <g id=\"ytick_8\">\n     <g id=\"line2d_9\">\n      <g>\n       <use style=\"stroke:#000000;stroke-width:0.8;\" x=\"46.965625\" xlink:href=\"#m6de2bbde2c\" y=\"17.083636\"/>\n      </g>\n     </g>\n     <g id=\"text_8\">\n      <!-- 325 -->\n      <g transform=\"translate(20.878125 20.882855)scale(0.1 -0.1)\">\n       <use xlink:href=\"#DejaVuSans-51\"/>\n       <use x=\"63.623047\" xlink:href=\"#DejaVuSans-50\"/>\n       <use x=\"127.246094\" xlink:href=\"#DejaVuSans-53\"/>\n      </g>\n     </g>\n    </g>\n    <g id=\"text_9\">\n     <!-- Weight -->\n     <defs>\n      <path d=\"M 3.328125 72.90625 \nL 13.28125 72.90625 \nL 28.609375 11.28125 \nL 43.890625 72.90625 \nL 54.984375 72.90625 \nL 70.3125 11.28125 \nL 85.59375 72.90625 \nL 95.609375 72.90625 \nL 77.296875 0 \nL 64.890625 0 \nL 49.515625 63.28125 \nL 33.984375 0 \nL 21.578125 0 \nz\n\" id=\"DejaVuSans-87\"/>\n      <path d=\"M 56.203125 29.59375 \nL 56.203125 25.203125 \nL 14.890625 25.203125 \nQ 15.484375 15.921875 20.484375 11.0625 \nQ 25.484375 6.203125 34.421875 6.203125 \nQ 39.59375 6.203125 44.453125 7.46875 \nQ 49.3125 8.734375 54.109375 11.28125 \nL 54.109375 2.78125 \nQ 49.265625 0.734375 44.1875 -0.34375 \nQ 39.109375 -1.421875 33.890625 -1.421875 \nQ 20.796875 -1.421875 13.15625 6.1875 \nQ 5.515625 13.8125 5.515625 26.8125 \nQ 5.515625 40.234375 12.765625 48.109375 \nQ 20.015625 56 32.328125 56 \nQ 43.359375 56 49.78125 48.890625 \nQ 56.203125 41.796875 56.203125 29.59375 \nz\nM 47.21875 32.234375 \nQ 47.125 39.59375 43.09375 43.984375 \nQ 39.0625 48.390625 32.421875 48.390625 \nQ 24.90625 48.390625 20.390625 44.140625 \nQ 15.875 39.890625 15.1875 32.171875 \nz\n\" id=\"DejaVuSans-101\"/>\n      <path d=\"M 9.421875 54.6875 \nL 18.40625 54.6875 \nL 18.40625 0 \nL 9.421875 0 \nz\nM 9.421875 75.984375 \nL 18.40625 75.984375 \nL 18.40625 64.59375 \nL 9.421875 64.59375 \nz\n\" id=\"DejaVuSans-105\"/>\n      <path d=\"M 45.40625 27.984375 \nQ 45.40625 37.75 41.375 43.109375 \nQ 37.359375 48.484375 30.078125 48.484375 \nQ 22.859375 48.484375 18.828125 43.109375 \nQ 14.796875 37.75 14.796875 27.984375 \nQ 14.796875 18.265625 18.828125 12.890625 \nQ 22.859375 7.515625 30.078125 7.515625 \nQ 37.359375 7.515625 41.375 12.890625 \nQ 45.40625 18.265625 45.40625 27.984375 \nz\nM 54.390625 6.78125 \nQ 54.390625 -7.171875 48.1875 -13.984375 \nQ 42 -20.796875 29.203125 -20.796875 \nQ 24.46875 -20.796875 20.265625 -20.09375 \nQ 16.0625 -19.390625 12.109375 -17.921875 \nL 12.109375 -9.1875 \nQ 16.0625 -11.328125 19.921875 -12.34375 \nQ 23.78125 -13.375 27.78125 -13.375 \nQ 36.625 -13.375 41.015625 -8.765625 \nQ 45.40625 -4.15625 45.40625 5.171875 \nL 45.40625 9.625 \nQ 42.625 4.78125 38.28125 2.390625 \nQ 33.9375 0 27.875 0 \nQ 17.828125 0 11.671875 7.65625 \nQ 5.515625 15.328125 5.515625 27.984375 \nQ 5.515625 40.671875 11.671875 48.328125 \nQ 17.828125 56 27.875 56 \nQ 33.9375 56 38.28125 53.609375 \nQ 42.625 51.21875 45.40625 46.390625 \nL 45.40625 54.6875 \nL 54.390625 54.6875 \nz\n\" id=\"DejaVuSans-103\"/>\n      <path d=\"M 54.890625 33.015625 \nL 54.890625 0 \nL 45.90625 0 \nL 45.90625 32.71875 \nQ 45.90625 40.484375 42.875 44.328125 \nQ 39.84375 48.1875 33.796875 48.1875 \nQ 26.515625 48.1875 22.3125 43.546875 \nQ 18.109375 38.921875 18.109375 30.90625 \nL 18.109375 0 \nL 9.078125 0 \nL 9.078125 75.984375 \nL 18.109375 75.984375 \nL 18.109375 46.1875 \nQ 21.34375 51.125 25.703125 53.5625 \nQ 30.078125 56 35.796875 56 \nQ 45.21875 56 50.046875 50.171875 \nQ 54.890625 44.34375 54.890625 33.015625 \nz\n\" id=\"DejaVuSans-104\"/>\n      <path d=\"M 18.3125 70.21875 \nL 18.3125 54.6875 \nL 36.8125 54.6875 \nL 36.8125 47.703125 \nL 18.3125 47.703125 \nL 18.3125 18.015625 \nQ 18.3125 11.328125 20.140625 9.421875 \nQ 21.96875 7.515625 27.59375 7.515625 \nL 36.8125 7.515625 \nL 36.8125 0 \nL 27.59375 0 \nQ 17.1875 0 13.234375 3.875 \nQ 9.28125 7.765625 9.28125 18.015625 \nL 9.28125 47.703125 \nL 2.6875 47.703125 \nL 2.6875 54.6875 \nL 9.28125 54.6875 \nL 9.28125 70.21875 \nz\n\" id=\"DejaVuSans-116\"/>\n     </defs>\n     <g transform=\"translate(14.798438 133.33875)rotate(-90)scale(0.1 -0.1)\">\n      <use xlink:href=\"#DejaVuSans-87\"/>\n      <use x=\"93.001953\" xlink:href=\"#DejaVuSans-101\"/>\n      <use x=\"154.525391\" xlink:href=\"#DejaVuSans-105\"/>\n      <use x=\"182.308594\" xlink:href=\"#DejaVuSans-103\"/>\n      <use x=\"245.785156\" xlink:href=\"#DejaVuSans-104\"/>\n      <use x=\"309.164062\" xlink:href=\"#DejaVuSans-116\"/>\n     </g>\n    </g>\n   </g>\n   <g id=\"line2d_10\">\n    <path clip-path=\"url(#pb2a07e1cab)\" d=\"M 214.365625 163.926234 \nL 214.365625 214.756364 \n\" style=\"fill:none;stroke:#3f3f3f;stroke-linecap:square;stroke-width:1.5;\"/>\n   </g>\n   <g id=\"line2d_11\">\n    <path clip-path=\"url(#pb2a07e1cab)\" d=\"M 214.365625 113.096104 \nL 214.365625 37.415688 \n\" style=\"fill:none;stroke:#3f3f3f;stroke-linecap:square;stroke-width:1.5;\"/>\n   </g>\n   <g id=\"line2d_12\">\n    <path clip-path=\"url(#pb2a07e1cab)\" d=\"M 147.405625 214.756364 \nL 281.325625 214.756364 \n\" style=\"fill:none;stroke:#3f3f3f;stroke-linecap:square;stroke-width:1.5;\"/>\n   </g>\n   <g id=\"line2d_13\">\n    <path clip-path=\"url(#pb2a07e1cab)\" d=\"M 147.405625 37.415688 \nL 281.325625 37.415688 \n\" style=\"fill:none;stroke:#3f3f3f;stroke-linecap:square;stroke-width:1.5;\"/>\n   </g>\n   <g id=\"line2d_14\">\n    <defs>\n     <path d=\"M -0 3.535534 \nL 2.12132 0 \nL -0 -3.535534 \nL -2.12132 -0 \nz\n\" id=\"m9faae001ca\" style=\"stroke:#3f3f3f;stroke-linejoin:miter;\"/>\n    </defs>\n    <g clip-path=\"url(#pb2a07e1cab)\">\n     <use style=\"fill:#3f3f3f;stroke:#3f3f3f;stroke-linejoin:miter;\" x=\"214.365625\" xlink:href=\"#m9faae001ca\" y=\"17.083636\"/>\n     <use style=\"fill:#3f3f3f;stroke:#3f3f3f;stroke-linejoin:miter;\" x=\"214.365625\" xlink:href=\"#m9faae001ca\" y=\"34.027013\"/>\n    </g>\n   </g>\n   <g id=\"line2d_15\">\n    <path clip-path=\"url(#pb2a07e1cab)\" d=\"M 214.365625 163.926234 \nL 214.365625 214.756364 \n\" style=\"fill:none;stroke:#3f3f3f;stroke-linecap:square;stroke-width:1.5;\"/>\n   </g>\n   <g id=\"line2d_16\">\n    <path clip-path=\"url(#pb2a07e1cab)\" d=\"M 214.365625 113.096104 \nL 214.365625 37.415688 \n\" style=\"fill:none;stroke:#3f3f3f;stroke-linecap:square;stroke-width:1.5;\"/>\n   </g>\n   <g id=\"line2d_17\">\n    <path clip-path=\"url(#pb2a07e1cab)\" d=\"M 147.405625 214.756364 \nL 281.325625 214.756364 \n\" style=\"fill:none;stroke:#3f3f3f;stroke-linecap:square;stroke-width:1.5;\"/>\n   </g>\n   <g id=\"line2d_18\">\n    <path clip-path=\"url(#pb2a07e1cab)\" d=\"M 147.405625 37.415688 \nL 281.325625 37.415688 \n\" style=\"fill:none;stroke:#3f3f3f;stroke-linecap:square;stroke-width:1.5;\"/>\n   </g>\n   <g id=\"line2d_19\"/>\n   <g id=\"line2d_20\">\n    <path clip-path=\"url(#pb2a07e1cab)\" d=\"M 80.445625 135.687273 \nL 348.285625 135.687273 \n\" style=\"fill:none;stroke:#3f3f3f;stroke-linecap:square;stroke-width:1.5;\"/>\n   </g>\n   <g id=\"line2d_21\">\n    <path clip-path=\"url(#pb2a07e1cab)\" d=\"M 80.445625 135.687273 \nL 348.285625 135.687273 \n\" style=\"fill:none;stroke:#3f3f3f;stroke-linecap:square;stroke-width:1.5;\"/>\n   </g>\n   <g id=\"patch_5\">\n    <path d=\"M 46.965625 224.64 \nL 46.965625 7.2 \n\" style=\"fill:none;stroke:#000000;stroke-linecap:square;stroke-linejoin:miter;stroke-width:0.8;\"/>\n   </g>\n   <g id=\"patch_6\">\n    <path d=\"M 381.765625 224.64 \nL 381.765625 7.2 \n\" style=\"fill:none;stroke:#000000;stroke-linecap:square;stroke-linejoin:miter;stroke-width:0.8;\"/>\n   </g>\n   <g id=\"patch_7\">\n    <path d=\"M 46.965625 224.64 \nL 381.765625 224.64 \n\" style=\"fill:none;stroke:#000000;stroke-linecap:square;stroke-linejoin:miter;stroke-width:0.8;\"/>\n   </g>\n   <g id=\"patch_8\">\n    <path d=\"M 46.965625 7.2 \nL 381.765625 7.2 \n\" style=\"fill:none;stroke:#000000;stroke-linecap:square;stroke-linejoin:miter;stroke-width:0.8;\"/>\n   </g>\n  </g>\n </g>\n <defs>\n  <clipPath id=\"pb2a07e1cab\">\n   <rect height=\"217.44\" width=\"334.8\" x=\"46.965625\" y=\"7.2\"/>\n  </clipPath>\n </defs>\n</svg>\n",
      "image/png": "[encoded data removed]"
     },
     "metadata": {
      "needs_background": "light"
     }
    }
   ],
   "source": [
    "sns.boxplot(nba.unique['Weight'], orient= 'v') "
   ]
  },
  {
   "cell_type": "code",
   "execution_count": 69,
   "metadata": {},
   "outputs": [
    {
     "output_type": "execute_result",
     "data": {
      "text/plain": [
       "<matplotlib.axes._subplots.AxesSubplot at 0x7f4e5d84c970>"
      ]
     },
     "metadata": {},
     "execution_count": 69
    },
    {
     "output_type": "display_data",
     "data": {
      "text/plain": "<Figure size 432x288 with 1 Axes>",
      "image/svg+xml": "<?xml version=\"1.0\" encoding=\"utf-8\" standalone=\"no\"?>\n<!DOCTYPE svg PUBLIC \"-//W3C//DTD SVG 1.1//EN\"\n  \"http://www.w3.org/Graphics/SVG/1.1/DTD/svg11.dtd\">\n<!-- Created with matplotlib (https://matplotlib.org/) -->\n<svg height=\"235.34pt\" version=\"1.1\" viewBox=\"0 0 388.965625 235.34\" width=\"388.965625pt\" xmlns=\"http://www.w3.org/2000/svg\" xmlns:xlink=\"http://www.w3.org/1999/xlink\">\n <defs>\n  <style type=\"text/css\">\n*{stroke-linecap:butt;stroke-linejoin:round;}\n  </style>\n </defs>\n <g id=\"figure_1\">\n  <g id=\"patch_1\">\n   <path d=\"M 0 235.34 \nL 388.965625 235.34 \nL 388.965625 0 \nL 0 0 \nz\n\" style=\"fill:none;\"/>\n  </g>\n  <g id=\"axes_1\">\n   <g id=\"patch_2\">\n    <path d=\"M 46.965625 224.64 \nL 381.765625 224.64 \nL 381.765625 7.2 \nL 46.965625 7.2 \nz\n\" style=\"fill:#ffffff;\"/>\n   </g>\n   <g id=\"patch_3\">\n    <path clip-path=\"url(#pe4e0cd1388)\" d=\"M 80.445625 158.098576 \nL 348.285625 158.098576 \nL 348.285625 101.440787 \nL 80.445625 101.440787 \nL 80.445625 158.098576 \nz\n\" style=\"fill:#3274a1;stroke:#3f3f3f;stroke-linejoin:miter;stroke-width:1.5;\"/>\n   </g>\n   <g id=\"matplotlib.axis_1\">\n    <g id=\"xtick_1\">\n     <g id=\"line2d_1\">\n      <defs>\n       <path d=\"M 0 0 \nL 0 3.5 \n\" id=\"m08799967ff\" style=\"stroke:#000000;stroke-width:0.8;\"/>\n      </defs>\n      <g>\n       <use style=\"stroke:#000000;stroke-width:0.8;\" x=\"214.365625\" xlink:href=\"#m08799967ff\" y=\"224.64\"/>\n      </g>\n     </g>\n    </g>\n   </g>\n   <g id=\"matplotlib.axis_2\">\n    <g id=\"ytick_1\">\n     <g id=\"line2d_2\">\n      <defs>\n       <path d=\"M 0 0 \nL -3.5 0 \n\" id=\"m6edef19d56\" style=\"stroke:#000000;stroke-width:0.8;\"/>\n      </defs>\n      <g>\n       <use style=\"stroke:#000000;stroke-width:0.8;\" x=\"46.965625\" xlink:href=\"#m6edef19d56\" y=\"202.165744\"/>\n      </g>\n     </g>\n     <g id=\"text_1\">\n      <!-- 160 -->\n      <defs>\n       <path d=\"M 12.40625 8.296875 \nL 28.515625 8.296875 \nL 28.515625 63.921875 \nL 10.984375 60.40625 \nL 10.984375 69.390625 \nL 28.421875 72.90625 \nL 38.28125 72.90625 \nL 38.28125 8.296875 \nL 54.390625 8.296875 \nL 54.390625 0 \nL 12.40625 0 \nz\n\" id=\"DejaVuSans-49\"/>\n       <path d=\"M 33.015625 40.375 \nQ 26.375 40.375 22.484375 35.828125 \nQ 18.609375 31.296875 18.609375 23.390625 \nQ 18.609375 15.53125 22.484375 10.953125 \nQ 26.375 6.390625 33.015625 6.390625 \nQ 39.65625 6.390625 43.53125 10.953125 \nQ 47.40625 15.53125 47.40625 23.390625 \nQ 47.40625 31.296875 43.53125 35.828125 \nQ 39.65625 40.375 33.015625 40.375 \nz\nM 52.59375 71.296875 \nL 52.59375 62.3125 \nQ 48.875 64.0625 45.09375 64.984375 \nQ 41.3125 65.921875 37.59375 65.921875 \nQ 27.828125 65.921875 22.671875 59.328125 \nQ 17.53125 52.734375 16.796875 39.40625 \nQ 19.671875 43.65625 24.015625 45.921875 \nQ 28.375 48.1875 33.59375 48.1875 \nQ 44.578125 48.1875 50.953125 41.515625 \nQ 57.328125 34.859375 57.328125 23.390625 \nQ 57.328125 12.15625 50.6875 5.359375 \nQ 44.046875 -1.421875 33.015625 -1.421875 \nQ 20.359375 -1.421875 13.671875 8.265625 \nQ 6.984375 17.96875 6.984375 36.375 \nQ 6.984375 53.65625 15.1875 63.9375 \nQ 23.390625 74.21875 37.203125 74.21875 \nQ 40.921875 74.21875 44.703125 73.484375 \nQ 48.484375 72.75 52.59375 71.296875 \nz\n\" id=\"DejaVuSans-54\"/>\n       <path d=\"M 31.78125 66.40625 \nQ 24.171875 66.40625 20.328125 58.90625 \nQ 16.5 51.421875 16.5 36.375 \nQ 16.5 21.390625 20.328125 13.890625 \nQ 24.171875 6.390625 31.78125 6.390625 \nQ 39.453125 6.390625 43.28125 13.890625 \nQ 47.125 21.390625 47.125 36.375 \nQ 47.125 51.421875 43.28125 58.90625 \nQ 39.453125 66.40625 31.78125 66.40625 \nz\nM 31.78125 74.21875 \nQ 44.046875 74.21875 50.515625 64.515625 \nQ 56.984375 54.828125 56.984375 36.375 \nQ 56.984375 17.96875 50.515625 8.265625 \nQ 44.046875 -1.421875 31.78125 -1.421875 \nQ 19.53125 -1.421875 13.0625 8.265625 \nQ 6.59375 17.96875 6.59375 36.375 \nQ 6.59375 54.828125 13.0625 64.515625 \nQ 19.53125 74.21875 31.78125 74.21875 \nz\n\" id=\"DejaVuSans-48\"/>\n      </defs>\n      <g transform=\"translate(20.878125 205.964963)scale(0.1 -0.1)\">\n       <use xlink:href=\"#DejaVuSans-49\"/>\n       <use x=\"63.623047\" xlink:href=\"#DejaVuSans-54\"/>\n       <use x=\"127.246094\" xlink:href=\"#DejaVuSans-48\"/>\n      </g>\n     </g>\n    </g>\n    <g id=\"ytick_2\">\n     <g id=\"line2d_3\">\n      <g>\n       <use style=\"stroke:#000000;stroke-width:0.8;\" x=\"46.965625\" xlink:href=\"#m6edef19d56\" y=\"176.984505\"/>\n      </g>\n     </g>\n     <g id=\"text_2\">\n      <!-- 180 -->\n      <defs>\n       <path d=\"M 31.78125 34.625 \nQ 24.75 34.625 20.71875 30.859375 \nQ 16.703125 27.09375 16.703125 20.515625 \nQ 16.703125 13.921875 20.71875 10.15625 \nQ 24.75 6.390625 31.78125 6.390625 \nQ 38.8125 6.390625 42.859375 10.171875 \nQ 46.921875 13.96875 46.921875 20.515625 \nQ 46.921875 27.09375 42.890625 30.859375 \nQ 38.875 34.625 31.78125 34.625 \nz\nM 21.921875 38.8125 \nQ 15.578125 40.375 12.03125 44.71875 \nQ 8.5 49.078125 8.5 55.328125 \nQ 8.5 64.0625 14.71875 69.140625 \nQ 20.953125 74.21875 31.78125 74.21875 \nQ 42.671875 74.21875 48.875 69.140625 \nQ 55.078125 64.0625 55.078125 55.328125 \nQ 55.078125 49.078125 51.53125 44.71875 \nQ 48 40.375 41.703125 38.8125 \nQ 48.828125 37.15625 52.796875 32.3125 \nQ 56.78125 27.484375 56.78125 20.515625 \nQ 56.78125 9.90625 50.3125 4.234375 \nQ 43.84375 -1.421875 31.78125 -1.421875 \nQ 19.734375 -1.421875 13.25 4.234375 \nQ 6.78125 9.90625 6.78125 20.515625 \nQ 6.78125 27.484375 10.78125 32.3125 \nQ 14.796875 37.15625 21.921875 38.8125 \nz\nM 18.3125 54.390625 \nQ 18.3125 48.734375 21.84375 45.5625 \nQ 25.390625 42.390625 31.78125 42.390625 \nQ 38.140625 42.390625 41.71875 45.5625 \nQ 45.3125 48.734375 45.3125 54.390625 \nQ 45.3125 60.0625 41.71875 63.234375 \nQ 38.140625 66.40625 31.78125 66.40625 \nQ 25.390625 66.40625 21.84375 63.234375 \nQ 18.3125 60.0625 18.3125 54.390625 \nz\n\" id=\"DejaVuSans-56\"/>\n      </defs>\n      <g transform=\"translate(20.878125 180.783724)scale(0.1 -0.1)\">\n       <use xlink:href=\"#DejaVuSans-49\"/>\n       <use x=\"63.623047\" xlink:href=\"#DejaVuSans-56\"/>\n       <use x=\"127.246094\" xlink:href=\"#DejaVuSans-48\"/>\n      </g>\n     </g>\n    </g>\n    <g id=\"ytick_3\">\n     <g id=\"line2d_4\">\n      <g>\n       <use style=\"stroke:#000000;stroke-width:0.8;\" x=\"46.965625\" xlink:href=\"#m6edef19d56\" y=\"151.803266\"/>\n      </g>\n     </g>\n     <g id=\"text_3\">\n      <!-- 200 -->\n      <defs>\n       <path d=\"M 19.1875 8.296875 \nL 53.609375 8.296875 \nL 53.609375 0 \nL 7.328125 0 \nL 7.328125 8.296875 \nQ 12.9375 14.109375 22.625 23.890625 \nQ 32.328125 33.6875 34.8125 36.53125 \nQ 39.546875 41.84375 41.421875 45.53125 \nQ 43.3125 49.21875 43.3125 52.78125 \nQ 43.3125 58.59375 39.234375 62.25 \nQ 35.15625 65.921875 28.609375 65.921875 \nQ 23.96875 65.921875 18.8125 64.3125 \nQ 13.671875 62.703125 7.8125 59.421875 \nL 7.8125 69.390625 \nQ 13.765625 71.78125 18.9375 73 \nQ 24.125 74.21875 28.421875 74.21875 \nQ 39.75 74.21875 46.484375 68.546875 \nQ 53.21875 62.890625 53.21875 53.421875 \nQ 53.21875 48.921875 51.53125 44.890625 \nQ 49.859375 40.875 45.40625 35.40625 \nQ 44.1875 33.984375 37.640625 27.21875 \nQ 31.109375 20.453125 19.1875 8.296875 \nz\n\" id=\"DejaVuSans-50\"/>\n      </defs>\n      <g transform=\"translate(20.878125 155.602485)scale(0.1 -0.1)\">\n       <use xlink:href=\"#DejaVuSans-50\"/>\n       <use x=\"63.623047\" xlink:href=\"#DejaVuSans-48\"/>\n       <use x=\"127.246094\" xlink:href=\"#DejaVuSans-48\"/>\n      </g>\n     </g>\n    </g>\n    <g id=\"ytick_4\">\n     <g id=\"line2d_5\">\n      <g>\n       <use style=\"stroke:#000000;stroke-width:0.8;\" x=\"46.965625\" xlink:href=\"#m6edef19d56\" y=\"126.622027\"/>\n      </g>\n     </g>\n     <g id=\"text_4\">\n      <!-- 220 -->\n      <g transform=\"translate(20.878125 130.421245)scale(0.1 -0.1)\">\n       <use xlink:href=\"#DejaVuSans-50\"/>\n       <use x=\"63.623047\" xlink:href=\"#DejaVuSans-50\"/>\n       <use x=\"127.246094\" xlink:href=\"#DejaVuSans-48\"/>\n      </g>\n     </g>\n    </g>\n    <g id=\"ytick_5\">\n     <g id=\"line2d_6\">\n      <g>\n       <use style=\"stroke:#000000;stroke-width:0.8;\" x=\"46.965625\" xlink:href=\"#m6edef19d56\" y=\"101.440787\"/>\n      </g>\n     </g>\n     <g id=\"text_5\">\n      <!-- 240 -->\n      <defs>\n       <path d=\"M 37.796875 64.3125 \nL 12.890625 25.390625 \nL 37.796875 25.390625 \nz\nM 35.203125 72.90625 \nL 47.609375 72.90625 \nL 47.609375 25.390625 \nL 58.015625 25.390625 \nL 58.015625 17.1875 \nL 47.609375 17.1875 \nL 47.609375 0 \nL 37.796875 0 \nL 37.796875 17.1875 \nL 4.890625 17.1875 \nL 4.890625 26.703125 \nz\n\" id=\"DejaVuSans-52\"/>\n      </defs>\n      <g transform=\"translate(20.878125 105.240006)scale(0.1 -0.1)\">\n       <use xlink:href=\"#DejaVuSans-50\"/>\n       <use x=\"63.623047\" xlink:href=\"#DejaVuSans-52\"/>\n       <use x=\"127.246094\" xlink:href=\"#DejaVuSans-48\"/>\n      </g>\n     </g>\n    </g>\n    <g id=\"ytick_6\">\n     <g id=\"line2d_7\">\n      <g>\n       <use style=\"stroke:#000000;stroke-width:0.8;\" x=\"46.965625\" xlink:href=\"#m6edef19d56\" y=\"76.259548\"/>\n      </g>\n     </g>\n     <g id=\"text_6\">\n      <!-- 260 -->\n      <g transform=\"translate(20.878125 80.058767)scale(0.1 -0.1)\">\n       <use xlink:href=\"#DejaVuSans-50\"/>\n       <use x=\"63.623047\" xlink:href=\"#DejaVuSans-54\"/>\n       <use x=\"127.246094\" xlink:href=\"#DejaVuSans-48\"/>\n      </g>\n     </g>\n    </g>\n    <g id=\"ytick_7\">\n     <g id=\"line2d_8\">\n      <g>\n       <use style=\"stroke:#000000;stroke-width:0.8;\" x=\"46.965625\" xlink:href=\"#m6edef19d56\" y=\"51.078309\"/>\n      </g>\n     </g>\n     <g id=\"text_7\">\n      <!-- 280 -->\n      <g transform=\"translate(20.878125 54.877528)scale(0.1 -0.1)\">\n       <use xlink:href=\"#DejaVuSans-50\"/>\n       <use x=\"63.623047\" xlink:href=\"#DejaVuSans-56\"/>\n       <use x=\"127.246094\" xlink:href=\"#DejaVuSans-48\"/>\n      </g>\n     </g>\n    </g>\n    <g id=\"ytick_8\">\n     <g id=\"line2d_9\">\n      <g>\n       <use style=\"stroke:#000000;stroke-width:0.8;\" x=\"46.965625\" xlink:href=\"#m6edef19d56\" y=\"25.89707\"/>\n      </g>\n     </g>\n     <g id=\"text_8\">\n      <!-- 300 -->\n      <defs>\n       <path d=\"M 40.578125 39.3125 \nQ 47.65625 37.796875 51.625 33 \nQ 55.609375 28.21875 55.609375 21.1875 \nQ 55.609375 10.40625 48.1875 4.484375 \nQ 40.765625 -1.421875 27.09375 -1.421875 \nQ 22.515625 -1.421875 17.65625 -0.515625 \nQ 12.796875 0.390625 7.625 2.203125 \nL 7.625 11.71875 \nQ 11.71875 9.328125 16.59375 8.109375 \nQ 21.484375 6.890625 26.8125 6.890625 \nQ 36.078125 6.890625 40.9375 10.546875 \nQ 45.796875 14.203125 45.796875 21.1875 \nQ 45.796875 27.640625 41.28125 31.265625 \nQ 36.765625 34.90625 28.71875 34.90625 \nL 20.21875 34.90625 \nL 20.21875 43.015625 \nL 29.109375 43.015625 \nQ 36.375 43.015625 40.234375 45.921875 \nQ 44.09375 48.828125 44.09375 54.296875 \nQ 44.09375 59.90625 40.109375 62.90625 \nQ 36.140625 65.921875 28.71875 65.921875 \nQ 24.65625 65.921875 20.015625 65.03125 \nQ 15.375 64.15625 9.8125 62.3125 \nL 9.8125 71.09375 \nQ 15.4375 72.65625 20.34375 73.4375 \nQ 25.25 74.21875 29.59375 74.21875 \nQ 40.828125 74.21875 47.359375 69.109375 \nQ 53.90625 64.015625 53.90625 55.328125 \nQ 53.90625 49.265625 50.4375 45.09375 \nQ 46.96875 40.921875 40.578125 39.3125 \nz\n\" id=\"DejaVuSans-51\"/>\n      </defs>\n      <g transform=\"translate(20.878125 29.696289)scale(0.1 -0.1)\">\n       <use xlink:href=\"#DejaVuSans-51\"/>\n       <use x=\"63.623047\" xlink:href=\"#DejaVuSans-48\"/>\n       <use x=\"127.246094\" xlink:href=\"#DejaVuSans-48\"/>\n      </g>\n     </g>\n    </g>\n    <g id=\"text_9\">\n     <!-- Weight -->\n     <defs>\n      <path d=\"M 3.328125 72.90625 \nL 13.28125 72.90625 \nL 28.609375 11.28125 \nL 43.890625 72.90625 \nL 54.984375 72.90625 \nL 70.3125 11.28125 \nL 85.59375 72.90625 \nL 95.609375 72.90625 \nL 77.296875 0 \nL 64.890625 0 \nL 49.515625 63.28125 \nL 33.984375 0 \nL 21.578125 0 \nz\n\" id=\"DejaVuSans-87\"/>\n      <path d=\"M 56.203125 29.59375 \nL 56.203125 25.203125 \nL 14.890625 25.203125 \nQ 15.484375 15.921875 20.484375 11.0625 \nQ 25.484375 6.203125 34.421875 6.203125 \nQ 39.59375 6.203125 44.453125 7.46875 \nQ 49.3125 8.734375 54.109375 11.28125 \nL 54.109375 2.78125 \nQ 49.265625 0.734375 44.1875 -0.34375 \nQ 39.109375 -1.421875 33.890625 -1.421875 \nQ 20.796875 -1.421875 13.15625 6.1875 \nQ 5.515625 13.8125 5.515625 26.8125 \nQ 5.515625 40.234375 12.765625 48.109375 \nQ 20.015625 56 32.328125 56 \nQ 43.359375 56 49.78125 48.890625 \nQ 56.203125 41.796875 56.203125 29.59375 \nz\nM 47.21875 32.234375 \nQ 47.125 39.59375 43.09375 43.984375 \nQ 39.0625 48.390625 32.421875 48.390625 \nQ 24.90625 48.390625 20.390625 44.140625 \nQ 15.875 39.890625 15.1875 32.171875 \nz\n\" id=\"DejaVuSans-101\"/>\n      <path d=\"M 9.421875 54.6875 \nL 18.40625 54.6875 \nL 18.40625 0 \nL 9.421875 0 \nz\nM 9.421875 75.984375 \nL 18.40625 75.984375 \nL 18.40625 64.59375 \nL 9.421875 64.59375 \nz\n\" id=\"DejaVuSans-105\"/>\n      <path d=\"M 45.40625 27.984375 \nQ 45.40625 37.75 41.375 43.109375 \nQ 37.359375 48.484375 30.078125 48.484375 \nQ 22.859375 48.484375 18.828125 43.109375 \nQ 14.796875 37.75 14.796875 27.984375 \nQ 14.796875 18.265625 18.828125 12.890625 \nQ 22.859375 7.515625 30.078125 7.515625 \nQ 37.359375 7.515625 41.375 12.890625 \nQ 45.40625 18.265625 45.40625 27.984375 \nz\nM 54.390625 6.78125 \nQ 54.390625 -7.171875 48.1875 -13.984375 \nQ 42 -20.796875 29.203125 -20.796875 \nQ 24.46875 -20.796875 20.265625 -20.09375 \nQ 16.0625 -19.390625 12.109375 -17.921875 \nL 12.109375 -9.1875 \nQ 16.0625 -11.328125 19.921875 -12.34375 \nQ 23.78125 -13.375 27.78125 -13.375 \nQ 36.625 -13.375 41.015625 -8.765625 \nQ 45.40625 -4.15625 45.40625 5.171875 \nL 45.40625 9.625 \nQ 42.625 4.78125 38.28125 2.390625 \nQ 33.9375 0 27.875 0 \nQ 17.828125 0 11.671875 7.65625 \nQ 5.515625 15.328125 5.515625 27.984375 \nQ 5.515625 40.671875 11.671875 48.328125 \nQ 17.828125 56 27.875 56 \nQ 33.9375 56 38.28125 53.609375 \nQ 42.625 51.21875 45.40625 46.390625 \nL 45.40625 54.6875 \nL 54.390625 54.6875 \nz\n\" id=\"DejaVuSans-103\"/>\n      <path d=\"M 54.890625 33.015625 \nL 54.890625 0 \nL 45.90625 0 \nL 45.90625 32.71875 \nQ 45.90625 40.484375 42.875 44.328125 \nQ 39.84375 48.1875 33.796875 48.1875 \nQ 26.515625 48.1875 22.3125 43.546875 \nQ 18.109375 38.921875 18.109375 30.90625 \nL 18.109375 0 \nL 9.078125 0 \nL 9.078125 75.984375 \nL 18.109375 75.984375 \nL 18.109375 46.1875 \nQ 21.34375 51.125 25.703125 53.5625 \nQ 30.078125 56 35.796875 56 \nQ 45.21875 56 50.046875 50.171875 \nQ 54.890625 44.34375 54.890625 33.015625 \nz\n\" id=\"DejaVuSans-104\"/>\n      <path d=\"M 18.3125 70.21875 \nL 18.3125 54.6875 \nL 36.8125 54.6875 \nL 36.8125 47.703125 \nL 18.3125 47.703125 \nL 18.3125 18.015625 \nQ 18.3125 11.328125 20.140625 9.421875 \nQ 21.96875 7.515625 27.59375 7.515625 \nL 36.8125 7.515625 \nL 36.8125 0 \nL 27.59375 0 \nQ 17.1875 0 13.234375 3.875 \nQ 9.28125 7.765625 9.28125 18.015625 \nL 9.28125 47.703125 \nL 2.6875 47.703125 \nL 2.6875 54.6875 \nL 9.28125 54.6875 \nL 9.28125 70.21875 \nz\n\" id=\"DejaVuSans-116\"/>\n     </defs>\n     <g transform=\"translate(14.798438 133.33875)rotate(-90)scale(0.1 -0.1)\">\n      <use xlink:href=\"#DejaVuSans-87\"/>\n      <use x=\"93.001953\" xlink:href=\"#DejaVuSans-101\"/>\n      <use x=\"154.525391\" xlink:href=\"#DejaVuSans-105\"/>\n      <use x=\"182.308594\" xlink:href=\"#DejaVuSans-103\"/>\n      <use x=\"245.785156\" xlink:href=\"#DejaVuSans-104\"/>\n      <use x=\"309.164062\" xlink:href=\"#DejaVuSans-116\"/>\n     </g>\n    </g>\n   </g>\n   <g id=\"line2d_10\">\n    <path clip-path=\"url(#pe4e0cd1388)\" d=\"M 214.365625 158.098576 \nL 214.365625 214.756364 \n\" style=\"fill:none;stroke:#3f3f3f;stroke-linecap:square;stroke-width:1.5;\"/>\n   </g>\n   <g id=\"line2d_11\">\n    <path clip-path=\"url(#pe4e0cd1388)\" d=\"M 214.365625 101.440787 \nL 214.365625 17.083636 \n\" style=\"fill:none;stroke:#3f3f3f;stroke-linecap:square;stroke-width:1.5;\"/>\n   </g>\n   <g id=\"line2d_12\">\n    <path clip-path=\"url(#pe4e0cd1388)\" d=\"M 147.405625 214.756364 \nL 281.325625 214.756364 \n\" style=\"fill:none;stroke:#3f3f3f;stroke-linecap:square;stroke-width:1.5;\"/>\n   </g>\n   <g id=\"line2d_13\">\n    <path clip-path=\"url(#pe4e0cd1388)\" d=\"M 147.405625 17.083636 \nL 281.325625 17.083636 \n\" style=\"fill:none;stroke:#3f3f3f;stroke-linecap:square;stroke-width:1.5;\"/>\n   </g>\n   <g id=\"line2d_14\"/>\n   <g id=\"line2d_15\">\n    <path clip-path=\"url(#pe4e0cd1388)\" d=\"M 80.445625 126.622027 \nL 348.285625 126.622027 \n\" style=\"fill:none;stroke:#3f3f3f;stroke-linecap:square;stroke-width:1.5;\"/>\n   </g>\n   <g id=\"patch_4\">\n    <path d=\"M 46.965625 224.64 \nL 46.965625 7.2 \n\" style=\"fill:none;stroke:#000000;stroke-linecap:square;stroke-linejoin:miter;stroke-width:0.8;\"/>\n   </g>\n   <g id=\"patch_5\">\n    <path d=\"M 381.765625 224.64 \nL 381.765625 7.2 \n\" style=\"fill:none;stroke:#000000;stroke-linecap:square;stroke-linejoin:miter;stroke-width:0.8;\"/>\n   </g>\n   <g id=\"patch_6\">\n    <path d=\"M 46.965625 224.64 \nL 381.765625 224.64 \n\" style=\"fill:none;stroke:#000000;stroke-linecap:square;stroke-linejoin:miter;stroke-width:0.8;\"/>\n   </g>\n   <g id=\"patch_7\">\n    <path d=\"M 46.965625 7.2 \nL 381.765625 7.2 \n\" style=\"fill:none;stroke:#000000;stroke-linecap:square;stroke-linejoin:miter;stroke-width:0.8;\"/>\n   </g>\n  </g>\n </g>\n <defs>\n  <clipPath id=\"pe4e0cd1388\">\n   <rect height=\"217.44\" width=\"334.8\" x=\"46.965625\" y=\"7.2\"/>\n  </clipPath>\n </defs>\n</svg>\n",
      "image/png": "[encoded data removed]"
     },
     "metadata": {
      "needs_background": "light"
     }
    }
   ],
   "source": [
    "sns.boxplot(nba_avg['Weight'], orient= 'v')  # En els egundo gráfico vemos que los outliers han desaparecido. "
   ]
  },
  {
   "source": [
    "#### 6.3 Interpretar los resultados"
   ],
   "cell_type": "markdown",
   "metadata": {}
  },
  {
   "cell_type": "code",
   "execution_count": 79,
   "metadata": {},
   "outputs": [
    {
     "output_type": "execute_result",
     "data": {
      "text/plain": [
       "count    274.000000\n",
       "mean     219.056934\n",
       "std       29.407875\n",
       "min      150.000000\n",
       "25%      195.000000\n",
       "50%      220.000000\n",
       "75%      240.000000\n",
       "max      325.000000\n",
       "Name: Weight, dtype: float64"
      ]
     },
     "metadata": {},
     "execution_count": 79
    }
   ],
   "source": [
    "# Para comparar los resultados voy a usar describe\n",
    "nba.unique['Weight'].astype('float').describe()"
   ]
  },
  {
   "cell_type": "code",
   "execution_count": 80,
   "metadata": {},
   "outputs": [
    {
     "output_type": "execute_result",
     "data": {
      "text/plain": [
       "count    272.000000\n",
       "mean     218.333088\n",
       "std       28.262059\n",
       "min      150.000000\n",
       "25%      195.000000\n",
       "50%      220.000000\n",
       "75%      240.000000\n",
       "max      307.000000\n",
       "Name: Weight, dtype: float64"
      ]
     },
     "metadata": {},
     "execution_count": 80
    }
   ],
   "source": [
    "nba_avg['Weight'].astype('float').describe()"
   ]
  },
  {
   "source": [
    "Lo que observamos es que al eliminar los outlaiers se han reducido el numero de observaciones (274 a 272), la media (219 a 218.3) y la desviación típica (29.4 a 28.26). Lo cual tiene sentido ya que hemos quitado los elementos que tenian un valor más alto. Por otrro lado, lo cuantiles se mantienes sin variación salvo el máximo que pasa de 325 a 307."
   ],
   "cell_type": "markdown",
   "metadata": {}
  },
  {
   "source": [
    "\n",
    "## 7 Clasificación de jugadores\n",
    "#### 7.1 Añadir una columna al conjunto de datos denominada “Altura” que contenga los valores: {“bajo”, “normal”, “alto”}. La asignación del valor depende de la altura de cada jugador. Se asigna:\n",
    "- bajo: los 50 jugadores más bajos\n",
    "- alto: los 50 jugadores más altos\n",
    "- normal: el resto de jugadores"
   ],
   "cell_type": "markdown",
   "metadata": {}
  },
  {
   "cell_type": "code",
   "execution_count": 132,
   "metadata": {},
   "outputs": [],
   "source": [
    "bajo = nba.unique['Player'][0:50]\n",
    "alto = nba.unique['Player'][224:274]\n",
    "normal = nba.unique['Player'][50:224]"
   ]
  },
  {
   "cell_type": "code",
   "execution_count": 133,
   "metadata": {},
   "outputs": [],
   "source": [
    "# Uso .loc para crear la nueva variable y añadir las nuevas categorias\n",
    "nba.loc[nba['Player'].isin(bajo), 'Altura'] = 'bajo'\n",
    "nba.loc[nba['Player'].isin(normal), 'Altura'] = 'normal'\n",
    "nba.loc[nba['Player'].isin(alto), 'Altura'] = 'alto'"
   ]
  },
  {
   "cell_type": "code",
   "execution_count": 134,
   "metadata": {},
   "outputs": [
    {
     "output_type": "execute_result",
     "data": {
      "text/plain": [
       "      Age Conference          Date  Draft Year  Height  \\\n",
       "0      29         NA  Apr 14, 1985        1978   195.5   \n",
       "1      23         NA   Apr 7, 1985        1982   198.0   \n",
       "2      28         NA   Apr 1, 1985        1979   198.0   \n",
       "3      37         NA  Mar 24, 1985        1969   218.5   \n",
       "4      28         NA  Mar 17, 1985        1978   205.5   \n",
       "...   ...        ...           ...         ...     ...   \n",
       "1140   28       West   Nov 6, 2017        2009   196.0   \n",
       "1141   25       East  Oct 30, 2017        2013   193.0   \n",
       "1142   27       West  Oct 30, 2017        2010   211.0   \n",
       "1143   23       East  Oct 23, 2017        2013   211.0   \n",
       "1144   28       West  Oct 23, 2017        2009   196.0   \n",
       "\n",
       "                      Player        Position     Season  Season short  \\\n",
       "0     Micheal Ray Richardson     Point Guard  1984-1985          1985   \n",
       "1                Derek Smith  Shooting Guard  1984-1985          1985   \n",
       "2                Calvin Natt         Forward  1984-1985          1985   \n",
       "3        Kareem Abdul-Jabbar          Center  1984-1985          1985   \n",
       "4                 Larry Bird   Small Forward  1984-1985          1985   \n",
       "...                      ...             ...        ...           ...   \n",
       "1140            James Harden  Shooting Guard  2017-2018          2018   \n",
       "1141          Victor Oladipo           Guard  2017-2018          2018   \n",
       "1142        DeMarcus Cousins          Center  2017-2018          2018   \n",
       "1143   Giannis Antetokounmpo         Forward  2017-2018          2018   \n",
       "1144            James Harden  Shooting Guard  2017-2018          2018   \n",
       "\n",
       "      Seasons in league                  Team Weight  Real_value  tiempo  \\\n",
       "0                     6       New Jersey Nets    189         1.0       7   \n",
       "1                     2  Los Angeles Clippers    205         1.0       3   \n",
       "2                     5        Denver Nuggets    220         1.0       6   \n",
       "3                    15    Los Angeles Lakers    225         1.0      16   \n",
       "4                     5        Boston Celtics    220         1.0       7   \n",
       "...                 ...                   ...    ...         ...     ...   \n",
       "1140                  8       Houston Rockets    220         0.5       9   \n",
       "1141                  4        Indiana Pacers    209         0.5       5   \n",
       "1142                  7  New Orleans Pelicans  268.4         0.5       8   \n",
       "1143                  4       Milwaukee Bucks  222.2         0.5       5   \n",
       "1144                  8       Houston Rockets    220         0.5       9   \n",
       "\n",
       "      Altura    Peso  \n",
       "0       bajo    bajo  \n",
       "1     normal  normal  \n",
       "2     normal  normal  \n",
       "3     normal  normal  \n",
       "4     normal  normal  \n",
       "...      ...     ...  \n",
       "1140  normal  normal  \n",
       "1141  normal  normal  \n",
       "1142    alto    alto  \n",
       "1143  normal  normal  \n",
       "1144  normal  normal  \n",
       "\n",
       "[1145 rows x 16 columns]"
      ],
      "text/html": "<div>\n<style scoped>\n    .dataframe tbody tr th:only-of-type {\n        vertical-align: middle;\n    }\n\n    .dataframe tbody tr th {\n        vertical-align: top;\n    }\n\n    .dataframe thead th {\n        text-align: right;\n    }\n</style>\n<table border=\"1\" class=\"dataframe\">\n  <thead>\n    <tr style=\"text-align: right;\">\n      <th></th>\n      <th>Age</th>\n      <th>Conference</th>\n      <th>Date</th>\n      <th>Draft Year</th>\n      <th>Height</th>\n      <th>Player</th>\n      <th>Position</th>\n      <th>Season</th>\n      <th>Season short</th>\n      <th>Seasons in league</th>\n      <th>Team</th>\n      <th>Weight</th>\n      <th>Real_value</th>\n      <th>tiempo</th>\n      <th>Altura</th>\n      <th>Peso</th>\n    </tr>\n  </thead>\n  <tbody>\n    <tr>\n      <th>0</th>\n      <td>29</td>\n      <td>NA</td>\n      <td>Apr 14, 1985</td>\n      <td>1978</td>\n      <td>195.5</td>\n      <td>Micheal Ray Richardson</td>\n      <td>Point Guard</td>\n      <td>1984-1985</td>\n      <td>1985</td>\n      <td>6</td>\n      <td>New Jersey Nets</td>\n      <td>189</td>\n      <td>1.0</td>\n      <td>7</td>\n      <td>bajo</td>\n      <td>bajo</td>\n    </tr>\n    <tr>\n      <th>1</th>\n      <td>23</td>\n      <td>NA</td>\n      <td>Apr 7, 1985</td>\n      <td>1982</td>\n      <td>198.0</td>\n      <td>Derek Smith</td>\n      <td>Shooting Guard</td>\n      <td>1984-1985</td>\n      <td>1985</td>\n      <td>2</td>\n      <td>Los Angeles Clippers</td>\n      <td>205</td>\n      <td>1.0</td>\n      <td>3</td>\n      <td>normal</td>\n      <td>normal</td>\n    </tr>\n    <tr>\n      <th>2</th>\n      <td>28</td>\n      <td>NA</td>\n      <td>Apr 1, 1985</td>\n      <td>1979</td>\n      <td>198.0</td>\n      <td>Calvin Natt</td>\n      <td>Forward</td>\n      <td>1984-1985</td>\n      <td>1985</td>\n      <td>5</td>\n      <td>Denver Nuggets</td>\n      <td>220</td>\n      <td>1.0</td>\n      <td>6</td>\n      <td>normal</td>\n      <td>normal</td>\n    </tr>\n    <tr>\n      <th>3</th>\n      <td>37</td>\n      <td>NA</td>\n      <td>Mar 24, 1985</td>\n      <td>1969</td>\n      <td>218.5</td>\n      <td>Kareem Abdul-Jabbar</td>\n      <td>Center</td>\n      <td>1984-1985</td>\n      <td>1985</td>\n      <td>15</td>\n      <td>Los Angeles Lakers</td>\n      <td>225</td>\n      <td>1.0</td>\n      <td>16</td>\n      <td>normal</td>\n      <td>normal</td>\n    </tr>\n    <tr>\n      <th>4</th>\n      <td>28</td>\n      <td>NA</td>\n      <td>Mar 17, 1985</td>\n      <td>1978</td>\n      <td>205.5</td>\n      <td>Larry Bird</td>\n      <td>Small Forward</td>\n      <td>1984-1985</td>\n      <td>1985</td>\n      <td>5</td>\n      <td>Boston Celtics</td>\n      <td>220</td>\n      <td>1.0</td>\n      <td>7</td>\n      <td>normal</td>\n      <td>normal</td>\n    </tr>\n    <tr>\n      <th>...</th>\n      <td>...</td>\n      <td>...</td>\n      <td>...</td>\n      <td>...</td>\n      <td>...</td>\n      <td>...</td>\n      <td>...</td>\n      <td>...</td>\n      <td>...</td>\n      <td>...</td>\n      <td>...</td>\n      <td>...</td>\n      <td>...</td>\n      <td>...</td>\n      <td>...</td>\n      <td>...</td>\n    </tr>\n    <tr>\n      <th>1140</th>\n      <td>28</td>\n      <td>West</td>\n      <td>Nov 6, 2017</td>\n      <td>2009</td>\n      <td>196.0</td>\n      <td>James Harden</td>\n      <td>Shooting Guard</td>\n      <td>2017-2018</td>\n      <td>2018</td>\n      <td>8</td>\n      <td>Houston Rockets</td>\n      <td>220</td>\n      <td>0.5</td>\n      <td>9</td>\n      <td>normal</td>\n      <td>normal</td>\n    </tr>\n    <tr>\n      <th>1141</th>\n      <td>25</td>\n      <td>East</td>\n      <td>Oct 30, 2017</td>\n      <td>2013</td>\n      <td>193.0</td>\n      <td>Victor Oladipo</td>\n      <td>Guard</td>\n      <td>2017-2018</td>\n      <td>2018</td>\n      <td>4</td>\n      <td>Indiana Pacers</td>\n      <td>209</td>\n      <td>0.5</td>\n      <td>5</td>\n      <td>normal</td>\n      <td>normal</td>\n    </tr>\n    <tr>\n      <th>1142</th>\n      <td>27</td>\n      <td>West</td>\n      <td>Oct 30, 2017</td>\n      <td>2010</td>\n      <td>211.0</td>\n      <td>DeMarcus Cousins</td>\n      <td>Center</td>\n      <td>2017-2018</td>\n      <td>2018</td>\n      <td>7</td>\n      <td>New Orleans Pelicans</td>\n      <td>268.4</td>\n      <td>0.5</td>\n      <td>8</td>\n      <td>alto</td>\n      <td>alto</td>\n    </tr>\n    <tr>\n      <th>1143</th>\n      <td>23</td>\n      <td>East</td>\n      <td>Oct 23, 2017</td>\n      <td>2013</td>\n      <td>211.0</td>\n      <td>Giannis Antetokounmpo</td>\n      <td>Forward</td>\n      <td>2017-2018</td>\n      <td>2018</td>\n      <td>4</td>\n      <td>Milwaukee Bucks</td>\n      <td>222.2</td>\n      <td>0.5</td>\n      <td>5</td>\n      <td>normal</td>\n      <td>normal</td>\n    </tr>\n    <tr>\n      <th>1144</th>\n      <td>28</td>\n      <td>West</td>\n      <td>Oct 23, 2017</td>\n      <td>2009</td>\n      <td>196.0</td>\n      <td>James Harden</td>\n      <td>Shooting Guard</td>\n      <td>2017-2018</td>\n      <td>2018</td>\n      <td>8</td>\n      <td>Houston Rockets</td>\n      <td>220</td>\n      <td>0.5</td>\n      <td>9</td>\n      <td>normal</td>\n      <td>normal</td>\n    </tr>\n  </tbody>\n</table>\n<p>1145 rows × 16 columns</p>\n</div>"
     },
     "metadata": {},
     "execution_count": 134
    }
   ],
   "source": [
    "nba"
   ]
  },
  {
   "source": [
    "#### 7.2 Añadir una columna al conjunto de datos denominada “Peso” que contenga los valores: {“bajo”, “normal”, “alto”}. La asignación del valor depende del peso de cada jugador. Se asigna:\n",
    "- bajo: los 50 jugadores con menor peso\n",
    "- alto: los 50 jugadores con mayor peso\n",
    "- normal: el resto de jugadores"
   ],
   "cell_type": "markdown",
   "metadata": {}
  },
  {
   "cell_type": "code",
   "execution_count": 135,
   "metadata": {},
   "outputs": [],
   "source": [
    "# hago lo mismo que con la altura pero primero tengo que ordenarlo por peso. \n",
    "nba.unique = nba.unique.sort_values(['Weight'], ascending=True)\n",
    "bajo = nba.unique['Player'][0:50]\n",
    "alto = nba.unique['Player'][224:274]\n",
    "normal = nba.unique['Player'][50:224]"
   ]
  },
  {
   "cell_type": "code",
   "execution_count": 136,
   "metadata": {},
   "outputs": [],
   "source": [
    "nba.loc[nba['Player'].isin(bajo), 'Peso'] = 'bajo'\n",
    "nba.loc[nba['Player'].isin(normal), 'Peso'] = 'normal'\n",
    "nba.loc[nba['Player'].isin(alto), 'Peso'] = 'alto'"
   ]
  },
  {
   "cell_type": "code",
   "execution_count": 137,
   "metadata": {},
   "outputs": [
    {
     "output_type": "execute_result",
     "data": {
      "text/plain": [
       "      Age Conference          Date  Draft Year  Height  \\\n",
       "0      29         NA  Apr 14, 1985        1978   195.5   \n",
       "1      23         NA   Apr 7, 1985        1982   198.0   \n",
       "2      28         NA   Apr 1, 1985        1979   198.0   \n",
       "3      37         NA  Mar 24, 1985        1969   218.5   \n",
       "4      28         NA  Mar 17, 1985        1978   205.5   \n",
       "...   ...        ...           ...         ...     ...   \n",
       "1140   28       West   Nov 6, 2017        2009   196.0   \n",
       "1141   25       East  Oct 30, 2017        2013   193.0   \n",
       "1142   27       West  Oct 30, 2017        2010   211.0   \n",
       "1143   23       East  Oct 23, 2017        2013   211.0   \n",
       "1144   28       West  Oct 23, 2017        2009   196.0   \n",
       "\n",
       "                      Player        Position     Season  Season short  \\\n",
       "0     Micheal Ray Richardson     Point Guard  1984-1985          1985   \n",
       "1                Derek Smith  Shooting Guard  1984-1985          1985   \n",
       "2                Calvin Natt         Forward  1984-1985          1985   \n",
       "3        Kareem Abdul-Jabbar          Center  1984-1985          1985   \n",
       "4                 Larry Bird   Small Forward  1984-1985          1985   \n",
       "...                      ...             ...        ...           ...   \n",
       "1140            James Harden  Shooting Guard  2017-2018          2018   \n",
       "1141          Victor Oladipo           Guard  2017-2018          2018   \n",
       "1142        DeMarcus Cousins          Center  2017-2018          2018   \n",
       "1143   Giannis Antetokounmpo         Forward  2017-2018          2018   \n",
       "1144            James Harden  Shooting Guard  2017-2018          2018   \n",
       "\n",
       "      Seasons in league                  Team Weight  Real_value  tiempo  \\\n",
       "0                     6       New Jersey Nets    189         1.0       7   \n",
       "1                     2  Los Angeles Clippers    205         1.0       3   \n",
       "2                     5        Denver Nuggets    220         1.0       6   \n",
       "3                    15    Los Angeles Lakers    225         1.0      16   \n",
       "4                     5        Boston Celtics    220         1.0       7   \n",
       "...                 ...                   ...    ...         ...     ...   \n",
       "1140                  8       Houston Rockets    220         0.5       9   \n",
       "1141                  4        Indiana Pacers    209         0.5       5   \n",
       "1142                  7  New Orleans Pelicans  268.4         0.5       8   \n",
       "1143                  4       Milwaukee Bucks  222.2         0.5       5   \n",
       "1144                  8       Houston Rockets    220         0.5       9   \n",
       "\n",
       "      Altura    Peso  \n",
       "0       bajo    bajo  \n",
       "1     normal  normal  \n",
       "2     normal  normal  \n",
       "3     normal  normal  \n",
       "4     normal  normal  \n",
       "...      ...     ...  \n",
       "1140  normal  normal  \n",
       "1141  normal  normal  \n",
       "1142    alto    alto  \n",
       "1143  normal  normal  \n",
       "1144  normal  normal  \n",
       "\n",
       "[1145 rows x 16 columns]"
      ],
      "text/html": "<div>\n<style scoped>\n    .dataframe tbody tr th:only-of-type {\n        vertical-align: middle;\n    }\n\n    .dataframe tbody tr th {\n        vertical-align: top;\n    }\n\n    .dataframe thead th {\n        text-align: right;\n    }\n</style>\n<table border=\"1\" class=\"dataframe\">\n  <thead>\n    <tr style=\"text-align: right;\">\n      <th></th>\n      <th>Age</th>\n      <th>Conference</th>\n      <th>Date</th>\n      <th>Draft Year</th>\n      <th>Height</th>\n      <th>Player</th>\n      <th>Position</th>\n      <th>Season</th>\n      <th>Season short</th>\n      <th>Seasons in league</th>\n      <th>Team</th>\n      <th>Weight</th>\n      <th>Real_value</th>\n      <th>tiempo</th>\n      <th>Altura</th>\n      <th>Peso</th>\n    </tr>\n  </thead>\n  <tbody>\n    <tr>\n      <th>0</th>\n      <td>29</td>\n      <td>NA</td>\n      <td>Apr 14, 1985</td>\n      <td>1978</td>\n      <td>195.5</td>\n      <td>Micheal Ray Richardson</td>\n      <td>Point Guard</td>\n      <td>1984-1985</td>\n      <td>1985</td>\n      <td>6</td>\n      <td>New Jersey Nets</td>\n      <td>189</td>\n      <td>1.0</td>\n      <td>7</td>\n      <td>bajo</td>\n      <td>bajo</td>\n    </tr>\n    <tr>\n      <th>1</th>\n      <td>23</td>\n      <td>NA</td>\n      <td>Apr 7, 1985</td>\n      <td>1982</td>\n      <td>198.0</td>\n      <td>Derek Smith</td>\n      <td>Shooting Guard</td>\n      <td>1984-1985</td>\n      <td>1985</td>\n      <td>2</td>\n      <td>Los Angeles Clippers</td>\n      <td>205</td>\n      <td>1.0</td>\n      <td>3</td>\n      <td>normal</td>\n      <td>normal</td>\n    </tr>\n    <tr>\n      <th>2</th>\n      <td>28</td>\n      <td>NA</td>\n      <td>Apr 1, 1985</td>\n      <td>1979</td>\n      <td>198.0</td>\n      <td>Calvin Natt</td>\n      <td>Forward</td>\n      <td>1984-1985</td>\n      <td>1985</td>\n      <td>5</td>\n      <td>Denver Nuggets</td>\n      <td>220</td>\n      <td>1.0</td>\n      <td>6</td>\n      <td>normal</td>\n      <td>normal</td>\n    </tr>\n    <tr>\n      <th>3</th>\n      <td>37</td>\n      <td>NA</td>\n      <td>Mar 24, 1985</td>\n      <td>1969</td>\n      <td>218.5</td>\n      <td>Kareem Abdul-Jabbar</td>\n      <td>Center</td>\n      <td>1984-1985</td>\n      <td>1985</td>\n      <td>15</td>\n      <td>Los Angeles Lakers</td>\n      <td>225</td>\n      <td>1.0</td>\n      <td>16</td>\n      <td>normal</td>\n      <td>normal</td>\n    </tr>\n    <tr>\n      <th>4</th>\n      <td>28</td>\n      <td>NA</td>\n      <td>Mar 17, 1985</td>\n      <td>1978</td>\n      <td>205.5</td>\n      <td>Larry Bird</td>\n      <td>Small Forward</td>\n      <td>1984-1985</td>\n      <td>1985</td>\n      <td>5</td>\n      <td>Boston Celtics</td>\n      <td>220</td>\n      <td>1.0</td>\n      <td>7</td>\n      <td>normal</td>\n      <td>normal</td>\n    </tr>\n    <tr>\n      <th>...</th>\n      <td>...</td>\n      <td>...</td>\n      <td>...</td>\n      <td>...</td>\n      <td>...</td>\n      <td>...</td>\n      <td>...</td>\n      <td>...</td>\n      <td>...</td>\n      <td>...</td>\n      <td>...</td>\n      <td>...</td>\n      <td>...</td>\n      <td>...</td>\n      <td>...</td>\n      <td>...</td>\n    </tr>\n    <tr>\n      <th>1140</th>\n      <td>28</td>\n      <td>West</td>\n      <td>Nov 6, 2017</td>\n      <td>2009</td>\n      <td>196.0</td>\n      <td>James Harden</td>\n      <td>Shooting Guard</td>\n      <td>2017-2018</td>\n      <td>2018</td>\n      <td>8</td>\n      <td>Houston Rockets</td>\n      <td>220</td>\n      <td>0.5</td>\n      <td>9</td>\n      <td>normal</td>\n      <td>normal</td>\n    </tr>\n    <tr>\n      <th>1141</th>\n      <td>25</td>\n      <td>East</td>\n      <td>Oct 30, 2017</td>\n      <td>2013</td>\n      <td>193.0</td>\n      <td>Victor Oladipo</td>\n      <td>Guard</td>\n      <td>2017-2018</td>\n      <td>2018</td>\n      <td>4</td>\n      <td>Indiana Pacers</td>\n      <td>209</td>\n      <td>0.5</td>\n      <td>5</td>\n      <td>normal</td>\n      <td>normal</td>\n    </tr>\n    <tr>\n      <th>1142</th>\n      <td>27</td>\n      <td>West</td>\n      <td>Oct 30, 2017</td>\n      <td>2010</td>\n      <td>211.0</td>\n      <td>DeMarcus Cousins</td>\n      <td>Center</td>\n      <td>2017-2018</td>\n      <td>2018</td>\n      <td>7</td>\n      <td>New Orleans Pelicans</td>\n      <td>268.4</td>\n      <td>0.5</td>\n      <td>8</td>\n      <td>alto</td>\n      <td>alto</td>\n    </tr>\n    <tr>\n      <th>1143</th>\n      <td>23</td>\n      <td>East</td>\n      <td>Oct 23, 2017</td>\n      <td>2013</td>\n      <td>211.0</td>\n      <td>Giannis Antetokounmpo</td>\n      <td>Forward</td>\n      <td>2017-2018</td>\n      <td>2018</td>\n      <td>4</td>\n      <td>Milwaukee Bucks</td>\n      <td>222.2</td>\n      <td>0.5</td>\n      <td>5</td>\n      <td>normal</td>\n      <td>normal</td>\n    </tr>\n    <tr>\n      <th>1144</th>\n      <td>28</td>\n      <td>West</td>\n      <td>Oct 23, 2017</td>\n      <td>2009</td>\n      <td>196.0</td>\n      <td>James Harden</td>\n      <td>Shooting Guard</td>\n      <td>2017-2018</td>\n      <td>2018</td>\n      <td>8</td>\n      <td>Houston Rockets</td>\n      <td>220</td>\n      <td>0.5</td>\n      <td>9</td>\n      <td>normal</td>\n      <td>normal</td>\n    </tr>\n  </tbody>\n</table>\n<p>1145 rows × 16 columns</p>\n</div>"
     },
     "metadata": {},
     "execution_count": 137
    }
   ],
   "source": [
    "nba"
   ]
  },
  {
   "source": [
    "#### 7.3 Calcular la media y desviación típica del peso (Weight) según la clasificación de altura de los jugadores."
   ],
   "cell_type": "markdown",
   "metadata": {}
  },
  {
   "cell_type": "code",
   "execution_count": 138,
   "metadata": {},
   "outputs": [
    {
     "output_type": "execute_result",
     "data": {
      "text/plain": [
       "            Weight\n",
       "Altura            \n",
       "alto    262.602492\n",
       "bajo    178.146341\n",
       "normal  220.031818"
      ],
      "text/html": "<div>\n<style scoped>\n    .dataframe tbody tr th:only-of-type {\n        vertical-align: middle;\n    }\n\n    .dataframe tbody tr th {\n        vertical-align: top;\n    }\n\n    .dataframe thead th {\n        text-align: right;\n    }\n</style>\n<table border=\"1\" class=\"dataframe\">\n  <thead>\n    <tr style=\"text-align: right;\">\n      <th></th>\n      <th>Weight</th>\n    </tr>\n    <tr>\n      <th>Altura</th>\n      <th></th>\n    </tr>\n  </thead>\n  <tbody>\n    <tr>\n      <th>alto</th>\n      <td>262.602492</td>\n    </tr>\n    <tr>\n      <th>bajo</th>\n      <td>178.146341</td>\n    </tr>\n    <tr>\n      <th>normal</th>\n      <td>220.031818</td>\n    </tr>\n  </tbody>\n</table>\n</div>"
     },
     "metadata": {},
     "execution_count": 138
    }
   ],
   "source": [
    "nba['Weight'] = nba['Weight'].astype('float')\n",
    "pd.pivot_table(nba,\"Weight\",index=[\"Altura\"],aggfunc=np.mean)"
   ]
  },
  {
   "cell_type": "code",
   "execution_count": 139,
   "metadata": {},
   "outputs": [
    {
     "output_type": "execute_result",
     "data": {
      "text/plain": [
       "           Weight\n",
       "Altura           \n",
       "alto    20.070993\n",
       "bajo     8.423575\n",
       "normal  16.117174"
      ],
      "text/html": "<div>\n<style scoped>\n    .dataframe tbody tr th:only-of-type {\n        vertical-align: middle;\n    }\n\n    .dataframe tbody tr th {\n        vertical-align: top;\n    }\n\n    .dataframe thead th {\n        text-align: right;\n    }\n</style>\n<table border=\"1\" class=\"dataframe\">\n  <thead>\n    <tr style=\"text-align: right;\">\n      <th></th>\n      <th>Weight</th>\n    </tr>\n    <tr>\n      <th>Altura</th>\n      <th></th>\n    </tr>\n  </thead>\n  <tbody>\n    <tr>\n      <th>alto</th>\n      <td>20.070993</td>\n    </tr>\n    <tr>\n      <th>bajo</th>\n      <td>8.423575</td>\n    </tr>\n    <tr>\n      <th>normal</th>\n      <td>16.117174</td>\n    </tr>\n  </tbody>\n</table>\n</div>"
     },
     "metadata": {},
     "execution_count": 139
    }
   ],
   "source": [
    "pd.pivot_table(nba,\"Weight\",index=[\"Altura\"],aggfunc=np.std)"
   ]
  },
  {
   "source": [
    "#### 7.4 Realizar un boxplot del peso (Weight) según la clasificación de altura del jugador. Los boxplots deben estar ordenados de menos a mayor altura."
   ],
   "cell_type": "markdown",
   "metadata": {}
  },
  {
   "cell_type": "code",
   "execution_count": 144,
   "metadata": {},
   "outputs": [
    {
     "output_type": "execute_result",
     "data": {
      "text/plain": [
       "<matplotlib.axes._subplots.AxesSubplot at 0x7f4e5d90bcd0>"
      ]
     },
     "metadata": {},
     "execution_count": 144
    },
    {
     "output_type": "display_data",
     "data": {
      "text/plain": "<Figure size 432x288 with 1 Axes>",
      "image/svg+xml": "<?xml version=\"1.0\" encoding=\"utf-8\" standalone=\"no\"?>\n<!DOCTYPE svg PUBLIC \"-//W3C//DTD SVG 1.1//EN\"\n  \"http://www.w3.org/Graphics/SVG/1.1/DTD/svg11.dtd\">\n<!-- Created with matplotlib (https://matplotlib.org/) -->\n<svg height=\"262.19625pt\" version=\"1.1\" viewBox=\"0 0 388.965625 262.19625\" width=\"388.965625pt\" xmlns=\"http://www.w3.org/2000/svg\" xmlns:xlink=\"http://www.w3.org/1999/xlink\">\n <defs>\n  <style type=\"text/css\">\n*{stroke-linecap:butt;stroke-linejoin:round;}\n  </style>\n </defs>\n <g id=\"figure_1\">\n  <g id=\"patch_1\">\n   <path d=\"M 0 262.19625 \nL 388.965625 262.19625 \nL 388.965625 0 \nL 0 0 \nz\n\" style=\"fill:none;\"/>\n  </g>\n  <g id=\"axes_1\">\n   <g id=\"patch_2\">\n    <path d=\"M 46.965625 224.64 \nL 381.765625 224.64 \nL 381.765625 7.2 \nL 46.965625 7.2 \nz\n\" style=\"fill:#ffffff;\"/>\n   </g>\n   <g id=\"patch_3\">\n    <path clip-path=\"url(#pb4a3c5e4b4)\" d=\"M 58.125625 192.165195 \nL 147.405625 192.165195 \nL 147.405625 175.221818 \nL 58.125625 175.221818 \nL 58.125625 192.165195 \nz\n\" style=\"fill:#3274a1;stroke:#3d3d3d;stroke-linejoin:miter;stroke-width:1.5;\"/>\n   </g>\n   <g id=\"patch_4\">\n    <path clip-path=\"url(#pb4a3c5e4b4)\" d=\"M 169.725625 146.982857 \nL 259.005625 146.982857 \nL 259.005625 118.743896 \nL 169.725625 118.743896 \nL 169.725625 146.982857 \nz\n\" style=\"fill:#e1812c;stroke:#3d3d3d;stroke-linejoin:miter;stroke-width:1.5;\"/>\n   </g>\n   <g id=\"patch_5\">\n    <path clip-path=\"url(#pb4a3c5e4b4)\" d=\"M 281.325625 101.800519 \nL 370.605625 101.800519 \nL 370.605625 84.857143 \nL 281.325625 84.857143 \nL 281.325625 101.800519 \nz\n\" style=\"fill:#3a923a;stroke:#3d3d3d;stroke-linejoin:miter;stroke-width:1.5;\"/>\n   </g>\n   <g id=\"matplotlib.axis_1\">\n    <g id=\"xtick_1\">\n     <g id=\"line2d_1\">\n      <defs>\n       <path d=\"M 0 0 \nL 0 3.5 \n\" id=\"m5696a51f9f\" style=\"stroke:#000000;stroke-width:0.8;\"/>\n      </defs>\n      <g>\n       <use style=\"stroke:#000000;stroke-width:0.8;\" x=\"102.765625\" xlink:href=\"#m5696a51f9f\" y=\"224.64\"/>\n      </g>\n     </g>\n     <g id=\"text_1\">\n      <!-- bajo -->\n      <defs>\n       <path d=\"M 48.6875 27.296875 \nQ 48.6875 37.203125 44.609375 42.84375 \nQ 40.53125 48.484375 33.40625 48.484375 \nQ 26.265625 48.484375 22.1875 42.84375 \nQ 18.109375 37.203125 18.109375 27.296875 \nQ 18.109375 17.390625 22.1875 11.75 \nQ 26.265625 6.109375 33.40625 6.109375 \nQ 40.53125 6.109375 44.609375 11.75 \nQ 48.6875 17.390625 48.6875 27.296875 \nz\nM 18.109375 46.390625 \nQ 20.953125 51.265625 25.265625 53.625 \nQ 29.59375 56 35.59375 56 \nQ 45.5625 56 51.78125 48.09375 \nQ 58.015625 40.1875 58.015625 27.296875 \nQ 58.015625 14.40625 51.78125 6.484375 \nQ 45.5625 -1.421875 35.59375 -1.421875 \nQ 29.59375 -1.421875 25.265625 0.953125 \nQ 20.953125 3.328125 18.109375 8.203125 \nL 18.109375 0 \nL 9.078125 0 \nL 9.078125 75.984375 \nL 18.109375 75.984375 \nz\n\" id=\"DejaVuSans-98\"/>\n       <path d=\"M 34.28125 27.484375 \nQ 23.390625 27.484375 19.1875 25 \nQ 14.984375 22.515625 14.984375 16.5 \nQ 14.984375 11.71875 18.140625 8.90625 \nQ 21.296875 6.109375 26.703125 6.109375 \nQ 34.1875 6.109375 38.703125 11.40625 \nQ 43.21875 16.703125 43.21875 25.484375 \nL 43.21875 27.484375 \nz\nM 52.203125 31.203125 \nL 52.203125 0 \nL 43.21875 0 \nL 43.21875 8.296875 \nQ 40.140625 3.328125 35.546875 0.953125 \nQ 30.953125 -1.421875 24.3125 -1.421875 \nQ 15.921875 -1.421875 10.953125 3.296875 \nQ 6 8.015625 6 15.921875 \nQ 6 25.140625 12.171875 29.828125 \nQ 18.359375 34.515625 30.609375 34.515625 \nL 43.21875 34.515625 \nL 43.21875 35.40625 \nQ 43.21875 41.609375 39.140625 45 \nQ 35.0625 48.390625 27.6875 48.390625 \nQ 23 48.390625 18.546875 47.265625 \nQ 14.109375 46.140625 10.015625 43.890625 \nL 10.015625 52.203125 \nQ 14.9375 54.109375 19.578125 55.046875 \nQ 24.21875 56 28.609375 56 \nQ 40.484375 56 46.34375 49.84375 \nQ 52.203125 43.703125 52.203125 31.203125 \nz\n\" id=\"DejaVuSans-97\"/>\n       <path d=\"M 9.421875 54.6875 \nL 18.40625 54.6875 \nL 18.40625 -0.984375 \nQ 18.40625 -11.421875 14.421875 -16.109375 \nQ 10.453125 -20.796875 1.609375 -20.796875 \nL -1.8125 -20.796875 \nL -1.8125 -13.1875 \nL 0.59375 -13.1875 \nQ 5.71875 -13.1875 7.5625 -10.8125 \nQ 9.421875 -8.453125 9.421875 -0.984375 \nz\nM 9.421875 75.984375 \nL 18.40625 75.984375 \nL 18.40625 64.59375 \nL 9.421875 64.59375 \nz\n\" id=\"DejaVuSans-106\"/>\n       <path d=\"M 30.609375 48.390625 \nQ 23.390625 48.390625 19.1875 42.75 \nQ 14.984375 37.109375 14.984375 27.296875 \nQ 14.984375 17.484375 19.15625 11.84375 \nQ 23.34375 6.203125 30.609375 6.203125 \nQ 37.796875 6.203125 41.984375 11.859375 \nQ 46.1875 17.53125 46.1875 27.296875 \nQ 46.1875 37.015625 41.984375 42.703125 \nQ 37.796875 48.390625 30.609375 48.390625 \nz\nM 30.609375 56 \nQ 42.328125 56 49.015625 48.375 \nQ 55.71875 40.765625 55.71875 27.296875 \nQ 55.71875 13.875 49.015625 6.21875 \nQ 42.328125 -1.421875 30.609375 -1.421875 \nQ 18.84375 -1.421875 12.171875 6.21875 \nQ 5.515625 13.875 5.515625 27.296875 \nQ 5.515625 40.765625 12.171875 48.375 \nQ 18.84375 56 30.609375 56 \nz\n\" id=\"DejaVuSans-111\"/>\n      </defs>\n      <g transform=\"translate(92.078906 239.238438)scale(0.1 -0.1)\">\n       <use xlink:href=\"#DejaVuSans-98\"/>\n       <use x=\"63.476562\" xlink:href=\"#DejaVuSans-97\"/>\n       <use x=\"124.755859\" xlink:href=\"#DejaVuSans-106\"/>\n       <use x=\"152.539062\" xlink:href=\"#DejaVuSans-111\"/>\n      </g>\n     </g>\n    </g>\n    <g id=\"xtick_2\">\n     <g id=\"line2d_2\">\n      <g>\n       <use style=\"stroke:#000000;stroke-width:0.8;\" x=\"214.365625\" xlink:href=\"#m5696a51f9f\" y=\"224.64\"/>\n      </g>\n     </g>\n     <g id=\"text_2\">\n      <!-- normal -->\n      <defs>\n       <path d=\"M 54.890625 33.015625 \nL 54.890625 0 \nL 45.90625 0 \nL 45.90625 32.71875 \nQ 45.90625 40.484375 42.875 44.328125 \nQ 39.84375 48.1875 33.796875 48.1875 \nQ 26.515625 48.1875 22.3125 43.546875 \nQ 18.109375 38.921875 18.109375 30.90625 \nL 18.109375 0 \nL 9.078125 0 \nL 9.078125 54.6875 \nL 18.109375 54.6875 \nL 18.109375 46.1875 \nQ 21.34375 51.125 25.703125 53.5625 \nQ 30.078125 56 35.796875 56 \nQ 45.21875 56 50.046875 50.171875 \nQ 54.890625 44.34375 54.890625 33.015625 \nz\n\" id=\"DejaVuSans-110\"/>\n       <path d=\"M 41.109375 46.296875 \nQ 39.59375 47.171875 37.8125 47.578125 \nQ 36.03125 48 33.890625 48 \nQ 26.265625 48 22.1875 43.046875 \nQ 18.109375 38.09375 18.109375 28.8125 \nL 18.109375 0 \nL 9.078125 0 \nL 9.078125 54.6875 \nL 18.109375 54.6875 \nL 18.109375 46.1875 \nQ 20.953125 51.171875 25.484375 53.578125 \nQ 30.03125 56 36.53125 56 \nQ 37.453125 56 38.578125 55.875 \nQ 39.703125 55.765625 41.0625 55.515625 \nz\n\" id=\"DejaVuSans-114\"/>\n       <path d=\"M 52 44.1875 \nQ 55.375 50.25 60.0625 53.125 \nQ 64.75 56 71.09375 56 \nQ 79.640625 56 84.28125 50.015625 \nQ 88.921875 44.046875 88.921875 33.015625 \nL 88.921875 0 \nL 79.890625 0 \nL 79.890625 32.71875 \nQ 79.890625 40.578125 77.09375 44.375 \nQ 74.3125 48.1875 68.609375 48.1875 \nQ 61.625 48.1875 57.5625 43.546875 \nQ 53.515625 38.921875 53.515625 30.90625 \nL 53.515625 0 \nL 44.484375 0 \nL 44.484375 32.71875 \nQ 44.484375 40.625 41.703125 44.40625 \nQ 38.921875 48.1875 33.109375 48.1875 \nQ 26.21875 48.1875 22.15625 43.53125 \nQ 18.109375 38.875 18.109375 30.90625 \nL 18.109375 0 \nL 9.078125 0 \nL 9.078125 54.6875 \nL 18.109375 54.6875 \nL 18.109375 46.1875 \nQ 21.1875 51.21875 25.484375 53.609375 \nQ 29.78125 56 35.6875 56 \nQ 41.65625 56 45.828125 52.96875 \nQ 50 49.953125 52 44.1875 \nz\n\" id=\"DejaVuSans-109\"/>\n       <path d=\"M 9.421875 75.984375 \nL 18.40625 75.984375 \nL 18.40625 0 \nL 9.421875 0 \nz\n\" id=\"DejaVuSans-108\"/>\n      </defs>\n      <g transform=\"translate(196.846094 239.238438)scale(0.1 -0.1)\">\n       <use xlink:href=\"#DejaVuSans-110\"/>\n       <use x=\"63.378906\" xlink:href=\"#DejaVuSans-111\"/>\n       <use x=\"124.560547\" xlink:href=\"#DejaVuSans-114\"/>\n       <use x=\"163.923828\" xlink:href=\"#DejaVuSans-109\"/>\n       <use x=\"261.335938\" xlink:href=\"#DejaVuSans-97\"/>\n       <use x=\"322.615234\" xlink:href=\"#DejaVuSans-108\"/>\n      </g>\n     </g>\n    </g>\n    <g id=\"xtick_3\">\n     <g id=\"line2d_3\">\n      <g>\n       <use style=\"stroke:#000000;stroke-width:0.8;\" x=\"325.965625\" xlink:href=\"#m5696a51f9f\" y=\"224.64\"/>\n      </g>\n     </g>\n     <g id=\"text_3\">\n      <!-- alto -->\n      <defs>\n       <path d=\"M 18.3125 70.21875 \nL 18.3125 54.6875 \nL 36.8125 54.6875 \nL 36.8125 47.703125 \nL 18.3125 47.703125 \nL 18.3125 18.015625 \nQ 18.3125 11.328125 20.140625 9.421875 \nQ 21.96875 7.515625 27.59375 7.515625 \nL 36.8125 7.515625 \nL 36.8125 0 \nL 27.59375 0 \nQ 17.1875 0 13.234375 3.875 \nQ 9.28125 7.765625 9.28125 18.015625 \nL 9.28125 47.703125 \nL 2.6875 47.703125 \nL 2.6875 54.6875 \nL 9.28125 54.6875 \nL 9.28125 70.21875 \nz\n\" id=\"DejaVuSans-116\"/>\n      </defs>\n      <g transform=\"translate(316.492969 239.238438)scale(0.1 -0.1)\">\n       <use xlink:href=\"#DejaVuSans-97\"/>\n       <use x=\"61.279297\" xlink:href=\"#DejaVuSans-108\"/>\n       <use x=\"89.0625\" xlink:href=\"#DejaVuSans-116\"/>\n       <use x=\"128.271484\" xlink:href=\"#DejaVuSans-111\"/>\n      </g>\n     </g>\n    </g>\n    <g id=\"text_4\">\n     <!-- Altura -->\n     <defs>\n      <path d=\"M 34.1875 63.1875 \nL 20.796875 26.90625 \nL 47.609375 26.90625 \nz\nM 28.609375 72.90625 \nL 39.796875 72.90625 \nL 67.578125 0 \nL 57.328125 0 \nL 50.6875 18.703125 \nL 17.828125 18.703125 \nL 11.1875 0 \nL 0.78125 0 \nz\n\" id=\"DejaVuSans-65\"/>\n      <path d=\"M 8.5 21.578125 \nL 8.5 54.6875 \nL 17.484375 54.6875 \nL 17.484375 21.921875 \nQ 17.484375 14.15625 20.5 10.265625 \nQ 23.53125 6.390625 29.59375 6.390625 \nQ 36.859375 6.390625 41.078125 11.03125 \nQ 45.3125 15.671875 45.3125 23.6875 \nL 45.3125 54.6875 \nL 54.296875 54.6875 \nL 54.296875 0 \nL 45.3125 0 \nL 45.3125 8.40625 \nQ 42.046875 3.421875 37.71875 1 \nQ 33.40625 -1.421875 27.6875 -1.421875 \nQ 18.265625 -1.421875 13.375 4.4375 \nQ 8.5 10.296875 8.5 21.578125 \nz\nM 31.109375 56 \nz\n\" id=\"DejaVuSans-117\"/>\n     </defs>\n     <g transform=\"translate(199.307813 252.916563)scale(0.1 -0.1)\">\n      <use xlink:href=\"#DejaVuSans-65\"/>\n      <use x=\"68.408203\" xlink:href=\"#DejaVuSans-108\"/>\n      <use x=\"96.191406\" xlink:href=\"#DejaVuSans-116\"/>\n      <use x=\"135.400391\" xlink:href=\"#DejaVuSans-117\"/>\n      <use x=\"198.779297\" xlink:href=\"#DejaVuSans-114\"/>\n      <use x=\"239.892578\" xlink:href=\"#DejaVuSans-97\"/>\n     </g>\n    </g>\n   </g>\n   <g id=\"matplotlib.axis_2\">\n    <g id=\"ytick_1\">\n     <g id=\"line2d_4\">\n      <defs>\n       <path d=\"M 0 0 \nL -3.5 0 \n\" id=\"m9ab9d58952\" style=\"stroke:#000000;stroke-width:0.8;\"/>\n      </defs>\n      <g>\n       <use style=\"stroke:#000000;stroke-width:0.8;\" x=\"46.965625\" xlink:href=\"#m9ab9d58952\" y=\"214.756364\"/>\n      </g>\n     </g>\n     <g id=\"text_5\">\n      <!-- 150 -->\n      <defs>\n       <path d=\"M 12.40625 8.296875 \nL 28.515625 8.296875 \nL 28.515625 63.921875 \nL 10.984375 60.40625 \nL 10.984375 69.390625 \nL 28.421875 72.90625 \nL 38.28125 72.90625 \nL 38.28125 8.296875 \nL 54.390625 8.296875 \nL 54.390625 0 \nL 12.40625 0 \nz\n\" id=\"DejaVuSans-49\"/>\n       <path d=\"M 10.796875 72.90625 \nL 49.515625 72.90625 \nL 49.515625 64.59375 \nL 19.828125 64.59375 \nL 19.828125 46.734375 \nQ 21.96875 47.46875 24.109375 47.828125 \nQ 26.265625 48.1875 28.421875 48.1875 \nQ 40.625 48.1875 47.75 41.5 \nQ 54.890625 34.8125 54.890625 23.390625 \nQ 54.890625 11.625 47.5625 5.09375 \nQ 40.234375 -1.421875 26.90625 -1.421875 \nQ 22.3125 -1.421875 17.546875 -0.640625 \nQ 12.796875 0.140625 7.71875 1.703125 \nL 7.71875 11.625 \nQ 12.109375 9.234375 16.796875 8.0625 \nQ 21.484375 6.890625 26.703125 6.890625 \nQ 35.15625 6.890625 40.078125 11.328125 \nQ 45.015625 15.765625 45.015625 23.390625 \nQ 45.015625 31 40.078125 35.4375 \nQ 35.15625 39.890625 26.703125 39.890625 \nQ 22.75 39.890625 18.8125 39.015625 \nQ 14.890625 38.140625 10.796875 36.28125 \nz\n\" id=\"DejaVuSans-53\"/>\n       <path d=\"M 31.78125 66.40625 \nQ 24.171875 66.40625 20.328125 58.90625 \nQ 16.5 51.421875 16.5 36.375 \nQ 16.5 21.390625 20.328125 13.890625 \nQ 24.171875 6.390625 31.78125 6.390625 \nQ 39.453125 6.390625 43.28125 13.890625 \nQ 47.125 21.390625 47.125 36.375 \nQ 47.125 51.421875 43.28125 58.90625 \nQ 39.453125 66.40625 31.78125 66.40625 \nz\nM 31.78125 74.21875 \nQ 44.046875 74.21875 50.515625 64.515625 \nQ 56.984375 54.828125 56.984375 36.375 \nQ 56.984375 17.96875 50.515625 8.265625 \nQ 44.046875 -1.421875 31.78125 -1.421875 \nQ 19.53125 -1.421875 13.0625 8.265625 \nQ 6.59375 17.96875 6.59375 36.375 \nQ 6.59375 54.828125 13.0625 64.515625 \nQ 19.53125 74.21875 31.78125 74.21875 \nz\n\" id=\"DejaVuSans-48\"/>\n      </defs>\n      <g transform=\"translate(20.878125 218.555582)scale(0.1 -0.1)\">\n       <use xlink:href=\"#DejaVuSans-49\"/>\n       <use x=\"63.623047\" xlink:href=\"#DejaVuSans-53\"/>\n       <use x=\"127.246094\" xlink:href=\"#DejaVuSans-48\"/>\n      </g>\n     </g>\n    </g>\n    <g id=\"ytick_2\">\n     <g id=\"line2d_5\">\n      <g>\n       <use style=\"stroke:#000000;stroke-width:0.8;\" x=\"46.965625\" xlink:href=\"#m9ab9d58952\" y=\"186.517403\"/>\n      </g>\n     </g>\n     <g id=\"text_6\">\n      <!-- 175 -->\n      <defs>\n       <path d=\"M 8.203125 72.90625 \nL 55.078125 72.90625 \nL 55.078125 68.703125 \nL 28.609375 0 \nL 18.3125 0 \nL 43.21875 64.59375 \nL 8.203125 64.59375 \nz\n\" id=\"DejaVuSans-55\"/>\n      </defs>\n      <g transform=\"translate(20.878125 190.316621)scale(0.1 -0.1)\">\n       <use xlink:href=\"#DejaVuSans-49\"/>\n       <use x=\"63.623047\" xlink:href=\"#DejaVuSans-55\"/>\n       <use x=\"127.246094\" xlink:href=\"#DejaVuSans-53\"/>\n      </g>\n     </g>\n    </g>\n    <g id=\"ytick_3\">\n     <g id=\"line2d_6\">\n      <g>\n       <use style=\"stroke:#000000;stroke-width:0.8;\" x=\"46.965625\" xlink:href=\"#m9ab9d58952\" y=\"158.278442\"/>\n      </g>\n     </g>\n     <g id=\"text_7\">\n      <!-- 200 -->\n      <defs>\n       <path d=\"M 19.1875 8.296875 \nL 53.609375 8.296875 \nL 53.609375 0 \nL 7.328125 0 \nL 7.328125 8.296875 \nQ 12.9375 14.109375 22.625 23.890625 \nQ 32.328125 33.6875 34.8125 36.53125 \nQ 39.546875 41.84375 41.421875 45.53125 \nQ 43.3125 49.21875 43.3125 52.78125 \nQ 43.3125 58.59375 39.234375 62.25 \nQ 35.15625 65.921875 28.609375 65.921875 \nQ 23.96875 65.921875 18.8125 64.3125 \nQ 13.671875 62.703125 7.8125 59.421875 \nL 7.8125 69.390625 \nQ 13.765625 71.78125 18.9375 73 \nQ 24.125 74.21875 28.421875 74.21875 \nQ 39.75 74.21875 46.484375 68.546875 \nQ 53.21875 62.890625 53.21875 53.421875 \nQ 53.21875 48.921875 51.53125 44.890625 \nQ 49.859375 40.875 45.40625 35.40625 \nQ 44.1875 33.984375 37.640625 27.21875 \nQ 31.109375 20.453125 19.1875 8.296875 \nz\n\" id=\"DejaVuSans-50\"/>\n      </defs>\n      <g transform=\"translate(20.878125 162.07766)scale(0.1 -0.1)\">\n       <use xlink:href=\"#DejaVuSans-50\"/>\n       <use x=\"63.623047\" xlink:href=\"#DejaVuSans-48\"/>\n       <use x=\"127.246094\" xlink:href=\"#DejaVuSans-48\"/>\n      </g>\n     </g>\n    </g>\n    <g id=\"ytick_4\">\n     <g id=\"line2d_7\">\n      <g>\n       <use style=\"stroke:#000000;stroke-width:0.8;\" x=\"46.965625\" xlink:href=\"#m9ab9d58952\" y=\"130.039481\"/>\n      </g>\n     </g>\n     <g id=\"text_8\">\n      <!-- 225 -->\n      <g transform=\"translate(20.878125 133.838699)scale(0.1 -0.1)\">\n       <use xlink:href=\"#DejaVuSans-50\"/>\n       <use x=\"63.623047\" xlink:href=\"#DejaVuSans-50\"/>\n       <use x=\"127.246094\" xlink:href=\"#DejaVuSans-53\"/>\n      </g>\n     </g>\n    </g>\n    <g id=\"ytick_5\">\n     <g id=\"line2d_8\">\n      <g>\n       <use style=\"stroke:#000000;stroke-width:0.8;\" x=\"46.965625\" xlink:href=\"#m9ab9d58952\" y=\"101.800519\"/>\n      </g>\n     </g>\n     <g id=\"text_9\">\n      <!-- 250 -->\n      <g transform=\"translate(20.878125 105.599738)scale(0.1 -0.1)\">\n       <use xlink:href=\"#DejaVuSans-50\"/>\n       <use x=\"63.623047\" xlink:href=\"#DejaVuSans-53\"/>\n       <use x=\"127.246094\" xlink:href=\"#DejaVuSans-48\"/>\n      </g>\n     </g>\n    </g>\n    <g id=\"ytick_6\">\n     <g id=\"line2d_9\">\n      <g>\n       <use style=\"stroke:#000000;stroke-width:0.8;\" x=\"46.965625\" xlink:href=\"#m9ab9d58952\" y=\"73.561558\"/>\n      </g>\n     </g>\n     <g id=\"text_10\">\n      <!-- 275 -->\n      <g transform=\"translate(20.878125 77.360777)scale(0.1 -0.1)\">\n       <use xlink:href=\"#DejaVuSans-50\"/>\n       <use x=\"63.623047\" xlink:href=\"#DejaVuSans-55\"/>\n       <use x=\"127.246094\" xlink:href=\"#DejaVuSans-53\"/>\n      </g>\n     </g>\n    </g>\n    <g id=\"ytick_7\">\n     <g id=\"line2d_10\">\n      <g>\n       <use style=\"stroke:#000000;stroke-width:0.8;\" x=\"46.965625\" xlink:href=\"#m9ab9d58952\" y=\"45.322597\"/>\n      </g>\n     </g>\n     <g id=\"text_11\">\n      <!-- 300 -->\n      <defs>\n       <path d=\"M 40.578125 39.3125 \nQ 47.65625 37.796875 51.625 33 \nQ 55.609375 28.21875 55.609375 21.1875 \nQ 55.609375 10.40625 48.1875 4.484375 \nQ 40.765625 -1.421875 27.09375 -1.421875 \nQ 22.515625 -1.421875 17.65625 -0.515625 \nQ 12.796875 0.390625 7.625 2.203125 \nL 7.625 11.71875 \nQ 11.71875 9.328125 16.59375 8.109375 \nQ 21.484375 6.890625 26.8125 6.890625 \nQ 36.078125 6.890625 40.9375 10.546875 \nQ 45.796875 14.203125 45.796875 21.1875 \nQ 45.796875 27.640625 41.28125 31.265625 \nQ 36.765625 34.90625 28.71875 34.90625 \nL 20.21875 34.90625 \nL 20.21875 43.015625 \nL 29.109375 43.015625 \nQ 36.375 43.015625 40.234375 45.921875 \nQ 44.09375 48.828125 44.09375 54.296875 \nQ 44.09375 59.90625 40.109375 62.90625 \nQ 36.140625 65.921875 28.71875 65.921875 \nQ 24.65625 65.921875 20.015625 65.03125 \nQ 15.375 64.15625 9.8125 62.3125 \nL 9.8125 71.09375 \nQ 15.4375 72.65625 20.34375 73.4375 \nQ 25.25 74.21875 29.59375 74.21875 \nQ 40.828125 74.21875 47.359375 69.109375 \nQ 53.90625 64.015625 53.90625 55.328125 \nQ 53.90625 49.265625 50.4375 45.09375 \nQ 46.96875 40.921875 40.578125 39.3125 \nz\n\" id=\"DejaVuSans-51\"/>\n      </defs>\n      <g transform=\"translate(20.878125 49.121816)scale(0.1 -0.1)\">\n       <use xlink:href=\"#DejaVuSans-51\"/>\n       <use x=\"63.623047\" xlink:href=\"#DejaVuSans-48\"/>\n       <use x=\"127.246094\" xlink:href=\"#DejaVuSans-48\"/>\n      </g>\n     </g>\n    </g>\n    <g id=\"ytick_8\">\n     <g id=\"line2d_11\">\n      <g>\n       <use style=\"stroke:#000000;stroke-width:0.8;\" x=\"46.965625\" xlink:href=\"#m9ab9d58952\" y=\"17.083636\"/>\n      </g>\n     </g>\n     <g id=\"text_12\">\n      <!-- 325 -->\n      <g transform=\"translate(20.878125 20.882855)scale(0.1 -0.1)\">\n       <use xlink:href=\"#DejaVuSans-51\"/>\n       <use x=\"63.623047\" xlink:href=\"#DejaVuSans-50\"/>\n       <use x=\"127.246094\" xlink:href=\"#DejaVuSans-53\"/>\n      </g>\n     </g>\n    </g>\n    <g id=\"text_13\">\n     <!-- Weight -->\n     <defs>\n      <path d=\"M 3.328125 72.90625 \nL 13.28125 72.90625 \nL 28.609375 11.28125 \nL 43.890625 72.90625 \nL 54.984375 72.90625 \nL 70.3125 11.28125 \nL 85.59375 72.90625 \nL 95.609375 72.90625 \nL 77.296875 0 \nL 64.890625 0 \nL 49.515625 63.28125 \nL 33.984375 0 \nL 21.578125 0 \nz\n\" id=\"DejaVuSans-87\"/>\n      <path d=\"M 56.203125 29.59375 \nL 56.203125 25.203125 \nL 14.890625 25.203125 \nQ 15.484375 15.921875 20.484375 11.0625 \nQ 25.484375 6.203125 34.421875 6.203125 \nQ 39.59375 6.203125 44.453125 7.46875 \nQ 49.3125 8.734375 54.109375 11.28125 \nL 54.109375 2.78125 \nQ 49.265625 0.734375 44.1875 -0.34375 \nQ 39.109375 -1.421875 33.890625 -1.421875 \nQ 20.796875 -1.421875 13.15625 6.1875 \nQ 5.515625 13.8125 5.515625 26.8125 \nQ 5.515625 40.234375 12.765625 48.109375 \nQ 20.015625 56 32.328125 56 \nQ 43.359375 56 49.78125 48.890625 \nQ 56.203125 41.796875 56.203125 29.59375 \nz\nM 47.21875 32.234375 \nQ 47.125 39.59375 43.09375 43.984375 \nQ 39.0625 48.390625 32.421875 48.390625 \nQ 24.90625 48.390625 20.390625 44.140625 \nQ 15.875 39.890625 15.1875 32.171875 \nz\n\" id=\"DejaVuSans-101\"/>\n      <path d=\"M 9.421875 54.6875 \nL 18.40625 54.6875 \nL 18.40625 0 \nL 9.421875 0 \nz\nM 9.421875 75.984375 \nL 18.40625 75.984375 \nL 18.40625 64.59375 \nL 9.421875 64.59375 \nz\n\" id=\"DejaVuSans-105\"/>\n      <path d=\"M 45.40625 27.984375 \nQ 45.40625 37.75 41.375 43.109375 \nQ 37.359375 48.484375 30.078125 48.484375 \nQ 22.859375 48.484375 18.828125 43.109375 \nQ 14.796875 37.75 14.796875 27.984375 \nQ 14.796875 18.265625 18.828125 12.890625 \nQ 22.859375 7.515625 30.078125 7.515625 \nQ 37.359375 7.515625 41.375 12.890625 \nQ 45.40625 18.265625 45.40625 27.984375 \nz\nM 54.390625 6.78125 \nQ 54.390625 -7.171875 48.1875 -13.984375 \nQ 42 -20.796875 29.203125 -20.796875 \nQ 24.46875 -20.796875 20.265625 -20.09375 \nQ 16.0625 -19.390625 12.109375 -17.921875 \nL 12.109375 -9.1875 \nQ 16.0625 -11.328125 19.921875 -12.34375 \nQ 23.78125 -13.375 27.78125 -13.375 \nQ 36.625 -13.375 41.015625 -8.765625 \nQ 45.40625 -4.15625 45.40625 5.171875 \nL 45.40625 9.625 \nQ 42.625 4.78125 38.28125 2.390625 \nQ 33.9375 0 27.875 0 \nQ 17.828125 0 11.671875 7.65625 \nQ 5.515625 15.328125 5.515625 27.984375 \nQ 5.515625 40.671875 11.671875 48.328125 \nQ 17.828125 56 27.875 56 \nQ 33.9375 56 38.28125 53.609375 \nQ 42.625 51.21875 45.40625 46.390625 \nL 45.40625 54.6875 \nL 54.390625 54.6875 \nz\n\" id=\"DejaVuSans-103\"/>\n      <path d=\"M 54.890625 33.015625 \nL 54.890625 0 \nL 45.90625 0 \nL 45.90625 32.71875 \nQ 45.90625 40.484375 42.875 44.328125 \nQ 39.84375 48.1875 33.796875 48.1875 \nQ 26.515625 48.1875 22.3125 43.546875 \nQ 18.109375 38.921875 18.109375 30.90625 \nL 18.109375 0 \nL 9.078125 0 \nL 9.078125 75.984375 \nL 18.109375 75.984375 \nL 18.109375 46.1875 \nQ 21.34375 51.125 25.703125 53.5625 \nQ 30.078125 56 35.796875 56 \nQ 45.21875 56 50.046875 50.171875 \nQ 54.890625 44.34375 54.890625 33.015625 \nz\n\" id=\"DejaVuSans-104\"/>\n     </defs>\n     <g transform=\"translate(14.798438 133.33875)rotate(-90)scale(0.1 -0.1)\">\n      <use xlink:href=\"#DejaVuSans-87\"/>\n      <use x=\"93.001953\" xlink:href=\"#DejaVuSans-101\"/>\n      <use x=\"154.525391\" xlink:href=\"#DejaVuSans-105\"/>\n      <use x=\"182.308594\" xlink:href=\"#DejaVuSans-103\"/>\n      <use x=\"245.785156\" xlink:href=\"#DejaVuSans-104\"/>\n      <use x=\"309.164062\" xlink:href=\"#DejaVuSans-116\"/>\n     </g>\n    </g>\n   </g>\n   <g id=\"line2d_12\">\n    <path clip-path=\"url(#pb4a3c5e4b4)\" d=\"M 102.765625 192.165195 \nL 102.765625 214.756364 \n\" style=\"fill:none;stroke:#3d3d3d;stroke-linecap:square;stroke-width:1.5;\"/>\n   </g>\n   <g id=\"line2d_13\">\n    <path clip-path=\"url(#pb4a3c5e4b4)\" d=\"M 102.765625 175.221818 \nL 102.765625 169.574026 \n\" style=\"fill:none;stroke:#3d3d3d;stroke-linecap:square;stroke-width:1.5;\"/>\n   </g>\n   <g id=\"line2d_14\">\n    <path clip-path=\"url(#pb4a3c5e4b4)\" d=\"M 80.445625 214.756364 \nL 125.085625 214.756364 \n\" style=\"fill:none;stroke:#3d3d3d;stroke-linecap:square;stroke-width:1.5;\"/>\n   </g>\n   <g id=\"line2d_15\">\n    <path clip-path=\"url(#pb4a3c5e4b4)\" d=\"M 80.445625 169.574026 \nL 125.085625 169.574026 \n\" style=\"fill:none;stroke:#3d3d3d;stroke-linecap:square;stroke-width:1.5;\"/>\n   </g>\n   <g id=\"line2d_16\"/>\n   <g id=\"line2d_17\">\n    <path clip-path=\"url(#pb4a3c5e4b4)\" d=\"M 214.365625 146.982857 \nL 214.365625 170.477673 \n\" style=\"fill:none;stroke:#3d3d3d;stroke-linecap:square;stroke-width:1.5;\"/>\n   </g>\n   <g id=\"line2d_18\">\n    <path clip-path=\"url(#pb4a3c5e4b4)\" d=\"M 214.365625 118.743896 \nL 214.365625 107.448312 \n\" style=\"fill:none;stroke:#3d3d3d;stroke-linecap:square;stroke-width:1.5;\"/>\n   </g>\n   <g id=\"line2d_19\">\n    <path clip-path=\"url(#pb4a3c5e4b4)\" d=\"M 192.045625 170.477673 \nL 236.685625 170.477673 \n\" style=\"fill:none;stroke:#3d3d3d;stroke-linecap:square;stroke-width:1.5;\"/>\n   </g>\n   <g id=\"line2d_20\">\n    <path clip-path=\"url(#pb4a3c5e4b4)\" d=\"M 192.045625 107.448312 \nL 236.685625 107.448312 \n\" style=\"fill:none;stroke:#3d3d3d;stroke-linecap:square;stroke-width:1.5;\"/>\n   </g>\n   <g id=\"line2d_21\"/>\n   <g id=\"line2d_22\">\n    <path clip-path=\"url(#pb4a3c5e4b4)\" d=\"M 325.965625 101.800519 \nL 325.965625 107.448312 \n\" style=\"fill:none;stroke:#3d3d3d;stroke-linecap:square;stroke-width:1.5;\"/>\n   </g>\n   <g id=\"line2d_23\">\n    <path clip-path=\"url(#pb4a3c5e4b4)\" d=\"M 325.965625 84.857143 \nL 325.965625 62.265974 \n\" style=\"fill:none;stroke:#3d3d3d;stroke-linecap:square;stroke-width:1.5;\"/>\n   </g>\n   <g id=\"line2d_24\">\n    <path clip-path=\"url(#pb4a3c5e4b4)\" d=\"M 303.645625 107.448312 \nL 348.285625 107.448312 \n\" style=\"fill:none;stroke:#3d3d3d;stroke-linecap:square;stroke-width:1.5;\"/>\n   </g>\n   <g id=\"line2d_25\">\n    <path clip-path=\"url(#pb4a3c5e4b4)\" d=\"M 303.645625 62.265974 \nL 348.285625 62.265974 \n\" style=\"fill:none;stroke:#3d3d3d;stroke-linecap:square;stroke-width:1.5;\"/>\n   </g>\n   <g id=\"line2d_26\">\n    <defs>\n     <path d=\"M -0 3.535534 \nL 2.12132 0 \nL -0 -3.535534 \nL -2.12132 -0 \nz\n\" id=\"mbdcf3dceb3\" style=\"stroke:#3d3d3d;stroke-linejoin:miter;\"/>\n    </defs>\n    <g clip-path=\"url(#pb4a3c5e4b4)\">\n     <use style=\"fill:#3d3d3d;stroke:#3d3d3d;stroke-linejoin:miter;\" x=\"325.965625\" xlink:href=\"#mbdcf3dceb3\" y=\"17.083636\"/>\n     <use style=\"fill:#3d3d3d;stroke:#3d3d3d;stroke-linejoin:miter;\" x=\"325.965625\" xlink:href=\"#mbdcf3dceb3\" y=\"17.083636\"/>\n     <use style=\"fill:#3d3d3d;stroke:#3d3d3d;stroke-linejoin:miter;\" x=\"325.965625\" xlink:href=\"#mbdcf3dceb3\" y=\"17.083636\"/>\n     <use style=\"fill:#3d3d3d;stroke:#3d3d3d;stroke-linejoin:miter;\" x=\"325.965625\" xlink:href=\"#mbdcf3dceb3\" y=\"17.083636\"/>\n     <use style=\"fill:#3d3d3d;stroke:#3d3d3d;stroke-linejoin:miter;\" x=\"325.965625\" xlink:href=\"#mbdcf3dceb3\" y=\"17.083636\"/>\n     <use style=\"fill:#3d3d3d;stroke:#3d3d3d;stroke-linejoin:miter;\" x=\"325.965625\" xlink:href=\"#mbdcf3dceb3\" y=\"17.083636\"/>\n     <use style=\"fill:#3d3d3d;stroke:#3d3d3d;stroke-linejoin:miter;\" x=\"325.965625\" xlink:href=\"#mbdcf3dceb3\" y=\"17.083636\"/>\n     <use style=\"fill:#3d3d3d;stroke:#3d3d3d;stroke-linejoin:miter;\" x=\"325.965625\" xlink:href=\"#mbdcf3dceb3\" y=\"17.083636\"/>\n     <use style=\"fill:#3d3d3d;stroke:#3d3d3d;stroke-linejoin:miter;\" x=\"325.965625\" xlink:href=\"#mbdcf3dceb3\" y=\"17.083636\"/>\n     <use style=\"fill:#3d3d3d;stroke:#3d3d3d;stroke-linejoin:miter;\" x=\"325.965625\" xlink:href=\"#mbdcf3dceb3\" y=\"17.083636\"/>\n     <use style=\"fill:#3d3d3d;stroke:#3d3d3d;stroke-linejoin:miter;\" x=\"325.965625\" xlink:href=\"#mbdcf3dceb3\" y=\"17.083636\"/>\n     <use style=\"fill:#3d3d3d;stroke:#3d3d3d;stroke-linejoin:miter;\" x=\"325.965625\" xlink:href=\"#mbdcf3dceb3\" y=\"17.083636\"/>\n     <use style=\"fill:#3d3d3d;stroke:#3d3d3d;stroke-linejoin:miter;\" x=\"325.965625\" xlink:href=\"#mbdcf3dceb3\" y=\"17.083636\"/>\n     <use style=\"fill:#3d3d3d;stroke:#3d3d3d;stroke-linejoin:miter;\" x=\"325.965625\" xlink:href=\"#mbdcf3dceb3\" y=\"17.083636\"/>\n     <use style=\"fill:#3d3d3d;stroke:#3d3d3d;stroke-linejoin:miter;\" x=\"325.965625\" xlink:href=\"#mbdcf3dceb3\" y=\"17.083636\"/>\n     <use style=\"fill:#3d3d3d;stroke:#3d3d3d;stroke-linejoin:miter;\" x=\"325.965625\" xlink:href=\"#mbdcf3dceb3\" y=\"17.083636\"/>\n     <use style=\"fill:#3d3d3d;stroke:#3d3d3d;stroke-linejoin:miter;\" x=\"325.965625\" xlink:href=\"#mbdcf3dceb3\" y=\"17.083636\"/>\n     <use style=\"fill:#3d3d3d;stroke:#3d3d3d;stroke-linejoin:miter;\" x=\"325.965625\" xlink:href=\"#mbdcf3dceb3\" y=\"17.083636\"/>\n     <use style=\"fill:#3d3d3d;stroke:#3d3d3d;stroke-linejoin:miter;\" x=\"325.965625\" xlink:href=\"#mbdcf3dceb3\" y=\"34.027013\"/>\n     <use style=\"fill:#3d3d3d;stroke:#3d3d3d;stroke-linejoin:miter;\" x=\"325.965625\" xlink:href=\"#mbdcf3dceb3\" y=\"17.083636\"/>\n     <use style=\"fill:#3d3d3d;stroke:#3d3d3d;stroke-linejoin:miter;\" x=\"325.965625\" xlink:href=\"#mbdcf3dceb3\" y=\"17.083636\"/>\n     <use style=\"fill:#3d3d3d;stroke:#3d3d3d;stroke-linejoin:miter;\" x=\"325.965625\" xlink:href=\"#mbdcf3dceb3\" y=\"34.027013\"/>\n     <use style=\"fill:#3d3d3d;stroke:#3d3d3d;stroke-linejoin:miter;\" x=\"325.965625\" xlink:href=\"#mbdcf3dceb3\" y=\"34.027013\"/>\n     <use style=\"fill:#3d3d3d;stroke:#3d3d3d;stroke-linejoin:miter;\" x=\"325.965625\" xlink:href=\"#mbdcf3dceb3\" y=\"34.027013\"/>\n     <use style=\"fill:#3d3d3d;stroke:#3d3d3d;stroke-linejoin:miter;\" x=\"325.965625\" xlink:href=\"#mbdcf3dceb3\" y=\"57.74774\"/>\n     <use style=\"fill:#3d3d3d;stroke:#3d3d3d;stroke-linejoin:miter;\" x=\"325.965625\" xlink:href=\"#mbdcf3dceb3\" y=\"34.027013\"/>\n     <use style=\"fill:#3d3d3d;stroke:#3d3d3d;stroke-linejoin:miter;\" x=\"325.965625\" xlink:href=\"#mbdcf3dceb3\" y=\"57.74774\"/>\n     <use style=\"fill:#3d3d3d;stroke:#3d3d3d;stroke-linejoin:miter;\" x=\"325.965625\" xlink:href=\"#mbdcf3dceb3\" y=\"34.027013\"/>\n     <use style=\"fill:#3d3d3d;stroke:#3d3d3d;stroke-linejoin:miter;\" x=\"325.965625\" xlink:href=\"#mbdcf3dceb3\" y=\"57.74774\"/>\n     <use style=\"fill:#3d3d3d;stroke:#3d3d3d;stroke-linejoin:miter;\" x=\"325.965625\" xlink:href=\"#mbdcf3dceb3\" y=\"57.74774\"/>\n     <use style=\"fill:#3d3d3d;stroke:#3d3d3d;stroke-linejoin:miter;\" x=\"325.965625\" xlink:href=\"#mbdcf3dceb3\" y=\"37.415688\"/>\n     <use style=\"fill:#3d3d3d;stroke:#3d3d3d;stroke-linejoin:miter;\" x=\"325.965625\" xlink:href=\"#mbdcf3dceb3\" y=\"57.74774\"/>\n     <use style=\"fill:#3d3d3d;stroke:#3d3d3d;stroke-linejoin:miter;\" x=\"325.965625\" xlink:href=\"#mbdcf3dceb3\" y=\"57.74774\"/>\n     <use style=\"fill:#3d3d3d;stroke:#3d3d3d;stroke-linejoin:miter;\" x=\"325.965625\" xlink:href=\"#mbdcf3dceb3\" y=\"57.74774\"/>\n    </g>\n   </g>\n   <g id=\"line2d_27\">\n    <path clip-path=\"url(#pb4a3c5e4b4)\" d=\"M 58.125625 180.86961 \nL 147.405625 180.86961 \n\" style=\"fill:none;stroke:#3d3d3d;stroke-linecap:square;stroke-width:1.5;\"/>\n   </g>\n   <g id=\"line2d_28\">\n    <path clip-path=\"url(#pb4a3c5e4b4)\" d=\"M 169.725625 135.687273 \nL 259.005625 135.687273 \n\" style=\"fill:none;stroke:#3d3d3d;stroke-linecap:square;stroke-width:1.5;\"/>\n   </g>\n   <g id=\"line2d_29\">\n    <path clip-path=\"url(#pb4a3c5e4b4)\" d=\"M 281.325625 96.152727 \nL 370.605625 96.152727 \n\" style=\"fill:none;stroke:#3d3d3d;stroke-linecap:square;stroke-width:1.5;\"/>\n   </g>\n   <g id=\"patch_6\">\n    <path d=\"M 46.965625 224.64 \nL 46.965625 7.2 \n\" style=\"fill:none;stroke:#000000;stroke-linecap:square;stroke-linejoin:miter;stroke-width:0.8;\"/>\n   </g>\n   <g id=\"patch_7\">\n    <path d=\"M 381.765625 224.64 \nL 381.765625 7.2 \n\" style=\"fill:none;stroke:#000000;stroke-linecap:square;stroke-linejoin:miter;stroke-width:0.8;\"/>\n   </g>\n   <g id=\"patch_8\">\n    <path d=\"M 46.965625 224.64 \nL 381.765625 224.64 \n\" style=\"fill:none;stroke:#000000;stroke-linecap:square;stroke-linejoin:miter;stroke-width:0.8;\"/>\n   </g>\n   <g id=\"patch_9\">\n    <path d=\"M 46.965625 7.2 \nL 381.765625 7.2 \n\" style=\"fill:none;stroke:#000000;stroke-linecap:square;stroke-linejoin:miter;stroke-width:0.8;\"/>\n   </g>\n  </g>\n </g>\n <defs>\n  <clipPath id=\"pb4a3c5e4b4\">\n   <rect height=\"217.44\" width=\"334.8\" x=\"46.965625\" y=\"7.2\"/>\n  </clipPath>\n </defs>\n</svg>\n",
      "image/png": "[encoded data removed]"
     },
     "metadata": {
      "needs_background": "light"
     }
    }
   ],
   "source": [
    "sns.boxplot(x =nba['Altura'], y = nba['Weight'])"
   ]
  },
  {
   "source": [
    "#### 7.5 Hacer un listado con el nombre de jugadores que tienen una altura ‘normal’ y un peso ‘alto’. Ordenar alfabéticamente por nombre."
   ],
   "cell_type": "markdown",
   "metadata": {}
  },
  {
   "cell_type": "code",
   "execution_count": 164,
   "metadata": {},
   "outputs": [],
   "source": [
    "jugadores = nba.unique['Player'][(nba.unique['Altura'] == 'normal') & (nba.unique['Peso'] == 'alto')] # aplico un dobre filtro. \n"
   ]
  },
  {
   "cell_type": "code",
   "execution_count": 166,
   "metadata": {},
   "outputs": [
    {
     "output_type": "execute_result",
     "data": {
      "text/plain": [
       "22"
      ]
     },
     "metadata": {},
     "execution_count": 166
    }
   ],
   "source": [
    "len(jugadores)"
   ]
  }
 ],
 "metadata": {
  "kernelspec": {
   "display_name": "Python 3",
   "language": "python",
   "name": "python3"
  },
  "language_info": {
   "codemirror_mode": {
    "name": "ipython",
    "version": 3
   },
   "file_extension": ".py",
   "mimetype": "text/x-python",
   "name": "python",
   "nbconvert_exporter": "python",
   "pygments_lexer": "ipython3",
   "version": "3.8.3-final"
  }
 },
 "nbformat": 4,
 "nbformat_minor": 4
}