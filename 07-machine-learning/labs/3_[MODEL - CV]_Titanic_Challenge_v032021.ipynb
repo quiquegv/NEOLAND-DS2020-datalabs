{
 "cells": [
  {
   "cell_type": "markdown",
   "metadata": {},
   "source": [
    "# Modeling - Titanic Challenge"
   ]
  },
  {
   "cell_type": "code",
   "execution_count": 2,
   "metadata": {},
   "outputs": [],
   "source": [
    "# instalamos la librería de kaggle API\n",
    "!pip install kaggle -q # -q sería quiet es decir que no deja rastro de lo que instala...a veces es útil ocultarlo"
   ]
  },
  {
   "cell_type": "code",
   "execution_count": null,
   "metadata": {},
   "outputs": [],
   "source": [
    "!mkdir -p ~/.kaggle\n",
    "!cp /kaggle.json ~/.kaggle/ # en caso de Google Colab \n",
    "!ls ~/.kaggle\n",
    "!chmod 600 ~/.kaggle/kaggle.json"
   ]
  },
  {
   "cell_type": "code",
   "execution_count": 4,
   "metadata": {},
   "outputs": [],
   "source": [
    "!chmod 600 ~/.kaggle/kaggle.json # directorio que apunta a la raíz en Docker"
   ]
  },
  {
   "cell_type": "code",
   "execution_count": 71,
   "metadata": {},
   "outputs": [
    {
     "name": "stdout",
     "output_type": "stream",
     "text": [
      "Warning: Your Kaggle API key is readable by other users on this system! To fix this, you can run 'chmod 600 /home/jovyan/.kaggle/kaggle.json'\n",
      "usage: kaggle [-h] [-v] {competitions,c,datasets,d,kernels,k,config} ...\n",
      "kaggle: error: the following arguments are required: command\n"
     ]
    }
   ],
   "source": [
    "!kaggle"
   ]
  },
  {
   "cell_type": "markdown",
   "metadata": {},
   "source": [
    "## Cargamos las librerías\n"
   ]
  },
  {
   "cell_type": "code",
   "execution_count": 8,
   "metadata": {},
   "outputs": [],
   "source": [
    "# data analysis and wrangling\n",
    "import pandas as pd\n",
    "import numpy as np\n",
    "import random as rnd\n",
    "from scipy.stats import norm, skew\n",
    "from scipy import stats\n",
    "import xlrd, xdrlib\n",
    "\n",
    "# visualization\n",
    "import seaborn as sns\n",
    "import matplotlib.pyplot as plt\n",
    "%matplotlib inline\n",
    "\n",
    "# data mining\n",
    "#from sklearn.impute import KNNImputer, MissingIndicator, SimpleImputer\n",
    "from sklearn import impute\n",
    "#from sklearn_pandas import categorical_imputer, CategoricalImputer\n",
    "from sklearn.pipeline import make_pipeline, make_union, Pipeline\n",
    "from sklearn import preprocessing\n",
    "from sklearn.impute import SimpleImputer\n",
    "from sklearn.preprocessing import StandardScaler\n",
    "from sklearn.decomposition import PCA\n",
    "\n",
    "# machine learning\n",
    "from sklearn import linear_model\n",
    "from sklearn.linear_model import LogisticRegression\n",
    "from sklearn.svm import SVC\n",
    "from sklearn.svm import LinearSVC\n",
    "from sklearn.ensemble import RandomForestClassifier\n",
    "from sklearn.neighbors import KNeighborsClassifier\n",
    "from sklearn.naive_bayes import GaussianNB\n",
    "from sklearn.linear_model import Perceptron\n",
    "from sklearn.linear_model import SGDClassifier\n",
    "from sklearn.tree import DecisionTreeClassifier\n",
    "from sklearn.discriminant_analysis import LinearDiscriminantAnalysis\n",
    "from sklearn.neural_network import MLPClassifier\n",
    "\n",
    "## scikit modeling libraries\n",
    "from sklearn.ensemble import (RandomForestClassifier, AdaBoostClassifier,\n",
    "                             GradientBoostingClassifier, ExtraTreesClassifier,\n",
    "                             VotingClassifier)\n",
    "\n",
    "from sklearn.model_selection import (GridSearchCV, cross_val_score, cross_val_predict,\n",
    "                                     StratifiedKFold, learning_curve)\n",
    "\n",
    "## Load metrics for predictive modeling\n",
    "from sklearn.model_selection import train_test_split\n",
    "from sklearn.model_selection import cross_val_score\n",
    "#from sklearn.feature_selection import RFE, rfe\n",
    "from sklearn.metrics import classification_report\n",
    "from sklearn.metrics import confusion_matrix\n",
    "from sklearn.metrics import accuracy_score\n",
    "from sklearn.metrics import roc_curve, auc\n",
    "from sklearn.metrics import mean_absolute_error, mean_squared_error\n",
    "\n",
    "## Warnings and other tools\n",
    "import itertools\n",
    "import warnings\n",
    "warnings.filterwarnings(\"ignore\")"
   ]
  },
  {
   "cell_type": "markdown",
   "metadata": {},
   "source": [
    "***\n",
    "\n",
    "## 5. Model, predict and solve the problem.\n",
    "### 5.1 Modelos de clasificación standalone\n",
    "### 5.2 Modelos de clasificación con CV (Cross Validation)\n",
    "#### 5.2.1 - K-fold Cross Validation\n",
    "#### 5.2.2 - Ajustes de parámetros del CV\n",
    "#### 5.2.3 - Ajuste de Hyperparámetros (modelos ensemble)"
   ]
  },
  {
   "cell_type": "markdown",
   "metadata": {},
   "source": [
    "## 5.2.1 - k-fold Cross Validation\n",
    "\n",
    "K-Folds cross-validator\n",
    "https://scikit-learn.org/stable/modules/generated/sklearn.model_selection.KFold.html?highlight=k%20fold#sklearn.model_selection.KFold\n",
    "\n",
    "Provides train/test indices to split data in train/test sets. Split dataset into k consecutive folds (without shuffling by default).\n",
    "\n",
    "Each fold is then used once as a validation while the k - 1 remaining folds form the training set."
   ]
  },
  {
   "cell_type": "markdown",
   "metadata": {},
   "source": [
    "### - Validation Set\n",
    "\n",
    "Al entrenar un modelo, el uso de diferentes parámetros puede conducir a una solución muy diferente. Con el fin de evitar de minimizar el error, que no siempre es un buen punto de partida, creamos una solución de **conjunto de validación**, que nos sirve para validar la selección de parámetros. Difiere del **conjunto de prueba o test** que este sirve solo para validar la calidad del modelo.\n",
    "\n",
    "![](https://miro.medium.com/max/1552/1*Nv2NNALuokZEcV6hYEHdGA.png)"
   ]
  },
  {
   "cell_type": "code",
   "execution_count": 10,
   "metadata": {},
   "outputs": [
    {
     "data": {
      "text/html": [
       "<div>\n",
       "<style scoped>\n",
       "    .dataframe tbody tr th:only-of-type {\n",
       "        vertical-align: middle;\n",
       "    }\n",
       "\n",
       "    .dataframe tbody tr th {\n",
       "        vertical-align: top;\n",
       "    }\n",
       "\n",
       "    .dataframe thead th {\n",
       "        text-align: right;\n",
       "    }\n",
       "</style>\n",
       "<table border=\"1\" class=\"dataframe\">\n",
       "  <thead>\n",
       "    <tr style=\"text-align: right;\">\n",
       "      <th></th>\n",
       "      <th>Pclass</th>\n",
       "      <th>Sex</th>\n",
       "      <th>Fare</th>\n",
       "      <th>FamilySize</th>\n",
       "      <th>IsAlone</th>\n",
       "      <th>InCabin</th>\n",
       "      <th>Room</th>\n",
       "      <th>Title</th>\n",
       "      <th>Age*Class</th>\n",
       "      <th>Fare_Per_Person</th>\n",
       "      <th>...</th>\n",
       "      <th>Deck_N</th>\n",
       "      <th>Deck_T</th>\n",
       "      <th>AgeGroup_Adult</th>\n",
       "      <th>AgeGroup_Baby</th>\n",
       "      <th>AgeGroup_Child</th>\n",
       "      <th>AgeGroup_Senior</th>\n",
       "      <th>AgeGroup_Student</th>\n",
       "      <th>AgeGroup_Teenager</th>\n",
       "      <th>AgeGroup_Unknown</th>\n",
       "      <th>AgeGroup_Young Adult</th>\n",
       "    </tr>\n",
       "  </thead>\n",
       "  <tbody>\n",
       "    <tr>\n",
       "      <th>0</th>\n",
       "      <td>0.8419</td>\n",
       "      <td>0</td>\n",
       "      <td>2.178064</td>\n",
       "      <td>-0.5583</td>\n",
       "      <td>1</td>\n",
       "      <td>False</td>\n",
       "      <td>-0.0</td>\n",
       "      <td>0.6862</td>\n",
       "      <td>1.4286</td>\n",
       "      <td>-0.1562</td>\n",
       "      <td>...</td>\n",
       "      <td>1</td>\n",
       "      <td>0</td>\n",
       "      <td>0</td>\n",
       "      <td>0</td>\n",
       "      <td>0</td>\n",
       "      <td>0</td>\n",
       "      <td>0</td>\n",
       "      <td>0</td>\n",
       "      <td>0</td>\n",
       "      <td>1</td>\n",
       "    </tr>\n",
       "    <tr>\n",
       "      <th>1</th>\n",
       "      <td>0.8419</td>\n",
       "      <td>1</td>\n",
       "      <td>2.079442</td>\n",
       "      <td>0.0734</td>\n",
       "      <td>0</td>\n",
       "      <td>False</td>\n",
       "      <td>-0.0</td>\n",
       "      <td>-0.9323</td>\n",
       "      <td>2.4026</td>\n",
       "      <td>-1.0623</td>\n",
       "      <td>...</td>\n",
       "      <td>1</td>\n",
       "      <td>0</td>\n",
       "      <td>1</td>\n",
       "      <td>0</td>\n",
       "      <td>0</td>\n",
       "      <td>0</td>\n",
       "      <td>0</td>\n",
       "      <td>0</td>\n",
       "      <td>0</td>\n",
       "      <td>0</td>\n",
       "    </tr>\n",
       "    <tr>\n",
       "      <th>2</th>\n",
       "      <td>-0.3521</td>\n",
       "      <td>0</td>\n",
       "      <td>2.369075</td>\n",
       "      <td>-0.5583</td>\n",
       "      <td>1</td>\n",
       "      <td>False</td>\n",
       "      <td>-0.0</td>\n",
       "      <td>0.6862</td>\n",
       "      <td>1.9611</td>\n",
       "      <td>0.0624</td>\n",
       "      <td>...</td>\n",
       "      <td>1</td>\n",
       "      <td>0</td>\n",
       "      <td>0</td>\n",
       "      <td>0</td>\n",
       "      <td>0</td>\n",
       "      <td>1</td>\n",
       "      <td>0</td>\n",
       "      <td>0</td>\n",
       "      <td>0</td>\n",
       "      <td>0</td>\n",
       "    </tr>\n",
       "    <tr>\n",
       "      <th>3</th>\n",
       "      <td>0.8419</td>\n",
       "      <td>0</td>\n",
       "      <td>2.268252</td>\n",
       "      <td>-0.5583</td>\n",
       "      <td>1</td>\n",
       "      <td>False</td>\n",
       "      <td>-0.0</td>\n",
       "      <td>0.6862</td>\n",
       "      <td>0.8443</td>\n",
       "      <td>-0.0530</td>\n",
       "      <td>...</td>\n",
       "      <td>1</td>\n",
       "      <td>0</td>\n",
       "      <td>0</td>\n",
       "      <td>0</td>\n",
       "      <td>0</td>\n",
       "      <td>0</td>\n",
       "      <td>0</td>\n",
       "      <td>0</td>\n",
       "      <td>0</td>\n",
       "      <td>1</td>\n",
       "    </tr>\n",
       "    <tr>\n",
       "      <th>4</th>\n",
       "      <td>0.8419</td>\n",
       "      <td>1</td>\n",
       "      <td>2.586824</td>\n",
       "      <td>0.7051</td>\n",
       "      <td>0</td>\n",
       "      <td>False</td>\n",
       "      <td>-0.0</td>\n",
       "      <td>-0.9323</td>\n",
       "      <td>0.4547</td>\n",
       "      <td>-1.1686</td>\n",
       "      <td>...</td>\n",
       "      <td>1</td>\n",
       "      <td>0</td>\n",
       "      <td>0</td>\n",
       "      <td>0</td>\n",
       "      <td>0</td>\n",
       "      <td>0</td>\n",
       "      <td>1</td>\n",
       "      <td>0</td>\n",
       "      <td>0</td>\n",
       "      <td>0</td>\n",
       "    </tr>\n",
       "  </tbody>\n",
       "</table>\n",
       "<p>5 rows × 35 columns</p>\n",
       "</div>"
      ],
      "text/plain": [
       "   Pclass  Sex      Fare  FamilySize  IsAlone  InCabin  Room   Title  \\\n",
       "0  0.8419    0  2.178064     -0.5583        1    False  -0.0  0.6862   \n",
       "1  0.8419    1  2.079442      0.0734        0    False  -0.0 -0.9323   \n",
       "2 -0.3521    0  2.369075     -0.5583        1    False  -0.0  0.6862   \n",
       "3  0.8419    0  2.268252     -0.5583        1    False  -0.0  0.6862   \n",
       "4  0.8419    1  2.586824      0.7051        0    False  -0.0 -0.9323   \n",
       "\n",
       "   Age*Class  Fare_Per_Person  ...  Deck_N  Deck_T  AgeGroup_Adult  \\\n",
       "0     1.4286          -0.1562  ...       1       0               0   \n",
       "1     2.4026          -1.0623  ...       1       0               1   \n",
       "2     1.9611           0.0624  ...       1       0               0   \n",
       "3     0.8443          -0.0530  ...       1       0               0   \n",
       "4     0.4547          -1.1686  ...       1       0               0   \n",
       "\n",
       "   AgeGroup_Baby  AgeGroup_Child  AgeGroup_Senior  AgeGroup_Student  \\\n",
       "0              0               0                0                 0   \n",
       "1              0               0                0                 0   \n",
       "2              0               0                1                 0   \n",
       "3              0               0                0                 0   \n",
       "4              0               0                0                 1   \n",
       "\n",
       "   AgeGroup_Teenager  AgeGroup_Unknown  AgeGroup_Young Adult  \n",
       "0                  0                 0                     1  \n",
       "1                  0                 0                     0  \n",
       "2                  0                 0                     0  \n",
       "3                  0                 0                     1  \n",
       "4                  0                 0                     0  \n",
       "\n",
       "[5 rows x 35 columns]"
      ]
     },
     "execution_count": 10,
     "metadata": {},
     "output_type": "execute_result"
    }
   ],
   "source": [
    "# Cargamos training y testing dataset (previamente preparados)\n",
    "df_test = pd.read_csv(\"testingDF.csv\")\n",
    "df_test.head(5)"
   ]
  },
  {
   "cell_type": "code",
   "execution_count": 11,
   "metadata": {},
   "outputs": [
    {
     "data": {
      "text/html": [
       "<div>\n",
       "<style scoped>\n",
       "    .dataframe tbody tr th:only-of-type {\n",
       "        vertical-align: middle;\n",
       "    }\n",
       "\n",
       "    .dataframe tbody tr th {\n",
       "        vertical-align: top;\n",
       "    }\n",
       "\n",
       "    .dataframe thead th {\n",
       "        text-align: right;\n",
       "    }\n",
       "</style>\n",
       "<table border=\"1\" class=\"dataframe\">\n",
       "  <thead>\n",
       "    <tr style=\"text-align: right;\">\n",
       "      <th></th>\n",
       "      <th>Pclass</th>\n",
       "      <th>Sex</th>\n",
       "      <th>Fare</th>\n",
       "      <th>FamilySize</th>\n",
       "      <th>IsAlone</th>\n",
       "      <th>InCabin</th>\n",
       "      <th>Room</th>\n",
       "      <th>Title</th>\n",
       "      <th>Age*Class</th>\n",
       "      <th>Fare_Per_Person</th>\n",
       "      <th>...</th>\n",
       "      <th>Deck_N</th>\n",
       "      <th>Deck_T</th>\n",
       "      <th>AgeGroup_Adult</th>\n",
       "      <th>AgeGroup_Baby</th>\n",
       "      <th>AgeGroup_Child</th>\n",
       "      <th>AgeGroup_Senior</th>\n",
       "      <th>AgeGroup_Student</th>\n",
       "      <th>AgeGroup_Teenager</th>\n",
       "      <th>AgeGroup_Unknown</th>\n",
       "      <th>AgeGroup_Young Adult</th>\n",
       "    </tr>\n",
       "  </thead>\n",
       "  <tbody>\n",
       "    <tr>\n",
       "      <th>0</th>\n",
       "      <td>0.8419</td>\n",
       "      <td>0</td>\n",
       "      <td>2.110213</td>\n",
       "      <td>0.0734</td>\n",
       "      <td>0</td>\n",
       "      <td>False</td>\n",
       "      <td>-0.0000</td>\n",
       "      <td>0.6862</td>\n",
       "      <td>0.4547</td>\n",
       "      <td>-1.0388</td>\n",
       "      <td>...</td>\n",
       "      <td>1</td>\n",
       "      <td>0</td>\n",
       "      <td>0</td>\n",
       "      <td>0</td>\n",
       "      <td>0</td>\n",
       "      <td>0</td>\n",
       "      <td>1</td>\n",
       "      <td>0</td>\n",
       "      <td>0</td>\n",
       "      <td>0</td>\n",
       "    </tr>\n",
       "    <tr>\n",
       "      <th>1</th>\n",
       "      <td>-1.5461</td>\n",
       "      <td>1</td>\n",
       "      <td>4.280593</td>\n",
       "      <td>0.0734</td>\n",
       "      <td>0</td>\n",
       "      <td>True</td>\n",
       "      <td>2.2175</td>\n",
       "      <td>-0.9323</td>\n",
       "      <td>-0.2725</td>\n",
       "      <td>0.6170</td>\n",
       "      <td>...</td>\n",
       "      <td>0</td>\n",
       "      <td>0</td>\n",
       "      <td>1</td>\n",
       "      <td>0</td>\n",
       "      <td>0</td>\n",
       "      <td>0</td>\n",
       "      <td>0</td>\n",
       "      <td>0</td>\n",
       "      <td>0</td>\n",
       "      <td>0</td>\n",
       "    </tr>\n",
       "    <tr>\n",
       "      <th>2</th>\n",
       "      <td>0.8419</td>\n",
       "      <td>1</td>\n",
       "      <td>2.188856</td>\n",
       "      <td>-0.5583</td>\n",
       "      <td>1</td>\n",
       "      <td>False</td>\n",
       "      <td>-0.0000</td>\n",
       "      <td>-0.9323</td>\n",
       "      <td>0.7664</td>\n",
       "      <td>-0.1439</td>\n",
       "      <td>...</td>\n",
       "      <td>1</td>\n",
       "      <td>0</td>\n",
       "      <td>0</td>\n",
       "      <td>0</td>\n",
       "      <td>0</td>\n",
       "      <td>0</td>\n",
       "      <td>0</td>\n",
       "      <td>0</td>\n",
       "      <td>0</td>\n",
       "      <td>1</td>\n",
       "    </tr>\n",
       "    <tr>\n",
       "      <th>3</th>\n",
       "      <td>-1.5461</td>\n",
       "      <td>1</td>\n",
       "      <td>3.990834</td>\n",
       "      <td>0.0734</td>\n",
       "      <td>0</td>\n",
       "      <td>True</td>\n",
       "      <td>4.5990</td>\n",
       "      <td>-0.9323</td>\n",
       "      <td>-0.3504</td>\n",
       "      <td>0.3959</td>\n",
       "      <td>...</td>\n",
       "      <td>0</td>\n",
       "      <td>0</td>\n",
       "      <td>0</td>\n",
       "      <td>0</td>\n",
       "      <td>0</td>\n",
       "      <td>0</td>\n",
       "      <td>0</td>\n",
       "      <td>0</td>\n",
       "      <td>0</td>\n",
       "      <td>1</td>\n",
       "    </tr>\n",
       "    <tr>\n",
       "      <th>4</th>\n",
       "      <td>0.8419</td>\n",
       "      <td>0</td>\n",
       "      <td>2.202765</td>\n",
       "      <td>-0.5583</td>\n",
       "      <td>1</td>\n",
       "      <td>False</td>\n",
       "      <td>-0.0000</td>\n",
       "      <td>0.6862</td>\n",
       "      <td>1.4676</td>\n",
       "      <td>-0.1279</td>\n",
       "      <td>...</td>\n",
       "      <td>1</td>\n",
       "      <td>0</td>\n",
       "      <td>0</td>\n",
       "      <td>0</td>\n",
       "      <td>0</td>\n",
       "      <td>0</td>\n",
       "      <td>0</td>\n",
       "      <td>0</td>\n",
       "      <td>0</td>\n",
       "      <td>1</td>\n",
       "    </tr>\n",
       "  </tbody>\n",
       "</table>\n",
       "<p>5 rows × 35 columns</p>\n",
       "</div>"
      ],
      "text/plain": [
       "   Pclass  Sex      Fare  FamilySize  IsAlone  InCabin    Room   Title  \\\n",
       "0  0.8419    0  2.110213      0.0734        0    False -0.0000  0.6862   \n",
       "1 -1.5461    1  4.280593      0.0734        0     True  2.2175 -0.9323   \n",
       "2  0.8419    1  2.188856     -0.5583        1    False -0.0000 -0.9323   \n",
       "3 -1.5461    1  3.990834      0.0734        0     True  4.5990 -0.9323   \n",
       "4  0.8419    0  2.202765     -0.5583        1    False -0.0000  0.6862   \n",
       "\n",
       "   Age*Class  Fare_Per_Person  ...  Deck_N  Deck_T  AgeGroup_Adult  \\\n",
       "0     0.4547          -1.0388  ...       1       0               0   \n",
       "1    -0.2725           0.6170  ...       0       0               1   \n",
       "2     0.7664          -0.1439  ...       1       0               0   \n",
       "3    -0.3504           0.3959  ...       0       0               0   \n",
       "4     1.4676          -0.1279  ...       1       0               0   \n",
       "\n",
       "   AgeGroup_Baby  AgeGroup_Child  AgeGroup_Senior  AgeGroup_Student  \\\n",
       "0              0               0                0                 1   \n",
       "1              0               0                0                 0   \n",
       "2              0               0                0                 0   \n",
       "3              0               0                0                 0   \n",
       "4              0               0                0                 0   \n",
       "\n",
       "   AgeGroup_Teenager  AgeGroup_Unknown  AgeGroup_Young Adult  \n",
       "0                  0                 0                     0  \n",
       "1                  0                 0                     0  \n",
       "2                  0                 0                     1  \n",
       "3                  0                 0                     1  \n",
       "4                  0                 0                     1  \n",
       "\n",
       "[5 rows x 35 columns]"
      ]
     },
     "execution_count": 11,
     "metadata": {},
     "output_type": "execute_result"
    }
   ],
   "source": [
    "df_train = pd.read_csv(\"trainDF.csv\")\n",
    "df_train.head(5)"
   ]
  },
  {
   "cell_type": "code",
   "execution_count": 13,
   "metadata": {},
   "outputs": [
    {
     "data": {
      "text/plain": [
       "0    0\n",
       "1    1\n",
       "2    1\n",
       "3    1\n",
       "4    0\n",
       "Name: Survived, dtype: int64"
      ]
     },
     "execution_count": 13,
     "metadata": {},
     "output_type": "execute_result"
    }
   ],
   "source": [
    "# Se importa el train.csv solo para extraer la variable dep. Survived\n",
    "y = pd.read_csv(\"train.csv\")\n",
    "y_train = y['Survived']\n",
    "y_train.head(5)"
   ]
  },
  {
   "cell_type": "code",
   "execution_count": 14,
   "metadata": {},
   "outputs": [
    {
     "data": {
      "text/plain": [
       "0    892\n",
       "1    893\n",
       "2    894\n",
       "3    895\n",
       "4    896\n",
       "Name: PassengerId, dtype: int64"
      ]
     },
     "execution_count": 14,
     "metadata": {},
     "output_type": "execute_result"
    }
   ],
   "source": [
    "# guardamos las IDS de los pasajeros de testing para la submission con las predicciones\n",
    "test = pd.read_csv(\"test.csv\")\n",
    "ids = test['PassengerId']\n",
    "ids.head(5)"
   ]
  },
  {
   "cell_type": "code",
   "execution_count": 15,
   "metadata": {},
   "outputs": [],
   "source": [
    "# Para poder validar correctamente el modelo aplicamos un 80/20 a mi fichero de training\n",
    "X_train, X_test, y_train, y_test = train_test_split(df_train, y_train, \n",
    "                                                    test_size=0.20,\n",
    "                                                   random_state=666)"
   ]
  },
  {
   "cell_type": "code",
   "execution_count": 16,
   "metadata": {},
   "outputs": [],
   "source": [
    "# Para validar los parámetros del modelo realizamos un split validation\n",
    "X_train, X_val, y_train, y_val = train_test_split(X_train, y_train,\n",
    "                                                 test_size=0.20,\n",
    "                                                 random_state=666)"
   ]
  },
  {
   "cell_type": "code",
   "execution_count": 18,
   "metadata": {},
   "outputs": [
    {
     "data": {
      "text/plain": [
       "(569, 35)"
      ]
     },
     "execution_count": 18,
     "metadata": {},
     "output_type": "execute_result"
    }
   ],
   "source": [
    "X_train.shape"
   ]
  },
  {
   "cell_type": "code",
   "execution_count": 20,
   "metadata": {},
   "outputs": [
    {
     "data": {
      "text/plain": [
       "(143, 35)"
      ]
     },
     "execution_count": 20,
     "metadata": {},
     "output_type": "execute_result"
    }
   ],
   "source": [
    "X_val.shape"
   ]
  },
  {
   "cell_type": "code",
   "execution_count": 21,
   "metadata": {},
   "outputs": [
    {
     "data": {
      "text/plain": [
       "(569,)"
      ]
     },
     "execution_count": 21,
     "metadata": {},
     "output_type": "execute_result"
    }
   ],
   "source": [
    "y_train.shape"
   ]
  },
  {
   "cell_type": "code",
   "execution_count": 23,
   "metadata": {},
   "outputs": [
    {
     "data": {
      "text/plain": [
       "(143,)"
      ]
     },
     "execution_count": 23,
     "metadata": {},
     "output_type": "execute_result"
    }
   ],
   "source": [
    "y_val.shape"
   ]
  },
  {
   "cell_type": "code",
   "execution_count": 24,
   "metadata": {},
   "outputs": [
    {
     "name": "stderr",
     "output_type": "stream",
     "text": [
      "[Parallel(n_jobs=4)]: Using backend LokyBackend with 4 concurrent workers.\n",
      "[Parallel(n_jobs=4)]: Done   5 out of   5 | elapsed:    3.8s finished\n",
      "[Parallel(n_jobs=4)]: Using backend LokyBackend with 4 concurrent workers.\n",
      "[Parallel(n_jobs=4)]: Done   5 out of   5 | elapsed:    1.7s finished\n",
      "[Parallel(n_jobs=4)]: Using backend LokyBackend with 4 concurrent workers.\n",
      "[Parallel(n_jobs=4)]: Done   5 out of   5 | elapsed:    0.1s finished\n",
      "[Parallel(n_jobs=4)]: Using backend LokyBackend with 4 concurrent workers.\n",
      "[Parallel(n_jobs=4)]: Done   5 out of   5 | elapsed:    1.2s finished\n",
      "[Parallel(n_jobs=4)]: Using backend LokyBackend with 4 concurrent workers.\n",
      "[Parallel(n_jobs=4)]: Done   5 out of   5 | elapsed:    1.0s finished\n",
      "[Parallel(n_jobs=4)]: Using backend LokyBackend with 4 concurrent workers.\n",
      "[Parallel(n_jobs=4)]: Done   5 out of   5 | elapsed:    0.1s finished\n",
      "[Parallel(n_jobs=4)]: Using backend LokyBackend with 4 concurrent workers.\n",
      "[Parallel(n_jobs=4)]: Done   5 out of   5 | elapsed:    0.9s finished\n",
      "[Parallel(n_jobs=4)]: Using backend LokyBackend with 4 concurrent workers.\n",
      "[Parallel(n_jobs=4)]: Done   5 out of   5 | elapsed:    0.4s finished\n",
      "[Parallel(n_jobs=4)]: Using backend LokyBackend with 4 concurrent workers.\n",
      "[Parallel(n_jobs=4)]: Done   5 out of   5 | elapsed:    0.2s finished\n",
      "[Parallel(n_jobs=4)]: Using backend LokyBackend with 4 concurrent workers.\n",
      "[Parallel(n_jobs=4)]: Done   5 out of   5 | elapsed:    3.7s finished\n"
     ]
    }
   ],
   "source": [
    "# Realizamos la iteración Cross Validation con Kfold\n",
    "K_fold = StratifiedKFold(n_splits=5)\n",
    "\n",
    "# modelado con un estado random\n",
    "random_state = 17\n",
    "\n",
    "# Pasos para generar de forma conjunta un k-fold para diferentes estimadores\n",
    "models = []\n",
    "cv_results = []\n",
    "cv_means = []\n",
    "cv_std = []\n",
    "\n",
    "# Parte I\n",
    "# generamos los modelos con los estimadores confjgurando los valores por defecto\n",
    "models.append(KNeighborsClassifier())\n",
    "models.append(AdaBoostClassifier(DecisionTreeClassifier(random_state=random_state), random_state=random_state, learning_rate=0.1))\n",
    "models.append(DecisionTreeClassifier(random_state=random_state))\n",
    "models.append(RandomForestClassifier(random_state=random_state))\n",
    "models.append(ExtraTreesClassifier(random_state=random_state))\n",
    "models.append(SVC(random_state=random_state))\n",
    "models.append(GradientBoostingClassifier(random_state=random_state))\n",
    "models.append(LogisticRegression(random_state=random_state))\n",
    "models.append(LinearDiscriminantAnalysis())\n",
    "models.append(MLPClassifier(random_state=random_state))\n",
    "\n",
    "\n",
    "# Realizamos una iteración con el cross_val\n",
    "for model in models:\n",
    "    cv_results.append(cross_val_score(model, X_train, y_train,\n",
    "                                     scoring='accuracy',\n",
    "                                     cv = K_fold,\n",
    "                                     n_jobs = 4,\n",
    "                                     verbose = 2))"
   ]
  },
  {
   "cell_type": "code",
   "execution_count": 25,
   "metadata": {},
   "outputs": [],
   "source": [
    "# Iteramos los resultados del cross-validation (mean y std)\n",
    "for cv_result in cv_results:\n",
    "    cv_means.append(cv_result.mean())\n",
    "    cv_std.append(cv_result.std())"
   ]
  },
  {
   "cell_type": "code",
   "execution_count": 26,
   "metadata": {},
   "outputs": [],
   "source": [
    "# Creamos un dataframe con los valores almacenados\n",
    "cv_frame = pd.DataFrame(\n",
    "    {\n",
    "        \"CrossValMeans\": cv_means,\n",
    "        \"CrossValErros\": cv_std,\n",
    "        \"Algorithms\":[\n",
    "            \"KNeighboors\",\n",
    "            \"AdaBoost\",\n",
    "            \"DecisionTree\",\n",
    "            \"RandomForest\",\n",
    "            \"ExtraTrees\",\n",
    "            \"SVC\",\n",
    "            \"GradientBoosting\",\n",
    "            \"LogisticRegression\",\n",
    "            \"LinearDiscriminantAnalysis\",\n",
    "            \"MultipleLayerPerceptron\"\n",
    "        ]\n",
    "    }\n",
    ")"
   ]
  },
  {
   "cell_type": "code",
   "execution_count": 27,
   "metadata": {},
   "outputs": [
    {
     "data": {
      "image/png": "[encoded data removed]",
      "text/plain": [
       "<Figure size 432x288 with 1 Axes>"
      ]
     },
     "metadata": {
      "needs_background": "light"
     },
     "output_type": "display_data"
    }
   ],
   "source": [
    "# Representamos estos valores del dataframe en un gráfico de barras\n",
    "cv_plot = sns.barplot(\"CrossValMeans\", \"Algorithms\", data = cv_frame,\n",
    "                     palette=\"husl\", orient='h', **{'xerr':cv_std})\n",
    "cv_plot.set_xlabel(\"Mean Accuracy\")\n",
    "cv_plot = cv_plot.set_title(\"CV Scores\")"
   ]
  },
  {
   "cell_type": "code",
   "execution_count": 32,
   "metadata": {},
   "outputs": [
    {
     "name": "stderr",
     "output_type": "stream",
     "text": [
      "[Parallel(n_jobs=10)]: Using backend LokyBackend with 10 concurrent workers.\n",
      "[Parallel(n_jobs=10)]: Done   3 out of  10 | elapsed:    0.2s remaining:    0.4s\n",
      "[Parallel(n_jobs=10)]: Done  10 out of  10 | elapsed:    0.2s finished\n",
      "[Parallel(n_jobs=10)]: Using backend LokyBackend with 10 concurrent workers.\n",
      "[Parallel(n_jobs=10)]: Done   3 out of  10 | elapsed:    1.4s remaining:    3.3s\n",
      "[Parallel(n_jobs=10)]: Done  10 out of  10 | elapsed:    2.7s finished\n",
      "[Parallel(n_jobs=10)]: Using backend LokyBackend with 10 concurrent workers.\n",
      "[Parallel(n_jobs=10)]: Done   3 out of  10 | elapsed:    0.1s remaining:    0.3s\n",
      "[Parallel(n_jobs=10)]: Done  10 out of  10 | elapsed:    0.1s finished\n",
      "[Parallel(n_jobs=10)]: Using backend LokyBackend with 10 concurrent workers.\n",
      "[Parallel(n_jobs=10)]: Done   3 out of  10 | elapsed:    1.6s remaining:    3.7s\n",
      "[Parallel(n_jobs=10)]: Done  10 out of  10 | elapsed:    2.6s finished\n",
      "[Parallel(n_jobs=10)]: Using backend LokyBackend with 10 concurrent workers.\n",
      "[Parallel(n_jobs=10)]: Done   3 out of  10 | elapsed:    1.0s remaining:    2.4s\n",
      "[Parallel(n_jobs=10)]: Done  10 out of  10 | elapsed:    1.8s finished\n",
      "[Parallel(n_jobs=10)]: Using backend LokyBackend with 10 concurrent workers.\n",
      "[Parallel(n_jobs=10)]: Done   3 out of  10 | elapsed:    0.1s remaining:    0.3s\n",
      "[Parallel(n_jobs=10)]: Done  10 out of  10 | elapsed:    0.2s finished\n",
      "[Parallel(n_jobs=10)]: Using backend LokyBackend with 10 concurrent workers.\n",
      "[Parallel(n_jobs=10)]: Done   3 out of  10 | elapsed:    0.9s remaining:    2.0s\n",
      "[Parallel(n_jobs=10)]: Done  10 out of  10 | elapsed:    1.3s finished\n",
      "[Parallel(n_jobs=10)]: Using backend LokyBackend with 10 concurrent workers.\n",
      "[Parallel(n_jobs=10)]: Done   3 out of  10 | elapsed:    0.3s remaining:    0.8s\n",
      "[Parallel(n_jobs=10)]: Done  10 out of  10 | elapsed:    0.5s finished\n",
      "[Parallel(n_jobs=10)]: Using backend LokyBackend with 10 concurrent workers.\n",
      "[Parallel(n_jobs=10)]: Done   3 out of  10 | elapsed:    0.1s remaining:    0.2s\n",
      "[Parallel(n_jobs=10)]: Done  10 out of  10 | elapsed:    0.2s finished\n",
      "[Parallel(n_jobs=10)]: Using backend LokyBackend with 10 concurrent workers.\n",
      "[Parallel(n_jobs=10)]: Done   3 out of  10 | elapsed:    4.4s remaining:   10.2s\n",
      "[Parallel(n_jobs=10)]: Done  10 out of  10 | elapsed:    6.6s finished\n"
     ]
    }
   ],
   "source": [
    "## PARTE 2 n_jobs = 10 // n_splits=10\n",
    "# Realizamos la iteración Cross Validation con Kfold\n",
    "K_fold = StratifiedKFold(n_splits=10)\n",
    "\n",
    "# modelado con un estado random\n",
    "random_state = 17\n",
    "\n",
    "# Pasos para generar de forma conjunta un k-fold para diferentes estimadores\n",
    "models = []\n",
    "cv_results = []\n",
    "cv_means = []\n",
    "cv_std = []\n",
    "\n",
    "# Parte II\n",
    "# generamos los modelos con los estimadores confjgurando los valores por defecto\n",
    "models.append(KNeighborsClassifier())\n",
    "models.append(AdaBoostClassifier(DecisionTreeClassifier(random_state=random_state), random_state=random_state, learning_rate=0.1))\n",
    "models.append(DecisionTreeClassifier(random_state=random_state))\n",
    "models.append(RandomForestClassifier(random_state=random_state))\n",
    "models.append(ExtraTreesClassifier(random_state=random_state))\n",
    "models.append(SVC(random_state=random_state))\n",
    "models.append(GradientBoostingClassifier(random_state=random_state))\n",
    "models.append(LogisticRegression(random_state=random_state))\n",
    "models.append(LinearDiscriminantAnalysis())\n",
    "models.append(MLPClassifier(random_state=random_state))\n",
    "\n",
    "\n",
    "# Realizamos una iteración con el cross_val\n",
    "for model in models:\n",
    "    cv_results.append(cross_val_score(model, X_train, y_train,\n",
    "                                     scoring='accuracy',\n",
    "                                     cv = K_fold,\n",
    "                                     n_jobs = 10,\n",
    "                                     verbose = 2))"
   ]
  },
  {
   "cell_type": "code",
   "execution_count": 33,
   "metadata": {},
   "outputs": [],
   "source": [
    "# Iteramos los resultados del cross-validation (mean y std)\n",
    "for cv_result in cv_results:\n",
    "    cv_means.append(cv_result.mean())\n",
    "    cv_std.append(cv_result.std())"
   ]
  },
  {
   "cell_type": "code",
   "execution_count": 34,
   "metadata": {},
   "outputs": [],
   "source": [
    "# Creamos un dataframe con los valores almacenados\n",
    "cv_frame = pd.DataFrame(\n",
    "    {\n",
    "        \"CrossValMeans\": cv_means,\n",
    "        \"CrossValErros\": cv_std,\n",
    "        \"Algorithms\":[\n",
    "            \"KNeighboors\",\n",
    "            \"AdaBoost\",\n",
    "            \"DecisionTree\",\n",
    "            \"RandomForest\",\n",
    "            \"ExtraTrees\",\n",
    "            \"SVC\",\n",
    "            \"GradientBoosting\",\n",
    "            \"LogisticRegression\",\n",
    "            \"LinearDiscriminantAnalysis\",\n",
    "            \"MultipleLayerPerceptron\"\n",
    "        ]\n",
    "    }\n",
    ")"
   ]
  },
  {
   "cell_type": "code",
   "execution_count": 35,
   "metadata": {},
   "outputs": [
    {
     "data": {
      "image/png": "[encoded data removed]",
      "text/plain": [
       "<Figure size 432x288 with 1 Axes>"
      ]
     },
     "metadata": {
      "needs_background": "light"
     },
     "output_type": "display_data"
    }
   ],
   "source": [
    "# Representamos estos valores del dataframe en un gráfico de barras\n",
    "cv_plot = sns.barplot(\"CrossValMeans\", \"Algorithms\", data = cv_frame,\n",
    "                     palette=\"husl\", orient='h', **{'xerr':cv_std})\n",
    "cv_plot.set_xlabel(\"Mean Accuracy\")\n",
    "cv_plot = cv_plot.set_title(\"CV Scores\")"
   ]
  },
  {
   "cell_type": "markdown",
   "metadata": {},
   "source": [
    "***\n",
    "\n",
    "## 5.2.2 - Realizamos la tarea de micro-ajuste a los parámetros"
   ]
  },
  {
   "cell_type": "markdown",
   "metadata": {},
   "source": [
    "***\n",
    "`Gradient Boosting Classifier`"
   ]
  },
  {
   "cell_type": "code",
   "execution_count": 42,
   "metadata": {},
   "outputs": [
    {
     "name": "stderr",
     "output_type": "stream",
     "text": [
      "[Parallel(n_jobs=10)]: Using backend LokyBackend with 10 concurrent workers.\n",
      "[Parallel(n_jobs=10)]: Done   3 out of  10 | elapsed:    0.8s remaining:    2.0s\n",
      "[Parallel(n_jobs=10)]: Done  10 out of  10 | elapsed:    4.9s finished\n"
     ]
    }
   ],
   "source": [
    "# GBC Classifier k_fold 10 // n_jobs =10\n",
    "GBC_model = GradientBoostingClassifier()\n",
    "GBC_scores_10 = cross_val_score(GBC_model, X_train, y_train, cv = 10,\n",
    "                            n_jobs = 10, scoring = 'accuracy', verbose = 2)"
   ]
  },
  {
   "cell_type": "code",
   "execution_count": 43,
   "metadata": {},
   "outputs": [
    {
     "name": "stdout",
     "output_type": "stream",
     "text": [
      "[0.87719298 0.85964912 0.80701754 0.80701754 0.84210526 0.80701754\n",
      " 0.8245614  0.85964912 0.80701754 0.83928571]\n"
     ]
    },
    {
     "data": {
      "text/plain": [
       "83.31"
      ]
     },
     "execution_count": 43,
     "metadata": {},
     "output_type": "execute_result"
    }
   ],
   "source": [
    "# Mostramos los resultados en pantalla\n",
    "print(GBC_scores_10)\n",
    "round(np.mean(GBC_scores_10)*100,2)"
   ]
  },
  {
   "cell_type": "code",
   "execution_count": 44,
   "metadata": {},
   "outputs": [
    {
     "name": "stderr",
     "output_type": "stream",
     "text": [
      "[Parallel(n_jobs=10)]: Using backend LokyBackend with 10 concurrent workers.\n",
      "[Parallel(n_jobs=10)]: Done   5 out of   5 | elapsed:    0.6s finished\n"
     ]
    }
   ],
   "source": [
    "# GBC Classifier k_fold 5 // n_jobs =10\n",
    "GBC_model = GradientBoostingClassifier()\n",
    "GBC_scores_5 = cross_val_score(GBC_model, X_train, y_train, cv = 5,\n",
    "                            n_jobs = 10, scoring = 'accuracy', verbose = 2)"
   ]
  },
  {
   "cell_type": "code",
   "execution_count": 45,
   "metadata": {},
   "outputs": [
    {
     "name": "stdout",
     "output_type": "stream",
     "text": [
      "[0.84210526 0.78070175 0.8245614  0.81578947 0.81415929]\n"
     ]
    },
    {
     "data": {
      "text/plain": [
       "81.55"
      ]
     },
     "execution_count": 45,
     "metadata": {},
     "output_type": "execute_result"
    }
   ],
   "source": [
    "# Mostramos los resultados en pantalla\n",
    "print(GBC_scores_5)\n",
    "round(np.mean(GBC_scores_5)*100,2)"
   ]
  },
  {
   "cell_type": "code",
   "execution_count": 50,
   "metadata": {},
   "outputs": [
    {
     "name": "stderr",
     "output_type": "stream",
     "text": [
      "[Parallel(n_jobs=10)]: Using backend LokyBackend with 10 concurrent workers.\n",
      "[Parallel(n_jobs=10)]: Done   4 out of  15 | elapsed:    0.8s remaining:    2.2s\n",
      "[Parallel(n_jobs=10)]: Done  12 out of  15 | elapsed:    2.0s remaining:    0.5s\n",
      "[Parallel(n_jobs=10)]: Done  15 out of  15 | elapsed:    2.0s finished\n"
     ]
    }
   ],
   "source": [
    "# GBC Classifier k_fold 15 // n_jobs =10\n",
    "GBC_model = GradientBoostingClassifier()\n",
    "GBC_scores_15 = cross_val_score(GBC_model, X_train, y_train, cv = 15,\n",
    "                            n_jobs = 10, scoring = 'accuracy', verbose = 2)"
   ]
  },
  {
   "cell_type": "code",
   "execution_count": 51,
   "metadata": {},
   "outputs": [
    {
     "name": "stdout",
     "output_type": "stream",
     "text": [
      "[0.84210526 0.92105263 0.78947368 0.84210526 0.78947368 0.81578947\n",
      " 0.84210526 0.78947368 0.84210526 0.81578947 0.81578947 0.86842105\n",
      " 0.78947368 0.89473684 0.81081081]\n"
     ]
    },
    {
     "data": {
      "text/plain": [
       "83.12"
      ]
     },
     "execution_count": 51,
     "metadata": {},
     "output_type": "execute_result"
    }
   ],
   "source": [
    "# Mostramos los resultados en pantalla\n",
    "print(GBC_scores_15)\n",
    "round(np.mean(GBC_scores_15)*100,2)"
   ]
  },
  {
   "cell_type": "code",
   "execution_count": 55,
   "metadata": {},
   "outputs": [
    {
     "name": "stdout",
     "output_type": "stream",
     "text": [
      "Fitting 5 folds for each of 768 candidates, totalling 3840 fits\n"
     ]
    },
    {
     "data": {
      "text/plain": [
       "0.8383015059773328"
      ]
     },
     "execution_count": 55,
     "metadata": {},
     "output_type": "execute_result"
    }
   ],
   "source": [
    "# Realizamos el tuneado de los parámetros del GBC\n",
    "GBC = GradientBoostingClassifier()\n",
    "\n",
    "# Creamos una tarea de tuneado basado en grid\n",
    "gb_param_grid = {\n",
    "    # Creamos un grid con los parámetros a iterar, para ello necesitaremos realizar iteración de n valores por parámetros\n",
    "              'loss' : [\"deviance\"],\n",
    "              'n_estimators' : [100,200,300,500],\n",
    "              'learning_rate': [0.1, 0.05, 0.01, 0.001],\n",
    "              'max_depth': [4, 8, 16, 32],\n",
    "              'min_samples_leaf': [100,150,250,500],\n",
    "              'max_features': [0.3, 0.1, 0.5]\n",
    "              }\n",
    "\n",
    "\n",
    "# Construimos nuestro modelo con estos parámetros con K-fold = 10\n",
    "gsGBC = GridSearchCV(GBC, param_grid=gb_param_grid, cv=5,\n",
    "                    scoring='accuracy', n_jobs=10, verbose=2)\n",
    "\n",
    "# Aplicamos el ajuste\n",
    "gsGBC.fit(X_train, y_train)\n",
    "\n",
    "# Extraemos el mejor estimador\n",
    "GBC_best = gsGBC.best_estimator_\n",
    "\n",
    "# Extraemos el mejor resultado\n",
    "gsGBC.best_score_"
   ]
  },
  {
   "cell_type": "code",
   "execution_count": 57,
   "metadata": {},
   "outputs": [
    {
     "data": {
      "text/plain": [
       "{'ccp_alpha': 0.0,\n",
       " 'criterion': 'friedman_mse',\n",
       " 'init': None,\n",
       " 'learning_rate': 0.1,\n",
       " 'loss': 'deviance',\n",
       " 'max_depth': 8,\n",
       " 'max_features': 0.5,\n",
       " 'max_leaf_nodes': None,\n",
       " 'min_impurity_decrease': 0.0,\n",
       " 'min_impurity_split': None,\n",
       " 'min_samples_leaf': 100,\n",
       " 'min_samples_split': 2,\n",
       " 'min_weight_fraction_leaf': 0.0,\n",
       " 'n_estimators': 500,\n",
       " 'n_iter_no_change': None,\n",
       " 'random_state': None,\n",
       " 'subsample': 1.0,\n",
       " 'tol': 0.0001,\n",
       " 'validation_fraction': 0.1,\n",
       " 'verbose': 0,\n",
       " 'warm_start': False}"
      ]
     },
     "execution_count": 57,
     "metadata": {},
     "output_type": "execute_result"
    }
   ],
   "source": [
    "# Observamos los mejores parámetro para este modelo\n",
    "GBC_best.get_params()"
   ]
  },
  {
   "cell_type": "markdown",
   "metadata": {},
   "source": [
    "## Aplicamos el resultado final del modelo obtenido y lo aplicamos primero al Validation y luego al Testing dataset"
   ]
  },
  {
   "cell_type": "code",
   "execution_count": null,
   "metadata": {},
   "outputs": [],
   "source": [
    "# Aplicamos el modelo al validación\n",
    "data_val = gsGBC.predict(<dataset de validación>)"
   ]
  },
  {
   "cell_type": "code",
   "execution_count": 56,
   "metadata": {},
   "outputs": [
    {
     "data": {
      "text/plain": [
       "(143, 35)"
      ]
     },
     "execution_count": 56,
     "metadata": {},
     "output_type": "execute_result"
    }
   ],
   "source": [
    "X_val.shape # 143"
   ]
  },
  {
   "cell_type": "code",
   "execution_count": null,
   "metadata": {},
   "outputs": [],
   "source": [
    "df_test.shape #418"
   ]
  },
  {
   "cell_type": "code",
   "execution_count": 58,
   "metadata": {},
   "outputs": [],
   "source": [
    "# Sucesivamente hay que aplicarlo al testing dataset\n",
    "prediction = gsGBC.predict(df_test)"
   ]
  },
  {
   "cell_type": "code",
   "execution_count": 59,
   "metadata": {},
   "outputs": [],
   "source": [
    "# Los resultados de nuestro modelo aplicado al dataset de test \n",
    "submission = pd.DataFrame({\n",
    "  'PassengerId' : ids,\n",
    "    'Survived' : prediction\n",
    "})"
   ]
  },
  {
   "cell_type": "code",
   "execution_count": 60,
   "metadata": {},
   "outputs": [],
   "source": [
    "submission.to_csv('titanic_model.gsGBC2.csv', index=False)"
   ]
  },
  {
   "cell_type": "code",
   "execution_count": 61,
   "metadata": {},
   "outputs": [
    {
     "data": {
      "text/html": [
       "<div>\n",
       "<style scoped>\n",
       "    .dataframe tbody tr th:only-of-type {\n",
       "        vertical-align: middle;\n",
       "    }\n",
       "\n",
       "    .dataframe tbody tr th {\n",
       "        vertical-align: top;\n",
       "    }\n",
       "\n",
       "    .dataframe thead th {\n",
       "        text-align: right;\n",
       "    }\n",
       "</style>\n",
       "<table border=\"1\" class=\"dataframe\">\n",
       "  <thead>\n",
       "    <tr style=\"text-align: right;\">\n",
       "      <th></th>\n",
       "      <th>PassengerId</th>\n",
       "      <th>Survived</th>\n",
       "    </tr>\n",
       "  </thead>\n",
       "  <tbody>\n",
       "    <tr>\n",
       "      <th>0</th>\n",
       "      <td>892</td>\n",
       "      <td>0</td>\n",
       "    </tr>\n",
       "    <tr>\n",
       "      <th>1</th>\n",
       "      <td>893</td>\n",
       "      <td>0</td>\n",
       "    </tr>\n",
       "    <tr>\n",
       "      <th>2</th>\n",
       "      <td>894</td>\n",
       "      <td>0</td>\n",
       "    </tr>\n",
       "    <tr>\n",
       "      <th>3</th>\n",
       "      <td>895</td>\n",
       "      <td>0</td>\n",
       "    </tr>\n",
       "    <tr>\n",
       "      <th>4</th>\n",
       "      <td>896</td>\n",
       "      <td>1</td>\n",
       "    </tr>\n",
       "    <tr>\n",
       "      <th>5</th>\n",
       "      <td>897</td>\n",
       "      <td>0</td>\n",
       "    </tr>\n",
       "    <tr>\n",
       "      <th>6</th>\n",
       "      <td>898</td>\n",
       "      <td>1</td>\n",
       "    </tr>\n",
       "    <tr>\n",
       "      <th>7</th>\n",
       "      <td>899</td>\n",
       "      <td>0</td>\n",
       "    </tr>\n",
       "    <tr>\n",
       "      <th>8</th>\n",
       "      <td>900</td>\n",
       "      <td>1</td>\n",
       "    </tr>\n",
       "    <tr>\n",
       "      <th>9</th>\n",
       "      <td>901</td>\n",
       "      <td>0</td>\n",
       "    </tr>\n",
       "    <tr>\n",
       "      <th>10</th>\n",
       "      <td>902</td>\n",
       "      <td>0</td>\n",
       "    </tr>\n",
       "    <tr>\n",
       "      <th>11</th>\n",
       "      <td>903</td>\n",
       "      <td>0</td>\n",
       "    </tr>\n",
       "    <tr>\n",
       "      <th>12</th>\n",
       "      <td>904</td>\n",
       "      <td>1</td>\n",
       "    </tr>\n",
       "    <tr>\n",
       "      <th>13</th>\n",
       "      <td>905</td>\n",
       "      <td>0</td>\n",
       "    </tr>\n",
       "    <tr>\n",
       "      <th>14</th>\n",
       "      <td>906</td>\n",
       "      <td>1</td>\n",
       "    </tr>\n",
       "  </tbody>\n",
       "</table>\n",
       "</div>"
      ],
      "text/plain": [
       "    PassengerId  Survived\n",
       "0           892         0\n",
       "1           893         0\n",
       "2           894         0\n",
       "3           895         0\n",
       "4           896         1\n",
       "5           897         0\n",
       "6           898         1\n",
       "7           899         0\n",
       "8           900         1\n",
       "9           901         0\n",
       "10          902         0\n",
       "11          903         0\n",
       "12          904         1\n",
       "13          905         0\n",
       "14          906         1"
      ]
     },
     "execution_count": 61,
     "metadata": {},
     "output_type": "execute_result"
    }
   ],
   "source": [
    "submission.head(15)"
   ]
  },
  {
   "cell_type": "code",
   "execution_count": 65,
   "metadata": {},
   "outputs": [
    {
     "name": "stdout",
     "output_type": "stream",
     "text": [
      "Warning: Your Kaggle API key is readable by other users on this system! To fix this, you can run 'chmod 600 /home/jovyan/.kaggle/kaggle.json'\n",
      "100%|██████████████████████████████████████| 2.77k/2.77k [00:02<00:00, 1.09kB/s]\n",
      "Successfully submitted to Titanic - Machine Learning from Disaster"
     ]
    }
   ],
   "source": [
    "# Submission to Kaggle\n",
    "!kaggle competitions submit titanic -f 'titanic_model.gsGBC2.csv' -m \"Modelo ML utilizado XYZ\""
   ]
  },
  {
   "cell_type": "code",
   "execution_count": 66,
   "metadata": {},
   "outputs": [
    {
     "name": "stdout",
     "output_type": "stream",
     "text": [
      "Warning: Your Kaggle API key is readable by other users on this system! To fix this, you can run 'chmod 600 /home/jovyan/.kaggle/kaggle.json'\n",
      "fileName                         date                 description                                                                                                                 status    publicScore  privateScore  \n",
      "-------------------------------  -------------------  --------------------------------------------------------------------------------------------------------------------------  --------  -----------  ------------  \n",
      "titanic_model.gsGBC2.csv         2021-03-12 19:31:42  Modelo ML utilizado XYZ                                                                                                     complete  0.74641      None          \n",
      "submission_VP1.csv               2020-05-05 13:59:49  VP1 cols15                                                                                                                  complete  0.78229      None          \n",
      "submission-simple-cleansing.csv  2020-05-05 09:27:50  keras example                                                                                                               complete  0.75358      None          \n",
      "evaluation_submission_nn.csv     2020-05-04 19:04:51  submit NN results                                                                                                           complete  0.25598      None          \n",
      "gender_submission.csv            2020-05-04 17:55:11  test gender submission                                                                                                      complete  0.76555      None          \n",
      "submission_DT.csv                2020-04-16 11:05:18  DecisionTree colsRNK10                                                                                                      complete  0.76555      None          \n",
      "submission_VP1.csv               2020-04-12 18:35:01  VP1 colsRNK5                                                                                                                complete  0.78947      None          \n",
      "submission_SVC2.csv              2020-04-12 17:35:51  SVC colsSPT                                                                                                                 complete  0.80861      None          \n",
      "submission_SVC.csv               2020-04-12 17:33:27  SVC colsRNK15                                                                                                               complete  0.80861      None          \n",
      "submission_KNN2.csv              2020-04-12 17:16:23  KNN colsRNK15                                                                                                               complete  0.77511      None          \n",
      "submission_KNN.csv               2020-04-12 17:08:31  KNN colsSPT                                                                                                                 complete  0.74162      None          \n",
      "submission_RF2.csv               2020-04-12 16:39:18  Random Forest colsRNK10                                                                                                     complete  0.79425      None          \n",
      "submission_RF.csv                2020-04-12 16:34:01  Random Forest colsRNK5                                                                                                      complete  0.76076      None          \n",
      "submission_DT.csv                2020-04-12 15:10:07  DecisionTree colsRNK5                                                                                                       complete  0.75119      None          \n",
      "submission_LR.csv                2020-04-12 13:37:57  LogisticRegression colsSPT                                                                                                  complete  0.78468      None          \n",
      "evaluation_submission_nn.csv     2020-03-31 17:32:19  submit NN results                                                                                                           complete  0.22966      None          \n",
      "k_neighbours.csv                 2020-03-07 16:54:01  test                                                                                                                        complete  0.77511      None          \n",
      "titanic_model_15.csv             2020-02-17 20:35:24  first 1.5a                                                                                                                  complete  0.77511      None          \n",
      "titanic_model_15.csv             2020-02-17 19:40:57  version 1.5                                                                                                                 complete  0.00000      None          \n",
      "titanic_model.csv                2020-02-03 20:35:09  Voting Predictor with 18 features                                                                                           complete  0.77990      None          \n",
      "titanic_model.csv                2020-02-02 18:11:45  Version VotingPredictor 84%                                                                                                 complete  0.78468      None          \n",
      "submission_sv_3.csv              2020-01-27 22:21:52  SVM w/o age                                                                                                                 complete  0.76555      None          \n",
      "submission_rf_3.csv              2020-01-27 22:21:14  random forest w/o age                                                                                                       complete  0.75119      None          \n",
      "submission_lr_3.csv              2020-01-27 22:20:27  log reg without age                                                                                                         complete  0.76555      None          \n",
      "submission_knn_3.csv             2020-01-27 22:20:03  knn without age                                                                                                             complete  0.72248      None          \n",
      "submission_dt_3.csv              2020-01-27 22:17:26  drop others features - Age                                                                                                  complete  0.78468      None          \n",
      "submission_dt_3.csv              2020-01-19 18:58:32  decision tree v3                                                                                                            complete  0.69856      None          \n",
      "submission_sv_3.csv              2020-01-19 18:58:13  SVM v3                                                                                                                      complete  0.75119      None          \n",
      "submission_rf_3.csv              2020-01-19 18:57:55  random forest v3                                                                                                            complete  0.76555      None          \n",
      "submission_lr_3.csv              2020-01-19 18:57:39  logistc regression v3                                                                                                       complete  0.76076      None          \n",
      "submission_rf_2.csv              2020-01-19 18:36:01  random forest v2 and 32 features                                                                                            complete  0.75119      None          \n",
      "submission_sv_2.csv              2020-01-19 18:34:16  \n",
      "SVM v2 and only 32 features                                                                                                complete  0.78468      None          \n",
      "submission_rf_2.csv              2020-01-19 18:33:45  random forest v2 and only 32 features                                                                                       error     None         None          \n",
      "submission_lr_2.csv              2020-01-19 18:33:22  logistic regression v2 and only 32 features                                                                                 complete  0.78947      None          \n",
      "submission_dt_2.csv              2020-01-19 18:32:54  decision tree v2 and only 32 features                                                                                       complete  0.68899      None          \n",
      "submission_rf_2.csv              2020-01-18 23:05:27  randomForest v2                                                                                                             complete  0.77033      None          \n",
      "submission_dt_2.csv              2020-01-18 23:03:56  dt v2                                                                                                                       complete  0.75598      None          \n",
      "submission_sv_2.csv              2020-01-18 23:02:02  SVM v2                                                                                                                      complete  0.78468      None          \n",
      "titanic_model.csv                2020-01-13 22:50:55  voting predictor v3                                                                                                         complete  0.77990      None          \n",
      "titanic_model.csv                2020-01-13 22:44:44  Test voting predictor v2                                                                                                    complete  0.78947      None          \n",
      "submission_sv.csv                2020-01-12 22:58:56  4th attempt with SVM                                                                                                        complete  0.78947      None          \n",
      "submission_dt.csv                2020-01-12 22:55:04  3rd attempt with decision tree                                                                                              complete  0.72248      None          \n",
      "submission_rf.csv                2020-01-12 22:52:35  I tried with random forest optimized                                                                                        complete  0.75119      None          \n",
      "submission.csv                   2020-01-12 22:36:42  As my first challenge I use 5 supervised methods, and with 86% the accuracy I send my submission with Random Forest model.  complete  0.78947      None          \n"
     ]
    }
   ],
   "source": [
    "!kaggle competitions submissions titanic"
   ]
  },
  {
   "cell_type": "code",
   "execution_count": 67,
   "metadata": {},
   "outputs": [
    {
     "name": "stdout",
     "output_type": "stream",
     "text": [
      "Warning: Your Kaggle API key is readable by other users on this system! To fix this, you can run 'chmod 600 /home/jovyan/.kaggle/kaggle.json'\n",
      " teamId  teamName                   submissionDate       score    \n",
      "-------  -------------------------  -------------------  -------  \n",
      "6015697  Jizhou Wei                 2020-12-16 03:13:08  1.00000  \n",
      "6023788  JaesikYang                 2020-12-17 00:11:13  1.00000  \n",
      "4364147  Börkapanda                 2021-02-12 19:23:04  1.00000  \n",
      "6027704  Eleven_Wang                2020-12-17 04:07:35  1.00000  \n",
      "6030190  Ease Gao                   2020-12-17 13:16:29  1.00000  \n",
      "5322915  Marcel Reis                2020-12-17 15:57:42  1.00000  \n",
      "5919487  Test 1                     2020-12-17 17:09:30  1.00000  \n",
      "5705094  Zeeshan Patel              2021-02-15 04:04:10  1.00000  \n",
      "5795033  Swapnils007                2020-12-18 04:59:08  1.00000  \n",
      "6036587  Rustin Shamloo             2020-12-18 15:54:41  1.00000  \n",
      "3749547  Adeyinka Michael Sotunde   2020-12-19 20:11:29  1.00000  \n",
      "5956259  RairiU                     2020-12-19 21:58:35  1.00000  \n",
      "6039146  shivanjay wagh             2020-12-22 11:46:47  1.00000  \n",
      "5896287  Cimbel16                   2020-12-20 06:11:39  1.00000  \n",
      "6036541  fedesoriano                2021-01-16 11:20:59  1.00000  \n",
      "6006583  Pavel Fedotov #2           2020-12-20 18:15:37  1.00000  \n",
      "6039687  Akash_1207                 2020-12-21 13:59:17  1.00000  \n",
      "6049638  Happy Singh #2             2020-12-21 16:54:17  1.00000  \n",
      "5766052  Kryif                      2020-12-22 05:11:51  1.00000  \n",
      "3936757  Vecheslav Eremeev          2021-03-12 05:37:45  1.00000  \n",
      "6043811  Moldovan Flavius           2020-12-22 14:35:30  1.00000  \n",
      "5354496  Vladimir Ryabchenko        2020-12-22 22:54:42  1.00000  \n",
      "5689160  JLUw6-417                  2020-12-23 11:40:10  1.00000  \n",
      "5687215  TwoAmigo                   2020-12-24 01:31:16  1.00000  \n",
      "4545151  SachGarg                   2020-12-24 07:03:19  1.00000  \n",
      "4872922  KHALED ABDELMOKIT          2020-12-24 20:05:57  1.00000  \n",
      "6049450  Anese_s                    2020-12-29 05:34:55  1.00000  \n",
      "6067355  Ivan Cherevko              2020-12-25 23:03:14  1.00000  \n",
      "6068364  Amit Mishra #2             2020-12-26 07:59:24  1.00000  \n",
      "6068373  Akash verma                2020-12-26 07:59:42  1.00000  \n",
      "6068377  Aditya Bhushan             2021-01-03 18:37:42  1.00000  \n",
      "6068401  Piyush Khare               2020-12-26 08:00:02  1.00000  \n",
      "6068363  Rishikesh Mishra MCA1      2020-12-26 08:00:44  1.00000  \n",
      "6068325  Muneshwar                  2020-12-28 10:56:12  1.00000  \n",
      "6068369  Digvijay Maurya            2020-12-26 08:01:38  1.00000  \n",
      "6068365  sakshi jais                2020-12-26 08:02:41  1.00000  \n",
      "6068407  Abhishek Yadav #3          2020-12-26 08:03:00  1.00000  \n",
      "6068385  Safiuddin Ansari MCA1 UoA  2020-12-26 08:04:09  1.00000  \n",
      "6068408  Vishesh Yadav MCA5         2020-12-26 08:04:48  1.00000  \n",
      "6068406  Akshat Srivastava MCA3     2020-12-26 08:07:53  1.00000  \n",
      "6068402  Nishant Srivastava         2020-12-26 08:10:21  1.00000  \n",
      "6068384  Srishti Vishwakarma        2020-12-26 08:11:35  1.00000  \n",
      "6068442  nahid_nisha                2020-12-26 08:19:43  1.00000  \n",
      "6068445  Ashish Chaubey             2020-12-26 08:23:58  1.00000  \n",
      "6068375  Nivedita verma11           2020-12-26 08:40:01  1.00000  \n",
      "6068570  Soamdutt Dwivedi           2020-12-26 08:53:43  1.00000  \n",
      "5519400  masato umemoto             2020-12-26 10:01:54  1.00000  \n",
      "6069054  Shweta Soni                2020-12-26 11:52:15  1.00000  \n",
      "6069170  TRIBHUWAN PASWAN           2020-12-26 12:29:44  1.00000  \n",
      "6069362  Neha Singh MCA 1           2020-12-26 13:55:15  1.00000  \n"
     ]
    }
   ],
   "source": [
    "!kaggle competitions leaderboard titanic -s"
   ]
  },
  {
   "cell_type": "markdown",
   "metadata": {},
   "source": [
    "***\n",
    "\n",
    "## Ajuste de parámetros de otros estimadores"
   ]
  },
  {
   "cell_type": "code",
   "execution_count": null,
   "metadata": {},
   "outputs": [],
   "source": []
  }
 ],
 "metadata": {
  "kernelspec": {
   "display_name": "Python 3",
   "language": "python",
   "name": "python3"
  },
  "language_info": {
   "codemirror_mode": {
    "name": "ipython",
    "version": 3
   },
   "file_extension": ".py",
   "mimetype": "text/x-python",
   "name": "python",
   "nbconvert_exporter": "python",
   "pygments_lexer": "ipython3",
   "version": "3.8.6"
  }
 },
 "nbformat": 4,
 "nbformat_minor": 4
}
